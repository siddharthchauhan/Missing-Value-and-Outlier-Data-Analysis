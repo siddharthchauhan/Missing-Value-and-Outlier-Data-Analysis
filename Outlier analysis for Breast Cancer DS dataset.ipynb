{
 "cells": [
  {
   "cell_type": "code",
   "execution_count": 1,
   "metadata": {},
   "outputs": [],
   "source": [
    "import pandas as pd\n",
    "import numpy as np\n",
    "from pycaret.anomaly import *"
   ]
  },
  {
   "cell_type": "code",
   "execution_count": 2,
   "metadata": {},
   "outputs": [],
   "source": [
    "pd.set_option('display.max_columns', None)\n",
    "pd.set_option('display.max_rows', None)"
   ]
  },
  {
   "cell_type": "code",
   "execution_count": 3,
   "metadata": {},
   "outputs": [
    {
     "data": {
      "text/html": [
       "<div>\n",
       "<style scoped>\n",
       "    .dataframe tbody tr th:only-of-type {\n",
       "        vertical-align: middle;\n",
       "    }\n",
       "\n",
       "    .dataframe tbody tr th {\n",
       "        vertical-align: top;\n",
       "    }\n",
       "\n",
       "    .dataframe thead th {\n",
       "        text-align: right;\n",
       "    }\n",
       "</style>\n",
       "<table border=\"1\" class=\"dataframe\">\n",
       "  <thead>\n",
       "    <tr style=\"text-align: right;\">\n",
       "      <th></th>\n",
       "      <th>STUDYID</th>\n",
       "      <th>DOMAIN</th>\n",
       "      <th>USUBJID</th>\n",
       "      <th>DSSEQ</th>\n",
       "      <th>DSGRPID</th>\n",
       "      <th>DSREFID</th>\n",
       "      <th>DSSPID</th>\n",
       "      <th>DSTERM</th>\n",
       "      <th>DSDECOD</th>\n",
       "      <th>DSSCAT</th>\n",
       "      <th>EPOCH</th>\n",
       "      <th>DSDTC</th>\n",
       "      <th>DSSTDTC</th>\n",
       "      <th>DSSTDY</th>\n",
       "    </tr>\n",
       "  </thead>\n",
       "  <tbody>\n",
       "    <tr>\n",
       "      <th>1</th>\n",
       "      <td>Breast-MRI-NACT-Pilot</td>\n",
       "      <td>DS</td>\n",
       "      <td>UCSF-BR-02</td>\n",
       "      <td>274</td>\n",
       "      <td>NaN</td>\n",
       "      <td>NaN</td>\n",
       "      <td>NaN</td>\n",
       "      <td>Recurrent Disease</td>\n",
       "      <td>DISEASE RELAPSE</td>\n",
       "      <td>NaN</td>\n",
       "      <td>NaN</td>\n",
       "      <td>NaN</td>\n",
       "      <td>NaN</td>\n",
       "      <td>NaN</td>\n",
       "    </tr>\n",
       "    <tr>\n",
       "      <th>2</th>\n",
       "      <td>Breast-MRI-NACT-Pilot</td>\n",
       "      <td>DS</td>\n",
       "      <td>UCSF-BR-04</td>\n",
       "      <td>276</td>\n",
       "      <td>NaN</td>\n",
       "      <td>NaN</td>\n",
       "      <td>NaN</td>\n",
       "      <td>Recurrent Disease</td>\n",
       "      <td>DISEASE RELAPSE</td>\n",
       "      <td>NaN</td>\n",
       "      <td>NaN</td>\n",
       "      <td>NaN</td>\n",
       "      <td>NaN</td>\n",
       "      <td>NaN</td>\n",
       "    </tr>\n",
       "    <tr>\n",
       "      <th>3</th>\n",
       "      <td>Breast-MRI-NACT-Pilot</td>\n",
       "      <td>DS</td>\n",
       "      <td>UCSF-BR-09</td>\n",
       "      <td>280</td>\n",
       "      <td>NaN</td>\n",
       "      <td>NaN</td>\n",
       "      <td>NaN</td>\n",
       "      <td>Recurrent Disease</td>\n",
       "      <td>DISEASE RELAPSE</td>\n",
       "      <td>NaN</td>\n",
       "      <td>NaN</td>\n",
       "      <td>NaN</td>\n",
       "      <td>NaN</td>\n",
       "      <td>NaN</td>\n",
       "    </tr>\n",
       "    <tr>\n",
       "      <th>4</th>\n",
       "      <td>Breast-MRI-NACT-Pilot</td>\n",
       "      <td>DS</td>\n",
       "      <td>UCSF-BR-12</td>\n",
       "      <td>282</td>\n",
       "      <td>NaN</td>\n",
       "      <td>NaN</td>\n",
       "      <td>NaN</td>\n",
       "      <td>Recurrent Disease</td>\n",
       "      <td>DISEASE RELAPSE</td>\n",
       "      <td>NaN</td>\n",
       "      <td>NaN</td>\n",
       "      <td>NaN</td>\n",
       "      <td>NaN</td>\n",
       "      <td>NaN</td>\n",
       "    </tr>\n",
       "    <tr>\n",
       "      <th>5</th>\n",
       "      <td>Breast-MRI-NACT-Pilot</td>\n",
       "      <td>DS</td>\n",
       "      <td>UCSF-BR-13</td>\n",
       "      <td>283</td>\n",
       "      <td>NaN</td>\n",
       "      <td>NaN</td>\n",
       "      <td>NaN</td>\n",
       "      <td>Recurrent Disease</td>\n",
       "      <td>DISEASE RELAPSE</td>\n",
       "      <td>NaN</td>\n",
       "      <td>NaN</td>\n",
       "      <td>NaN</td>\n",
       "      <td>NaN</td>\n",
       "      <td>NaN</td>\n",
       "    </tr>\n",
       "    <tr>\n",
       "      <th>6</th>\n",
       "      <td>Breast-MRI-NACT-Pilot</td>\n",
       "      <td>DS</td>\n",
       "      <td>UCSF-BR-17</td>\n",
       "      <td>286</td>\n",
       "      <td>NaN</td>\n",
       "      <td>NaN</td>\n",
       "      <td>NaN</td>\n",
       "      <td>Recurrent Disease</td>\n",
       "      <td>DISEASE RELAPSE</td>\n",
       "      <td>NaN</td>\n",
       "      <td>NaN</td>\n",
       "      <td>NaN</td>\n",
       "      <td>NaN</td>\n",
       "      <td>NaN</td>\n",
       "    </tr>\n",
       "    <tr>\n",
       "      <th>7</th>\n",
       "      <td>Breast-MRI-NACT-Pilot</td>\n",
       "      <td>DS</td>\n",
       "      <td>UCSF-BR-23</td>\n",
       "      <td>292</td>\n",
       "      <td>NaN</td>\n",
       "      <td>NaN</td>\n",
       "      <td>NaN</td>\n",
       "      <td>Recurrent Disease</td>\n",
       "      <td>DISEASE RELAPSE</td>\n",
       "      <td>NaN</td>\n",
       "      <td>NaN</td>\n",
       "      <td>NaN</td>\n",
       "      <td>NaN</td>\n",
       "      <td>NaN</td>\n",
       "    </tr>\n",
       "    <tr>\n",
       "      <th>8</th>\n",
       "      <td>Breast-MRI-NACT-Pilot</td>\n",
       "      <td>DS</td>\n",
       "      <td>UCSF-BR-27</td>\n",
       "      <td>296</td>\n",
       "      <td>NaN</td>\n",
       "      <td>NaN</td>\n",
       "      <td>NaN</td>\n",
       "      <td>Recurrent Disease</td>\n",
       "      <td>DISEASE RELAPSE</td>\n",
       "      <td>NaN</td>\n",
       "      <td>NaN</td>\n",
       "      <td>NaN</td>\n",
       "      <td>NaN</td>\n",
       "      <td>NaN</td>\n",
       "    </tr>\n",
       "    <tr>\n",
       "      <th>9</th>\n",
       "      <td>Breast-MRI-NACT-Pilot</td>\n",
       "      <td>DS</td>\n",
       "      <td>UCSF-BR-28</td>\n",
       "      <td>297</td>\n",
       "      <td>NaN</td>\n",
       "      <td>NaN</td>\n",
       "      <td>NaN</td>\n",
       "      <td>Recurrent Disease</td>\n",
       "      <td>DISEASE RELAPSE</td>\n",
       "      <td>NaN</td>\n",
       "      <td>NaN</td>\n",
       "      <td>NaN</td>\n",
       "      <td>NaN</td>\n",
       "      <td>NaN</td>\n",
       "    </tr>\n",
       "    <tr>\n",
       "      <th>10</th>\n",
       "      <td>Breast-MRI-NACT-Pilot</td>\n",
       "      <td>DS</td>\n",
       "      <td>UCSF-BR-29</td>\n",
       "      <td>298</td>\n",
       "      <td>NaN</td>\n",
       "      <td>NaN</td>\n",
       "      <td>NaN</td>\n",
       "      <td>Recurrent Disease</td>\n",
       "      <td>DISEASE RELAPSE</td>\n",
       "      <td>NaN</td>\n",
       "      <td>NaN</td>\n",
       "      <td>NaN</td>\n",
       "      <td>NaN</td>\n",
       "      <td>NaN</td>\n",
       "    </tr>\n",
       "    <tr>\n",
       "      <th>11</th>\n",
       "      <td>Breast-MRI-NACT-Pilot</td>\n",
       "      <td>DS</td>\n",
       "      <td>UCSF-BR-30</td>\n",
       "      <td>299</td>\n",
       "      <td>NaN</td>\n",
       "      <td>NaN</td>\n",
       "      <td>NaN</td>\n",
       "      <td>Recurrent Disease</td>\n",
       "      <td>DISEASE RELAPSE</td>\n",
       "      <td>NaN</td>\n",
       "      <td>NaN</td>\n",
       "      <td>NaN</td>\n",
       "      <td>NaN</td>\n",
       "      <td>NaN</td>\n",
       "    </tr>\n",
       "    <tr>\n",
       "      <th>12</th>\n",
       "      <td>Breast-MRI-NACT-Pilot</td>\n",
       "      <td>DS</td>\n",
       "      <td>UCSF-BR-32</td>\n",
       "      <td>301</td>\n",
       "      <td>NaN</td>\n",
       "      <td>NaN</td>\n",
       "      <td>NaN</td>\n",
       "      <td>Recurrent Disease</td>\n",
       "      <td>DISEASE RELAPSE</td>\n",
       "      <td>NaN</td>\n",
       "      <td>NaN</td>\n",
       "      <td>NaN</td>\n",
       "      <td>NaN</td>\n",
       "      <td>NaN</td>\n",
       "    </tr>\n",
       "    <tr>\n",
       "      <th>13</th>\n",
       "      <td>Breast-MRI-NACT-Pilot</td>\n",
       "      <td>DS</td>\n",
       "      <td>UCSF-BR-39</td>\n",
       "      <td>307</td>\n",
       "      <td>NaN</td>\n",
       "      <td>NaN</td>\n",
       "      <td>NaN</td>\n",
       "      <td>Recurrent Disease</td>\n",
       "      <td>DISEASE RELAPSE</td>\n",
       "      <td>NaN</td>\n",
       "      <td>NaN</td>\n",
       "      <td>NaN</td>\n",
       "      <td>NaN</td>\n",
       "      <td>NaN</td>\n",
       "    </tr>\n",
       "    <tr>\n",
       "      <th>14</th>\n",
       "      <td>Breast-MRI-NACT-Pilot</td>\n",
       "      <td>DS</td>\n",
       "      <td>UCSF-BR-40</td>\n",
       "      <td>308</td>\n",
       "      <td>NaN</td>\n",
       "      <td>NaN</td>\n",
       "      <td>NaN</td>\n",
       "      <td>Recurrent Disease</td>\n",
       "      <td>DISEASE RELAPSE</td>\n",
       "      <td>NaN</td>\n",
       "      <td>NaN</td>\n",
       "      <td>NaN</td>\n",
       "      <td>NaN</td>\n",
       "      <td>NaN</td>\n",
       "    </tr>\n",
       "    <tr>\n",
       "      <th>15</th>\n",
       "      <td>Breast-MRI-NACT-Pilot</td>\n",
       "      <td>DS</td>\n",
       "      <td>UCSF-BR-43</td>\n",
       "      <td>311</td>\n",
       "      <td>NaN</td>\n",
       "      <td>NaN</td>\n",
       "      <td>NaN</td>\n",
       "      <td>Recurrent Disease</td>\n",
       "      <td>DISEASE RELAPSE</td>\n",
       "      <td>NaN</td>\n",
       "      <td>NaN</td>\n",
       "      <td>NaN</td>\n",
       "      <td>NaN</td>\n",
       "      <td>NaN</td>\n",
       "    </tr>\n",
       "    <tr>\n",
       "      <th>16</th>\n",
       "      <td>Breast-MRI-NACT-Pilot</td>\n",
       "      <td>DS</td>\n",
       "      <td>UCSF-BR-45</td>\n",
       "      <td>313</td>\n",
       "      <td>NaN</td>\n",
       "      <td>NaN</td>\n",
       "      <td>NaN</td>\n",
       "      <td>Recurrent Disease</td>\n",
       "      <td>DISEASE RELAPSE</td>\n",
       "      <td>NaN</td>\n",
       "      <td>NaN</td>\n",
       "      <td>NaN</td>\n",
       "      <td>NaN</td>\n",
       "      <td>NaN</td>\n",
       "    </tr>\n",
       "    <tr>\n",
       "      <th>17</th>\n",
       "      <td>Breast-MRI-NACT-Pilot</td>\n",
       "      <td>DS</td>\n",
       "      <td>UCSF-BR-47</td>\n",
       "      <td>315</td>\n",
       "      <td>NaN</td>\n",
       "      <td>NaN</td>\n",
       "      <td>NaN</td>\n",
       "      <td>Recurrent Disease</td>\n",
       "      <td>DISEASE RELAPSE</td>\n",
       "      <td>NaN</td>\n",
       "      <td>NaN</td>\n",
       "      <td>NaN</td>\n",
       "      <td>NaN</td>\n",
       "      <td>NaN</td>\n",
       "    </tr>\n",
       "    <tr>\n",
       "      <th>18</th>\n",
       "      <td>Breast-MRI-NACT-Pilot</td>\n",
       "      <td>DS</td>\n",
       "      <td>UCSF-BR-49</td>\n",
       "      <td>317</td>\n",
       "      <td>NaN</td>\n",
       "      <td>NaN</td>\n",
       "      <td>NaN</td>\n",
       "      <td>Recurrent Disease</td>\n",
       "      <td>DISEASE RELAPSE</td>\n",
       "      <td>NaN</td>\n",
       "      <td>NaN</td>\n",
       "      <td>NaN</td>\n",
       "      <td>NaN</td>\n",
       "      <td>NaN</td>\n",
       "    </tr>\n",
       "    <tr>\n",
       "      <th>19</th>\n",
       "      <td>Breast-MRI-NACT-Pilot</td>\n",
       "      <td>DS</td>\n",
       "      <td>UCSF-BR-51</td>\n",
       "      <td>319</td>\n",
       "      <td>NaN</td>\n",
       "      <td>NaN</td>\n",
       "      <td>NaN</td>\n",
       "      <td>Recurrent Disease</td>\n",
       "      <td>DISEASE RELAPSE</td>\n",
       "      <td>NaN</td>\n",
       "      <td>NaN</td>\n",
       "      <td>NaN</td>\n",
       "      <td>NaN</td>\n",
       "      <td>NaN</td>\n",
       "    </tr>\n",
       "    <tr>\n",
       "      <th>20</th>\n",
       "      <td>Breast-MRI-NACT-Pilot</td>\n",
       "      <td>DS</td>\n",
       "      <td>UCSF-BR-53</td>\n",
       "      <td>321</td>\n",
       "      <td>NaN</td>\n",
       "      <td>NaN</td>\n",
       "      <td>NaN</td>\n",
       "      <td>Recurrent Disease</td>\n",
       "      <td>DISEASE RELAPSE</td>\n",
       "      <td>NaN</td>\n",
       "      <td>NaN</td>\n",
       "      <td>NaN</td>\n",
       "      <td>NaN</td>\n",
       "      <td>NaN</td>\n",
       "    </tr>\n",
       "    <tr>\n",
       "      <th>21</th>\n",
       "      <td>Breast-MRI-NACT-Pilot</td>\n",
       "      <td>DS</td>\n",
       "      <td>UCSF-BR-58</td>\n",
       "      <td>326</td>\n",
       "      <td>NaN</td>\n",
       "      <td>NaN</td>\n",
       "      <td>NaN</td>\n",
       "      <td>Recurrent Disease</td>\n",
       "      <td>DISEASE RELAPSE</td>\n",
       "      <td>NaN</td>\n",
       "      <td>NaN</td>\n",
       "      <td>NaN</td>\n",
       "      <td>NaN</td>\n",
       "      <td>NaN</td>\n",
       "    </tr>\n",
       "    <tr>\n",
       "      <th>22</th>\n",
       "      <td>Breast-MRI-NACT-Pilot</td>\n",
       "      <td>DS</td>\n",
       "      <td>UCSF-BR-61</td>\n",
       "      <td>329</td>\n",
       "      <td>NaN</td>\n",
       "      <td>NaN</td>\n",
       "      <td>NaN</td>\n",
       "      <td>Recurrent Disease</td>\n",
       "      <td>DISEASE RELAPSE</td>\n",
       "      <td>NaN</td>\n",
       "      <td>NaN</td>\n",
       "      <td>NaN</td>\n",
       "      <td>NaN</td>\n",
       "      <td>NaN</td>\n",
       "    </tr>\n",
       "    <tr>\n",
       "      <th>23</th>\n",
       "      <td>Breast-MRI-NACT-Pilot</td>\n",
       "      <td>DS</td>\n",
       "      <td>UCSF-BR-64</td>\n",
       "      <td>332</td>\n",
       "      <td>NaN</td>\n",
       "      <td>NaN</td>\n",
       "      <td>NaN</td>\n",
       "      <td>Recurrent Disease</td>\n",
       "      <td>DISEASE RELAPSE</td>\n",
       "      <td>NaN</td>\n",
       "      <td>NaN</td>\n",
       "      <td>NaN</td>\n",
       "      <td>NaN</td>\n",
       "      <td>NaN</td>\n",
       "    </tr>\n",
       "    <tr>\n",
       "      <th>24</th>\n",
       "      <td>Breast-MRI-NACT-Pilot</td>\n",
       "      <td>DS</td>\n",
       "      <td>UCSF-BR-67</td>\n",
       "      <td>335</td>\n",
       "      <td>NaN</td>\n",
       "      <td>NaN</td>\n",
       "      <td>NaN</td>\n",
       "      <td>Recurrent Disease</td>\n",
       "      <td>DISEASE RELAPSE</td>\n",
       "      <td>NaN</td>\n",
       "      <td>NaN</td>\n",
       "      <td>NaN</td>\n",
       "      <td>NaN</td>\n",
       "      <td>NaN</td>\n",
       "    </tr>\n",
       "    <tr>\n",
       "      <th>25</th>\n",
       "      <td>Breast-MRI-NACT-Pilot</td>\n",
       "      <td>DS</td>\n",
       "      <td>UCSF-BR-68</td>\n",
       "      <td>336</td>\n",
       "      <td>NaN</td>\n",
       "      <td>NaN</td>\n",
       "      <td>NaN</td>\n",
       "      <td>Recurrent Disease</td>\n",
       "      <td>DISEASE RELAPSE</td>\n",
       "      <td>NaN</td>\n",
       "      <td>NaN</td>\n",
       "      <td>NaN</td>\n",
       "      <td>NaN</td>\n",
       "      <td>NaN</td>\n",
       "    </tr>\n",
       "    <tr>\n",
       "      <th>26</th>\n",
       "      <td>I-Spy1</td>\n",
       "      <td>DS</td>\n",
       "      <td>ISPY1_1001</td>\n",
       "      <td>1</td>\n",
       "      <td>NaN</td>\n",
       "      <td>NaN</td>\n",
       "      <td>NaN</td>\n",
       "      <td>Recurrent Disease</td>\n",
       "      <td>DISEASE RELAPSE</td>\n",
       "      <td>NaN</td>\n",
       "      <td>NaN</td>\n",
       "      <td>NaN</td>\n",
       "      <td>NaN</td>\n",
       "      <td>NaN</td>\n",
       "    </tr>\n",
       "    <tr>\n",
       "      <th>27</th>\n",
       "      <td>I-Spy1</td>\n",
       "      <td>DS</td>\n",
       "      <td>ISPY1_1002</td>\n",
       "      <td>2</td>\n",
       "      <td>NaN</td>\n",
       "      <td>NaN</td>\n",
       "      <td>NaN</td>\n",
       "      <td>Recurrent Disease</td>\n",
       "      <td>DISEASE RELAPSE</td>\n",
       "      <td>NaN</td>\n",
       "      <td>NaN</td>\n",
       "      <td>NaN</td>\n",
       "      <td>NaN</td>\n",
       "      <td>NaN</td>\n",
       "    </tr>\n",
       "    <tr>\n",
       "      <th>28</th>\n",
       "      <td>I-Spy1</td>\n",
       "      <td>DS</td>\n",
       "      <td>ISPY1_1007</td>\n",
       "      <td>6</td>\n",
       "      <td>NaN</td>\n",
       "      <td>NaN</td>\n",
       "      <td>NaN</td>\n",
       "      <td>Recurrent Disease</td>\n",
       "      <td>DISEASE RELAPSE</td>\n",
       "      <td>NaN</td>\n",
       "      <td>NaN</td>\n",
       "      <td>NaN</td>\n",
       "      <td>NaN</td>\n",
       "      <td>NaN</td>\n",
       "    </tr>\n",
       "    <tr>\n",
       "      <th>29</th>\n",
       "      <td>I-Spy1</td>\n",
       "      <td>DS</td>\n",
       "      <td>ISPY1_1012</td>\n",
       "      <td>11</td>\n",
       "      <td>NaN</td>\n",
       "      <td>NaN</td>\n",
       "      <td>NaN</td>\n",
       "      <td>Recurrent Disease</td>\n",
       "      <td>DISEASE RELAPSE</td>\n",
       "      <td>NaN</td>\n",
       "      <td>NaN</td>\n",
       "      <td>NaN</td>\n",
       "      <td>NaN</td>\n",
       "      <td>NaN</td>\n",
       "    </tr>\n",
       "    <tr>\n",
       "      <th>30</th>\n",
       "      <td>I-Spy1</td>\n",
       "      <td>DS</td>\n",
       "      <td>ISPY1_1016</td>\n",
       "      <td>14</td>\n",
       "      <td>NaN</td>\n",
       "      <td>NaN</td>\n",
       "      <td>NaN</td>\n",
       "      <td>Recurrent Disease</td>\n",
       "      <td>DISEASE RELAPSE</td>\n",
       "      <td>NaN</td>\n",
       "      <td>NaN</td>\n",
       "      <td>NaN</td>\n",
       "      <td>NaN</td>\n",
       "      <td>NaN</td>\n",
       "    </tr>\n",
       "    <tr>\n",
       "      <th>31</th>\n",
       "      <td>I-Spy1</td>\n",
       "      <td>DS</td>\n",
       "      <td>ISPY1_1017</td>\n",
       "      <td>15</td>\n",
       "      <td>NaN</td>\n",
       "      <td>NaN</td>\n",
       "      <td>NaN</td>\n",
       "      <td>Recurrent Disease</td>\n",
       "      <td>DISEASE RELAPSE</td>\n",
       "      <td>NaN</td>\n",
       "      <td>NaN</td>\n",
       "      <td>NaN</td>\n",
       "      <td>NaN</td>\n",
       "      <td>NaN</td>\n",
       "    </tr>\n",
       "    <tr>\n",
       "      <th>32</th>\n",
       "      <td>I-Spy1</td>\n",
       "      <td>DS</td>\n",
       "      <td>ISPY1_1021</td>\n",
       "      <td>18</td>\n",
       "      <td>NaN</td>\n",
       "      <td>NaN</td>\n",
       "      <td>NaN</td>\n",
       "      <td>Recurrent Disease</td>\n",
       "      <td>DISEASE RELAPSE</td>\n",
       "      <td>NaN</td>\n",
       "      <td>NaN</td>\n",
       "      <td>NaN</td>\n",
       "      <td>NaN</td>\n",
       "      <td>NaN</td>\n",
       "    </tr>\n",
       "    <tr>\n",
       "      <th>33</th>\n",
       "      <td>I-Spy1</td>\n",
       "      <td>DS</td>\n",
       "      <td>ISPY1_1024</td>\n",
       "      <td>20</td>\n",
       "      <td>NaN</td>\n",
       "      <td>NaN</td>\n",
       "      <td>NaN</td>\n",
       "      <td>Recurrent Disease</td>\n",
       "      <td>DISEASE RELAPSE</td>\n",
       "      <td>NaN</td>\n",
       "      <td>NaN</td>\n",
       "      <td>NaN</td>\n",
       "      <td>NaN</td>\n",
       "      <td>NaN</td>\n",
       "    </tr>\n",
       "    <tr>\n",
       "      <th>34</th>\n",
       "      <td>I-Spy1</td>\n",
       "      <td>DS</td>\n",
       "      <td>ISPY1_1025</td>\n",
       "      <td>21</td>\n",
       "      <td>NaN</td>\n",
       "      <td>NaN</td>\n",
       "      <td>NaN</td>\n",
       "      <td>Recurrent Disease</td>\n",
       "      <td>DISEASE RELAPSE</td>\n",
       "      <td>NaN</td>\n",
       "      <td>NaN</td>\n",
       "      <td>NaN</td>\n",
       "      <td>NaN</td>\n",
       "      <td>NaN</td>\n",
       "    </tr>\n",
       "    <tr>\n",
       "      <th>35</th>\n",
       "      <td>I-Spy1</td>\n",
       "      <td>DS</td>\n",
       "      <td>ISPY1_1027</td>\n",
       "      <td>23</td>\n",
       "      <td>NaN</td>\n",
       "      <td>NaN</td>\n",
       "      <td>NaN</td>\n",
       "      <td>Recurrent Disease</td>\n",
       "      <td>DISEASE RELAPSE</td>\n",
       "      <td>NaN</td>\n",
       "      <td>NaN</td>\n",
       "      <td>NaN</td>\n",
       "      <td>NaN</td>\n",
       "      <td>NaN</td>\n",
       "    </tr>\n",
       "    <tr>\n",
       "      <th>36</th>\n",
       "      <td>I-Spy1</td>\n",
       "      <td>DS</td>\n",
       "      <td>ISPY1_1028</td>\n",
       "      <td>24</td>\n",
       "      <td>NaN</td>\n",
       "      <td>NaN</td>\n",
       "      <td>NaN</td>\n",
       "      <td>Recurrent Disease</td>\n",
       "      <td>DISEASE RELAPSE</td>\n",
       "      <td>NaN</td>\n",
       "      <td>NaN</td>\n",
       "      <td>NaN</td>\n",
       "      <td>NaN</td>\n",
       "      <td>NaN</td>\n",
       "    </tr>\n",
       "    <tr>\n",
       "      <th>37</th>\n",
       "      <td>I-Spy1</td>\n",
       "      <td>DS</td>\n",
       "      <td>ISPY1_1031</td>\n",
       "      <td>27</td>\n",
       "      <td>NaN</td>\n",
       "      <td>NaN</td>\n",
       "      <td>NaN</td>\n",
       "      <td>Recurrent Disease</td>\n",
       "      <td>DISEASE RELAPSE</td>\n",
       "      <td>NaN</td>\n",
       "      <td>NaN</td>\n",
       "      <td>NaN</td>\n",
       "      <td>NaN</td>\n",
       "      <td>NaN</td>\n",
       "    </tr>\n",
       "    <tr>\n",
       "      <th>38</th>\n",
       "      <td>I-Spy1</td>\n",
       "      <td>DS</td>\n",
       "      <td>ISPY1_1032</td>\n",
       "      <td>28</td>\n",
       "      <td>NaN</td>\n",
       "      <td>NaN</td>\n",
       "      <td>NaN</td>\n",
       "      <td>Lost to Follow-up</td>\n",
       "      <td>LOST TO FOLLOW-UP</td>\n",
       "      <td>NaN</td>\n",
       "      <td>NaN</td>\n",
       "      <td>NaN</td>\n",
       "      <td>NaN</td>\n",
       "      <td>NaN</td>\n",
       "    </tr>\n",
       "    <tr>\n",
       "      <th>39</th>\n",
       "      <td>I-Spy1</td>\n",
       "      <td>DS</td>\n",
       "      <td>ISPY1_1034</td>\n",
       "      <td>30</td>\n",
       "      <td>NaN</td>\n",
       "      <td>NaN</td>\n",
       "      <td>NaN</td>\n",
       "      <td>Recurrent Disease</td>\n",
       "      <td>DISEASE RELAPSE</td>\n",
       "      <td>NaN</td>\n",
       "      <td>NaN</td>\n",
       "      <td>NaN</td>\n",
       "      <td>NaN</td>\n",
       "      <td>NaN</td>\n",
       "    </tr>\n",
       "    <tr>\n",
       "      <th>40</th>\n",
       "      <td>I-Spy1</td>\n",
       "      <td>DS</td>\n",
       "      <td>ISPY1_1035</td>\n",
       "      <td>31</td>\n",
       "      <td>NaN</td>\n",
       "      <td>NaN</td>\n",
       "      <td>NaN</td>\n",
       "      <td>Recurrent Disease</td>\n",
       "      <td>DISEASE RELAPSE</td>\n",
       "      <td>NaN</td>\n",
       "      <td>NaN</td>\n",
       "      <td>NaN</td>\n",
       "      <td>NaN</td>\n",
       "      <td>NaN</td>\n",
       "    </tr>\n",
       "    <tr>\n",
       "      <th>41</th>\n",
       "      <td>I-Spy1</td>\n",
       "      <td>DS</td>\n",
       "      <td>ISPY1_1036</td>\n",
       "      <td>32</td>\n",
       "      <td>NaN</td>\n",
       "      <td>NaN</td>\n",
       "      <td>NaN</td>\n",
       "      <td>Recurrent Disease</td>\n",
       "      <td>DISEASE RELAPSE</td>\n",
       "      <td>NaN</td>\n",
       "      <td>NaN</td>\n",
       "      <td>NaN</td>\n",
       "      <td>NaN</td>\n",
       "      <td>NaN</td>\n",
       "    </tr>\n",
       "    <tr>\n",
       "      <th>42</th>\n",
       "      <td>I-Spy1</td>\n",
       "      <td>DS</td>\n",
       "      <td>ISPY1_1040</td>\n",
       "      <td>36</td>\n",
       "      <td>NaN</td>\n",
       "      <td>NaN</td>\n",
       "      <td>NaN</td>\n",
       "      <td>Recurrent Disease</td>\n",
       "      <td>DISEASE RELAPSE</td>\n",
       "      <td>NaN</td>\n",
       "      <td>NaN</td>\n",
       "      <td>NaN</td>\n",
       "      <td>NaN</td>\n",
       "      <td>NaN</td>\n",
       "    </tr>\n",
       "    <tr>\n",
       "      <th>43</th>\n",
       "      <td>I-Spy1</td>\n",
       "      <td>DS</td>\n",
       "      <td>ISPY1_1041</td>\n",
       "      <td>37</td>\n",
       "      <td>NaN</td>\n",
       "      <td>NaN</td>\n",
       "      <td>NaN</td>\n",
       "      <td>Recurrent Disease</td>\n",
       "      <td>DISEASE RELAPSE</td>\n",
       "      <td>NaN</td>\n",
       "      <td>NaN</td>\n",
       "      <td>NaN</td>\n",
       "      <td>NaN</td>\n",
       "      <td>NaN</td>\n",
       "    </tr>\n",
       "    <tr>\n",
       "      <th>44</th>\n",
       "      <td>I-Spy1</td>\n",
       "      <td>DS</td>\n",
       "      <td>ISPY1_1043</td>\n",
       "      <td>39</td>\n",
       "      <td>NaN</td>\n",
       "      <td>NaN</td>\n",
       "      <td>NaN</td>\n",
       "      <td>Recurrent Disease</td>\n",
       "      <td>DISEASE RELAPSE</td>\n",
       "      <td>NaN</td>\n",
       "      <td>NaN</td>\n",
       "      <td>NaN</td>\n",
       "      <td>NaN</td>\n",
       "      <td>NaN</td>\n",
       "    </tr>\n",
       "    <tr>\n",
       "      <th>45</th>\n",
       "      <td>I-Spy1</td>\n",
       "      <td>DS</td>\n",
       "      <td>ISPY1_1044</td>\n",
       "      <td>40</td>\n",
       "      <td>NaN</td>\n",
       "      <td>NaN</td>\n",
       "      <td>NaN</td>\n",
       "      <td>Recurrent Disease</td>\n",
       "      <td>DISEASE RELAPSE</td>\n",
       "      <td>NaN</td>\n",
       "      <td>NaN</td>\n",
       "      <td>NaN</td>\n",
       "      <td>NaN</td>\n",
       "      <td>NaN</td>\n",
       "    </tr>\n",
       "    <tr>\n",
       "      <th>46</th>\n",
       "      <td>I-Spy1</td>\n",
       "      <td>DS</td>\n",
       "      <td>ISPY1_1045</td>\n",
       "      <td>41</td>\n",
       "      <td>NaN</td>\n",
       "      <td>NaN</td>\n",
       "      <td>NaN</td>\n",
       "      <td>Recurrent Disease</td>\n",
       "      <td>DISEASE RELAPSE</td>\n",
       "      <td>NaN</td>\n",
       "      <td>NaN</td>\n",
       "      <td>NaN</td>\n",
       "      <td>NaN</td>\n",
       "      <td>NaN</td>\n",
       "    </tr>\n",
       "    <tr>\n",
       "      <th>47</th>\n",
       "      <td>I-Spy1</td>\n",
       "      <td>DS</td>\n",
       "      <td>ISPY1_1049</td>\n",
       "      <td>45</td>\n",
       "      <td>NaN</td>\n",
       "      <td>NaN</td>\n",
       "      <td>NaN</td>\n",
       "      <td>Recurrent Disease</td>\n",
       "      <td>DISEASE RELAPSE</td>\n",
       "      <td>NaN</td>\n",
       "      <td>NaN</td>\n",
       "      <td>NaN</td>\n",
       "      <td>NaN</td>\n",
       "      <td>NaN</td>\n",
       "    </tr>\n",
       "    <tr>\n",
       "      <th>48</th>\n",
       "      <td>I-Spy1</td>\n",
       "      <td>DS</td>\n",
       "      <td>ISPY1_1050</td>\n",
       "      <td>46</td>\n",
       "      <td>NaN</td>\n",
       "      <td>NaN</td>\n",
       "      <td>NaN</td>\n",
       "      <td>Recurrent Disease</td>\n",
       "      <td>DISEASE RELAPSE</td>\n",
       "      <td>NaN</td>\n",
       "      <td>NaN</td>\n",
       "      <td>NaN</td>\n",
       "      <td>NaN</td>\n",
       "      <td>NaN</td>\n",
       "    </tr>\n",
       "    <tr>\n",
       "      <th>49</th>\n",
       "      <td>I-Spy1</td>\n",
       "      <td>DS</td>\n",
       "      <td>ISPY1_1051</td>\n",
       "      <td>47</td>\n",
       "      <td>NaN</td>\n",
       "      <td>NaN</td>\n",
       "      <td>NaN</td>\n",
       "      <td>Lost to Follow-up</td>\n",
       "      <td>LOST TO FOLLOW-UP</td>\n",
       "      <td>NaN</td>\n",
       "      <td>NaN</td>\n",
       "      <td>NaN</td>\n",
       "      <td>NaN</td>\n",
       "      <td>NaN</td>\n",
       "    </tr>\n",
       "    <tr>\n",
       "      <th>50</th>\n",
       "      <td>I-Spy1</td>\n",
       "      <td>DS</td>\n",
       "      <td>ISPY1_1054</td>\n",
       "      <td>49</td>\n",
       "      <td>NaN</td>\n",
       "      <td>NaN</td>\n",
       "      <td>NaN</td>\n",
       "      <td>Recurrent Disease</td>\n",
       "      <td>DISEASE RELAPSE</td>\n",
       "      <td>NaN</td>\n",
       "      <td>NaN</td>\n",
       "      <td>NaN</td>\n",
       "      <td>NaN</td>\n",
       "      <td>NaN</td>\n",
       "    </tr>\n",
       "    <tr>\n",
       "      <th>51</th>\n",
       "      <td>I-Spy1</td>\n",
       "      <td>DS</td>\n",
       "      <td>ISPY1_1056</td>\n",
       "      <td>51</td>\n",
       "      <td>NaN</td>\n",
       "      <td>NaN</td>\n",
       "      <td>NaN</td>\n",
       "      <td>Recurrent Disease</td>\n",
       "      <td>DISEASE RELAPSE</td>\n",
       "      <td>NaN</td>\n",
       "      <td>NaN</td>\n",
       "      <td>NaN</td>\n",
       "      <td>NaN</td>\n",
       "      <td>NaN</td>\n",
       "    </tr>\n",
       "    <tr>\n",
       "      <th>52</th>\n",
       "      <td>I-Spy1</td>\n",
       "      <td>DS</td>\n",
       "      <td>ISPY1_1057</td>\n",
       "      <td>52</td>\n",
       "      <td>NaN</td>\n",
       "      <td>NaN</td>\n",
       "      <td>NaN</td>\n",
       "      <td>Recurrent Disease</td>\n",
       "      <td>DISEASE RELAPSE</td>\n",
       "      <td>NaN</td>\n",
       "      <td>NaN</td>\n",
       "      <td>NaN</td>\n",
       "      <td>NaN</td>\n",
       "      <td>NaN</td>\n",
       "    </tr>\n",
       "    <tr>\n",
       "      <th>53</th>\n",
       "      <td>I-Spy1</td>\n",
       "      <td>DS</td>\n",
       "      <td>ISPY1_1061</td>\n",
       "      <td>56</td>\n",
       "      <td>NaN</td>\n",
       "      <td>NaN</td>\n",
       "      <td>NaN</td>\n",
       "      <td>Recurrent Disease</td>\n",
       "      <td>DISEASE RELAPSE</td>\n",
       "      <td>NaN</td>\n",
       "      <td>NaN</td>\n",
       "      <td>NaN</td>\n",
       "      <td>NaN</td>\n",
       "      <td>NaN</td>\n",
       "    </tr>\n",
       "    <tr>\n",
       "      <th>54</th>\n",
       "      <td>I-Spy1</td>\n",
       "      <td>DS</td>\n",
       "      <td>ISPY1_1062</td>\n",
       "      <td>57</td>\n",
       "      <td>NaN</td>\n",
       "      <td>NaN</td>\n",
       "      <td>NaN</td>\n",
       "      <td>Recurrent Disease</td>\n",
       "      <td>DISEASE RELAPSE</td>\n",
       "      <td>NaN</td>\n",
       "      <td>NaN</td>\n",
       "      <td>NaN</td>\n",
       "      <td>NaN</td>\n",
       "      <td>NaN</td>\n",
       "    </tr>\n",
       "    <tr>\n",
       "      <th>55</th>\n",
       "      <td>I-Spy1</td>\n",
       "      <td>DS</td>\n",
       "      <td>ISPY1_1064</td>\n",
       "      <td>59</td>\n",
       "      <td>NaN</td>\n",
       "      <td>NaN</td>\n",
       "      <td>NaN</td>\n",
       "      <td>Recurrent Disease</td>\n",
       "      <td>DISEASE RELAPSE</td>\n",
       "      <td>NaN</td>\n",
       "      <td>NaN</td>\n",
       "      <td>NaN</td>\n",
       "      <td>NaN</td>\n",
       "      <td>NaN</td>\n",
       "    </tr>\n",
       "    <tr>\n",
       "      <th>56</th>\n",
       "      <td>I-Spy1</td>\n",
       "      <td>DS</td>\n",
       "      <td>ISPY1_1067</td>\n",
       "      <td>62</td>\n",
       "      <td>NaN</td>\n",
       "      <td>NaN</td>\n",
       "      <td>NaN</td>\n",
       "      <td>Recurrent Disease</td>\n",
       "      <td>DISEASE RELAPSE</td>\n",
       "      <td>NaN</td>\n",
       "      <td>NaN</td>\n",
       "      <td>NaN</td>\n",
       "      <td>NaN</td>\n",
       "      <td>NaN</td>\n",
       "    </tr>\n",
       "    <tr>\n",
       "      <th>57</th>\n",
       "      <td>I-Spy1</td>\n",
       "      <td>DS</td>\n",
       "      <td>ISPY1_1090</td>\n",
       "      <td>82</td>\n",
       "      <td>NaN</td>\n",
       "      <td>NaN</td>\n",
       "      <td>NaN</td>\n",
       "      <td>Recurrent Disease</td>\n",
       "      <td>DISEASE RELAPSE</td>\n",
       "      <td>NaN</td>\n",
       "      <td>NaN</td>\n",
       "      <td>NaN</td>\n",
       "      <td>NaN</td>\n",
       "      <td>NaN</td>\n",
       "    </tr>\n",
       "    <tr>\n",
       "      <th>58</th>\n",
       "      <td>I-Spy1</td>\n",
       "      <td>DS</td>\n",
       "      <td>ISPY1_1091</td>\n",
       "      <td>83</td>\n",
       "      <td>NaN</td>\n",
       "      <td>NaN</td>\n",
       "      <td>NaN</td>\n",
       "      <td>Recurrent Disease</td>\n",
       "      <td>DISEASE RELAPSE</td>\n",
       "      <td>NaN</td>\n",
       "      <td>NaN</td>\n",
       "      <td>NaN</td>\n",
       "      <td>NaN</td>\n",
       "      <td>NaN</td>\n",
       "    </tr>\n",
       "    <tr>\n",
       "      <th>59</th>\n",
       "      <td>I-Spy1</td>\n",
       "      <td>DS</td>\n",
       "      <td>ISPY1_1096</td>\n",
       "      <td>88</td>\n",
       "      <td>NaN</td>\n",
       "      <td>NaN</td>\n",
       "      <td>NaN</td>\n",
       "      <td>Recurrent Disease</td>\n",
       "      <td>DISEASE RELAPSE</td>\n",
       "      <td>NaN</td>\n",
       "      <td>NaN</td>\n",
       "      <td>NaN</td>\n",
       "      <td>NaN</td>\n",
       "      <td>NaN</td>\n",
       "    </tr>\n",
       "    <tr>\n",
       "      <th>60</th>\n",
       "      <td>I-Spy1</td>\n",
       "      <td>DS</td>\n",
       "      <td>ISPY1_1098</td>\n",
       "      <td>90</td>\n",
       "      <td>NaN</td>\n",
       "      <td>NaN</td>\n",
       "      <td>NaN</td>\n",
       "      <td>Recurrent Disease</td>\n",
       "      <td>DISEASE RELAPSE</td>\n",
       "      <td>NaN</td>\n",
       "      <td>NaN</td>\n",
       "      <td>NaN</td>\n",
       "      <td>NaN</td>\n",
       "      <td>NaN</td>\n",
       "    </tr>\n",
       "    <tr>\n",
       "      <th>61</th>\n",
       "      <td>I-Spy1</td>\n",
       "      <td>DS</td>\n",
       "      <td>ISPY1_1101</td>\n",
       "      <td>93</td>\n",
       "      <td>NaN</td>\n",
       "      <td>NaN</td>\n",
       "      <td>NaN</td>\n",
       "      <td>Recurrent Disease</td>\n",
       "      <td>DISEASE RELAPSE</td>\n",
       "      <td>NaN</td>\n",
       "      <td>NaN</td>\n",
       "      <td>NaN</td>\n",
       "      <td>NaN</td>\n",
       "      <td>NaN</td>\n",
       "    </tr>\n",
       "    <tr>\n",
       "      <th>62</th>\n",
       "      <td>I-Spy1</td>\n",
       "      <td>DS</td>\n",
       "      <td>ISPY1_1102</td>\n",
       "      <td>94</td>\n",
       "      <td>NaN</td>\n",
       "      <td>NaN</td>\n",
       "      <td>NaN</td>\n",
       "      <td>Recurrent Disease</td>\n",
       "      <td>DISEASE RELAPSE</td>\n",
       "      <td>NaN</td>\n",
       "      <td>NaN</td>\n",
       "      <td>NaN</td>\n",
       "      <td>NaN</td>\n",
       "      <td>NaN</td>\n",
       "    </tr>\n",
       "    <tr>\n",
       "      <th>63</th>\n",
       "      <td>I-Spy1</td>\n",
       "      <td>DS</td>\n",
       "      <td>ISPY1_1106</td>\n",
       "      <td>97</td>\n",
       "      <td>NaN</td>\n",
       "      <td>NaN</td>\n",
       "      <td>NaN</td>\n",
       "      <td>Recurrent Disease</td>\n",
       "      <td>DISEASE RELAPSE</td>\n",
       "      <td>NaN</td>\n",
       "      <td>NaN</td>\n",
       "      <td>NaN</td>\n",
       "      <td>NaN</td>\n",
       "      <td>NaN</td>\n",
       "    </tr>\n",
       "    <tr>\n",
       "      <th>64</th>\n",
       "      <td>I-Spy1</td>\n",
       "      <td>DS</td>\n",
       "      <td>ISPY1_1120</td>\n",
       "      <td>109</td>\n",
       "      <td>NaN</td>\n",
       "      <td>NaN</td>\n",
       "      <td>NaN</td>\n",
       "      <td>Lost to Follow-up</td>\n",
       "      <td>LOST TO FOLLOW-UP</td>\n",
       "      <td>NaN</td>\n",
       "      <td>NaN</td>\n",
       "      <td>NaN</td>\n",
       "      <td>NaN</td>\n",
       "      <td>NaN</td>\n",
       "    </tr>\n",
       "    <tr>\n",
       "      <th>65</th>\n",
       "      <td>I-Spy1</td>\n",
       "      <td>DS</td>\n",
       "      <td>ISPY1_1124</td>\n",
       "      <td>113</td>\n",
       "      <td>NaN</td>\n",
       "      <td>NaN</td>\n",
       "      <td>NaN</td>\n",
       "      <td>Recurrent Disease</td>\n",
       "      <td>DISEASE RELAPSE</td>\n",
       "      <td>NaN</td>\n",
       "      <td>NaN</td>\n",
       "      <td>NaN</td>\n",
       "      <td>NaN</td>\n",
       "      <td>NaN</td>\n",
       "    </tr>\n",
       "    <tr>\n",
       "      <th>66</th>\n",
       "      <td>I-Spy1</td>\n",
       "      <td>DS</td>\n",
       "      <td>ISPY1_1127</td>\n",
       "      <td>116</td>\n",
       "      <td>NaN</td>\n",
       "      <td>NaN</td>\n",
       "      <td>NaN</td>\n",
       "      <td>Lost to Follow-up</td>\n",
       "      <td>LOST TO FOLLOW-UP</td>\n",
       "      <td>NaN</td>\n",
       "      <td>NaN</td>\n",
       "      <td>NaN</td>\n",
       "      <td>NaN</td>\n",
       "      <td>NaN</td>\n",
       "    </tr>\n",
       "    <tr>\n",
       "      <th>67</th>\n",
       "      <td>I-Spy1</td>\n",
       "      <td>DS</td>\n",
       "      <td>ISPY1_1129</td>\n",
       "      <td>118</td>\n",
       "      <td>NaN</td>\n",
       "      <td>NaN</td>\n",
       "      <td>NaN</td>\n",
       "      <td>Recurrent Disease</td>\n",
       "      <td>DISEASE RELAPSE</td>\n",
       "      <td>NaN</td>\n",
       "      <td>NaN</td>\n",
       "      <td>NaN</td>\n",
       "      <td>NaN</td>\n",
       "      <td>NaN</td>\n",
       "    </tr>\n",
       "    <tr>\n",
       "      <th>68</th>\n",
       "      <td>I-Spy1</td>\n",
       "      <td>DS</td>\n",
       "      <td>ISPY1_1136</td>\n",
       "      <td>123</td>\n",
       "      <td>NaN</td>\n",
       "      <td>NaN</td>\n",
       "      <td>NaN</td>\n",
       "      <td>Recurrent Disease</td>\n",
       "      <td>DISEASE RELAPSE</td>\n",
       "      <td>NaN</td>\n",
       "      <td>NaN</td>\n",
       "      <td>NaN</td>\n",
       "      <td>NaN</td>\n",
       "      <td>NaN</td>\n",
       "    </tr>\n",
       "    <tr>\n",
       "      <th>69</th>\n",
       "      <td>I-Spy1</td>\n",
       "      <td>DS</td>\n",
       "      <td>ISPY1_1137</td>\n",
       "      <td>124</td>\n",
       "      <td>NaN</td>\n",
       "      <td>NaN</td>\n",
       "      <td>NaN</td>\n",
       "      <td>Recurrent Disease</td>\n",
       "      <td>DISEASE RELAPSE</td>\n",
       "      <td>NaN</td>\n",
       "      <td>NaN</td>\n",
       "      <td>NaN</td>\n",
       "      <td>NaN</td>\n",
       "      <td>NaN</td>\n",
       "    </tr>\n",
       "    <tr>\n",
       "      <th>70</th>\n",
       "      <td>I-Spy1</td>\n",
       "      <td>DS</td>\n",
       "      <td>ISPY1_1140</td>\n",
       "      <td>127</td>\n",
       "      <td>NaN</td>\n",
       "      <td>NaN</td>\n",
       "      <td>NaN</td>\n",
       "      <td>Recurrent Disease</td>\n",
       "      <td>DISEASE RELAPSE</td>\n",
       "      <td>NaN</td>\n",
       "      <td>NaN</td>\n",
       "      <td>NaN</td>\n",
       "      <td>NaN</td>\n",
       "      <td>NaN</td>\n",
       "    </tr>\n",
       "    <tr>\n",
       "      <th>71</th>\n",
       "      <td>I-Spy1</td>\n",
       "      <td>DS</td>\n",
       "      <td>ISPY1_1142</td>\n",
       "      <td>129</td>\n",
       "      <td>NaN</td>\n",
       "      <td>NaN</td>\n",
       "      <td>NaN</td>\n",
       "      <td>Recurrent Disease</td>\n",
       "      <td>DISEASE RELAPSE</td>\n",
       "      <td>NaN</td>\n",
       "      <td>NaN</td>\n",
       "      <td>NaN</td>\n",
       "      <td>NaN</td>\n",
       "      <td>NaN</td>\n",
       "    </tr>\n",
       "    <tr>\n",
       "      <th>72</th>\n",
       "      <td>I-Spy1</td>\n",
       "      <td>DS</td>\n",
       "      <td>ISPY1_1143</td>\n",
       "      <td>130</td>\n",
       "      <td>NaN</td>\n",
       "      <td>NaN</td>\n",
       "      <td>NaN</td>\n",
       "      <td>Recurrent Disease</td>\n",
       "      <td>DISEASE RELAPSE</td>\n",
       "      <td>NaN</td>\n",
       "      <td>NaN</td>\n",
       "      <td>NaN</td>\n",
       "      <td>NaN</td>\n",
       "      <td>NaN</td>\n",
       "    </tr>\n",
       "    <tr>\n",
       "      <th>73</th>\n",
       "      <td>I-Spy1</td>\n",
       "      <td>DS</td>\n",
       "      <td>ISPY1_1147</td>\n",
       "      <td>134</td>\n",
       "      <td>NaN</td>\n",
       "      <td>NaN</td>\n",
       "      <td>NaN</td>\n",
       "      <td>Recurrent Disease</td>\n",
       "      <td>DISEASE RELAPSE</td>\n",
       "      <td>NaN</td>\n",
       "      <td>NaN</td>\n",
       "      <td>NaN</td>\n",
       "      <td>NaN</td>\n",
       "      <td>NaN</td>\n",
       "    </tr>\n",
       "    <tr>\n",
       "      <th>74</th>\n",
       "      <td>I-Spy1</td>\n",
       "      <td>DS</td>\n",
       "      <td>ISPY1_1149</td>\n",
       "      <td>136</td>\n",
       "      <td>NaN</td>\n",
       "      <td>NaN</td>\n",
       "      <td>NaN</td>\n",
       "      <td>Recurrent Disease</td>\n",
       "      <td>DISEASE RELAPSE</td>\n",
       "      <td>NaN</td>\n",
       "      <td>NaN</td>\n",
       "      <td>NaN</td>\n",
       "      <td>NaN</td>\n",
       "      <td>NaN</td>\n",
       "    </tr>\n",
       "    <tr>\n",
       "      <th>75</th>\n",
       "      <td>I-Spy1</td>\n",
       "      <td>DS</td>\n",
       "      <td>ISPY1_1152</td>\n",
       "      <td>139</td>\n",
       "      <td>NaN</td>\n",
       "      <td>NaN</td>\n",
       "      <td>NaN</td>\n",
       "      <td>Recurrent Disease</td>\n",
       "      <td>DISEASE RELAPSE</td>\n",
       "      <td>NaN</td>\n",
       "      <td>NaN</td>\n",
       "      <td>NaN</td>\n",
       "      <td>NaN</td>\n",
       "      <td>NaN</td>\n",
       "    </tr>\n",
       "    <tr>\n",
       "      <th>76</th>\n",
       "      <td>I-Spy1</td>\n",
       "      <td>DS</td>\n",
       "      <td>ISPY1_1156</td>\n",
       "      <td>142</td>\n",
       "      <td>NaN</td>\n",
       "      <td>NaN</td>\n",
       "      <td>NaN</td>\n",
       "      <td>Recurrent Disease</td>\n",
       "      <td>DISEASE RELAPSE</td>\n",
       "      <td>NaN</td>\n",
       "      <td>NaN</td>\n",
       "      <td>NaN</td>\n",
       "      <td>NaN</td>\n",
       "      <td>NaN</td>\n",
       "    </tr>\n",
       "    <tr>\n",
       "      <th>77</th>\n",
       "      <td>I-Spy1</td>\n",
       "      <td>DS</td>\n",
       "      <td>ISPY1_1159</td>\n",
       "      <td>145</td>\n",
       "      <td>NaN</td>\n",
       "      <td>NaN</td>\n",
       "      <td>NaN</td>\n",
       "      <td>Recurrent Disease</td>\n",
       "      <td>DISEASE RELAPSE</td>\n",
       "      <td>NaN</td>\n",
       "      <td>NaN</td>\n",
       "      <td>NaN</td>\n",
       "      <td>NaN</td>\n",
       "      <td>NaN</td>\n",
       "    </tr>\n",
       "    <tr>\n",
       "      <th>78</th>\n",
       "      <td>I-Spy1</td>\n",
       "      <td>DS</td>\n",
       "      <td>ISPY1_1167</td>\n",
       "      <td>153</td>\n",
       "      <td>NaN</td>\n",
       "      <td>NaN</td>\n",
       "      <td>NaN</td>\n",
       "      <td>Recurrent Disease</td>\n",
       "      <td>DISEASE RELAPSE</td>\n",
       "      <td>NaN</td>\n",
       "      <td>NaN</td>\n",
       "      <td>NaN</td>\n",
       "      <td>NaN</td>\n",
       "      <td>NaN</td>\n",
       "    </tr>\n",
       "    <tr>\n",
       "      <th>79</th>\n",
       "      <td>I-Spy1</td>\n",
       "      <td>DS</td>\n",
       "      <td>ISPY1_1168</td>\n",
       "      <td>154</td>\n",
       "      <td>NaN</td>\n",
       "      <td>NaN</td>\n",
       "      <td>NaN</td>\n",
       "      <td>Recurrent Disease</td>\n",
       "      <td>DISEASE RELAPSE</td>\n",
       "      <td>NaN</td>\n",
       "      <td>NaN</td>\n",
       "      <td>NaN</td>\n",
       "      <td>NaN</td>\n",
       "      <td>NaN</td>\n",
       "    </tr>\n",
       "    <tr>\n",
       "      <th>80</th>\n",
       "      <td>I-Spy1</td>\n",
       "      <td>DS</td>\n",
       "      <td>ISPY1_1169</td>\n",
       "      <td>155</td>\n",
       "      <td>NaN</td>\n",
       "      <td>NaN</td>\n",
       "      <td>NaN</td>\n",
       "      <td>Current</td>\n",
       "      <td>haha</td>\n",
       "      <td>NaN</td>\n",
       "      <td>NaN</td>\n",
       "      <td>NaN</td>\n",
       "      <td>NaN</td>\n",
       "      <td>NaN</td>\n",
       "    </tr>\n",
       "    <tr>\n",
       "      <th>81</th>\n",
       "      <td>I-Spy1</td>\n",
       "      <td>DS</td>\n",
       "      <td>ISPY1_1174</td>\n",
       "      <td>160</td>\n",
       "      <td>NaN</td>\n",
       "      <td>NaN</td>\n",
       "      <td>NaN</td>\n",
       "      <td>Recurrent Disease</td>\n",
       "      <td>DISEASE RELAPSE</td>\n",
       "      <td>NaN</td>\n",
       "      <td>NaN</td>\n",
       "      <td>NaN</td>\n",
       "      <td>NaN</td>\n",
       "      <td>NaN</td>\n",
       "    </tr>\n",
       "    <tr>\n",
       "      <th>82</th>\n",
       "      <td>I-Spy1</td>\n",
       "      <td>DS</td>\n",
       "      <td>ISPY1_1180</td>\n",
       "      <td>165</td>\n",
       "      <td>NaN</td>\n",
       "      <td>NaN</td>\n",
       "      <td>NaN</td>\n",
       "      <td>Recurrent Disease</td>\n",
       "      <td>DISEASE RELAPSE</td>\n",
       "      <td>NaN</td>\n",
       "      <td>NaN</td>\n",
       "      <td>NaN</td>\n",
       "      <td>NaN</td>\n",
       "      <td>NaN</td>\n",
       "    </tr>\n",
       "    <tr>\n",
       "      <th>83</th>\n",
       "      <td>I-Spy1</td>\n",
       "      <td>DS</td>\n",
       "      <td>ISPY1_1194</td>\n",
       "      <td>177</td>\n",
       "      <td>NaN</td>\n",
       "      <td>NaN</td>\n",
       "      <td>NaN</td>\n",
       "      <td>Recurrent Disease</td>\n",
       "      <td>DISEASE RELAPSE</td>\n",
       "      <td>NaN</td>\n",
       "      <td>NaN</td>\n",
       "      <td>NaN</td>\n",
       "      <td>NaN</td>\n",
       "      <td>NaN</td>\n",
       "    </tr>\n",
       "    <tr>\n",
       "      <th>84</th>\n",
       "      <td>I-Spy1</td>\n",
       "      <td>DS</td>\n",
       "      <td>ISPY1_1199</td>\n",
       "      <td>181</td>\n",
       "      <td>NaN</td>\n",
       "      <td>NaN</td>\n",
       "      <td>NaN</td>\n",
       "      <td>Recurrent Disease</td>\n",
       "      <td>DISEASE RELAPSE</td>\n",
       "      <td>NaN</td>\n",
       "      <td>NaN</td>\n",
       "      <td>NaN</td>\n",
       "      <td>NaN</td>\n",
       "      <td>NaN</td>\n",
       "    </tr>\n",
       "    <tr>\n",
       "      <th>85</th>\n",
       "      <td>I-Spy1</td>\n",
       "      <td>DS</td>\n",
       "      <td>ISPY1_1200</td>\n",
       "      <td>182</td>\n",
       "      <td>NaN</td>\n",
       "      <td>NaN</td>\n",
       "      <td>NaN</td>\n",
       "      <td>Recurrent Disease</td>\n",
       "      <td>DISEASE RELAPSE</td>\n",
       "      <td>NaN</td>\n",
       "      <td>NaN</td>\n",
       "      <td>NaN</td>\n",
       "      <td>NaN</td>\n",
       "      <td>NaN</td>\n",
       "    </tr>\n",
       "    <tr>\n",
       "      <th>86</th>\n",
       "      <td>I-Spy1</td>\n",
       "      <td>DS</td>\n",
       "      <td>ISPY1_1203</td>\n",
       "      <td>185</td>\n",
       "      <td>NaN</td>\n",
       "      <td>NaN</td>\n",
       "      <td>NaN</td>\n",
       "      <td>Recurrent Disease</td>\n",
       "      <td>DISEASE RELAPSE</td>\n",
       "      <td>NaN</td>\n",
       "      <td>NaN</td>\n",
       "      <td>NaN</td>\n",
       "      <td>NaN</td>\n",
       "      <td>NaN</td>\n",
       "    </tr>\n",
       "    <tr>\n",
       "      <th>87</th>\n",
       "      <td>I-Spy1</td>\n",
       "      <td>DS</td>\n",
       "      <td>ISPY1_1205</td>\n",
       "      <td>187</td>\n",
       "      <td>NaN</td>\n",
       "      <td>NaN</td>\n",
       "      <td>NaN</td>\n",
       "      <td>Lost to Follow-up</td>\n",
       "      <td>LOST TO FOLLOW-UP</td>\n",
       "      <td>NaN</td>\n",
       "      <td>NaN</td>\n",
       "      <td>NaN</td>\n",
       "      <td>NaN</td>\n",
       "      <td>NaN</td>\n",
       "    </tr>\n",
       "    <tr>\n",
       "      <th>88</th>\n",
       "      <td>I-Spy1</td>\n",
       "      <td>DS</td>\n",
       "      <td>ISPY1_1206</td>\n",
       "      <td>188</td>\n",
       "      <td>NaN</td>\n",
       "      <td>NaN</td>\n",
       "      <td>NaN</td>\n",
       "      <td>Recurrent Disease</td>\n",
       "      <td>DISEASE RELAPSE</td>\n",
       "      <td>NaN</td>\n",
       "      <td>NaN</td>\n",
       "      <td>NaN</td>\n",
       "      <td>NaN</td>\n",
       "      <td>NaN</td>\n",
       "    </tr>\n",
       "    <tr>\n",
       "      <th>89</th>\n",
       "      <td>I-Spy1</td>\n",
       "      <td>DS</td>\n",
       "      <td>ISPY1_1215</td>\n",
       "      <td>197</td>\n",
       "      <td>NaN</td>\n",
       "      <td>NaN</td>\n",
       "      <td>NaN</td>\n",
       "      <td>Recurrent Disease</td>\n",
       "      <td>DISEASE RELAPSE</td>\n",
       "      <td>NaN</td>\n",
       "      <td>NaN</td>\n",
       "      <td>NaN</td>\n",
       "      <td>NaN</td>\n",
       "      <td>NaN</td>\n",
       "    </tr>\n",
       "    <tr>\n",
       "      <th>90</th>\n",
       "      <td>I-Spy1</td>\n",
       "      <td>DS</td>\n",
       "      <td>ISPY1_1216</td>\n",
       "      <td>198</td>\n",
       "      <td>NaN</td>\n",
       "      <td>NaN</td>\n",
       "      <td>NaN</td>\n",
       "      <td>Recurrent Disease</td>\n",
       "      <td>DISEASE RELAPSE</td>\n",
       "      <td>NaN</td>\n",
       "      <td>NaN</td>\n",
       "      <td>NaN</td>\n",
       "      <td>NaN</td>\n",
       "      <td>NaN</td>\n",
       "    </tr>\n",
       "    <tr>\n",
       "      <th>91</th>\n",
       "      <td>I-Spy1</td>\n",
       "      <td>DS</td>\n",
       "      <td>ISPY1_1221</td>\n",
       "      <td>203</td>\n",
       "      <td>NaN</td>\n",
       "      <td>NaN</td>\n",
       "      <td>NaN</td>\n",
       "      <td>Recurrent Disease</td>\n",
       "      <td>DISEASE RELAPSE</td>\n",
       "      <td>NaN</td>\n",
       "      <td>NaN</td>\n",
       "      <td>NaN</td>\n",
       "      <td>NaN</td>\n",
       "      <td>NaN</td>\n",
       "    </tr>\n",
       "    <tr>\n",
       "      <th>92</th>\n",
       "      <td>I-Spy1</td>\n",
       "      <td>DS</td>\n",
       "      <td>ISPY1_1230</td>\n",
       "      <td>212</td>\n",
       "      <td>NaN</td>\n",
       "      <td>NaN</td>\n",
       "      <td>NaN</td>\n",
       "      <td>Recurrent Disease</td>\n",
       "      <td>DISEASE RELAPSE</td>\n",
       "      <td>NaN</td>\n",
       "      <td>NaN</td>\n",
       "      <td>NaN</td>\n",
       "      <td>NaN</td>\n",
       "      <td>NaN</td>\n",
       "    </tr>\n",
       "    <tr>\n",
       "      <th>93</th>\n",
       "      <td>I-Spy1</td>\n",
       "      <td>DS</td>\n",
       "      <td>ISPY1_1236</td>\n",
       "      <td>218</td>\n",
       "      <td>NaN</td>\n",
       "      <td>NaN</td>\n",
       "      <td>NaN</td>\n",
       "      <td>Recurrent Disease</td>\n",
       "      <td>DISEASE RELAPSE</td>\n",
       "      <td>NaN</td>\n",
       "      <td>NaN</td>\n",
       "      <td>NaN</td>\n",
       "      <td>NaN</td>\n",
       "      <td>NaN</td>\n",
       "    </tr>\n",
       "  </tbody>\n",
       "</table>\n",
       "</div>"
      ],
      "text/plain": [
       "                  STUDYID DOMAIN     USUBJID  DSSEQ  DSGRPID  DSREFID  DSSPID  \\\n",
       "1   Breast-MRI-NACT-Pilot     DS  UCSF-BR-02    274      NaN      NaN     NaN   \n",
       "2   Breast-MRI-NACT-Pilot     DS  UCSF-BR-04    276      NaN      NaN     NaN   \n",
       "3   Breast-MRI-NACT-Pilot     DS  UCSF-BR-09    280      NaN      NaN     NaN   \n",
       "4   Breast-MRI-NACT-Pilot     DS  UCSF-BR-12    282      NaN      NaN     NaN   \n",
       "5   Breast-MRI-NACT-Pilot     DS  UCSF-BR-13    283      NaN      NaN     NaN   \n",
       "6   Breast-MRI-NACT-Pilot     DS  UCSF-BR-17    286      NaN      NaN     NaN   \n",
       "7   Breast-MRI-NACT-Pilot     DS  UCSF-BR-23    292      NaN      NaN     NaN   \n",
       "8   Breast-MRI-NACT-Pilot     DS  UCSF-BR-27    296      NaN      NaN     NaN   \n",
       "9   Breast-MRI-NACT-Pilot     DS  UCSF-BR-28    297      NaN      NaN     NaN   \n",
       "10  Breast-MRI-NACT-Pilot     DS  UCSF-BR-29    298      NaN      NaN     NaN   \n",
       "11  Breast-MRI-NACT-Pilot     DS  UCSF-BR-30    299      NaN      NaN     NaN   \n",
       "12  Breast-MRI-NACT-Pilot     DS  UCSF-BR-32    301      NaN      NaN     NaN   \n",
       "13  Breast-MRI-NACT-Pilot     DS  UCSF-BR-39    307      NaN      NaN     NaN   \n",
       "14  Breast-MRI-NACT-Pilot     DS  UCSF-BR-40    308      NaN      NaN     NaN   \n",
       "15  Breast-MRI-NACT-Pilot     DS  UCSF-BR-43    311      NaN      NaN     NaN   \n",
       "16  Breast-MRI-NACT-Pilot     DS  UCSF-BR-45    313      NaN      NaN     NaN   \n",
       "17  Breast-MRI-NACT-Pilot     DS  UCSF-BR-47    315      NaN      NaN     NaN   \n",
       "18  Breast-MRI-NACT-Pilot     DS  UCSF-BR-49    317      NaN      NaN     NaN   \n",
       "19  Breast-MRI-NACT-Pilot     DS  UCSF-BR-51    319      NaN      NaN     NaN   \n",
       "20  Breast-MRI-NACT-Pilot     DS  UCSF-BR-53    321      NaN      NaN     NaN   \n",
       "21  Breast-MRI-NACT-Pilot     DS  UCSF-BR-58    326      NaN      NaN     NaN   \n",
       "22  Breast-MRI-NACT-Pilot     DS  UCSF-BR-61    329      NaN      NaN     NaN   \n",
       "23  Breast-MRI-NACT-Pilot     DS  UCSF-BR-64    332      NaN      NaN     NaN   \n",
       "24  Breast-MRI-NACT-Pilot     DS  UCSF-BR-67    335      NaN      NaN     NaN   \n",
       "25  Breast-MRI-NACT-Pilot     DS  UCSF-BR-68    336      NaN      NaN     NaN   \n",
       "26                 I-Spy1     DS  ISPY1_1001      1      NaN      NaN     NaN   \n",
       "27                 I-Spy1     DS  ISPY1_1002      2      NaN      NaN     NaN   \n",
       "28                 I-Spy1     DS  ISPY1_1007      6      NaN      NaN     NaN   \n",
       "29                 I-Spy1     DS  ISPY1_1012     11      NaN      NaN     NaN   \n",
       "30                 I-Spy1     DS  ISPY1_1016     14      NaN      NaN     NaN   \n",
       "31                 I-Spy1     DS  ISPY1_1017     15      NaN      NaN     NaN   \n",
       "32                 I-Spy1     DS  ISPY1_1021     18      NaN      NaN     NaN   \n",
       "33                 I-Spy1     DS  ISPY1_1024     20      NaN      NaN     NaN   \n",
       "34                 I-Spy1     DS  ISPY1_1025     21      NaN      NaN     NaN   \n",
       "35                 I-Spy1     DS  ISPY1_1027     23      NaN      NaN     NaN   \n",
       "36                 I-Spy1     DS  ISPY1_1028     24      NaN      NaN     NaN   \n",
       "37                 I-Spy1     DS  ISPY1_1031     27      NaN      NaN     NaN   \n",
       "38                 I-Spy1     DS  ISPY1_1032     28      NaN      NaN     NaN   \n",
       "39                 I-Spy1     DS  ISPY1_1034     30      NaN      NaN     NaN   \n",
       "40                 I-Spy1     DS  ISPY1_1035     31      NaN      NaN     NaN   \n",
       "41                 I-Spy1     DS  ISPY1_1036     32      NaN      NaN     NaN   \n",
       "42                 I-Spy1     DS  ISPY1_1040     36      NaN      NaN     NaN   \n",
       "43                 I-Spy1     DS  ISPY1_1041     37      NaN      NaN     NaN   \n",
       "44                 I-Spy1     DS  ISPY1_1043     39      NaN      NaN     NaN   \n",
       "45                 I-Spy1     DS  ISPY1_1044     40      NaN      NaN     NaN   \n",
       "46                 I-Spy1     DS  ISPY1_1045     41      NaN      NaN     NaN   \n",
       "47                 I-Spy1     DS  ISPY1_1049     45      NaN      NaN     NaN   \n",
       "48                 I-Spy1     DS  ISPY1_1050     46      NaN      NaN     NaN   \n",
       "49                 I-Spy1     DS  ISPY1_1051     47      NaN      NaN     NaN   \n",
       "50                 I-Spy1     DS  ISPY1_1054     49      NaN      NaN     NaN   \n",
       "51                 I-Spy1     DS  ISPY1_1056     51      NaN      NaN     NaN   \n",
       "52                 I-Spy1     DS  ISPY1_1057     52      NaN      NaN     NaN   \n",
       "53                 I-Spy1     DS  ISPY1_1061     56      NaN      NaN     NaN   \n",
       "54                 I-Spy1     DS  ISPY1_1062     57      NaN      NaN     NaN   \n",
       "55                 I-Spy1     DS  ISPY1_1064     59      NaN      NaN     NaN   \n",
       "56                 I-Spy1     DS  ISPY1_1067     62      NaN      NaN     NaN   \n",
       "57                 I-Spy1     DS  ISPY1_1090     82      NaN      NaN     NaN   \n",
       "58                 I-Spy1     DS  ISPY1_1091     83      NaN      NaN     NaN   \n",
       "59                 I-Spy1     DS  ISPY1_1096     88      NaN      NaN     NaN   \n",
       "60                 I-Spy1     DS  ISPY1_1098     90      NaN      NaN     NaN   \n",
       "61                 I-Spy1     DS  ISPY1_1101     93      NaN      NaN     NaN   \n",
       "62                 I-Spy1     DS  ISPY1_1102     94      NaN      NaN     NaN   \n",
       "63                 I-Spy1     DS  ISPY1_1106     97      NaN      NaN     NaN   \n",
       "64                 I-Spy1     DS  ISPY1_1120    109      NaN      NaN     NaN   \n",
       "65                 I-Spy1     DS  ISPY1_1124    113      NaN      NaN     NaN   \n",
       "66                 I-Spy1     DS  ISPY1_1127    116      NaN      NaN     NaN   \n",
       "67                 I-Spy1     DS  ISPY1_1129    118      NaN      NaN     NaN   \n",
       "68                 I-Spy1     DS  ISPY1_1136    123      NaN      NaN     NaN   \n",
       "69                 I-Spy1     DS  ISPY1_1137    124      NaN      NaN     NaN   \n",
       "70                 I-Spy1     DS  ISPY1_1140    127      NaN      NaN     NaN   \n",
       "71                 I-Spy1     DS  ISPY1_1142    129      NaN      NaN     NaN   \n",
       "72                 I-Spy1     DS  ISPY1_1143    130      NaN      NaN     NaN   \n",
       "73                 I-Spy1     DS  ISPY1_1147    134      NaN      NaN     NaN   \n",
       "74                 I-Spy1     DS  ISPY1_1149    136      NaN      NaN     NaN   \n",
       "75                 I-Spy1     DS  ISPY1_1152    139      NaN      NaN     NaN   \n",
       "76                 I-Spy1     DS  ISPY1_1156    142      NaN      NaN     NaN   \n",
       "77                 I-Spy1     DS  ISPY1_1159    145      NaN      NaN     NaN   \n",
       "78                 I-Spy1     DS  ISPY1_1167    153      NaN      NaN     NaN   \n",
       "79                 I-Spy1     DS  ISPY1_1168    154      NaN      NaN     NaN   \n",
       "80                 I-Spy1     DS  ISPY1_1169    155      NaN      NaN     NaN   \n",
       "81                 I-Spy1     DS  ISPY1_1174    160      NaN      NaN     NaN   \n",
       "82                 I-Spy1     DS  ISPY1_1180    165      NaN      NaN     NaN   \n",
       "83                 I-Spy1     DS  ISPY1_1194    177      NaN      NaN     NaN   \n",
       "84                 I-Spy1     DS  ISPY1_1199    181      NaN      NaN     NaN   \n",
       "85                 I-Spy1     DS  ISPY1_1200    182      NaN      NaN     NaN   \n",
       "86                 I-Spy1     DS  ISPY1_1203    185      NaN      NaN     NaN   \n",
       "87                 I-Spy1     DS  ISPY1_1205    187      NaN      NaN     NaN   \n",
       "88                 I-Spy1     DS  ISPY1_1206    188      NaN      NaN     NaN   \n",
       "89                 I-Spy1     DS  ISPY1_1215    197      NaN      NaN     NaN   \n",
       "90                 I-Spy1     DS  ISPY1_1216    198      NaN      NaN     NaN   \n",
       "91                 I-Spy1     DS  ISPY1_1221    203      NaN      NaN     NaN   \n",
       "92                 I-Spy1     DS  ISPY1_1230    212      NaN      NaN     NaN   \n",
       "93                 I-Spy1     DS  ISPY1_1236    218      NaN      NaN     NaN   \n",
       "\n",
       "               DSTERM            DSDECOD  DSSCAT  EPOCH  DSDTC  DSSTDTC  \\\n",
       "1   Recurrent Disease    DISEASE RELAPSE     NaN    NaN    NaN      NaN   \n",
       "2   Recurrent Disease    DISEASE RELAPSE     NaN    NaN    NaN      NaN   \n",
       "3   Recurrent Disease    DISEASE RELAPSE     NaN    NaN    NaN      NaN   \n",
       "4   Recurrent Disease    DISEASE RELAPSE     NaN    NaN    NaN      NaN   \n",
       "5   Recurrent Disease    DISEASE RELAPSE     NaN    NaN    NaN      NaN   \n",
       "6   Recurrent Disease    DISEASE RELAPSE     NaN    NaN    NaN      NaN   \n",
       "7   Recurrent Disease    DISEASE RELAPSE     NaN    NaN    NaN      NaN   \n",
       "8   Recurrent Disease    DISEASE RELAPSE     NaN    NaN    NaN      NaN   \n",
       "9   Recurrent Disease    DISEASE RELAPSE     NaN    NaN    NaN      NaN   \n",
       "10  Recurrent Disease    DISEASE RELAPSE     NaN    NaN    NaN      NaN   \n",
       "11  Recurrent Disease    DISEASE RELAPSE     NaN    NaN    NaN      NaN   \n",
       "12  Recurrent Disease    DISEASE RELAPSE     NaN    NaN    NaN      NaN   \n",
       "13  Recurrent Disease    DISEASE RELAPSE     NaN    NaN    NaN      NaN   \n",
       "14  Recurrent Disease    DISEASE RELAPSE     NaN    NaN    NaN      NaN   \n",
       "15  Recurrent Disease    DISEASE RELAPSE     NaN    NaN    NaN      NaN   \n",
       "16  Recurrent Disease    DISEASE RELAPSE     NaN    NaN    NaN      NaN   \n",
       "17  Recurrent Disease    DISEASE RELAPSE     NaN    NaN    NaN      NaN   \n",
       "18  Recurrent Disease    DISEASE RELAPSE     NaN    NaN    NaN      NaN   \n",
       "19  Recurrent Disease    DISEASE RELAPSE     NaN    NaN    NaN      NaN   \n",
       "20  Recurrent Disease    DISEASE RELAPSE     NaN    NaN    NaN      NaN   \n",
       "21  Recurrent Disease    DISEASE RELAPSE     NaN    NaN    NaN      NaN   \n",
       "22  Recurrent Disease    DISEASE RELAPSE     NaN    NaN    NaN      NaN   \n",
       "23  Recurrent Disease    DISEASE RELAPSE     NaN    NaN    NaN      NaN   \n",
       "24  Recurrent Disease    DISEASE RELAPSE     NaN    NaN    NaN      NaN   \n",
       "25  Recurrent Disease    DISEASE RELAPSE     NaN    NaN    NaN      NaN   \n",
       "26  Recurrent Disease    DISEASE RELAPSE     NaN    NaN    NaN      NaN   \n",
       "27  Recurrent Disease    DISEASE RELAPSE     NaN    NaN    NaN      NaN   \n",
       "28  Recurrent Disease    DISEASE RELAPSE     NaN    NaN    NaN      NaN   \n",
       "29  Recurrent Disease    DISEASE RELAPSE     NaN    NaN    NaN      NaN   \n",
       "30  Recurrent Disease    DISEASE RELAPSE     NaN    NaN    NaN      NaN   \n",
       "31  Recurrent Disease    DISEASE RELAPSE     NaN    NaN    NaN      NaN   \n",
       "32  Recurrent Disease    DISEASE RELAPSE     NaN    NaN    NaN      NaN   \n",
       "33  Recurrent Disease    DISEASE RELAPSE     NaN    NaN    NaN      NaN   \n",
       "34  Recurrent Disease    DISEASE RELAPSE     NaN    NaN    NaN      NaN   \n",
       "35  Recurrent Disease    DISEASE RELAPSE     NaN    NaN    NaN      NaN   \n",
       "36  Recurrent Disease    DISEASE RELAPSE     NaN    NaN    NaN      NaN   \n",
       "37  Recurrent Disease    DISEASE RELAPSE     NaN    NaN    NaN      NaN   \n",
       "38  Lost to Follow-up  LOST TO FOLLOW-UP     NaN    NaN    NaN      NaN   \n",
       "39  Recurrent Disease    DISEASE RELAPSE     NaN    NaN    NaN      NaN   \n",
       "40  Recurrent Disease    DISEASE RELAPSE     NaN    NaN    NaN      NaN   \n",
       "41  Recurrent Disease    DISEASE RELAPSE     NaN    NaN    NaN      NaN   \n",
       "42  Recurrent Disease    DISEASE RELAPSE     NaN    NaN    NaN      NaN   \n",
       "43  Recurrent Disease    DISEASE RELAPSE     NaN    NaN    NaN      NaN   \n",
       "44  Recurrent Disease    DISEASE RELAPSE     NaN    NaN    NaN      NaN   \n",
       "45  Recurrent Disease    DISEASE RELAPSE     NaN    NaN    NaN      NaN   \n",
       "46  Recurrent Disease    DISEASE RELAPSE     NaN    NaN    NaN      NaN   \n",
       "47  Recurrent Disease    DISEASE RELAPSE     NaN    NaN    NaN      NaN   \n",
       "48  Recurrent Disease    DISEASE RELAPSE     NaN    NaN    NaN      NaN   \n",
       "49  Lost to Follow-up  LOST TO FOLLOW-UP     NaN    NaN    NaN      NaN   \n",
       "50  Recurrent Disease    DISEASE RELAPSE     NaN    NaN    NaN      NaN   \n",
       "51  Recurrent Disease    DISEASE RELAPSE     NaN    NaN    NaN      NaN   \n",
       "52  Recurrent Disease    DISEASE RELAPSE     NaN    NaN    NaN      NaN   \n",
       "53  Recurrent Disease    DISEASE RELAPSE     NaN    NaN    NaN      NaN   \n",
       "54  Recurrent Disease    DISEASE RELAPSE     NaN    NaN    NaN      NaN   \n",
       "55  Recurrent Disease    DISEASE RELAPSE     NaN    NaN    NaN      NaN   \n",
       "56  Recurrent Disease    DISEASE RELAPSE     NaN    NaN    NaN      NaN   \n",
       "57  Recurrent Disease    DISEASE RELAPSE     NaN    NaN    NaN      NaN   \n",
       "58  Recurrent Disease    DISEASE RELAPSE     NaN    NaN    NaN      NaN   \n",
       "59  Recurrent Disease    DISEASE RELAPSE     NaN    NaN    NaN      NaN   \n",
       "60  Recurrent Disease    DISEASE RELAPSE     NaN    NaN    NaN      NaN   \n",
       "61  Recurrent Disease    DISEASE RELAPSE     NaN    NaN    NaN      NaN   \n",
       "62  Recurrent Disease    DISEASE RELAPSE     NaN    NaN    NaN      NaN   \n",
       "63  Recurrent Disease    DISEASE RELAPSE     NaN    NaN    NaN      NaN   \n",
       "64  Lost to Follow-up  LOST TO FOLLOW-UP     NaN    NaN    NaN      NaN   \n",
       "65  Recurrent Disease    DISEASE RELAPSE     NaN    NaN    NaN      NaN   \n",
       "66  Lost to Follow-up  LOST TO FOLLOW-UP     NaN    NaN    NaN      NaN   \n",
       "67  Recurrent Disease    DISEASE RELAPSE     NaN    NaN    NaN      NaN   \n",
       "68  Recurrent Disease    DISEASE RELAPSE     NaN    NaN    NaN      NaN   \n",
       "69  Recurrent Disease    DISEASE RELAPSE     NaN    NaN    NaN      NaN   \n",
       "70  Recurrent Disease    DISEASE RELAPSE     NaN    NaN    NaN      NaN   \n",
       "71  Recurrent Disease    DISEASE RELAPSE     NaN    NaN    NaN      NaN   \n",
       "72  Recurrent Disease    DISEASE RELAPSE     NaN    NaN    NaN      NaN   \n",
       "73  Recurrent Disease    DISEASE RELAPSE     NaN    NaN    NaN      NaN   \n",
       "74  Recurrent Disease    DISEASE RELAPSE     NaN    NaN    NaN      NaN   \n",
       "75  Recurrent Disease    DISEASE RELAPSE     NaN    NaN    NaN      NaN   \n",
       "76  Recurrent Disease    DISEASE RELAPSE     NaN    NaN    NaN      NaN   \n",
       "77  Recurrent Disease    DISEASE RELAPSE     NaN    NaN    NaN      NaN   \n",
       "78  Recurrent Disease    DISEASE RELAPSE     NaN    NaN    NaN      NaN   \n",
       "79  Recurrent Disease    DISEASE RELAPSE     NaN    NaN    NaN      NaN   \n",
       "80            Current               haha     NaN    NaN    NaN      NaN   \n",
       "81  Recurrent Disease    DISEASE RELAPSE     NaN    NaN    NaN      NaN   \n",
       "82  Recurrent Disease    DISEASE RELAPSE     NaN    NaN    NaN      NaN   \n",
       "83  Recurrent Disease    DISEASE RELAPSE     NaN    NaN    NaN      NaN   \n",
       "84  Recurrent Disease    DISEASE RELAPSE     NaN    NaN    NaN      NaN   \n",
       "85  Recurrent Disease    DISEASE RELAPSE     NaN    NaN    NaN      NaN   \n",
       "86  Recurrent Disease    DISEASE RELAPSE     NaN    NaN    NaN      NaN   \n",
       "87  Lost to Follow-up  LOST TO FOLLOW-UP     NaN    NaN    NaN      NaN   \n",
       "88  Recurrent Disease    DISEASE RELAPSE     NaN    NaN    NaN      NaN   \n",
       "89  Recurrent Disease    DISEASE RELAPSE     NaN    NaN    NaN      NaN   \n",
       "90  Recurrent Disease    DISEASE RELAPSE     NaN    NaN    NaN      NaN   \n",
       "91  Recurrent Disease    DISEASE RELAPSE     NaN    NaN    NaN      NaN   \n",
       "92  Recurrent Disease    DISEASE RELAPSE     NaN    NaN    NaN      NaN   \n",
       "93  Recurrent Disease    DISEASE RELAPSE     NaN    NaN    NaN      NaN   \n",
       "\n",
       "    DSSTDY  \n",
       "1      NaN  \n",
       "2      NaN  \n",
       "3      NaN  \n",
       "4      NaN  \n",
       "5      NaN  \n",
       "6      NaN  \n",
       "7      NaN  \n",
       "8      NaN  \n",
       "9      NaN  \n",
       "10     NaN  \n",
       "11     NaN  \n",
       "12     NaN  \n",
       "13     NaN  \n",
       "14     NaN  \n",
       "15     NaN  \n",
       "16     NaN  \n",
       "17     NaN  \n",
       "18     NaN  \n",
       "19     NaN  \n",
       "20     NaN  \n",
       "21     NaN  \n",
       "22     NaN  \n",
       "23     NaN  \n",
       "24     NaN  \n",
       "25     NaN  \n",
       "26     NaN  \n",
       "27     NaN  \n",
       "28     NaN  \n",
       "29     NaN  \n",
       "30     NaN  \n",
       "31     NaN  \n",
       "32     NaN  \n",
       "33     NaN  \n",
       "34     NaN  \n",
       "35     NaN  \n",
       "36     NaN  \n",
       "37     NaN  \n",
       "38     NaN  \n",
       "39     NaN  \n",
       "40     NaN  \n",
       "41     NaN  \n",
       "42     NaN  \n",
       "43     NaN  \n",
       "44     NaN  \n",
       "45     NaN  \n",
       "46     NaN  \n",
       "47     NaN  \n",
       "48     NaN  \n",
       "49     NaN  \n",
       "50     NaN  \n",
       "51     NaN  \n",
       "52     NaN  \n",
       "53     NaN  \n",
       "54     NaN  \n",
       "55     NaN  \n",
       "56     NaN  \n",
       "57     NaN  \n",
       "58     NaN  \n",
       "59     NaN  \n",
       "60     NaN  \n",
       "61     NaN  \n",
       "62     NaN  \n",
       "63     NaN  \n",
       "64     NaN  \n",
       "65     NaN  \n",
       "66     NaN  \n",
       "67     NaN  \n",
       "68     NaN  \n",
       "69     NaN  \n",
       "70     NaN  \n",
       "71     NaN  \n",
       "72     NaN  \n",
       "73     NaN  \n",
       "74     NaN  \n",
       "75     NaN  \n",
       "76     NaN  \n",
       "77     NaN  \n",
       "78     NaN  \n",
       "79     NaN  \n",
       "80     NaN  \n",
       "81     NaN  \n",
       "82     NaN  \n",
       "83     NaN  \n",
       "84     NaN  \n",
       "85     NaN  \n",
       "86     NaN  \n",
       "87     NaN  \n",
       "88     NaN  \n",
       "89     NaN  \n",
       "90     NaN  \n",
       "91     NaN  \n",
       "92     NaN  \n",
       "93     NaN  "
      ]
     },
     "execution_count": 3,
     "metadata": {},
     "output_type": "execute_result"
    }
   ],
   "source": [
    "dataset = pd.read_csv(r'C:\\Users\\ClinAsia1\\VisualStudio\\PoC Anomaly  and Missing Value analysis (MaxisIT)\\oulier dataset\\Breast Cancer\\ds.csv')\n",
    "dataset"
   ]
  },
  {
   "cell_type": "code",
   "execution_count": 4,
   "metadata": {},
   "outputs": [
    {
     "data": {
      "text/plain": [
       "(93, 14)"
      ]
     },
     "execution_count": 4,
     "metadata": {},
     "output_type": "execute_result"
    }
   ],
   "source": [
    "dataset.shape"
   ]
  },
  {
   "cell_type": "code",
   "execution_count": 5,
   "metadata": {},
   "outputs": [
    {
     "name": "stdout",
     "output_type": "stream",
     "text": [
      "Data for Modeling: (88, 14)\n",
      "Unseen Data For Predictions: (5, 14)\n"
     ]
    }
   ],
   "source": [
    "data = dataset.sample(frac=0.95, random_state=786)\n",
    "data_unseen = dataset.drop(data.index).reset_index(drop=True)\n",
    "data.reset_index(drop=True, inplace=True)\n",
    "\n",
    "print('Data for Modeling: ' + str(data.shape))\n",
    "print('Unseen Data For Predictions: ' + str(data_unseen.shape))"
   ]
  },
  {
   "cell_type": "code",
   "execution_count": 6,
   "metadata": {},
   "outputs": [
    {
     "name": "stdout",
     "output_type": "stream",
     "text": [
      "Setup Succesfully Completed!\n"
     ]
    },
    {
     "data": {
      "text/html": [
       "<style  type=\"text/css\" >\n",
       "#T_9ca83636_e60b_11ea_8fc2_7cb27d7d8dadrow2_col1,#T_9ca83636_e60b_11ea_8fc2_7cb27d7d8dadrow10_col1,#T_9ca83636_e60b_11ea_8fc2_7cb27d7d8dadrow12_col1{\n",
       "            background-color:  lightgreen;\n",
       "        }</style><table id=\"T_9ca83636_e60b_11ea_8fc2_7cb27d7d8dad\" ><thead>    <tr>        <th class=\"blank level0\" ></th>        <th class=\"col_heading level0 col0\" >Description</th>        <th class=\"col_heading level0 col1\" >Value</th>    </tr></thead><tbody>\n",
       "                <tr>\n",
       "                        <th id=\"T_9ca83636_e60b_11ea_8fc2_7cb27d7d8dadlevel0_row0\" class=\"row_heading level0 row0\" >0</th>\n",
       "                        <td id=\"T_9ca83636_e60b_11ea_8fc2_7cb27d7d8dadrow0_col0\" class=\"data row0 col0\" >session_id </td>\n",
       "                        <td id=\"T_9ca83636_e60b_11ea_8fc2_7cb27d7d8dadrow0_col1\" class=\"data row0 col1\" >3696</td>\n",
       "            </tr>\n",
       "            <tr>\n",
       "                        <th id=\"T_9ca83636_e60b_11ea_8fc2_7cb27d7d8dadlevel0_row1\" class=\"row_heading level0 row1\" >1</th>\n",
       "                        <td id=\"T_9ca83636_e60b_11ea_8fc2_7cb27d7d8dadrow1_col0\" class=\"data row1 col0\" >Original Data </td>\n",
       "                        <td id=\"T_9ca83636_e60b_11ea_8fc2_7cb27d7d8dadrow1_col1\" class=\"data row1 col1\" >(93, 14)</td>\n",
       "            </tr>\n",
       "            <tr>\n",
       "                        <th id=\"T_9ca83636_e60b_11ea_8fc2_7cb27d7d8dadlevel0_row2\" class=\"row_heading level0 row2\" >2</th>\n",
       "                        <td id=\"T_9ca83636_e60b_11ea_8fc2_7cb27d7d8dadrow2_col0\" class=\"data row2 col0\" >Missing Values </td>\n",
       "                        <td id=\"T_9ca83636_e60b_11ea_8fc2_7cb27d7d8dadrow2_col1\" class=\"data row2 col1\" >True</td>\n",
       "            </tr>\n",
       "            <tr>\n",
       "                        <th id=\"T_9ca83636_e60b_11ea_8fc2_7cb27d7d8dadlevel0_row3\" class=\"row_heading level0 row3\" >3</th>\n",
       "                        <td id=\"T_9ca83636_e60b_11ea_8fc2_7cb27d7d8dadrow3_col0\" class=\"data row3 col0\" >Numeric Features </td>\n",
       "                        <td id=\"T_9ca83636_e60b_11ea_8fc2_7cb27d7d8dadrow3_col1\" class=\"data row3 col1\" >1</td>\n",
       "            </tr>\n",
       "            <tr>\n",
       "                        <th id=\"T_9ca83636_e60b_11ea_8fc2_7cb27d7d8dadlevel0_row4\" class=\"row_heading level0 row4\" >4</th>\n",
       "                        <td id=\"T_9ca83636_e60b_11ea_8fc2_7cb27d7d8dadrow4_col0\" class=\"data row4 col0\" >Categorical Features </td>\n",
       "                        <td id=\"T_9ca83636_e60b_11ea_8fc2_7cb27d7d8dadrow4_col1\" class=\"data row4 col1\" >13</td>\n",
       "            </tr>\n",
       "            <tr>\n",
       "                        <th id=\"T_9ca83636_e60b_11ea_8fc2_7cb27d7d8dadlevel0_row5\" class=\"row_heading level0 row5\" >5</th>\n",
       "                        <td id=\"T_9ca83636_e60b_11ea_8fc2_7cb27d7d8dadrow5_col0\" class=\"data row5 col0\" >Ordinal Features </td>\n",
       "                        <td id=\"T_9ca83636_e60b_11ea_8fc2_7cb27d7d8dadrow5_col1\" class=\"data row5 col1\" >False</td>\n",
       "            </tr>\n",
       "            <tr>\n",
       "                        <th id=\"T_9ca83636_e60b_11ea_8fc2_7cb27d7d8dadlevel0_row6\" class=\"row_heading level0 row6\" >6</th>\n",
       "                        <td id=\"T_9ca83636_e60b_11ea_8fc2_7cb27d7d8dadrow6_col0\" class=\"data row6 col0\" >High Cardinality Features </td>\n",
       "                        <td id=\"T_9ca83636_e60b_11ea_8fc2_7cb27d7d8dadrow6_col1\" class=\"data row6 col1\" >False</td>\n",
       "            </tr>\n",
       "            <tr>\n",
       "                        <th id=\"T_9ca83636_e60b_11ea_8fc2_7cb27d7d8dadlevel0_row7\" class=\"row_heading level0 row7\" >7</th>\n",
       "                        <td id=\"T_9ca83636_e60b_11ea_8fc2_7cb27d7d8dadrow7_col0\" class=\"data row7 col0\" >Transformed Data </td>\n",
       "                        <td id=\"T_9ca83636_e60b_11ea_8fc2_7cb27d7d8dadrow7_col1\" class=\"data row7 col1\" >(93, 7)</td>\n",
       "            </tr>\n",
       "            <tr>\n",
       "                        <th id=\"T_9ca83636_e60b_11ea_8fc2_7cb27d7d8dadlevel0_row8\" class=\"row_heading level0 row8\" >8</th>\n",
       "                        <td id=\"T_9ca83636_e60b_11ea_8fc2_7cb27d7d8dadrow8_col0\" class=\"data row8 col0\" >Numeric Imputer </td>\n",
       "                        <td id=\"T_9ca83636_e60b_11ea_8fc2_7cb27d7d8dadrow8_col1\" class=\"data row8 col1\" >median</td>\n",
       "            </tr>\n",
       "            <tr>\n",
       "                        <th id=\"T_9ca83636_e60b_11ea_8fc2_7cb27d7d8dadlevel0_row9\" class=\"row_heading level0 row9\" >9</th>\n",
       "                        <td id=\"T_9ca83636_e60b_11ea_8fc2_7cb27d7d8dadrow9_col0\" class=\"data row9 col0\" >Categorical Imputer </td>\n",
       "                        <td id=\"T_9ca83636_e60b_11ea_8fc2_7cb27d7d8dadrow9_col1\" class=\"data row9 col1\" >constant</td>\n",
       "            </tr>\n",
       "            <tr>\n",
       "                        <th id=\"T_9ca83636_e60b_11ea_8fc2_7cb27d7d8dadlevel0_row10\" class=\"row_heading level0 row10\" >10</th>\n",
       "                        <td id=\"T_9ca83636_e60b_11ea_8fc2_7cb27d7d8dadrow10_col0\" class=\"data row10 col0\" >Normalize </td>\n",
       "                        <td id=\"T_9ca83636_e60b_11ea_8fc2_7cb27d7d8dadrow10_col1\" class=\"data row10 col1\" >True</td>\n",
       "            </tr>\n",
       "            <tr>\n",
       "                        <th id=\"T_9ca83636_e60b_11ea_8fc2_7cb27d7d8dadlevel0_row11\" class=\"row_heading level0 row11\" >11</th>\n",
       "                        <td id=\"T_9ca83636_e60b_11ea_8fc2_7cb27d7d8dadrow11_col0\" class=\"data row11 col0\" >Normalize Method </td>\n",
       "                        <td id=\"T_9ca83636_e60b_11ea_8fc2_7cb27d7d8dadrow11_col1\" class=\"data row11 col1\" >zscore</td>\n",
       "            </tr>\n",
       "            <tr>\n",
       "                        <th id=\"T_9ca83636_e60b_11ea_8fc2_7cb27d7d8dadlevel0_row12\" class=\"row_heading level0 row12\" >12</th>\n",
       "                        <td id=\"T_9ca83636_e60b_11ea_8fc2_7cb27d7d8dadrow12_col0\" class=\"data row12 col0\" >Transformation </td>\n",
       "                        <td id=\"T_9ca83636_e60b_11ea_8fc2_7cb27d7d8dadrow12_col1\" class=\"data row12 col1\" >True</td>\n",
       "            </tr>\n",
       "            <tr>\n",
       "                        <th id=\"T_9ca83636_e60b_11ea_8fc2_7cb27d7d8dadlevel0_row13\" class=\"row_heading level0 row13\" >13</th>\n",
       "                        <td id=\"T_9ca83636_e60b_11ea_8fc2_7cb27d7d8dadrow13_col0\" class=\"data row13 col0\" >Transformation Method </td>\n",
       "                        <td id=\"T_9ca83636_e60b_11ea_8fc2_7cb27d7d8dadrow13_col1\" class=\"data row13 col1\" >quantile</td>\n",
       "            </tr>\n",
       "            <tr>\n",
       "                        <th id=\"T_9ca83636_e60b_11ea_8fc2_7cb27d7d8dadlevel0_row14\" class=\"row_heading level0 row14\" >14</th>\n",
       "                        <td id=\"T_9ca83636_e60b_11ea_8fc2_7cb27d7d8dadrow14_col0\" class=\"data row14 col0\" >PCA </td>\n",
       "                        <td id=\"T_9ca83636_e60b_11ea_8fc2_7cb27d7d8dadrow14_col1\" class=\"data row14 col1\" >False</td>\n",
       "            </tr>\n",
       "            <tr>\n",
       "                        <th id=\"T_9ca83636_e60b_11ea_8fc2_7cb27d7d8dadlevel0_row15\" class=\"row_heading level0 row15\" >15</th>\n",
       "                        <td id=\"T_9ca83636_e60b_11ea_8fc2_7cb27d7d8dadrow15_col0\" class=\"data row15 col0\" >PCA Method </td>\n",
       "                        <td id=\"T_9ca83636_e60b_11ea_8fc2_7cb27d7d8dadrow15_col1\" class=\"data row15 col1\" >None</td>\n",
       "            </tr>\n",
       "            <tr>\n",
       "                        <th id=\"T_9ca83636_e60b_11ea_8fc2_7cb27d7d8dadlevel0_row16\" class=\"row_heading level0 row16\" >16</th>\n",
       "                        <td id=\"T_9ca83636_e60b_11ea_8fc2_7cb27d7d8dadrow16_col0\" class=\"data row16 col0\" >PCA components </td>\n",
       "                        <td id=\"T_9ca83636_e60b_11ea_8fc2_7cb27d7d8dadrow16_col1\" class=\"data row16 col1\" >None</td>\n",
       "            </tr>\n",
       "            <tr>\n",
       "                        <th id=\"T_9ca83636_e60b_11ea_8fc2_7cb27d7d8dadlevel0_row17\" class=\"row_heading level0 row17\" >17</th>\n",
       "                        <td id=\"T_9ca83636_e60b_11ea_8fc2_7cb27d7d8dadrow17_col0\" class=\"data row17 col0\" >Ignore Low Variance </td>\n",
       "                        <td id=\"T_9ca83636_e60b_11ea_8fc2_7cb27d7d8dadrow17_col1\" class=\"data row17 col1\" >False</td>\n",
       "            </tr>\n",
       "            <tr>\n",
       "                        <th id=\"T_9ca83636_e60b_11ea_8fc2_7cb27d7d8dadlevel0_row18\" class=\"row_heading level0 row18\" >18</th>\n",
       "                        <td id=\"T_9ca83636_e60b_11ea_8fc2_7cb27d7d8dadrow18_col0\" class=\"data row18 col0\" >Combine Rare Levels </td>\n",
       "                        <td id=\"T_9ca83636_e60b_11ea_8fc2_7cb27d7d8dadrow18_col1\" class=\"data row18 col1\" >False</td>\n",
       "            </tr>\n",
       "            <tr>\n",
       "                        <th id=\"T_9ca83636_e60b_11ea_8fc2_7cb27d7d8dadlevel0_row19\" class=\"row_heading level0 row19\" >19</th>\n",
       "                        <td id=\"T_9ca83636_e60b_11ea_8fc2_7cb27d7d8dadrow19_col0\" class=\"data row19 col0\" >Rare Level Threshold </td>\n",
       "                        <td id=\"T_9ca83636_e60b_11ea_8fc2_7cb27d7d8dadrow19_col1\" class=\"data row19 col1\" >None</td>\n",
       "            </tr>\n",
       "            <tr>\n",
       "                        <th id=\"T_9ca83636_e60b_11ea_8fc2_7cb27d7d8dadlevel0_row20\" class=\"row_heading level0 row20\" >20</th>\n",
       "                        <td id=\"T_9ca83636_e60b_11ea_8fc2_7cb27d7d8dadrow20_col0\" class=\"data row20 col0\" >Numeric Binning </td>\n",
       "                        <td id=\"T_9ca83636_e60b_11ea_8fc2_7cb27d7d8dadrow20_col1\" class=\"data row20 col1\" >False</td>\n",
       "            </tr>\n",
       "            <tr>\n",
       "                        <th id=\"T_9ca83636_e60b_11ea_8fc2_7cb27d7d8dadlevel0_row21\" class=\"row_heading level0 row21\" >21</th>\n",
       "                        <td id=\"T_9ca83636_e60b_11ea_8fc2_7cb27d7d8dadrow21_col0\" class=\"data row21 col0\" >Remove Multicollinearity </td>\n",
       "                        <td id=\"T_9ca83636_e60b_11ea_8fc2_7cb27d7d8dadrow21_col1\" class=\"data row21 col1\" >False</td>\n",
       "            </tr>\n",
       "            <tr>\n",
       "                        <th id=\"T_9ca83636_e60b_11ea_8fc2_7cb27d7d8dadlevel0_row22\" class=\"row_heading level0 row22\" >22</th>\n",
       "                        <td id=\"T_9ca83636_e60b_11ea_8fc2_7cb27d7d8dadrow22_col0\" class=\"data row22 col0\" >Multicollinearity Threshold </td>\n",
       "                        <td id=\"T_9ca83636_e60b_11ea_8fc2_7cb27d7d8dadrow22_col1\" class=\"data row22 col1\" >None</td>\n",
       "            </tr>\n",
       "            <tr>\n",
       "                        <th id=\"T_9ca83636_e60b_11ea_8fc2_7cb27d7d8dadlevel0_row23\" class=\"row_heading level0 row23\" >23</th>\n",
       "                        <td id=\"T_9ca83636_e60b_11ea_8fc2_7cb27d7d8dadrow23_col0\" class=\"data row23 col0\" >Group Features </td>\n",
       "                        <td id=\"T_9ca83636_e60b_11ea_8fc2_7cb27d7d8dadrow23_col1\" class=\"data row23 col1\" >False</td>\n",
       "            </tr>\n",
       "    </tbody></table>"
      ],
      "text/plain": [
       "<pandas.io.formats.style.Styler at 0x2904d39d488>"
      ]
     },
     "metadata": {},
     "output_type": "display_data"
    }
   ],
   "source": [
    "anomaly_setup = setup(dataset, normalize=True, transformation=True,transformation_method='quantile',numeric_imputation='median', ignore_features = ['STUDYID','USUBJID','DSSEQ'])"
   ]
  },
  {
   "cell_type": "code",
   "execution_count": 7,
   "metadata": {},
   "outputs": [],
   "source": [
    "svm = create_model('svm')"
   ]
  },
  {
   "cell_type": "code",
   "execution_count": 8,
   "metadata": {},
   "outputs": [
    {
     "name": "stdout",
     "output_type": "stream",
     "text": [
      "OCSVM(cache_size=200, coef0=0.0, contamination=0.05, degree=3, gamma='auto',\n",
      "   kernel='rbf', max_iter=-1, nu=0.5, shrinking=True, tol=0.001,\n",
      "   verbose=False)\n"
     ]
    }
   ],
   "source": [
    "print(svm)"
   ]
  },
  {
   "cell_type": "code",
   "execution_count": 9,
   "metadata": {},
   "outputs": [
    {
     "data": {
      "text/html": [
       "<div>\n",
       "<style scoped>\n",
       "    .dataframe tbody tr th:only-of-type {\n",
       "        vertical-align: middle;\n",
       "    }\n",
       "\n",
       "    .dataframe tbody tr th {\n",
       "        vertical-align: top;\n",
       "    }\n",
       "\n",
       "    .dataframe thead th {\n",
       "        text-align: right;\n",
       "    }\n",
       "</style>\n",
       "<table border=\"1\" class=\"dataframe\">\n",
       "  <thead>\n",
       "    <tr style=\"text-align: right;\">\n",
       "      <th></th>\n",
       "      <th>STUDYID</th>\n",
       "      <th>DOMAIN</th>\n",
       "      <th>USUBJID</th>\n",
       "      <th>DSSEQ</th>\n",
       "      <th>DSGRPID</th>\n",
       "      <th>DSREFID</th>\n",
       "      <th>DSSPID</th>\n",
       "      <th>DSTERM</th>\n",
       "      <th>DSDECOD</th>\n",
       "      <th>DSSCAT</th>\n",
       "      <th>EPOCH</th>\n",
       "      <th>DSDTC</th>\n",
       "      <th>DSSTDTC</th>\n",
       "      <th>DSSTDY</th>\n",
       "      <th>Label</th>\n",
       "      <th>Score</th>\n",
       "    </tr>\n",
       "  </thead>\n",
       "  <tbody>\n",
       "    <tr>\n",
       "      <th>1</th>\n",
       "      <td>Breast-MRI-NACT-Pilot</td>\n",
       "      <td>DS</td>\n",
       "      <td>UCSF-BR-02</td>\n",
       "      <td>274</td>\n",
       "      <td>NaN</td>\n",
       "      <td>NaN</td>\n",
       "      <td>NaN</td>\n",
       "      <td>Recurrent Disease</td>\n",
       "      <td>DISEASE RELAPSE</td>\n",
       "      <td>NaN</td>\n",
       "      <td>NaN</td>\n",
       "      <td>NaN</td>\n",
       "      <td>NaN</td>\n",
       "      <td>NaN</td>\n",
       "      <td>0</td>\n",
       "      <td>3.145746e-08</td>\n",
       "    </tr>\n",
       "    <tr>\n",
       "      <th>2</th>\n",
       "      <td>Breast-MRI-NACT-Pilot</td>\n",
       "      <td>DS</td>\n",
       "      <td>UCSF-BR-04</td>\n",
       "      <td>276</td>\n",
       "      <td>NaN</td>\n",
       "      <td>NaN</td>\n",
       "      <td>NaN</td>\n",
       "      <td>Recurrent Disease</td>\n",
       "      <td>DISEASE RELAPSE</td>\n",
       "      <td>NaN</td>\n",
       "      <td>NaN</td>\n",
       "      <td>NaN</td>\n",
       "      <td>NaN</td>\n",
       "      <td>NaN</td>\n",
       "      <td>0</td>\n",
       "      <td>3.145746e-08</td>\n",
       "    </tr>\n",
       "    <tr>\n",
       "      <th>3</th>\n",
       "      <td>Breast-MRI-NACT-Pilot</td>\n",
       "      <td>DS</td>\n",
       "      <td>UCSF-BR-09</td>\n",
       "      <td>280</td>\n",
       "      <td>NaN</td>\n",
       "      <td>NaN</td>\n",
       "      <td>NaN</td>\n",
       "      <td>Recurrent Disease</td>\n",
       "      <td>DISEASE RELAPSE</td>\n",
       "      <td>NaN</td>\n",
       "      <td>NaN</td>\n",
       "      <td>NaN</td>\n",
       "      <td>NaN</td>\n",
       "      <td>NaN</td>\n",
       "      <td>0</td>\n",
       "      <td>3.145746e-08</td>\n",
       "    </tr>\n",
       "    <tr>\n",
       "      <th>4</th>\n",
       "      <td>Breast-MRI-NACT-Pilot</td>\n",
       "      <td>DS</td>\n",
       "      <td>UCSF-BR-12</td>\n",
       "      <td>282</td>\n",
       "      <td>NaN</td>\n",
       "      <td>NaN</td>\n",
       "      <td>NaN</td>\n",
       "      <td>Recurrent Disease</td>\n",
       "      <td>DISEASE RELAPSE</td>\n",
       "      <td>NaN</td>\n",
       "      <td>NaN</td>\n",
       "      <td>NaN</td>\n",
       "      <td>NaN</td>\n",
       "      <td>NaN</td>\n",
       "      <td>0</td>\n",
       "      <td>3.145746e-08</td>\n",
       "    </tr>\n",
       "    <tr>\n",
       "      <th>5</th>\n",
       "      <td>Breast-MRI-NACT-Pilot</td>\n",
       "      <td>DS</td>\n",
       "      <td>UCSF-BR-13</td>\n",
       "      <td>283</td>\n",
       "      <td>NaN</td>\n",
       "      <td>NaN</td>\n",
       "      <td>NaN</td>\n",
       "      <td>Recurrent Disease</td>\n",
       "      <td>DISEASE RELAPSE</td>\n",
       "      <td>NaN</td>\n",
       "      <td>NaN</td>\n",
       "      <td>NaN</td>\n",
       "      <td>NaN</td>\n",
       "      <td>NaN</td>\n",
       "      <td>0</td>\n",
       "      <td>3.145746e-08</td>\n",
       "    </tr>\n",
       "  </tbody>\n",
       "</table>\n",
       "</div>"
      ],
      "text/plain": [
       "                 STUDYID DOMAIN     USUBJID  DSSEQ  DSGRPID  DSREFID  DSSPID  \\\n",
       "1  Breast-MRI-NACT-Pilot     DS  UCSF-BR-02    274      NaN      NaN     NaN   \n",
       "2  Breast-MRI-NACT-Pilot     DS  UCSF-BR-04    276      NaN      NaN     NaN   \n",
       "3  Breast-MRI-NACT-Pilot     DS  UCSF-BR-09    280      NaN      NaN     NaN   \n",
       "4  Breast-MRI-NACT-Pilot     DS  UCSF-BR-12    282      NaN      NaN     NaN   \n",
       "5  Breast-MRI-NACT-Pilot     DS  UCSF-BR-13    283      NaN      NaN     NaN   \n",
       "\n",
       "              DSTERM          DSDECOD  DSSCAT  EPOCH  DSDTC  DSSTDTC  DSSTDY  \\\n",
       "1  Recurrent Disease  DISEASE RELAPSE     NaN    NaN    NaN      NaN     NaN   \n",
       "2  Recurrent Disease  DISEASE RELAPSE     NaN    NaN    NaN      NaN     NaN   \n",
       "3  Recurrent Disease  DISEASE RELAPSE     NaN    NaN    NaN      NaN     NaN   \n",
       "4  Recurrent Disease  DISEASE RELAPSE     NaN    NaN    NaN      NaN     NaN   \n",
       "5  Recurrent Disease  DISEASE RELAPSE     NaN    NaN    NaN      NaN     NaN   \n",
       "\n",
       "   Label         Score  \n",
       "1      0  3.145746e-08  \n",
       "2      0  3.145746e-08  \n",
       "3      0  3.145746e-08  \n",
       "4      0  3.145746e-08  \n",
       "5      0  3.145746e-08  "
      ]
     },
     "execution_count": 9,
     "metadata": {},
     "output_type": "execute_result"
    }
   ],
   "source": [
    "svm_results = assign_model(svm)\n",
    "svm_results.head()"
   ]
  },
  {
   "cell_type": "code",
   "execution_count": 10,
   "metadata": {},
   "outputs": [],
   "source": [
    "pd.set_option('display.max_columns', None)"
   ]
  },
  {
   "cell_type": "code",
   "execution_count": 11,
   "metadata": {},
   "outputs": [],
   "source": [
    "label_1 = svm_results['Label'] == 1"
   ]
  },
  {
   "cell_type": "code",
   "execution_count": 12,
   "metadata": {},
   "outputs": [
    {
     "data": {
      "text/html": [
       "<div>\n",
       "<style scoped>\n",
       "    .dataframe tbody tr th:only-of-type {\n",
       "        vertical-align: middle;\n",
       "    }\n",
       "\n",
       "    .dataframe tbody tr th {\n",
       "        vertical-align: top;\n",
       "    }\n",
       "\n",
       "    .dataframe thead th {\n",
       "        text-align: right;\n",
       "    }\n",
       "</style>\n",
       "<table border=\"1\" class=\"dataframe\">\n",
       "  <thead>\n",
       "    <tr style=\"text-align: right;\">\n",
       "      <th></th>\n",
       "      <th>STUDYID</th>\n",
       "      <th>DOMAIN</th>\n",
       "      <th>USUBJID</th>\n",
       "      <th>DSSEQ</th>\n",
       "      <th>DSGRPID</th>\n",
       "      <th>DSREFID</th>\n",
       "      <th>DSSPID</th>\n",
       "      <th>DSTERM</th>\n",
       "      <th>DSDECOD</th>\n",
       "      <th>DSSCAT</th>\n",
       "      <th>EPOCH</th>\n",
       "      <th>DSDTC</th>\n",
       "      <th>DSSTDTC</th>\n",
       "      <th>DSSTDY</th>\n",
       "      <th>Label</th>\n",
       "      <th>Score</th>\n",
       "    </tr>\n",
       "  </thead>\n",
       "  <tbody>\n",
       "    <tr>\n",
       "      <th>80</th>\n",
       "      <td>I-Spy1</td>\n",
       "      <td>DS</td>\n",
       "      <td>ISPY1_1169</td>\n",
       "      <td>155</td>\n",
       "      <td>NaN</td>\n",
       "      <td>NaN</td>\n",
       "      <td>NaN</td>\n",
       "      <td>Current</td>\n",
       "      <td>haha</td>\n",
       "      <td>NaN</td>\n",
       "      <td>NaN</td>\n",
       "      <td>NaN</td>\n",
       "      <td>NaN</td>\n",
       "      <td>NaN</td>\n",
       "      <td>1</td>\n",
       "      <td>17.193634</td>\n",
       "    </tr>\n",
       "  </tbody>\n",
       "</table>\n",
       "</div>"
      ],
      "text/plain": [
       "   STUDYID DOMAIN     USUBJID  DSSEQ  DSGRPID  DSREFID  DSSPID   DSTERM  \\\n",
       "80  I-Spy1     DS  ISPY1_1169    155      NaN      NaN     NaN  Current   \n",
       "\n",
       "   DSDECOD  DSSCAT  EPOCH  DSDTC  DSSTDTC  DSSTDY  Label      Score  \n",
       "80    haha     NaN    NaN    NaN      NaN     NaN      1  17.193634  "
      ]
     },
     "execution_count": 12,
     "metadata": {},
     "output_type": "execute_result"
    }
   ],
   "source": [
    "svm_results[label_1]"
   ]
  },
  {
   "cell_type": "code",
   "execution_count": 13,
   "metadata": {
    "scrolled": true
   },
   "outputs": [
    {
     "data": {
      "text/html": [
       "        <script type=\"text/javascript\">\n",
       "        window.PlotlyConfig = {MathJaxConfig: 'local'};\n",
       "        if (window.MathJax) {MathJax.Hub.Config({SVG: {font: \"STIX-Web\"}});}\n",
       "        if (typeof require !== 'undefined') {\n",
       "        require.undef(\"plotly\");\n",
       "        requirejs.config({\n",
       "            paths: {\n",
       "                'plotly': ['https://cdn.plot.ly/plotly-latest.min']\n",
       "            }\n",
       "        });\n",
       "        require(['plotly'], function(Plotly) {\n",
       "            window._Plotly = Plotly;\n",
       "        });\n",
       "        }\n",
       "        </script>\n",
       "        "
      ]
     },
     "metadata": {},
     "output_type": "display_data"
    },
    {
     "data": {
      "application/vnd.plotly.v1+json": {
       "config": {
        "plotlyServerURL": "https://plot.ly"
       },
       "data": [
        {
         "customdata": [
          [
           null
          ],
          [
           "Breast-MRI-NACT-Pilot"
          ],
          [
           "Breast-MRI-NACT-Pilot"
          ],
          [
           "Breast-MRI-NACT-Pilot"
          ],
          [
           "Breast-MRI-NACT-Pilot"
          ],
          [
           "Breast-MRI-NACT-Pilot"
          ],
          [
           "Breast-MRI-NACT-Pilot"
          ],
          [
           "Breast-MRI-NACT-Pilot"
          ],
          [
           "Breast-MRI-NACT-Pilot"
          ],
          [
           "Breast-MRI-NACT-Pilot"
          ],
          [
           "Breast-MRI-NACT-Pilot"
          ],
          [
           "Breast-MRI-NACT-Pilot"
          ],
          [
           "Breast-MRI-NACT-Pilot"
          ],
          [
           "Breast-MRI-NACT-Pilot"
          ],
          [
           "Breast-MRI-NACT-Pilot"
          ],
          [
           "Breast-MRI-NACT-Pilot"
          ],
          [
           "Breast-MRI-NACT-Pilot"
          ],
          [
           "Breast-MRI-NACT-Pilot"
          ],
          [
           "Breast-MRI-NACT-Pilot"
          ],
          [
           "Breast-MRI-NACT-Pilot"
          ],
          [
           "Breast-MRI-NACT-Pilot"
          ],
          [
           "Breast-MRI-NACT-Pilot"
          ],
          [
           "Breast-MRI-NACT-Pilot"
          ],
          [
           "Breast-MRI-NACT-Pilot"
          ],
          [
           "Breast-MRI-NACT-Pilot"
          ],
          [
           "Breast-MRI-NACT-Pilot"
          ],
          [
           "I-Spy1"
          ],
          [
           "I-Spy1"
          ],
          [
           "I-Spy1"
          ],
          [
           "I-Spy1"
          ],
          [
           "I-Spy1"
          ],
          [
           "I-Spy1"
          ],
          [
           "I-Spy1"
          ],
          [
           "I-Spy1"
          ],
          [
           "I-Spy1"
          ],
          [
           "I-Spy1"
          ],
          [
           "I-Spy1"
          ],
          [
           "I-Spy1"
          ],
          [
           "I-Spy1"
          ],
          [
           "I-Spy1"
          ],
          [
           "I-Spy1"
          ],
          [
           "I-Spy1"
          ],
          [
           "I-Spy1"
          ],
          [
           "I-Spy1"
          ],
          [
           "I-Spy1"
          ],
          [
           "I-Spy1"
          ],
          [
           "I-Spy1"
          ],
          [
           "I-Spy1"
          ],
          [
           "I-Spy1"
          ],
          [
           "I-Spy1"
          ],
          [
           "I-Spy1"
          ],
          [
           "I-Spy1"
          ],
          [
           "I-Spy1"
          ],
          [
           "I-Spy1"
          ],
          [
           "I-Spy1"
          ],
          [
           "I-Spy1"
          ],
          [
           "I-Spy1"
          ],
          [
           "I-Spy1"
          ],
          [
           "I-Spy1"
          ],
          [
           "I-Spy1"
          ],
          [
           "I-Spy1"
          ],
          [
           "I-Spy1"
          ],
          [
           "I-Spy1"
          ],
          [
           "I-Spy1"
          ],
          [
           "I-Spy1"
          ],
          [
           "I-Spy1"
          ],
          [
           "I-Spy1"
          ],
          [
           "I-Spy1"
          ],
          [
           "I-Spy1"
          ],
          [
           "I-Spy1"
          ],
          [
           "I-Spy1"
          ],
          [
           "I-Spy1"
          ],
          [
           "I-Spy1"
          ],
          [
           "I-Spy1"
          ],
          [
           "I-Spy1"
          ],
          [
           "I-Spy1"
          ],
          [
           "I-Spy1"
          ],
          [
           "I-Spy1"
          ],
          [
           "I-Spy1"
          ],
          [
           "I-Spy1"
          ],
          [
           "I-Spy1"
          ],
          [
           "I-Spy1"
          ],
          [
           "I-Spy1"
          ],
          [
           "I-Spy1"
          ],
          [
           "I-Spy1"
          ],
          [
           "I-Spy1"
          ],
          [
           "I-Spy1"
          ],
          [
           "I-Spy1"
          ],
          [
           "I-Spy1"
          ],
          [
           "I-Spy1"
          ],
          [
           "I-Spy1"
          ],
          [
           "I-Spy1"
          ],
          [
           "I-Spy1"
          ]
         ],
         "hovertemplate": "0=%{x}<br>1=%{y}<br>2=%{z}<br>Feature=%{customdata[0]}<br>Label=%{marker.color}<extra></extra>",
         "legendgroup": "",
         "marker": {
          "color": [
           null,
           0,
           0,
           0,
           0,
           0,
           0,
           0,
           0,
           0,
           0,
           0,
           0,
           0,
           0,
           0,
           0,
           0,
           0,
           0,
           0,
           0,
           0,
           0,
           0,
           0,
           0,
           0,
           0,
           0,
           0,
           0,
           0,
           0,
           0,
           0,
           0,
           0,
           0,
           0,
           0,
           0,
           0,
           0,
           0,
           0,
           0,
           0,
           0,
           0,
           0,
           0,
           0,
           0,
           0,
           0,
           0,
           0,
           0,
           0,
           0,
           0,
           0,
           0,
           0,
           0,
           0,
           0,
           0,
           0,
           0,
           0,
           0,
           0,
           0,
           0,
           0,
           0,
           0,
           0,
           1,
           0,
           0,
           0,
           0,
           0,
           0,
           0,
           0,
           0,
           0,
           0,
           0
          ],
          "coloraxis": "coloraxis",
          "opacity": 0.7,
          "symbol": "circle"
         },
         "mode": "markers",
         "name": "",
         "scene": "scene",
         "showlegend": false,
         "type": "scatter3d",
         "x": [
          -16.806760787963867,
          -16.649707794189453,
          -99.69563293457031,
          109.47164154052734,
          95.82836151123047,
          -74.33570098876953,
          -90.40779876708984,
          -158.80624389648438,
          84.69775390625,
          135.63938903808594,
          -4.664176940917969,
          -93.58231353759766,
          114.14115905761719,
          -16.66187858581543,
          -78.616943359375,
          57.152862548828125,
          -49.57198715209961,
          -58.30709457397461,
          42.5003547668457,
          8.756063461303711,
          12.868328094482422,
          40.709835052490234,
          -79.89419555664062,
          -34.80217361450195,
          -32.05166244506836,
          -57.85996627807617,
          143.28677368164062,
          -55.815677642822266,
          83.47935485839844,
          -64.97976684570312,
          117.28984069824219,
          188.38047790527344,
          111.68663787841797,
          58.8427619934082,
          136.03773498535156,
          7.675491809844971,
          -38.21139907836914,
          5.334709167480469,
          66.63982391357422,
          -8.532063484191895,
          77.45026397705078,
          -163.9029083251953,
          -172.494384765625,
          -90.40516662597656,
          -24.99859046936035,
          -16.659090042114258,
          -114.72953796386719,
          -100.4085464477539,
          -2.3939218521118164,
          -100.22357940673828,
          33.42665100097656,
          -126.64639282226562,
          78.13553619384766,
          153.64244079589844,
          26.197643280029297,
          191.23922729492188,
          41.1963005065918,
          136.50218200683594,
          -95.98440551757812,
          114.74954223632812,
          60.566078186035156,
          -161.17892456054688,
          61.99421310424805,
          -162.1496124267578,
          61.35332489013672,
          -221.40162658691406,
          45.974891662597656,
          -30.906198501586914,
          174.54840087890625,
          51.7087287902832,
          -51.34130096435547,
          38.286376953125,
          -97.84445190429688,
          -83.46666717529297,
          -161.55242919921875,
          32.386348724365234,
          -82.89370727539062,
          35.306480407714844,
          -116.79261016845703,
          170.74691772460938,
          -174.3046417236328,
          -5.714570999145508,
          -138.63626098632812,
          -15.545848846435547,
          -0.7729272246360779,
          -43.86049270629883,
          56.78117370605469,
          -11.354825973510742,
          166.45123291015625,
          -30.032882690429688,
          90.37386322021484,
          118.80723571777344,
          85.43693542480469
         ],
         "y": [
          126.49014282226562,
          -143.52403259277344,
          8.775144577026367,
          84.47982788085938,
          55.22586441040039,
          -15.544112205505371,
          -134.0577392578125,
          -44.46015167236328,
          -86.28714752197266,
          125.59770202636719,
          104.75074005126953,
          153.25584411621094,
          132.08767700195312,
          108.90716552734375,
          21.968339920043945,
          169.4897918701172,
          -113.01358032226562,
          -65.5920639038086,
          84.2084732055664,
          -126.05012512207031,
          -73.06257629394531,
          45.710418701171875,
          9.175203323364258,
          -18.73846435546875,
          38.03601837158203,
          194.258544921875,
          -1.3469676971435547,
          162.24752807617188,
          -30.240127563476562,
          76.07264709472656,
          -18.21468162536621,
          4.752105236053467,
          47.52752685546875,
          1.5118651390075684,
          -76.79801177978516,
          -33.0825309753418,
          -32.0651969909668,
          74.85945129394531,
          -113.82996368408203,
          25.244239807128906,
          58.08865737915039,
          64.26182556152344,
          -95.55045318603516,
          91.03433227539062,
          36.80889129638672,
          43.322425842285156,
          -76.79872131347656,
          60.89082336425781,
          -45.81047439575195,
          -60.396697998046875,
          -4.480648517608643,
          136.581787109375,
          -159.6858673095703,
          -80.66602325439453,
          88.21723175048828,
          -16.116825103759766,
          3.7499656677246094,
          4.861128330230713,
          -138.33688354492188,
          -129.91429138183594,
          3.043264865875244,
          95.63320922851562,
          140.5715789794922,
          -0.8820762634277344,
          -92.65225219726562,
          -16.331748962402344,
          -85.43989562988281,
          -171.4815216064453,
          66.75577545166016,
          -31.630632400512695,
          125.90078735351562,
          172.44158935546875,
          13.725264549255371,
          89.5023422241211,
          62.55909729003906,
          -156.30084228515625,
          -72.26240539550781,
          89.27556610107422,
          -157.86041259765625,
          84.60865783691406,
          -14.329936981201172,
          190.36170959472656,
          -28.946033477783203,
          -44.067115783691406,
          -154.3486785888672,
          -206.18319702148438,
          109.5181655883789,
          -78.14103698730469,
          -97.39105224609375,
          -87.59489440917969,
          -182.17381286621094,
          -2.6285605430603027,
          -67.6376724243164
         ],
         "z": [
          12.4795503616333,
          149.12957763671875,
          86.61209869384766,
          -136.68601989746094,
          18.459716796875,
          -83.31542205810547,
          -111.47653198242188,
          121.29937744140625,
          -144.30874633789062,
          -45.06610107421875,
          121.57550048828125,
          -66.53792572021484,
          48.888160705566406,
          -73.07647705078125,
          -187.5403594970703,
          -5.257636070251465,
          8.924339294433594,
          -149.9092254638672,
          -25.74795150756836,
          -129.02529907226562,
          24.094724655151367,
          -93.7777328491211,
          168.9894256591797,
          60.68913269042969,
          -51.53558349609375,
          8.918776512145996,
          -134.0223388671875,
          92.28176879882812,
          -85.033447265625,
          65.9145736694336,
          -16.108184814453125,
          -57.465187072753906,
          -61.02207946777344,
          182.48431396484375,
          115.66458129882812,
          -108.31578063964844,
          -15.030338287353516,
          207.81292724609375,
          87.28553771972656,
          117.24420166015625,
          110.81635284423828,
          12.495516777038574,
          11.243047714233398,
          145.30393981933594,
          -132.5376434326172,
          19.682313919067383,
          -50.811954498291016,
          -103.45784759521484,
          -213.541015625,
          36.955360412597656,
          -30.362428665161133,
          43.686649322509766,
          -86.22297668457031,
          -71.59473419189453,
          -173.99371337890625,
          33.55411148071289,
          43.007774353027344,
          141.92526245117188,
          78.45294952392578,
          -17.048568725585938,
          -167.28883361816406,
          -63.901424407958984,
          -91.91299438476562,
          -58.90928268432617,
          170.12490844726562,
          -49.80423355102539,
          -46.96484375,
          -58.20608901977539,
          8.458001136779785,
          107.45423889160156,
          -145.98509216308594,
          82.28917694091797,
          0.6568846702575684,
          -15.006182670593262,
          97.73302459716797,
          -9.49866008758545,
          129.0235137939453,
          55.79619216918945,
          -14.306139945983887,
          104.48528289794922,
          41.082908630371094,
          -66.67045593261719,
          -136.9898681640625,
          179.59629821777344,
          66.80997467041016,
          20.86996078491211,
          185.67324829101562,
          98.3252182006836,
          37.13214874267578,
          -65.3427734375,
          49.7823600769043,
          65.3364486694336,
          27.381237030029297
         ]
        }
       ],
       "layout": {
        "coloraxis": {
         "colorbar": {
          "title": {
           "text": "Label"
          }
         },
         "colorscale": [
          [
           0,
           "#0d0887"
          ],
          [
           0.1111111111111111,
           "#46039f"
          ],
          [
           0.2222222222222222,
           "#7201a8"
          ],
          [
           0.3333333333333333,
           "#9c179e"
          ],
          [
           0.4444444444444444,
           "#bd3786"
          ],
          [
           0.5555555555555556,
           "#d8576b"
          ],
          [
           0.6666666666666666,
           "#ed7953"
          ],
          [
           0.7777777777777778,
           "#fb9f3a"
          ],
          [
           0.8888888888888888,
           "#fdca26"
          ],
          [
           1,
           "#f0f921"
          ]
         ]
        },
        "height": 800,
        "legend": {
         "tracegroupgap": 0
        },
        "scene": {
         "domain": {
          "x": [
           0,
           1
          ],
          "y": [
           0,
           1
          ]
         },
         "xaxis": {
          "title": {
           "text": "0"
          }
         },
         "yaxis": {
          "title": {
           "text": "1"
          }
         },
         "zaxis": {
          "title": {
           "text": "2"
          }
         }
        },
        "template": {
         "data": {
          "bar": [
           {
            "error_x": {
             "color": "#2a3f5f"
            },
            "error_y": {
             "color": "#2a3f5f"
            },
            "marker": {
             "line": {
              "color": "#E5ECF6",
              "width": 0.5
             }
            },
            "type": "bar"
           }
          ],
          "barpolar": [
           {
            "marker": {
             "line": {
              "color": "#E5ECF6",
              "width": 0.5
             }
            },
            "type": "barpolar"
           }
          ],
          "carpet": [
           {
            "aaxis": {
             "endlinecolor": "#2a3f5f",
             "gridcolor": "white",
             "linecolor": "white",
             "minorgridcolor": "white",
             "startlinecolor": "#2a3f5f"
            },
            "baxis": {
             "endlinecolor": "#2a3f5f",
             "gridcolor": "white",
             "linecolor": "white",
             "minorgridcolor": "white",
             "startlinecolor": "#2a3f5f"
            },
            "type": "carpet"
           }
          ],
          "choropleth": [
           {
            "colorbar": {
             "outlinewidth": 0,
             "ticks": ""
            },
            "type": "choropleth"
           }
          ],
          "contour": [
           {
            "colorbar": {
             "outlinewidth": 0,
             "ticks": ""
            },
            "colorscale": [
             [
              0,
              "#0d0887"
             ],
             [
              0.1111111111111111,
              "#46039f"
             ],
             [
              0.2222222222222222,
              "#7201a8"
             ],
             [
              0.3333333333333333,
              "#9c179e"
             ],
             [
              0.4444444444444444,
              "#bd3786"
             ],
             [
              0.5555555555555556,
              "#d8576b"
             ],
             [
              0.6666666666666666,
              "#ed7953"
             ],
             [
              0.7777777777777778,
              "#fb9f3a"
             ],
             [
              0.8888888888888888,
              "#fdca26"
             ],
             [
              1,
              "#f0f921"
             ]
            ],
            "type": "contour"
           }
          ],
          "contourcarpet": [
           {
            "colorbar": {
             "outlinewidth": 0,
             "ticks": ""
            },
            "type": "contourcarpet"
           }
          ],
          "heatmap": [
           {
            "colorbar": {
             "outlinewidth": 0,
             "ticks": ""
            },
            "colorscale": [
             [
              0,
              "#0d0887"
             ],
             [
              0.1111111111111111,
              "#46039f"
             ],
             [
              0.2222222222222222,
              "#7201a8"
             ],
             [
              0.3333333333333333,
              "#9c179e"
             ],
             [
              0.4444444444444444,
              "#bd3786"
             ],
             [
              0.5555555555555556,
              "#d8576b"
             ],
             [
              0.6666666666666666,
              "#ed7953"
             ],
             [
              0.7777777777777778,
              "#fb9f3a"
             ],
             [
              0.8888888888888888,
              "#fdca26"
             ],
             [
              1,
              "#f0f921"
             ]
            ],
            "type": "heatmap"
           }
          ],
          "heatmapgl": [
           {
            "colorbar": {
             "outlinewidth": 0,
             "ticks": ""
            },
            "colorscale": [
             [
              0,
              "#0d0887"
             ],
             [
              0.1111111111111111,
              "#46039f"
             ],
             [
              0.2222222222222222,
              "#7201a8"
             ],
             [
              0.3333333333333333,
              "#9c179e"
             ],
             [
              0.4444444444444444,
              "#bd3786"
             ],
             [
              0.5555555555555556,
              "#d8576b"
             ],
             [
              0.6666666666666666,
              "#ed7953"
             ],
             [
              0.7777777777777778,
              "#fb9f3a"
             ],
             [
              0.8888888888888888,
              "#fdca26"
             ],
             [
              1,
              "#f0f921"
             ]
            ],
            "type": "heatmapgl"
           }
          ],
          "histogram": [
           {
            "marker": {
             "colorbar": {
              "outlinewidth": 0,
              "ticks": ""
             }
            },
            "type": "histogram"
           }
          ],
          "histogram2d": [
           {
            "colorbar": {
             "outlinewidth": 0,
             "ticks": ""
            },
            "colorscale": [
             [
              0,
              "#0d0887"
             ],
             [
              0.1111111111111111,
              "#46039f"
             ],
             [
              0.2222222222222222,
              "#7201a8"
             ],
             [
              0.3333333333333333,
              "#9c179e"
             ],
             [
              0.4444444444444444,
              "#bd3786"
             ],
             [
              0.5555555555555556,
              "#d8576b"
             ],
             [
              0.6666666666666666,
              "#ed7953"
             ],
             [
              0.7777777777777778,
              "#fb9f3a"
             ],
             [
              0.8888888888888888,
              "#fdca26"
             ],
             [
              1,
              "#f0f921"
             ]
            ],
            "type": "histogram2d"
           }
          ],
          "histogram2dcontour": [
           {
            "colorbar": {
             "outlinewidth": 0,
             "ticks": ""
            },
            "colorscale": [
             [
              0,
              "#0d0887"
             ],
             [
              0.1111111111111111,
              "#46039f"
             ],
             [
              0.2222222222222222,
              "#7201a8"
             ],
             [
              0.3333333333333333,
              "#9c179e"
             ],
             [
              0.4444444444444444,
              "#bd3786"
             ],
             [
              0.5555555555555556,
              "#d8576b"
             ],
             [
              0.6666666666666666,
              "#ed7953"
             ],
             [
              0.7777777777777778,
              "#fb9f3a"
             ],
             [
              0.8888888888888888,
              "#fdca26"
             ],
             [
              1,
              "#f0f921"
             ]
            ],
            "type": "histogram2dcontour"
           }
          ],
          "mesh3d": [
           {
            "colorbar": {
             "outlinewidth": 0,
             "ticks": ""
            },
            "type": "mesh3d"
           }
          ],
          "parcoords": [
           {
            "line": {
             "colorbar": {
              "outlinewidth": 0,
              "ticks": ""
             }
            },
            "type": "parcoords"
           }
          ],
          "pie": [
           {
            "automargin": true,
            "type": "pie"
           }
          ],
          "scatter": [
           {
            "marker": {
             "colorbar": {
              "outlinewidth": 0,
              "ticks": ""
             }
            },
            "type": "scatter"
           }
          ],
          "scatter3d": [
           {
            "line": {
             "colorbar": {
              "outlinewidth": 0,
              "ticks": ""
             }
            },
            "marker": {
             "colorbar": {
              "outlinewidth": 0,
              "ticks": ""
             }
            },
            "type": "scatter3d"
           }
          ],
          "scattercarpet": [
           {
            "marker": {
             "colorbar": {
              "outlinewidth": 0,
              "ticks": ""
             }
            },
            "type": "scattercarpet"
           }
          ],
          "scattergeo": [
           {
            "marker": {
             "colorbar": {
              "outlinewidth": 0,
              "ticks": ""
             }
            },
            "type": "scattergeo"
           }
          ],
          "scattergl": [
           {
            "marker": {
             "colorbar": {
              "outlinewidth": 0,
              "ticks": ""
             }
            },
            "type": "scattergl"
           }
          ],
          "scattermapbox": [
           {
            "marker": {
             "colorbar": {
              "outlinewidth": 0,
              "ticks": ""
             }
            },
            "type": "scattermapbox"
           }
          ],
          "scatterpolar": [
           {
            "marker": {
             "colorbar": {
              "outlinewidth": 0,
              "ticks": ""
             }
            },
            "type": "scatterpolar"
           }
          ],
          "scatterpolargl": [
           {
            "marker": {
             "colorbar": {
              "outlinewidth": 0,
              "ticks": ""
             }
            },
            "type": "scatterpolargl"
           }
          ],
          "scatterternary": [
           {
            "marker": {
             "colorbar": {
              "outlinewidth": 0,
              "ticks": ""
             }
            },
            "type": "scatterternary"
           }
          ],
          "surface": [
           {
            "colorbar": {
             "outlinewidth": 0,
             "ticks": ""
            },
            "colorscale": [
             [
              0,
              "#0d0887"
             ],
             [
              0.1111111111111111,
              "#46039f"
             ],
             [
              0.2222222222222222,
              "#7201a8"
             ],
             [
              0.3333333333333333,
              "#9c179e"
             ],
             [
              0.4444444444444444,
              "#bd3786"
             ],
             [
              0.5555555555555556,
              "#d8576b"
             ],
             [
              0.6666666666666666,
              "#ed7953"
             ],
             [
              0.7777777777777778,
              "#fb9f3a"
             ],
             [
              0.8888888888888888,
              "#fdca26"
             ],
             [
              1,
              "#f0f921"
             ]
            ],
            "type": "surface"
           }
          ],
          "table": [
           {
            "cells": {
             "fill": {
              "color": "#EBF0F8"
             },
             "line": {
              "color": "white"
             }
            },
            "header": {
             "fill": {
              "color": "#C8D4E3"
             },
             "line": {
              "color": "white"
             }
            },
            "type": "table"
           }
          ]
         },
         "layout": {
          "annotationdefaults": {
           "arrowcolor": "#2a3f5f",
           "arrowhead": 0,
           "arrowwidth": 1
          },
          "coloraxis": {
           "colorbar": {
            "outlinewidth": 0,
            "ticks": ""
           }
          },
          "colorscale": {
           "diverging": [
            [
             0,
             "#8e0152"
            ],
            [
             0.1,
             "#c51b7d"
            ],
            [
             0.2,
             "#de77ae"
            ],
            [
             0.3,
             "#f1b6da"
            ],
            [
             0.4,
             "#fde0ef"
            ],
            [
             0.5,
             "#f7f7f7"
            ],
            [
             0.6,
             "#e6f5d0"
            ],
            [
             0.7,
             "#b8e186"
            ],
            [
             0.8,
             "#7fbc41"
            ],
            [
             0.9,
             "#4d9221"
            ],
            [
             1,
             "#276419"
            ]
           ],
           "sequential": [
            [
             0,
             "#0d0887"
            ],
            [
             0.1111111111111111,
             "#46039f"
            ],
            [
             0.2222222222222222,
             "#7201a8"
            ],
            [
             0.3333333333333333,
             "#9c179e"
            ],
            [
             0.4444444444444444,
             "#bd3786"
            ],
            [
             0.5555555555555556,
             "#d8576b"
            ],
            [
             0.6666666666666666,
             "#ed7953"
            ],
            [
             0.7777777777777778,
             "#fb9f3a"
            ],
            [
             0.8888888888888888,
             "#fdca26"
            ],
            [
             1,
             "#f0f921"
            ]
           ],
           "sequentialminus": [
            [
             0,
             "#0d0887"
            ],
            [
             0.1111111111111111,
             "#46039f"
            ],
            [
             0.2222222222222222,
             "#7201a8"
            ],
            [
             0.3333333333333333,
             "#9c179e"
            ],
            [
             0.4444444444444444,
             "#bd3786"
            ],
            [
             0.5555555555555556,
             "#d8576b"
            ],
            [
             0.6666666666666666,
             "#ed7953"
            ],
            [
             0.7777777777777778,
             "#fb9f3a"
            ],
            [
             0.8888888888888888,
             "#fdca26"
            ],
            [
             1,
             "#f0f921"
            ]
           ]
          },
          "colorway": [
           "#636efa",
           "#EF553B",
           "#00cc96",
           "#ab63fa",
           "#FFA15A",
           "#19d3f3",
           "#FF6692",
           "#B6E880",
           "#FF97FF",
           "#FECB52"
          ],
          "font": {
           "color": "#2a3f5f"
          },
          "geo": {
           "bgcolor": "white",
           "lakecolor": "white",
           "landcolor": "#E5ECF6",
           "showlakes": true,
           "showland": true,
           "subunitcolor": "white"
          },
          "hoverlabel": {
           "align": "left"
          },
          "hovermode": "closest",
          "mapbox": {
           "style": "light"
          },
          "paper_bgcolor": "white",
          "plot_bgcolor": "#E5ECF6",
          "polar": {
           "angularaxis": {
            "gridcolor": "white",
            "linecolor": "white",
            "ticks": ""
           },
           "bgcolor": "#E5ECF6",
           "radialaxis": {
            "gridcolor": "white",
            "linecolor": "white",
            "ticks": ""
           }
          },
          "scene": {
           "xaxis": {
            "backgroundcolor": "#E5ECF6",
            "gridcolor": "white",
            "gridwidth": 2,
            "linecolor": "white",
            "showbackground": true,
            "ticks": "",
            "zerolinecolor": "white"
           },
           "yaxis": {
            "backgroundcolor": "#E5ECF6",
            "gridcolor": "white",
            "gridwidth": 2,
            "linecolor": "white",
            "showbackground": true,
            "ticks": "",
            "zerolinecolor": "white"
           },
           "zaxis": {
            "backgroundcolor": "#E5ECF6",
            "gridcolor": "white",
            "gridwidth": 2,
            "linecolor": "white",
            "showbackground": true,
            "ticks": "",
            "zerolinecolor": "white"
           }
          },
          "shapedefaults": {
           "line": {
            "color": "#2a3f5f"
           }
          },
          "ternary": {
           "aaxis": {
            "gridcolor": "white",
            "linecolor": "white",
            "ticks": ""
           },
           "baxis": {
            "gridcolor": "white",
            "linecolor": "white",
            "ticks": ""
           },
           "bgcolor": "#E5ECF6",
           "caxis": {
            "gridcolor": "white",
            "linecolor": "white",
            "ticks": ""
           }
          },
          "title": {
           "x": 0.05
          },
          "xaxis": {
           "automargin": true,
           "gridcolor": "white",
           "linecolor": "white",
           "ticks": "",
           "title": {
            "standoff": 15
           },
           "zerolinecolor": "white",
           "zerolinewidth": 2
          },
          "yaxis": {
           "automargin": true,
           "gridcolor": "white",
           "linecolor": "white",
           "ticks": "",
           "title": {
            "standoff": 15
           },
           "zerolinecolor": "white",
           "zerolinewidth": 2
          }
         }
        },
        "title": {
         "text": "3d TSNE Plot for Outliers"
        },
        "width": 900
       }
      },
      "text/html": [
       "<div>\n",
       "        \n",
       "        \n",
       "            <div id=\"9663de5e-66d8-4fd2-bb4f-e480fa647a4e\" class=\"plotly-graph-div\" style=\"height:800px; width:900px;\"></div>\n",
       "            <script type=\"text/javascript\">\n",
       "                require([\"plotly\"], function(Plotly) {\n",
       "                    window.PLOTLYENV=window.PLOTLYENV || {};\n",
       "                    \n",
       "                if (document.getElementById(\"9663de5e-66d8-4fd2-bb4f-e480fa647a4e\")) {\n",
       "                    Plotly.newPlot(\n",
       "                        '9663de5e-66d8-4fd2-bb4f-e480fa647a4e',\n",
       "                        [{\"customdata\": [[null], [\"Breast-MRI-NACT-Pilot\"], [\"Breast-MRI-NACT-Pilot\"], [\"Breast-MRI-NACT-Pilot\"], [\"Breast-MRI-NACT-Pilot\"], [\"Breast-MRI-NACT-Pilot\"], [\"Breast-MRI-NACT-Pilot\"], [\"Breast-MRI-NACT-Pilot\"], [\"Breast-MRI-NACT-Pilot\"], [\"Breast-MRI-NACT-Pilot\"], [\"Breast-MRI-NACT-Pilot\"], [\"Breast-MRI-NACT-Pilot\"], [\"Breast-MRI-NACT-Pilot\"], [\"Breast-MRI-NACT-Pilot\"], [\"Breast-MRI-NACT-Pilot\"], [\"Breast-MRI-NACT-Pilot\"], [\"Breast-MRI-NACT-Pilot\"], [\"Breast-MRI-NACT-Pilot\"], [\"Breast-MRI-NACT-Pilot\"], [\"Breast-MRI-NACT-Pilot\"], [\"Breast-MRI-NACT-Pilot\"], [\"Breast-MRI-NACT-Pilot\"], [\"Breast-MRI-NACT-Pilot\"], [\"Breast-MRI-NACT-Pilot\"], [\"Breast-MRI-NACT-Pilot\"], [\"Breast-MRI-NACT-Pilot\"], [\"I-Spy1\"], [\"I-Spy1\"], [\"I-Spy1\"], [\"I-Spy1\"], [\"I-Spy1\"], [\"I-Spy1\"], [\"I-Spy1\"], [\"I-Spy1\"], [\"I-Spy1\"], [\"I-Spy1\"], [\"I-Spy1\"], [\"I-Spy1\"], [\"I-Spy1\"], [\"I-Spy1\"], [\"I-Spy1\"], [\"I-Spy1\"], [\"I-Spy1\"], [\"I-Spy1\"], [\"I-Spy1\"], [\"I-Spy1\"], [\"I-Spy1\"], [\"I-Spy1\"], [\"I-Spy1\"], [\"I-Spy1\"], [\"I-Spy1\"], [\"I-Spy1\"], [\"I-Spy1\"], [\"I-Spy1\"], [\"I-Spy1\"], [\"I-Spy1\"], [\"I-Spy1\"], [\"I-Spy1\"], [\"I-Spy1\"], [\"I-Spy1\"], [\"I-Spy1\"], [\"I-Spy1\"], [\"I-Spy1\"], [\"I-Spy1\"], [\"I-Spy1\"], [\"I-Spy1\"], [\"I-Spy1\"], [\"I-Spy1\"], [\"I-Spy1\"], [\"I-Spy1\"], [\"I-Spy1\"], [\"I-Spy1\"], [\"I-Spy1\"], [\"I-Spy1\"], [\"I-Spy1\"], [\"I-Spy1\"], [\"I-Spy1\"], [\"I-Spy1\"], [\"I-Spy1\"], [\"I-Spy1\"], [\"I-Spy1\"], [\"I-Spy1\"], [\"I-Spy1\"], [\"I-Spy1\"], [\"I-Spy1\"], [\"I-Spy1\"], [\"I-Spy1\"], [\"I-Spy1\"], [\"I-Spy1\"], [\"I-Spy1\"], [\"I-Spy1\"], [\"I-Spy1\"], [\"I-Spy1\"]], \"hovertemplate\": \"0=%{x}<br>1=%{y}<br>2=%{z}<br>Feature=%{customdata[0]}<br>Label=%{marker.color}<extra></extra>\", \"legendgroup\": \"\", \"marker\": {\"color\": [null, 0.0, 0.0, 0.0, 0.0, 0.0, 0.0, 0.0, 0.0, 0.0, 0.0, 0.0, 0.0, 0.0, 0.0, 0.0, 0.0, 0.0, 0.0, 0.0, 0.0, 0.0, 0.0, 0.0, 0.0, 0.0, 0.0, 0.0, 0.0, 0.0, 0.0, 0.0, 0.0, 0.0, 0.0, 0.0, 0.0, 0.0, 0.0, 0.0, 0.0, 0.0, 0.0, 0.0, 0.0, 0.0, 0.0, 0.0, 0.0, 0.0, 0.0, 0.0, 0.0, 0.0, 0.0, 0.0, 0.0, 0.0, 0.0, 0.0, 0.0, 0.0, 0.0, 0.0, 0.0, 0.0, 0.0, 0.0, 0.0, 0.0, 0.0, 0.0, 0.0, 0.0, 0.0, 0.0, 0.0, 0.0, 0.0, 0.0, 1.0, 0.0, 0.0, 0.0, 0.0, 0.0, 0.0, 0.0, 0.0, 0.0, 0.0, 0.0, 0.0], \"coloraxis\": \"coloraxis\", \"opacity\": 0.7, \"symbol\": \"circle\"}, \"mode\": \"markers\", \"name\": \"\", \"scene\": \"scene\", \"showlegend\": false, \"type\": \"scatter3d\", \"x\": [-16.806760787963867, -16.649707794189453, -99.69563293457031, 109.47164154052734, 95.82836151123047, -74.33570098876953, -90.40779876708984, -158.80624389648438, 84.69775390625, 135.63938903808594, -4.664176940917969, -93.58231353759766, 114.14115905761719, -16.66187858581543, -78.616943359375, 57.152862548828125, -49.57198715209961, -58.30709457397461, 42.5003547668457, 8.756063461303711, 12.868328094482422, 40.709835052490234, -79.89419555664062, -34.80217361450195, -32.05166244506836, -57.85996627807617, 143.28677368164062, -55.815677642822266, 83.47935485839844, -64.97976684570312, 117.28984069824219, 188.38047790527344, 111.68663787841797, 58.8427619934082, 136.03773498535156, 7.675491809844971, -38.21139907836914, 5.334709167480469, 66.63982391357422, -8.532063484191895, 77.45026397705078, -163.9029083251953, -172.494384765625, -90.40516662597656, -24.99859046936035, -16.659090042114258, -114.72953796386719, -100.4085464477539, -2.3939218521118164, -100.22357940673828, 33.42665100097656, -126.64639282226562, 78.13553619384766, 153.64244079589844, 26.197643280029297, 191.23922729492188, 41.1963005065918, 136.50218200683594, -95.98440551757812, 114.74954223632812, 60.566078186035156, -161.17892456054688, 61.99421310424805, -162.1496124267578, 61.35332489013672, -221.40162658691406, 45.974891662597656, -30.906198501586914, 174.54840087890625, 51.7087287902832, -51.34130096435547, 38.286376953125, -97.84445190429688, -83.46666717529297, -161.55242919921875, 32.386348724365234, -82.89370727539062, 35.306480407714844, -116.79261016845703, 170.74691772460938, -174.3046417236328, -5.714570999145508, -138.63626098632812, -15.545848846435547, -0.7729272246360779, -43.86049270629883, 56.78117370605469, -11.354825973510742, 166.45123291015625, -30.032882690429688, 90.37386322021484, 118.80723571777344, 85.43693542480469], \"y\": [126.49014282226562, -143.52403259277344, 8.775144577026367, 84.47982788085938, 55.22586441040039, -15.544112205505371, -134.0577392578125, -44.46015167236328, -86.28714752197266, 125.59770202636719, 104.75074005126953, 153.25584411621094, 132.08767700195312, 108.90716552734375, 21.968339920043945, 169.4897918701172, -113.01358032226562, -65.5920639038086, 84.2084732055664, -126.05012512207031, -73.06257629394531, 45.710418701171875, 9.175203323364258, -18.73846435546875, 38.03601837158203, 194.258544921875, -1.3469676971435547, 162.24752807617188, -30.240127563476562, 76.07264709472656, -18.21468162536621, 4.752105236053467, 47.52752685546875, 1.5118651390075684, -76.79801177978516, -33.0825309753418, -32.0651969909668, 74.85945129394531, -113.82996368408203, 25.244239807128906, 58.08865737915039, 64.26182556152344, -95.55045318603516, 91.03433227539062, 36.80889129638672, 43.322425842285156, -76.79872131347656, 60.89082336425781, -45.81047439575195, -60.396697998046875, -4.480648517608643, 136.581787109375, -159.6858673095703, -80.66602325439453, 88.21723175048828, -16.116825103759766, 3.7499656677246094, 4.861128330230713, -138.33688354492188, -129.91429138183594, 3.043264865875244, 95.63320922851562, 140.5715789794922, -0.8820762634277344, -92.65225219726562, -16.331748962402344, -85.43989562988281, -171.4815216064453, 66.75577545166016, -31.630632400512695, 125.90078735351562, 172.44158935546875, 13.725264549255371, 89.5023422241211, 62.55909729003906, -156.30084228515625, -72.26240539550781, 89.27556610107422, -157.86041259765625, 84.60865783691406, -14.329936981201172, 190.36170959472656, -28.946033477783203, -44.067115783691406, -154.3486785888672, -206.18319702148438, 109.5181655883789, -78.14103698730469, -97.39105224609375, -87.59489440917969, -182.17381286621094, -2.6285605430603027, -67.6376724243164], \"z\": [12.4795503616333, 149.12957763671875, 86.61209869384766, -136.68601989746094, 18.459716796875, -83.31542205810547, -111.47653198242188, 121.29937744140625, -144.30874633789062, -45.06610107421875, 121.57550048828125, -66.53792572021484, 48.888160705566406, -73.07647705078125, -187.5403594970703, -5.257636070251465, 8.924339294433594, -149.9092254638672, -25.74795150756836, -129.02529907226562, 24.094724655151367, -93.7777328491211, 168.9894256591797, 60.68913269042969, -51.53558349609375, 8.918776512145996, -134.0223388671875, 92.28176879882812, -85.033447265625, 65.9145736694336, -16.108184814453125, -57.465187072753906, -61.02207946777344, 182.48431396484375, 115.66458129882812, -108.31578063964844, -15.030338287353516, 207.81292724609375, 87.28553771972656, 117.24420166015625, 110.81635284423828, 12.495516777038574, 11.243047714233398, 145.30393981933594, -132.5376434326172, 19.682313919067383, -50.811954498291016, -103.45784759521484, -213.541015625, 36.955360412597656, -30.362428665161133, 43.686649322509766, -86.22297668457031, -71.59473419189453, -173.99371337890625, 33.55411148071289, 43.007774353027344, 141.92526245117188, 78.45294952392578, -17.048568725585938, -167.28883361816406, -63.901424407958984, -91.91299438476562, -58.90928268432617, 170.12490844726562, -49.80423355102539, -46.96484375, -58.20608901977539, 8.458001136779785, 107.45423889160156, -145.98509216308594, 82.28917694091797, 0.6568846702575684, -15.006182670593262, 97.73302459716797, -9.49866008758545, 129.0235137939453, 55.79619216918945, -14.306139945983887, 104.48528289794922, 41.082908630371094, -66.67045593261719, -136.9898681640625, 179.59629821777344, 66.80997467041016, 20.86996078491211, 185.67324829101562, 98.3252182006836, 37.13214874267578, -65.3427734375, 49.7823600769043, 65.3364486694336, 27.381237030029297]}],\n",
       "                        {\"coloraxis\": {\"colorbar\": {\"title\": {\"text\": \"Label\"}}, \"colorscale\": [[0.0, \"#0d0887\"], [0.1111111111111111, \"#46039f\"], [0.2222222222222222, \"#7201a8\"], [0.3333333333333333, \"#9c179e\"], [0.4444444444444444, \"#bd3786\"], [0.5555555555555556, \"#d8576b\"], [0.6666666666666666, \"#ed7953\"], [0.7777777777777778, \"#fb9f3a\"], [0.8888888888888888, \"#fdca26\"], [1.0, \"#f0f921\"]]}, \"height\": 800, \"legend\": {\"tracegroupgap\": 0}, \"scene\": {\"domain\": {\"x\": [0.0, 1.0], \"y\": [0.0, 1.0]}, \"xaxis\": {\"title\": {\"text\": \"0\"}}, \"yaxis\": {\"title\": {\"text\": \"1\"}}, \"zaxis\": {\"title\": {\"text\": \"2\"}}}, \"template\": {\"data\": {\"bar\": [{\"error_x\": {\"color\": \"#2a3f5f\"}, \"error_y\": {\"color\": \"#2a3f5f\"}, \"marker\": {\"line\": {\"color\": \"#E5ECF6\", \"width\": 0.5}}, \"type\": \"bar\"}], \"barpolar\": [{\"marker\": {\"line\": {\"color\": \"#E5ECF6\", \"width\": 0.5}}, \"type\": \"barpolar\"}], \"carpet\": [{\"aaxis\": {\"endlinecolor\": \"#2a3f5f\", \"gridcolor\": \"white\", \"linecolor\": \"white\", \"minorgridcolor\": \"white\", \"startlinecolor\": \"#2a3f5f\"}, \"baxis\": {\"endlinecolor\": \"#2a3f5f\", \"gridcolor\": \"white\", \"linecolor\": \"white\", \"minorgridcolor\": \"white\", \"startlinecolor\": \"#2a3f5f\"}, \"type\": \"carpet\"}], \"choropleth\": [{\"colorbar\": {\"outlinewidth\": 0, \"ticks\": \"\"}, \"type\": \"choropleth\"}], \"contour\": [{\"colorbar\": {\"outlinewidth\": 0, \"ticks\": \"\"}, \"colorscale\": [[0.0, \"#0d0887\"], [0.1111111111111111, \"#46039f\"], [0.2222222222222222, \"#7201a8\"], [0.3333333333333333, \"#9c179e\"], [0.4444444444444444, \"#bd3786\"], [0.5555555555555556, \"#d8576b\"], [0.6666666666666666, \"#ed7953\"], [0.7777777777777778, \"#fb9f3a\"], [0.8888888888888888, \"#fdca26\"], [1.0, \"#f0f921\"]], \"type\": \"contour\"}], \"contourcarpet\": [{\"colorbar\": {\"outlinewidth\": 0, \"ticks\": \"\"}, \"type\": \"contourcarpet\"}], \"heatmap\": [{\"colorbar\": {\"outlinewidth\": 0, \"ticks\": \"\"}, \"colorscale\": [[0.0, \"#0d0887\"], [0.1111111111111111, \"#46039f\"], [0.2222222222222222, \"#7201a8\"], [0.3333333333333333, \"#9c179e\"], [0.4444444444444444, \"#bd3786\"], [0.5555555555555556, \"#d8576b\"], [0.6666666666666666, \"#ed7953\"], [0.7777777777777778, \"#fb9f3a\"], [0.8888888888888888, \"#fdca26\"], [1.0, \"#f0f921\"]], \"type\": \"heatmap\"}], \"heatmapgl\": [{\"colorbar\": {\"outlinewidth\": 0, \"ticks\": \"\"}, \"colorscale\": [[0.0, \"#0d0887\"], [0.1111111111111111, \"#46039f\"], [0.2222222222222222, \"#7201a8\"], [0.3333333333333333, \"#9c179e\"], [0.4444444444444444, \"#bd3786\"], [0.5555555555555556, \"#d8576b\"], [0.6666666666666666, \"#ed7953\"], [0.7777777777777778, \"#fb9f3a\"], [0.8888888888888888, \"#fdca26\"], [1.0, \"#f0f921\"]], \"type\": \"heatmapgl\"}], \"histogram\": [{\"marker\": {\"colorbar\": {\"outlinewidth\": 0, \"ticks\": \"\"}}, \"type\": \"histogram\"}], \"histogram2d\": [{\"colorbar\": {\"outlinewidth\": 0, \"ticks\": \"\"}, \"colorscale\": [[0.0, \"#0d0887\"], [0.1111111111111111, \"#46039f\"], [0.2222222222222222, \"#7201a8\"], [0.3333333333333333, \"#9c179e\"], [0.4444444444444444, \"#bd3786\"], [0.5555555555555556, \"#d8576b\"], [0.6666666666666666, \"#ed7953\"], [0.7777777777777778, \"#fb9f3a\"], [0.8888888888888888, \"#fdca26\"], [1.0, \"#f0f921\"]], \"type\": \"histogram2d\"}], \"histogram2dcontour\": [{\"colorbar\": {\"outlinewidth\": 0, \"ticks\": \"\"}, \"colorscale\": [[0.0, \"#0d0887\"], [0.1111111111111111, \"#46039f\"], [0.2222222222222222, \"#7201a8\"], [0.3333333333333333, \"#9c179e\"], [0.4444444444444444, \"#bd3786\"], [0.5555555555555556, \"#d8576b\"], [0.6666666666666666, \"#ed7953\"], [0.7777777777777778, \"#fb9f3a\"], [0.8888888888888888, \"#fdca26\"], [1.0, \"#f0f921\"]], \"type\": \"histogram2dcontour\"}], \"mesh3d\": [{\"colorbar\": {\"outlinewidth\": 0, \"ticks\": \"\"}, \"type\": \"mesh3d\"}], \"parcoords\": [{\"line\": {\"colorbar\": {\"outlinewidth\": 0, \"ticks\": \"\"}}, \"type\": \"parcoords\"}], \"pie\": [{\"automargin\": true, \"type\": \"pie\"}], \"scatter\": [{\"marker\": {\"colorbar\": {\"outlinewidth\": 0, \"ticks\": \"\"}}, \"type\": \"scatter\"}], \"scatter3d\": [{\"line\": {\"colorbar\": {\"outlinewidth\": 0, \"ticks\": \"\"}}, \"marker\": {\"colorbar\": {\"outlinewidth\": 0, \"ticks\": \"\"}}, \"type\": \"scatter3d\"}], \"scattercarpet\": [{\"marker\": {\"colorbar\": {\"outlinewidth\": 0, \"ticks\": \"\"}}, \"type\": \"scattercarpet\"}], \"scattergeo\": [{\"marker\": {\"colorbar\": {\"outlinewidth\": 0, \"ticks\": \"\"}}, \"type\": \"scattergeo\"}], \"scattergl\": [{\"marker\": {\"colorbar\": {\"outlinewidth\": 0, \"ticks\": \"\"}}, \"type\": \"scattergl\"}], \"scattermapbox\": [{\"marker\": {\"colorbar\": {\"outlinewidth\": 0, \"ticks\": \"\"}}, \"type\": \"scattermapbox\"}], \"scatterpolar\": [{\"marker\": {\"colorbar\": {\"outlinewidth\": 0, \"ticks\": \"\"}}, \"type\": \"scatterpolar\"}], \"scatterpolargl\": [{\"marker\": {\"colorbar\": {\"outlinewidth\": 0, \"ticks\": \"\"}}, \"type\": \"scatterpolargl\"}], \"scatterternary\": [{\"marker\": {\"colorbar\": {\"outlinewidth\": 0, \"ticks\": \"\"}}, \"type\": \"scatterternary\"}], \"surface\": [{\"colorbar\": {\"outlinewidth\": 0, \"ticks\": \"\"}, \"colorscale\": [[0.0, \"#0d0887\"], [0.1111111111111111, \"#46039f\"], [0.2222222222222222, \"#7201a8\"], [0.3333333333333333, \"#9c179e\"], [0.4444444444444444, \"#bd3786\"], [0.5555555555555556, \"#d8576b\"], [0.6666666666666666, \"#ed7953\"], [0.7777777777777778, \"#fb9f3a\"], [0.8888888888888888, \"#fdca26\"], [1.0, \"#f0f921\"]], \"type\": \"surface\"}], \"table\": [{\"cells\": {\"fill\": {\"color\": \"#EBF0F8\"}, \"line\": {\"color\": \"white\"}}, \"header\": {\"fill\": {\"color\": \"#C8D4E3\"}, \"line\": {\"color\": \"white\"}}, \"type\": \"table\"}]}, \"layout\": {\"annotationdefaults\": {\"arrowcolor\": \"#2a3f5f\", \"arrowhead\": 0, \"arrowwidth\": 1}, \"coloraxis\": {\"colorbar\": {\"outlinewidth\": 0, \"ticks\": \"\"}}, \"colorscale\": {\"diverging\": [[0, \"#8e0152\"], [0.1, \"#c51b7d\"], [0.2, \"#de77ae\"], [0.3, \"#f1b6da\"], [0.4, \"#fde0ef\"], [0.5, \"#f7f7f7\"], [0.6, \"#e6f5d0\"], [0.7, \"#b8e186\"], [0.8, \"#7fbc41\"], [0.9, \"#4d9221\"], [1, \"#276419\"]], \"sequential\": [[0.0, \"#0d0887\"], [0.1111111111111111, \"#46039f\"], [0.2222222222222222, \"#7201a8\"], [0.3333333333333333, \"#9c179e\"], [0.4444444444444444, \"#bd3786\"], [0.5555555555555556, \"#d8576b\"], [0.6666666666666666, \"#ed7953\"], [0.7777777777777778, \"#fb9f3a\"], [0.8888888888888888, \"#fdca26\"], [1.0, \"#f0f921\"]], \"sequentialminus\": [[0.0, \"#0d0887\"], [0.1111111111111111, \"#46039f\"], [0.2222222222222222, \"#7201a8\"], [0.3333333333333333, \"#9c179e\"], [0.4444444444444444, \"#bd3786\"], [0.5555555555555556, \"#d8576b\"], [0.6666666666666666, \"#ed7953\"], [0.7777777777777778, \"#fb9f3a\"], [0.8888888888888888, \"#fdca26\"], [1.0, \"#f0f921\"]]}, \"colorway\": [\"#636efa\", \"#EF553B\", \"#00cc96\", \"#ab63fa\", \"#FFA15A\", \"#19d3f3\", \"#FF6692\", \"#B6E880\", \"#FF97FF\", \"#FECB52\"], \"font\": {\"color\": \"#2a3f5f\"}, \"geo\": {\"bgcolor\": \"white\", \"lakecolor\": \"white\", \"landcolor\": \"#E5ECF6\", \"showlakes\": true, \"showland\": true, \"subunitcolor\": \"white\"}, \"hoverlabel\": {\"align\": \"left\"}, \"hovermode\": \"closest\", \"mapbox\": {\"style\": \"light\"}, \"paper_bgcolor\": \"white\", \"plot_bgcolor\": \"#E5ECF6\", \"polar\": {\"angularaxis\": {\"gridcolor\": \"white\", \"linecolor\": \"white\", \"ticks\": \"\"}, \"bgcolor\": \"#E5ECF6\", \"radialaxis\": {\"gridcolor\": \"white\", \"linecolor\": \"white\", \"ticks\": \"\"}}, \"scene\": {\"xaxis\": {\"backgroundcolor\": \"#E5ECF6\", \"gridcolor\": \"white\", \"gridwidth\": 2, \"linecolor\": \"white\", \"showbackground\": true, \"ticks\": \"\", \"zerolinecolor\": \"white\"}, \"yaxis\": {\"backgroundcolor\": \"#E5ECF6\", \"gridcolor\": \"white\", \"gridwidth\": 2, \"linecolor\": \"white\", \"showbackground\": true, \"ticks\": \"\", \"zerolinecolor\": \"white\"}, \"zaxis\": {\"backgroundcolor\": \"#E5ECF6\", \"gridcolor\": \"white\", \"gridwidth\": 2, \"linecolor\": \"white\", \"showbackground\": true, \"ticks\": \"\", \"zerolinecolor\": \"white\"}}, \"shapedefaults\": {\"line\": {\"color\": \"#2a3f5f\"}}, \"ternary\": {\"aaxis\": {\"gridcolor\": \"white\", \"linecolor\": \"white\", \"ticks\": \"\"}, \"baxis\": {\"gridcolor\": \"white\", \"linecolor\": \"white\", \"ticks\": \"\"}, \"bgcolor\": \"#E5ECF6\", \"caxis\": {\"gridcolor\": \"white\", \"linecolor\": \"white\", \"ticks\": \"\"}}, \"title\": {\"x\": 0.05}, \"xaxis\": {\"automargin\": true, \"gridcolor\": \"white\", \"linecolor\": \"white\", \"ticks\": \"\", \"title\": {\"standoff\": 15}, \"zerolinecolor\": \"white\", \"zerolinewidth\": 2}, \"yaxis\": {\"automargin\": true, \"gridcolor\": \"white\", \"linecolor\": \"white\", \"ticks\": \"\", \"title\": {\"standoff\": 15}, \"zerolinecolor\": \"white\", \"zerolinewidth\": 2}}}, \"title\": {\"text\": \"3d TSNE Plot for Outliers\"}, \"width\": 900},\n",
       "                        {\"responsive\": true}\n",
       "                    ).then(function(){\n",
       "                            \n",
       "var gd = document.getElementById('9663de5e-66d8-4fd2-bb4f-e480fa647a4e');\n",
       "var x = new MutationObserver(function (mutations, observer) {{\n",
       "        var display = window.getComputedStyle(gd).display;\n",
       "        if (!display || display === 'none') {{\n",
       "            console.log([gd, 'removed!']);\n",
       "            Plotly.purge(gd);\n",
       "            observer.disconnect();\n",
       "        }}\n",
       "}});\n",
       "\n",
       "// Listen for the removal of the full notebook cells\n",
       "var notebookContainer = gd.closest('#notebook-container');\n",
       "if (notebookContainer) {{\n",
       "    x.observe(notebookContainer, {childList: true});\n",
       "}}\n",
       "\n",
       "// Listen for the clearing of the current output cell\n",
       "var outputEl = gd.closest('.output');\n",
       "if (outputEl) {{\n",
       "    x.observe(outputEl, {childList: true});\n",
       "}}\n",
       "\n",
       "                        })\n",
       "                };\n",
       "                });\n",
       "            </script>\n",
       "        </div>"
      ]
     },
     "metadata": {},
     "output_type": "display_data"
    }
   ],
   "source": [
    "plot_model(svm)"
   ]
  },
  {
   "cell_type": "code",
   "execution_count": 14,
   "metadata": {},
   "outputs": [
    {
     "data": {
      "text/html": [
       "        <script type=\"text/javascript\">\n",
       "        window.PlotlyConfig = {MathJaxConfig: 'local'};\n",
       "        if (window.MathJax) {MathJax.Hub.Config({SVG: {font: \"STIX-Web\"}});}\n",
       "        if (typeof require !== 'undefined') {\n",
       "        require.undef(\"plotly\");\n",
       "        requirejs.config({\n",
       "            paths: {\n",
       "                'plotly': ['https://cdn.plot.ly/plotly-latest.min']\n",
       "            }\n",
       "        });\n",
       "        require(['plotly'], function(Plotly) {\n",
       "            window._Plotly = Plotly;\n",
       "        });\n",
       "        }\n",
       "        </script>\n",
       "        "
      ]
     },
     "metadata": {},
     "output_type": "display_data"
    },
    {
     "data": {
      "application/vnd.plotly.v1+json": {
       "config": {
        "plotlyServerURL": "https://plot.ly"
       },
       "data": [
        {
         "customdata": [
          [
           null
          ],
          [
           "Breast-MRI-NACT-Pilot"
          ],
          [
           "Breast-MRI-NACT-Pilot"
          ],
          [
           "Breast-MRI-NACT-Pilot"
          ],
          [
           "Breast-MRI-NACT-Pilot"
          ],
          [
           "Breast-MRI-NACT-Pilot"
          ],
          [
           "Breast-MRI-NACT-Pilot"
          ],
          [
           "Breast-MRI-NACT-Pilot"
          ],
          [
           "Breast-MRI-NACT-Pilot"
          ],
          [
           "Breast-MRI-NACT-Pilot"
          ],
          [
           "Breast-MRI-NACT-Pilot"
          ],
          [
           "Breast-MRI-NACT-Pilot"
          ],
          [
           "Breast-MRI-NACT-Pilot"
          ],
          [
           "Breast-MRI-NACT-Pilot"
          ],
          [
           "Breast-MRI-NACT-Pilot"
          ],
          [
           "Breast-MRI-NACT-Pilot"
          ],
          [
           "Breast-MRI-NACT-Pilot"
          ],
          [
           "Breast-MRI-NACT-Pilot"
          ],
          [
           "Breast-MRI-NACT-Pilot"
          ],
          [
           "Breast-MRI-NACT-Pilot"
          ],
          [
           "Breast-MRI-NACT-Pilot"
          ],
          [
           "Breast-MRI-NACT-Pilot"
          ],
          [
           "Breast-MRI-NACT-Pilot"
          ],
          [
           "Breast-MRI-NACT-Pilot"
          ],
          [
           "Breast-MRI-NACT-Pilot"
          ],
          [
           "Breast-MRI-NACT-Pilot"
          ],
          [
           "I-Spy1"
          ],
          [
           "I-Spy1"
          ],
          [
           "I-Spy1"
          ],
          [
           "I-Spy1"
          ],
          [
           "I-Spy1"
          ],
          [
           "I-Spy1"
          ],
          [
           "I-Spy1"
          ],
          [
           "I-Spy1"
          ],
          [
           "I-Spy1"
          ],
          [
           "I-Spy1"
          ],
          [
           "I-Spy1"
          ],
          [
           "I-Spy1"
          ],
          [
           "I-Spy1"
          ],
          [
           "I-Spy1"
          ],
          [
           "I-Spy1"
          ],
          [
           "I-Spy1"
          ],
          [
           "I-Spy1"
          ],
          [
           "I-Spy1"
          ],
          [
           "I-Spy1"
          ],
          [
           "I-Spy1"
          ],
          [
           "I-Spy1"
          ],
          [
           "I-Spy1"
          ],
          [
           "I-Spy1"
          ],
          [
           "I-Spy1"
          ],
          [
           "I-Spy1"
          ],
          [
           "I-Spy1"
          ],
          [
           "I-Spy1"
          ],
          [
           "I-Spy1"
          ],
          [
           "I-Spy1"
          ],
          [
           "I-Spy1"
          ],
          [
           "I-Spy1"
          ],
          [
           "I-Spy1"
          ],
          [
           "I-Spy1"
          ],
          [
           "I-Spy1"
          ],
          [
           "I-Spy1"
          ],
          [
           "I-Spy1"
          ],
          [
           "I-Spy1"
          ],
          [
           "I-Spy1"
          ],
          [
           "I-Spy1"
          ],
          [
           "I-Spy1"
          ],
          [
           "I-Spy1"
          ],
          [
           "I-Spy1"
          ],
          [
           "I-Spy1"
          ],
          [
           "I-Spy1"
          ],
          [
           "I-Spy1"
          ],
          [
           "I-Spy1"
          ],
          [
           "I-Spy1"
          ],
          [
           "I-Spy1"
          ],
          [
           "I-Spy1"
          ],
          [
           "I-Spy1"
          ],
          [
           "I-Spy1"
          ],
          [
           "I-Spy1"
          ],
          [
           "I-Spy1"
          ],
          [
           "I-Spy1"
          ],
          [
           "I-Spy1"
          ],
          [
           "I-Spy1"
          ],
          [
           "I-Spy1"
          ],
          [
           "I-Spy1"
          ],
          [
           "I-Spy1"
          ],
          [
           "I-Spy1"
          ],
          [
           "I-Spy1"
          ],
          [
           "I-Spy1"
          ],
          [
           "I-Spy1"
          ],
          [
           "I-Spy1"
          ],
          [
           "I-Spy1"
          ],
          [
           "I-Spy1"
          ],
          [
           "I-Spy1"
          ]
         ],
         "hovertemplate": "0=%{x}<br>1=%{y}<br>Feature=%{customdata[0]}<br>Label=%{marker.color}<extra></extra>",
         "legendgroup": "",
         "marker": {
          "color": [
           null,
           0,
           0,
           0,
           0,
           0,
           0,
           0,
           0,
           0,
           0,
           0,
           0,
           0,
           0,
           0,
           0,
           0,
           0,
           0,
           0,
           0,
           0,
           0,
           0,
           0,
           0,
           0,
           0,
           0,
           0,
           0,
           0,
           0,
           0,
           0,
           0,
           0,
           0,
           0,
           0,
           0,
           0,
           0,
           0,
           0,
           0,
           0,
           0,
           0,
           0,
           0,
           0,
           0,
           0,
           0,
           0,
           0,
           0,
           0,
           0,
           0,
           0,
           0,
           0,
           0,
           0,
           0,
           0,
           0,
           0,
           0,
           0,
           0,
           0,
           0,
           0,
           0,
           0,
           0,
           1,
           0,
           0,
           0,
           0,
           0,
           0,
           0,
           0,
           0,
           0,
           0,
           0
          ],
          "coloraxis": "coloraxis",
          "opacity": 0.7,
          "symbol": "circle"
         },
         "mode": "markers",
         "name": "",
         "orientation": "v",
         "showlegend": false,
         "type": "scatter",
         "x": [
          23.360610961914062,
          22.981889724731445,
          22.92605209350586,
          23.151918411254883,
          21.01955223083496,
          21.46410369873047,
          21.182018280029297,
          20.715803146362305,
          21.099287033081055,
          22.502010345458984,
          20.77286720275879,
          20.87285804748535,
          21.666383743286133,
          21.624309539794922,
          22.04813575744629,
          23.3997859954834,
          22.54108238220215,
          22.20930290222168,
          21.135801315307617,
          23.470720291137695,
          23.605682373046875,
          23.39130210876465,
          22.298532485961914,
          21.314706802368164,
          20.91847038269043,
          21.920923233032227,
          21.570425033569336,
          23.452465057373047,
          22.322614669799805,
          22.64316749572754,
          21.54545783996582,
          20.397409439086914,
          21.881444931030273,
          23.009252548217773,
          22.030485153198242,
          22.77339744567871,
          22.492061614990234,
          20.020605087280273,
          21.739118576049805,
          22.329071044921875,
          21.970680236816406,
          23.00136947631836,
          23.02303123474121,
          23.18572235107422,
          22.7156982421875,
          22.502729415893555,
          22.575956344604492,
          21.78280258178711,
          20.086275100708008,
          22.92061424255371,
          22.407047271728516,
          21.882753372192383,
          22.308135986328125,
          23.108821868896484,
          21.584716796875,
          22.09453582763672,
          21.165016174316406,
          21.884136199951172,
          22.98597526550293,
          21.83881378173828,
          21.26020050048828,
          20.903791427612305,
          20.871362686157227,
          20.324705123901367,
          22.345369338989258,
          20.278703689575195,
          21.793581008911133,
          23.696331024169922,
          19.875778198242188,
          22.388586044311523,
          22.70232391357422,
          22.114633560180664,
          21.975786209106445,
          21.414281845092773,
          20.797683715820312,
          21.561264038085938,
          21.762208938598633,
          21.211584091186523,
          21.307147979736328,
          20.70572280883789,
          21.29746437072754,
          22.427366256713867,
          21.35033416748047,
          21.988386154174805,
          21.191179275512695,
          22.750938415527344,
          20.32253074645996,
          22.045642852783203,
          21.3873291015625,
          21.34327507019043,
          22.128028869628906,
          21.495075225830078,
          22.343046188354492
         ],
         "xaxis": "x",
         "y": [
          4.831089019775391,
          7.412476062774658,
          4.572564601898193,
          6.718669891357422,
          5.340168476104736,
          4.710664749145508,
          7.608382225036621,
          7.034010410308838,
          4.68384313583374,
          4.53637170791626,
          4.447746753692627,
          5.05380916595459,
          7.525633811950684,
          6.114771366119385,
          4.290708541870117,
          5.372409343719482,
          7.194340705871582,
          7.8407440185546875,
          7.416057109832764,
          5.657571792602539,
          6.097865104675293,
          6.829376697540283,
          7.411734104156494,
          4.3213019371032715,
          6.8559393882751465,
          4.681652545928955,
          5.031131267547607,
          6.380342960357666,
          4.799864292144775,
          7.583184242248535,
          5.234936714172363,
          5.198995590209961,
          6.3868865966796875,
          5.147756576538086,
          6.892611026763916,
          6.8613200187683105,
          5.583899974822998,
          6.340590953826904,
          4.782955169677734,
          5.74758243560791,
          5.275379657745361,
          6.093388557434082,
          5.281358242034912,
          5.848097324371338,
          5.404613494873047,
          5.072371959686279,
          6.631229400634766,
          7.128452301025391,
          5.937097072601318,
          5.800430774688721,
          5.396385192871094,
          7.814325332641602,
          6.312498569488525,
          7.08372163772583,
          7.020092487335205,
          7.270585536956787,
          5.041423797607422,
          4.951442718505859,
          6.263603687286377,
          6.5732221603393555,
          5.20526647567749,
          5.971714019775391,
          6.387697696685791,
          6.023721694946289,
          7.034787178039551,
          6.168457508087158,
          5.47992467880249,
          6.561818599700928,
          6.267956256866455,
          5.972343444824219,
          6.057745456695557,
          6.661019802093506,
          5.765984058380127,
          6.155252456665039,
          5.625021934509277,
          6.478238105773926,
          5.664740562438965,
          6.768423080444336,
          5.9442853927612305,
          6.394412040710449,
          5.619987964630127,
          6.588913440704346,
          6.4615654945373535,
          6.044940948486328,
          5.879152297973633,
          6.470844268798828,
          5.78365421295166,
          6.778998374938965,
          6.710457801818848,
          7.037722587585449,
          6.1382341384887695,
          5.692962646484375,
          6.032774448394775
         ],
         "yaxis": "y"
        }
       ],
       "layout": {
        "coloraxis": {
         "colorbar": {
          "title": {
           "text": "Label"
          }
         },
         "colorscale": [
          [
           0,
           "#0d0887"
          ],
          [
           0.1111111111111111,
           "#46039f"
          ],
          [
           0.2222222222222222,
           "#7201a8"
          ],
          [
           0.3333333333333333,
           "#9c179e"
          ],
          [
           0.4444444444444444,
           "#bd3786"
          ],
          [
           0.5555555555555556,
           "#d8576b"
          ],
          [
           0.6666666666666666,
           "#ed7953"
          ],
          [
           0.7777777777777778,
           "#fb9f3a"
          ],
          [
           0.8888888888888888,
           "#fdca26"
          ],
          [
           1,
           "#f0f921"
          ]
         ]
        },
        "height": 800,
        "legend": {
         "tracegroupgap": 0
        },
        "template": {
         "data": {
          "bar": [
           {
            "error_x": {
             "color": "#2a3f5f"
            },
            "error_y": {
             "color": "#2a3f5f"
            },
            "marker": {
             "line": {
              "color": "#E5ECF6",
              "width": 0.5
             }
            },
            "type": "bar"
           }
          ],
          "barpolar": [
           {
            "marker": {
             "line": {
              "color": "#E5ECF6",
              "width": 0.5
             }
            },
            "type": "barpolar"
           }
          ],
          "carpet": [
           {
            "aaxis": {
             "endlinecolor": "#2a3f5f",
             "gridcolor": "white",
             "linecolor": "white",
             "minorgridcolor": "white",
             "startlinecolor": "#2a3f5f"
            },
            "baxis": {
             "endlinecolor": "#2a3f5f",
             "gridcolor": "white",
             "linecolor": "white",
             "minorgridcolor": "white",
             "startlinecolor": "#2a3f5f"
            },
            "type": "carpet"
           }
          ],
          "choropleth": [
           {
            "colorbar": {
             "outlinewidth": 0,
             "ticks": ""
            },
            "type": "choropleth"
           }
          ],
          "contour": [
           {
            "colorbar": {
             "outlinewidth": 0,
             "ticks": ""
            },
            "colorscale": [
             [
              0,
              "#0d0887"
             ],
             [
              0.1111111111111111,
              "#46039f"
             ],
             [
              0.2222222222222222,
              "#7201a8"
             ],
             [
              0.3333333333333333,
              "#9c179e"
             ],
             [
              0.4444444444444444,
              "#bd3786"
             ],
             [
              0.5555555555555556,
              "#d8576b"
             ],
             [
              0.6666666666666666,
              "#ed7953"
             ],
             [
              0.7777777777777778,
              "#fb9f3a"
             ],
             [
              0.8888888888888888,
              "#fdca26"
             ],
             [
              1,
              "#f0f921"
             ]
            ],
            "type": "contour"
           }
          ],
          "contourcarpet": [
           {
            "colorbar": {
             "outlinewidth": 0,
             "ticks": ""
            },
            "type": "contourcarpet"
           }
          ],
          "heatmap": [
           {
            "colorbar": {
             "outlinewidth": 0,
             "ticks": ""
            },
            "colorscale": [
             [
              0,
              "#0d0887"
             ],
             [
              0.1111111111111111,
              "#46039f"
             ],
             [
              0.2222222222222222,
              "#7201a8"
             ],
             [
              0.3333333333333333,
              "#9c179e"
             ],
             [
              0.4444444444444444,
              "#bd3786"
             ],
             [
              0.5555555555555556,
              "#d8576b"
             ],
             [
              0.6666666666666666,
              "#ed7953"
             ],
             [
              0.7777777777777778,
              "#fb9f3a"
             ],
             [
              0.8888888888888888,
              "#fdca26"
             ],
             [
              1,
              "#f0f921"
             ]
            ],
            "type": "heatmap"
           }
          ],
          "heatmapgl": [
           {
            "colorbar": {
             "outlinewidth": 0,
             "ticks": ""
            },
            "colorscale": [
             [
              0,
              "#0d0887"
             ],
             [
              0.1111111111111111,
              "#46039f"
             ],
             [
              0.2222222222222222,
              "#7201a8"
             ],
             [
              0.3333333333333333,
              "#9c179e"
             ],
             [
              0.4444444444444444,
              "#bd3786"
             ],
             [
              0.5555555555555556,
              "#d8576b"
             ],
             [
              0.6666666666666666,
              "#ed7953"
             ],
             [
              0.7777777777777778,
              "#fb9f3a"
             ],
             [
              0.8888888888888888,
              "#fdca26"
             ],
             [
              1,
              "#f0f921"
             ]
            ],
            "type": "heatmapgl"
           }
          ],
          "histogram": [
           {
            "marker": {
             "colorbar": {
              "outlinewidth": 0,
              "ticks": ""
             }
            },
            "type": "histogram"
           }
          ],
          "histogram2d": [
           {
            "colorbar": {
             "outlinewidth": 0,
             "ticks": ""
            },
            "colorscale": [
             [
              0,
              "#0d0887"
             ],
             [
              0.1111111111111111,
              "#46039f"
             ],
             [
              0.2222222222222222,
              "#7201a8"
             ],
             [
              0.3333333333333333,
              "#9c179e"
             ],
             [
              0.4444444444444444,
              "#bd3786"
             ],
             [
              0.5555555555555556,
              "#d8576b"
             ],
             [
              0.6666666666666666,
              "#ed7953"
             ],
             [
              0.7777777777777778,
              "#fb9f3a"
             ],
             [
              0.8888888888888888,
              "#fdca26"
             ],
             [
              1,
              "#f0f921"
             ]
            ],
            "type": "histogram2d"
           }
          ],
          "histogram2dcontour": [
           {
            "colorbar": {
             "outlinewidth": 0,
             "ticks": ""
            },
            "colorscale": [
             [
              0,
              "#0d0887"
             ],
             [
              0.1111111111111111,
              "#46039f"
             ],
             [
              0.2222222222222222,
              "#7201a8"
             ],
             [
              0.3333333333333333,
              "#9c179e"
             ],
             [
              0.4444444444444444,
              "#bd3786"
             ],
             [
              0.5555555555555556,
              "#d8576b"
             ],
             [
              0.6666666666666666,
              "#ed7953"
             ],
             [
              0.7777777777777778,
              "#fb9f3a"
             ],
             [
              0.8888888888888888,
              "#fdca26"
             ],
             [
              1,
              "#f0f921"
             ]
            ],
            "type": "histogram2dcontour"
           }
          ],
          "mesh3d": [
           {
            "colorbar": {
             "outlinewidth": 0,
             "ticks": ""
            },
            "type": "mesh3d"
           }
          ],
          "parcoords": [
           {
            "line": {
             "colorbar": {
              "outlinewidth": 0,
              "ticks": ""
             }
            },
            "type": "parcoords"
           }
          ],
          "pie": [
           {
            "automargin": true,
            "type": "pie"
           }
          ],
          "scatter": [
           {
            "marker": {
             "colorbar": {
              "outlinewidth": 0,
              "ticks": ""
             }
            },
            "type": "scatter"
           }
          ],
          "scatter3d": [
           {
            "line": {
             "colorbar": {
              "outlinewidth": 0,
              "ticks": ""
             }
            },
            "marker": {
             "colorbar": {
              "outlinewidth": 0,
              "ticks": ""
             }
            },
            "type": "scatter3d"
           }
          ],
          "scattercarpet": [
           {
            "marker": {
             "colorbar": {
              "outlinewidth": 0,
              "ticks": ""
             }
            },
            "type": "scattercarpet"
           }
          ],
          "scattergeo": [
           {
            "marker": {
             "colorbar": {
              "outlinewidth": 0,
              "ticks": ""
             }
            },
            "type": "scattergeo"
           }
          ],
          "scattergl": [
           {
            "marker": {
             "colorbar": {
              "outlinewidth": 0,
              "ticks": ""
             }
            },
            "type": "scattergl"
           }
          ],
          "scattermapbox": [
           {
            "marker": {
             "colorbar": {
              "outlinewidth": 0,
              "ticks": ""
             }
            },
            "type": "scattermapbox"
           }
          ],
          "scatterpolar": [
           {
            "marker": {
             "colorbar": {
              "outlinewidth": 0,
              "ticks": ""
             }
            },
            "type": "scatterpolar"
           }
          ],
          "scatterpolargl": [
           {
            "marker": {
             "colorbar": {
              "outlinewidth": 0,
              "ticks": ""
             }
            },
            "type": "scatterpolargl"
           }
          ],
          "scatterternary": [
           {
            "marker": {
             "colorbar": {
              "outlinewidth": 0,
              "ticks": ""
             }
            },
            "type": "scatterternary"
           }
          ],
          "surface": [
           {
            "colorbar": {
             "outlinewidth": 0,
             "ticks": ""
            },
            "colorscale": [
             [
              0,
              "#0d0887"
             ],
             [
              0.1111111111111111,
              "#46039f"
             ],
             [
              0.2222222222222222,
              "#7201a8"
             ],
             [
              0.3333333333333333,
              "#9c179e"
             ],
             [
              0.4444444444444444,
              "#bd3786"
             ],
             [
              0.5555555555555556,
              "#d8576b"
             ],
             [
              0.6666666666666666,
              "#ed7953"
             ],
             [
              0.7777777777777778,
              "#fb9f3a"
             ],
             [
              0.8888888888888888,
              "#fdca26"
             ],
             [
              1,
              "#f0f921"
             ]
            ],
            "type": "surface"
           }
          ],
          "table": [
           {
            "cells": {
             "fill": {
              "color": "#EBF0F8"
             },
             "line": {
              "color": "white"
             }
            },
            "header": {
             "fill": {
              "color": "#C8D4E3"
             },
             "line": {
              "color": "white"
             }
            },
            "type": "table"
           }
          ]
         },
         "layout": {
          "annotationdefaults": {
           "arrowcolor": "#2a3f5f",
           "arrowhead": 0,
           "arrowwidth": 1
          },
          "coloraxis": {
           "colorbar": {
            "outlinewidth": 0,
            "ticks": ""
           }
          },
          "colorscale": {
           "diverging": [
            [
             0,
             "#8e0152"
            ],
            [
             0.1,
             "#c51b7d"
            ],
            [
             0.2,
             "#de77ae"
            ],
            [
             0.3,
             "#f1b6da"
            ],
            [
             0.4,
             "#fde0ef"
            ],
            [
             0.5,
             "#f7f7f7"
            ],
            [
             0.6,
             "#e6f5d0"
            ],
            [
             0.7,
             "#b8e186"
            ],
            [
             0.8,
             "#7fbc41"
            ],
            [
             0.9,
             "#4d9221"
            ],
            [
             1,
             "#276419"
            ]
           ],
           "sequential": [
            [
             0,
             "#0d0887"
            ],
            [
             0.1111111111111111,
             "#46039f"
            ],
            [
             0.2222222222222222,
             "#7201a8"
            ],
            [
             0.3333333333333333,
             "#9c179e"
            ],
            [
             0.4444444444444444,
             "#bd3786"
            ],
            [
             0.5555555555555556,
             "#d8576b"
            ],
            [
             0.6666666666666666,
             "#ed7953"
            ],
            [
             0.7777777777777778,
             "#fb9f3a"
            ],
            [
             0.8888888888888888,
             "#fdca26"
            ],
            [
             1,
             "#f0f921"
            ]
           ],
           "sequentialminus": [
            [
             0,
             "#0d0887"
            ],
            [
             0.1111111111111111,
             "#46039f"
            ],
            [
             0.2222222222222222,
             "#7201a8"
            ],
            [
             0.3333333333333333,
             "#9c179e"
            ],
            [
             0.4444444444444444,
             "#bd3786"
            ],
            [
             0.5555555555555556,
             "#d8576b"
            ],
            [
             0.6666666666666666,
             "#ed7953"
            ],
            [
             0.7777777777777778,
             "#fb9f3a"
            ],
            [
             0.8888888888888888,
             "#fdca26"
            ],
            [
             1,
             "#f0f921"
            ]
           ]
          },
          "colorway": [
           "#636efa",
           "#EF553B",
           "#00cc96",
           "#ab63fa",
           "#FFA15A",
           "#19d3f3",
           "#FF6692",
           "#B6E880",
           "#FF97FF",
           "#FECB52"
          ],
          "font": {
           "color": "#2a3f5f"
          },
          "geo": {
           "bgcolor": "white",
           "lakecolor": "white",
           "landcolor": "#E5ECF6",
           "showlakes": true,
           "showland": true,
           "subunitcolor": "white"
          },
          "hoverlabel": {
           "align": "left"
          },
          "hovermode": "closest",
          "mapbox": {
           "style": "light"
          },
          "paper_bgcolor": "white",
          "plot_bgcolor": "#E5ECF6",
          "polar": {
           "angularaxis": {
            "gridcolor": "white",
            "linecolor": "white",
            "ticks": ""
           },
           "bgcolor": "#E5ECF6",
           "radialaxis": {
            "gridcolor": "white",
            "linecolor": "white",
            "ticks": ""
           }
          },
          "scene": {
           "xaxis": {
            "backgroundcolor": "#E5ECF6",
            "gridcolor": "white",
            "gridwidth": 2,
            "linecolor": "white",
            "showbackground": true,
            "ticks": "",
            "zerolinecolor": "white"
           },
           "yaxis": {
            "backgroundcolor": "#E5ECF6",
            "gridcolor": "white",
            "gridwidth": 2,
            "linecolor": "white",
            "showbackground": true,
            "ticks": "",
            "zerolinecolor": "white"
           },
           "zaxis": {
            "backgroundcolor": "#E5ECF6",
            "gridcolor": "white",
            "gridwidth": 2,
            "linecolor": "white",
            "showbackground": true,
            "ticks": "",
            "zerolinecolor": "white"
           }
          },
          "shapedefaults": {
           "line": {
            "color": "#2a3f5f"
           }
          },
          "ternary": {
           "aaxis": {
            "gridcolor": "white",
            "linecolor": "white",
            "ticks": ""
           },
           "baxis": {
            "gridcolor": "white",
            "linecolor": "white",
            "ticks": ""
           },
           "bgcolor": "#E5ECF6",
           "caxis": {
            "gridcolor": "white",
            "linecolor": "white",
            "ticks": ""
           }
          },
          "title": {
           "x": 0.05
          },
          "xaxis": {
           "automargin": true,
           "gridcolor": "white",
           "linecolor": "white",
           "ticks": "",
           "title": {
            "standoff": 15
           },
           "zerolinecolor": "white",
           "zerolinewidth": 2
          },
          "yaxis": {
           "automargin": true,
           "gridcolor": "white",
           "linecolor": "white",
           "ticks": "",
           "title": {
            "standoff": 15
           },
           "zerolinecolor": "white",
           "zerolinewidth": 2
          }
         }
        },
        "title": {
         "text": "uMAP Plot for Outliers"
        },
        "width": 900,
        "xaxis": {
         "anchor": "y",
         "domain": [
          0,
          1
         ],
         "title": {
          "text": "0"
         }
        },
        "yaxis": {
         "anchor": "x",
         "domain": [
          0,
          1
         ],
         "title": {
          "text": "1"
         }
        }
       }
      },
      "text/html": [
       "<div>\n",
       "        \n",
       "        \n",
       "            <div id=\"b8d8838f-d764-4b65-a9de-ad7582f588ec\" class=\"plotly-graph-div\" style=\"height:800px; width:900px;\"></div>\n",
       "            <script type=\"text/javascript\">\n",
       "                require([\"plotly\"], function(Plotly) {\n",
       "                    window.PLOTLYENV=window.PLOTLYENV || {};\n",
       "                    \n",
       "                if (document.getElementById(\"b8d8838f-d764-4b65-a9de-ad7582f588ec\")) {\n",
       "                    Plotly.newPlot(\n",
       "                        'b8d8838f-d764-4b65-a9de-ad7582f588ec',\n",
       "                        [{\"customdata\": [[null], [\"Breast-MRI-NACT-Pilot\"], [\"Breast-MRI-NACT-Pilot\"], [\"Breast-MRI-NACT-Pilot\"], [\"Breast-MRI-NACT-Pilot\"], [\"Breast-MRI-NACT-Pilot\"], [\"Breast-MRI-NACT-Pilot\"], [\"Breast-MRI-NACT-Pilot\"], [\"Breast-MRI-NACT-Pilot\"], [\"Breast-MRI-NACT-Pilot\"], [\"Breast-MRI-NACT-Pilot\"], [\"Breast-MRI-NACT-Pilot\"], [\"Breast-MRI-NACT-Pilot\"], [\"Breast-MRI-NACT-Pilot\"], [\"Breast-MRI-NACT-Pilot\"], [\"Breast-MRI-NACT-Pilot\"], [\"Breast-MRI-NACT-Pilot\"], [\"Breast-MRI-NACT-Pilot\"], [\"Breast-MRI-NACT-Pilot\"], [\"Breast-MRI-NACT-Pilot\"], [\"Breast-MRI-NACT-Pilot\"], [\"Breast-MRI-NACT-Pilot\"], [\"Breast-MRI-NACT-Pilot\"], [\"Breast-MRI-NACT-Pilot\"], [\"Breast-MRI-NACT-Pilot\"], [\"Breast-MRI-NACT-Pilot\"], [\"I-Spy1\"], [\"I-Spy1\"], [\"I-Spy1\"], [\"I-Spy1\"], [\"I-Spy1\"], [\"I-Spy1\"], [\"I-Spy1\"], [\"I-Spy1\"], [\"I-Spy1\"], [\"I-Spy1\"], [\"I-Spy1\"], [\"I-Spy1\"], [\"I-Spy1\"], [\"I-Spy1\"], [\"I-Spy1\"], [\"I-Spy1\"], [\"I-Spy1\"], [\"I-Spy1\"], [\"I-Spy1\"], [\"I-Spy1\"], [\"I-Spy1\"], [\"I-Spy1\"], [\"I-Spy1\"], [\"I-Spy1\"], [\"I-Spy1\"], [\"I-Spy1\"], [\"I-Spy1\"], [\"I-Spy1\"], [\"I-Spy1\"], [\"I-Spy1\"], [\"I-Spy1\"], [\"I-Spy1\"], [\"I-Spy1\"], [\"I-Spy1\"], [\"I-Spy1\"], [\"I-Spy1\"], [\"I-Spy1\"], [\"I-Spy1\"], [\"I-Spy1\"], [\"I-Spy1\"], [\"I-Spy1\"], [\"I-Spy1\"], [\"I-Spy1\"], [\"I-Spy1\"], [\"I-Spy1\"], [\"I-Spy1\"], [\"I-Spy1\"], [\"I-Spy1\"], [\"I-Spy1\"], [\"I-Spy1\"], [\"I-Spy1\"], [\"I-Spy1\"], [\"I-Spy1\"], [\"I-Spy1\"], [\"I-Spy1\"], [\"I-Spy1\"], [\"I-Spy1\"], [\"I-Spy1\"], [\"I-Spy1\"], [\"I-Spy1\"], [\"I-Spy1\"], [\"I-Spy1\"], [\"I-Spy1\"], [\"I-Spy1\"], [\"I-Spy1\"], [\"I-Spy1\"], [\"I-Spy1\"]], \"hovertemplate\": \"0=%{x}<br>1=%{y}<br>Feature=%{customdata[0]}<br>Label=%{marker.color}<extra></extra>\", \"legendgroup\": \"\", \"marker\": {\"color\": [null, 0.0, 0.0, 0.0, 0.0, 0.0, 0.0, 0.0, 0.0, 0.0, 0.0, 0.0, 0.0, 0.0, 0.0, 0.0, 0.0, 0.0, 0.0, 0.0, 0.0, 0.0, 0.0, 0.0, 0.0, 0.0, 0.0, 0.0, 0.0, 0.0, 0.0, 0.0, 0.0, 0.0, 0.0, 0.0, 0.0, 0.0, 0.0, 0.0, 0.0, 0.0, 0.0, 0.0, 0.0, 0.0, 0.0, 0.0, 0.0, 0.0, 0.0, 0.0, 0.0, 0.0, 0.0, 0.0, 0.0, 0.0, 0.0, 0.0, 0.0, 0.0, 0.0, 0.0, 0.0, 0.0, 0.0, 0.0, 0.0, 0.0, 0.0, 0.0, 0.0, 0.0, 0.0, 0.0, 0.0, 0.0, 0.0, 0.0, 1.0, 0.0, 0.0, 0.0, 0.0, 0.0, 0.0, 0.0, 0.0, 0.0, 0.0, 0.0, 0.0], \"coloraxis\": \"coloraxis\", \"opacity\": 0.7, \"symbol\": \"circle\"}, \"mode\": \"markers\", \"name\": \"\", \"orientation\": \"v\", \"showlegend\": false, \"type\": \"scatter\", \"x\": [23.360610961914062, 22.981889724731445, 22.92605209350586, 23.151918411254883, 21.01955223083496, 21.46410369873047, 21.182018280029297, 20.715803146362305, 21.099287033081055, 22.502010345458984, 20.77286720275879, 20.87285804748535, 21.666383743286133, 21.624309539794922, 22.04813575744629, 23.3997859954834, 22.54108238220215, 22.20930290222168, 21.135801315307617, 23.470720291137695, 23.605682373046875, 23.39130210876465, 22.298532485961914, 21.314706802368164, 20.91847038269043, 21.920923233032227, 21.570425033569336, 23.452465057373047, 22.322614669799805, 22.64316749572754, 21.54545783996582, 20.397409439086914, 21.881444931030273, 23.009252548217773, 22.030485153198242, 22.77339744567871, 22.492061614990234, 20.020605087280273, 21.739118576049805, 22.329071044921875, 21.970680236816406, 23.00136947631836, 23.02303123474121, 23.18572235107422, 22.7156982421875, 22.502729415893555, 22.575956344604492, 21.78280258178711, 20.086275100708008, 22.92061424255371, 22.407047271728516, 21.882753372192383, 22.308135986328125, 23.108821868896484, 21.584716796875, 22.09453582763672, 21.165016174316406, 21.884136199951172, 22.98597526550293, 21.83881378173828, 21.26020050048828, 20.903791427612305, 20.871362686157227, 20.324705123901367, 22.345369338989258, 20.278703689575195, 21.793581008911133, 23.696331024169922, 19.875778198242188, 22.388586044311523, 22.70232391357422, 22.114633560180664, 21.975786209106445, 21.414281845092773, 20.797683715820312, 21.561264038085938, 21.762208938598633, 21.211584091186523, 21.307147979736328, 20.70572280883789, 21.29746437072754, 22.427366256713867, 21.35033416748047, 21.988386154174805, 21.191179275512695, 22.750938415527344, 20.32253074645996, 22.045642852783203, 21.3873291015625, 21.34327507019043, 22.128028869628906, 21.495075225830078, 22.343046188354492], \"xaxis\": \"x\", \"y\": [4.831089019775391, 7.412476062774658, 4.572564601898193, 6.718669891357422, 5.340168476104736, 4.710664749145508, 7.608382225036621, 7.034010410308838, 4.68384313583374, 4.53637170791626, 4.447746753692627, 5.05380916595459, 7.525633811950684, 6.114771366119385, 4.290708541870117, 5.372409343719482, 7.194340705871582, 7.8407440185546875, 7.416057109832764, 5.657571792602539, 6.097865104675293, 6.829376697540283, 7.411734104156494, 4.3213019371032715, 6.8559393882751465, 4.681652545928955, 5.031131267547607, 6.380342960357666, 4.799864292144775, 7.583184242248535, 5.234936714172363, 5.198995590209961, 6.3868865966796875, 5.147756576538086, 6.892611026763916, 6.8613200187683105, 5.583899974822998, 6.340590953826904, 4.782955169677734, 5.74758243560791, 5.275379657745361, 6.093388557434082, 5.281358242034912, 5.848097324371338, 5.404613494873047, 5.072371959686279, 6.631229400634766, 7.128452301025391, 5.937097072601318, 5.800430774688721, 5.396385192871094, 7.814325332641602, 6.312498569488525, 7.08372163772583, 7.020092487335205, 7.270585536956787, 5.041423797607422, 4.951442718505859, 6.263603687286377, 6.5732221603393555, 5.20526647567749, 5.971714019775391, 6.387697696685791, 6.023721694946289, 7.034787178039551, 6.168457508087158, 5.47992467880249, 6.561818599700928, 6.267956256866455, 5.972343444824219, 6.057745456695557, 6.661019802093506, 5.765984058380127, 6.155252456665039, 5.625021934509277, 6.478238105773926, 5.664740562438965, 6.768423080444336, 5.9442853927612305, 6.394412040710449, 5.619987964630127, 6.588913440704346, 6.4615654945373535, 6.044940948486328, 5.879152297973633, 6.470844268798828, 5.78365421295166, 6.778998374938965, 6.710457801818848, 7.037722587585449, 6.1382341384887695, 5.692962646484375, 6.032774448394775], \"yaxis\": \"y\"}],\n",
       "                        {\"coloraxis\": {\"colorbar\": {\"title\": {\"text\": \"Label\"}}, \"colorscale\": [[0.0, \"#0d0887\"], [0.1111111111111111, \"#46039f\"], [0.2222222222222222, \"#7201a8\"], [0.3333333333333333, \"#9c179e\"], [0.4444444444444444, \"#bd3786\"], [0.5555555555555556, \"#d8576b\"], [0.6666666666666666, \"#ed7953\"], [0.7777777777777778, \"#fb9f3a\"], [0.8888888888888888, \"#fdca26\"], [1.0, \"#f0f921\"]]}, \"height\": 800, \"legend\": {\"tracegroupgap\": 0}, \"template\": {\"data\": {\"bar\": [{\"error_x\": {\"color\": \"#2a3f5f\"}, \"error_y\": {\"color\": \"#2a3f5f\"}, \"marker\": {\"line\": {\"color\": \"#E5ECF6\", \"width\": 0.5}}, \"type\": \"bar\"}], \"barpolar\": [{\"marker\": {\"line\": {\"color\": \"#E5ECF6\", \"width\": 0.5}}, \"type\": \"barpolar\"}], \"carpet\": [{\"aaxis\": {\"endlinecolor\": \"#2a3f5f\", \"gridcolor\": \"white\", \"linecolor\": \"white\", \"minorgridcolor\": \"white\", \"startlinecolor\": \"#2a3f5f\"}, \"baxis\": {\"endlinecolor\": \"#2a3f5f\", \"gridcolor\": \"white\", \"linecolor\": \"white\", \"minorgridcolor\": \"white\", \"startlinecolor\": \"#2a3f5f\"}, \"type\": \"carpet\"}], \"choropleth\": [{\"colorbar\": {\"outlinewidth\": 0, \"ticks\": \"\"}, \"type\": \"choropleth\"}], \"contour\": [{\"colorbar\": {\"outlinewidth\": 0, \"ticks\": \"\"}, \"colorscale\": [[0.0, \"#0d0887\"], [0.1111111111111111, \"#46039f\"], [0.2222222222222222, \"#7201a8\"], [0.3333333333333333, \"#9c179e\"], [0.4444444444444444, \"#bd3786\"], [0.5555555555555556, \"#d8576b\"], [0.6666666666666666, \"#ed7953\"], [0.7777777777777778, \"#fb9f3a\"], [0.8888888888888888, \"#fdca26\"], [1.0, \"#f0f921\"]], \"type\": \"contour\"}], \"contourcarpet\": [{\"colorbar\": {\"outlinewidth\": 0, \"ticks\": \"\"}, \"type\": \"contourcarpet\"}], \"heatmap\": [{\"colorbar\": {\"outlinewidth\": 0, \"ticks\": \"\"}, \"colorscale\": [[0.0, \"#0d0887\"], [0.1111111111111111, \"#46039f\"], [0.2222222222222222, \"#7201a8\"], [0.3333333333333333, \"#9c179e\"], [0.4444444444444444, \"#bd3786\"], [0.5555555555555556, \"#d8576b\"], [0.6666666666666666, \"#ed7953\"], [0.7777777777777778, \"#fb9f3a\"], [0.8888888888888888, \"#fdca26\"], [1.0, \"#f0f921\"]], \"type\": \"heatmap\"}], \"heatmapgl\": [{\"colorbar\": {\"outlinewidth\": 0, \"ticks\": \"\"}, \"colorscale\": [[0.0, \"#0d0887\"], [0.1111111111111111, \"#46039f\"], [0.2222222222222222, \"#7201a8\"], [0.3333333333333333, \"#9c179e\"], [0.4444444444444444, \"#bd3786\"], [0.5555555555555556, \"#d8576b\"], [0.6666666666666666, \"#ed7953\"], [0.7777777777777778, \"#fb9f3a\"], [0.8888888888888888, \"#fdca26\"], [1.0, \"#f0f921\"]], \"type\": \"heatmapgl\"}], \"histogram\": [{\"marker\": {\"colorbar\": {\"outlinewidth\": 0, \"ticks\": \"\"}}, \"type\": \"histogram\"}], \"histogram2d\": [{\"colorbar\": {\"outlinewidth\": 0, \"ticks\": \"\"}, \"colorscale\": [[0.0, \"#0d0887\"], [0.1111111111111111, \"#46039f\"], [0.2222222222222222, \"#7201a8\"], [0.3333333333333333, \"#9c179e\"], [0.4444444444444444, \"#bd3786\"], [0.5555555555555556, \"#d8576b\"], [0.6666666666666666, \"#ed7953\"], [0.7777777777777778, \"#fb9f3a\"], [0.8888888888888888, \"#fdca26\"], [1.0, \"#f0f921\"]], \"type\": \"histogram2d\"}], \"histogram2dcontour\": [{\"colorbar\": {\"outlinewidth\": 0, \"ticks\": \"\"}, \"colorscale\": [[0.0, \"#0d0887\"], [0.1111111111111111, \"#46039f\"], [0.2222222222222222, \"#7201a8\"], [0.3333333333333333, \"#9c179e\"], [0.4444444444444444, \"#bd3786\"], [0.5555555555555556, \"#d8576b\"], [0.6666666666666666, \"#ed7953\"], [0.7777777777777778, \"#fb9f3a\"], [0.8888888888888888, \"#fdca26\"], [1.0, \"#f0f921\"]], \"type\": \"histogram2dcontour\"}], \"mesh3d\": [{\"colorbar\": {\"outlinewidth\": 0, \"ticks\": \"\"}, \"type\": \"mesh3d\"}], \"parcoords\": [{\"line\": {\"colorbar\": {\"outlinewidth\": 0, \"ticks\": \"\"}}, \"type\": \"parcoords\"}], \"pie\": [{\"automargin\": true, \"type\": \"pie\"}], \"scatter\": [{\"marker\": {\"colorbar\": {\"outlinewidth\": 0, \"ticks\": \"\"}}, \"type\": \"scatter\"}], \"scatter3d\": [{\"line\": {\"colorbar\": {\"outlinewidth\": 0, \"ticks\": \"\"}}, \"marker\": {\"colorbar\": {\"outlinewidth\": 0, \"ticks\": \"\"}}, \"type\": \"scatter3d\"}], \"scattercarpet\": [{\"marker\": {\"colorbar\": {\"outlinewidth\": 0, \"ticks\": \"\"}}, \"type\": \"scattercarpet\"}], \"scattergeo\": [{\"marker\": {\"colorbar\": {\"outlinewidth\": 0, \"ticks\": \"\"}}, \"type\": \"scattergeo\"}], \"scattergl\": [{\"marker\": {\"colorbar\": {\"outlinewidth\": 0, \"ticks\": \"\"}}, \"type\": \"scattergl\"}], \"scattermapbox\": [{\"marker\": {\"colorbar\": {\"outlinewidth\": 0, \"ticks\": \"\"}}, \"type\": \"scattermapbox\"}], \"scatterpolar\": [{\"marker\": {\"colorbar\": {\"outlinewidth\": 0, \"ticks\": \"\"}}, \"type\": \"scatterpolar\"}], \"scatterpolargl\": [{\"marker\": {\"colorbar\": {\"outlinewidth\": 0, \"ticks\": \"\"}}, \"type\": \"scatterpolargl\"}], \"scatterternary\": [{\"marker\": {\"colorbar\": {\"outlinewidth\": 0, \"ticks\": \"\"}}, \"type\": \"scatterternary\"}], \"surface\": [{\"colorbar\": {\"outlinewidth\": 0, \"ticks\": \"\"}, \"colorscale\": [[0.0, \"#0d0887\"], [0.1111111111111111, \"#46039f\"], [0.2222222222222222, \"#7201a8\"], [0.3333333333333333, \"#9c179e\"], [0.4444444444444444, \"#bd3786\"], [0.5555555555555556, \"#d8576b\"], [0.6666666666666666, \"#ed7953\"], [0.7777777777777778, \"#fb9f3a\"], [0.8888888888888888, \"#fdca26\"], [1.0, \"#f0f921\"]], \"type\": \"surface\"}], \"table\": [{\"cells\": {\"fill\": {\"color\": \"#EBF0F8\"}, \"line\": {\"color\": \"white\"}}, \"header\": {\"fill\": {\"color\": \"#C8D4E3\"}, \"line\": {\"color\": \"white\"}}, \"type\": \"table\"}]}, \"layout\": {\"annotationdefaults\": {\"arrowcolor\": \"#2a3f5f\", \"arrowhead\": 0, \"arrowwidth\": 1}, \"coloraxis\": {\"colorbar\": {\"outlinewidth\": 0, \"ticks\": \"\"}}, \"colorscale\": {\"diverging\": [[0, \"#8e0152\"], [0.1, \"#c51b7d\"], [0.2, \"#de77ae\"], [0.3, \"#f1b6da\"], [0.4, \"#fde0ef\"], [0.5, \"#f7f7f7\"], [0.6, \"#e6f5d0\"], [0.7, \"#b8e186\"], [0.8, \"#7fbc41\"], [0.9, \"#4d9221\"], [1, \"#276419\"]], \"sequential\": [[0.0, \"#0d0887\"], [0.1111111111111111, \"#46039f\"], [0.2222222222222222, \"#7201a8\"], [0.3333333333333333, \"#9c179e\"], [0.4444444444444444, \"#bd3786\"], [0.5555555555555556, \"#d8576b\"], [0.6666666666666666, \"#ed7953\"], [0.7777777777777778, \"#fb9f3a\"], [0.8888888888888888, \"#fdca26\"], [1.0, \"#f0f921\"]], \"sequentialminus\": [[0.0, \"#0d0887\"], [0.1111111111111111, \"#46039f\"], [0.2222222222222222, \"#7201a8\"], [0.3333333333333333, \"#9c179e\"], [0.4444444444444444, \"#bd3786\"], [0.5555555555555556, \"#d8576b\"], [0.6666666666666666, \"#ed7953\"], [0.7777777777777778, \"#fb9f3a\"], [0.8888888888888888, \"#fdca26\"], [1.0, \"#f0f921\"]]}, \"colorway\": [\"#636efa\", \"#EF553B\", \"#00cc96\", \"#ab63fa\", \"#FFA15A\", \"#19d3f3\", \"#FF6692\", \"#B6E880\", \"#FF97FF\", \"#FECB52\"], \"font\": {\"color\": \"#2a3f5f\"}, \"geo\": {\"bgcolor\": \"white\", \"lakecolor\": \"white\", \"landcolor\": \"#E5ECF6\", \"showlakes\": true, \"showland\": true, \"subunitcolor\": \"white\"}, \"hoverlabel\": {\"align\": \"left\"}, \"hovermode\": \"closest\", \"mapbox\": {\"style\": \"light\"}, \"paper_bgcolor\": \"white\", \"plot_bgcolor\": \"#E5ECF6\", \"polar\": {\"angularaxis\": {\"gridcolor\": \"white\", \"linecolor\": \"white\", \"ticks\": \"\"}, \"bgcolor\": \"#E5ECF6\", \"radialaxis\": {\"gridcolor\": \"white\", \"linecolor\": \"white\", \"ticks\": \"\"}}, \"scene\": {\"xaxis\": {\"backgroundcolor\": \"#E5ECF6\", \"gridcolor\": \"white\", \"gridwidth\": 2, \"linecolor\": \"white\", \"showbackground\": true, \"ticks\": \"\", \"zerolinecolor\": \"white\"}, \"yaxis\": {\"backgroundcolor\": \"#E5ECF6\", \"gridcolor\": \"white\", \"gridwidth\": 2, \"linecolor\": \"white\", \"showbackground\": true, \"ticks\": \"\", \"zerolinecolor\": \"white\"}, \"zaxis\": {\"backgroundcolor\": \"#E5ECF6\", \"gridcolor\": \"white\", \"gridwidth\": 2, \"linecolor\": \"white\", \"showbackground\": true, \"ticks\": \"\", \"zerolinecolor\": \"white\"}}, \"shapedefaults\": {\"line\": {\"color\": \"#2a3f5f\"}}, \"ternary\": {\"aaxis\": {\"gridcolor\": \"white\", \"linecolor\": \"white\", \"ticks\": \"\"}, \"baxis\": {\"gridcolor\": \"white\", \"linecolor\": \"white\", \"ticks\": \"\"}, \"bgcolor\": \"#E5ECF6\", \"caxis\": {\"gridcolor\": \"white\", \"linecolor\": \"white\", \"ticks\": \"\"}}, \"title\": {\"x\": 0.05}, \"xaxis\": {\"automargin\": true, \"gridcolor\": \"white\", \"linecolor\": \"white\", \"ticks\": \"\", \"title\": {\"standoff\": 15}, \"zerolinecolor\": \"white\", \"zerolinewidth\": 2}, \"yaxis\": {\"automargin\": true, \"gridcolor\": \"white\", \"linecolor\": \"white\", \"ticks\": \"\", \"title\": {\"standoff\": 15}, \"zerolinecolor\": \"white\", \"zerolinewidth\": 2}}}, \"title\": {\"text\": \"uMAP Plot for Outliers\"}, \"width\": 900, \"xaxis\": {\"anchor\": \"y\", \"domain\": [0.0, 1.0], \"title\": {\"text\": \"0\"}}, \"yaxis\": {\"anchor\": \"x\", \"domain\": [0.0, 1.0], \"title\": {\"text\": \"1\"}}},\n",
       "                        {\"responsive\": true}\n",
       "                    ).then(function(){\n",
       "                            \n",
       "var gd = document.getElementById('b8d8838f-d764-4b65-a9de-ad7582f588ec');\n",
       "var x = new MutationObserver(function (mutations, observer) {{\n",
       "        var display = window.getComputedStyle(gd).display;\n",
       "        if (!display || display === 'none') {{\n",
       "            console.log([gd, 'removed!']);\n",
       "            Plotly.purge(gd);\n",
       "            observer.disconnect();\n",
       "        }}\n",
       "}});\n",
       "\n",
       "// Listen for the removal of the full notebook cells\n",
       "var notebookContainer = gd.closest('#notebook-container');\n",
       "if (notebookContainer) {{\n",
       "    x.observe(notebookContainer, {childList: true});\n",
       "}}\n",
       "\n",
       "// Listen for the clearing of the current output cell\n",
       "var outputEl = gd.closest('.output');\n",
       "if (outputEl) {{\n",
       "    x.observe(outputEl, {childList: true});\n",
       "}}\n",
       "\n",
       "                        })\n",
       "                };\n",
       "                });\n",
       "            </script>\n",
       "        </div>"
      ]
     },
     "metadata": {},
     "output_type": "display_data"
    }
   ],
   "source": [
    "plot_model(svm,plot = 'umap')"
   ]
  },
  {
   "cell_type": "code",
   "execution_count": 15,
   "metadata": {},
   "outputs": [
    {
     "data": {
      "text/html": [
       "<div>\n",
       "<style scoped>\n",
       "    .dataframe tbody tr th:only-of-type {\n",
       "        vertical-align: middle;\n",
       "    }\n",
       "\n",
       "    .dataframe tbody tr th {\n",
       "        vertical-align: top;\n",
       "    }\n",
       "\n",
       "    .dataframe thead th {\n",
       "        text-align: right;\n",
       "    }\n",
       "</style>\n",
       "<table border=\"1\" class=\"dataframe\">\n",
       "  <thead>\n",
       "    <tr style=\"text-align: right;\">\n",
       "      <th></th>\n",
       "      <th>STUDYID</th>\n",
       "      <th>DOMAIN</th>\n",
       "      <th>USUBJID</th>\n",
       "      <th>DSSEQ</th>\n",
       "      <th>DSGRPID</th>\n",
       "      <th>DSREFID</th>\n",
       "      <th>DSSPID</th>\n",
       "      <th>DSTERM</th>\n",
       "      <th>DSDECOD</th>\n",
       "      <th>DSSCAT</th>\n",
       "      <th>EPOCH</th>\n",
       "      <th>DSDTC</th>\n",
       "      <th>DSSTDTC</th>\n",
       "      <th>DSSTDY</th>\n",
       "      <th>Label</th>\n",
       "      <th>Score</th>\n",
       "    </tr>\n",
       "  </thead>\n",
       "  <tbody>\n",
       "    <tr>\n",
       "      <th>0</th>\n",
       "      <td>Breast-MRI-NACT-Pilot</td>\n",
       "      <td>DS</td>\n",
       "      <td>UCSF-BR-58</td>\n",
       "      <td>326</td>\n",
       "      <td>NaN</td>\n",
       "      <td>NaN</td>\n",
       "      <td>NaN</td>\n",
       "      <td>Recurrent Disease</td>\n",
       "      <td>DISEASE RELAPSE</td>\n",
       "      <td>NaN</td>\n",
       "      <td>NaN</td>\n",
       "      <td>NaN</td>\n",
       "      <td>NaN</td>\n",
       "      <td>NaN</td>\n",
       "      <td>0</td>\n",
       "      <td>3.145746e-08</td>\n",
       "    </tr>\n",
       "    <tr>\n",
       "      <th>1</th>\n",
       "      <td>I-Spy1</td>\n",
       "      <td>DS</td>\n",
       "      <td>ISPY1_1017</td>\n",
       "      <td>15</td>\n",
       "      <td>NaN</td>\n",
       "      <td>NaN</td>\n",
       "      <td>NaN</td>\n",
       "      <td>Recurrent Disease</td>\n",
       "      <td>DISEASE RELAPSE</td>\n",
       "      <td>NaN</td>\n",
       "      <td>NaN</td>\n",
       "      <td>NaN</td>\n",
       "      <td>NaN</td>\n",
       "      <td>NaN</td>\n",
       "      <td>0</td>\n",
       "      <td>3.145746e-08</td>\n",
       "    </tr>\n",
       "    <tr>\n",
       "      <th>2</th>\n",
       "      <td>I-Spy1</td>\n",
       "      <td>DS</td>\n",
       "      <td>ISPY1_1152</td>\n",
       "      <td>139</td>\n",
       "      <td>NaN</td>\n",
       "      <td>NaN</td>\n",
       "      <td>NaN</td>\n",
       "      <td>Recurrent Disease</td>\n",
       "      <td>DISEASE RELAPSE</td>\n",
       "      <td>NaN</td>\n",
       "      <td>NaN</td>\n",
       "      <td>NaN</td>\n",
       "      <td>NaN</td>\n",
       "      <td>NaN</td>\n",
       "      <td>0</td>\n",
       "      <td>3.145746e-08</td>\n",
       "    </tr>\n",
       "    <tr>\n",
       "      <th>3</th>\n",
       "      <td>I-Spy1</td>\n",
       "      <td>DS</td>\n",
       "      <td>ISPY1_1206</td>\n",
       "      <td>188</td>\n",
       "      <td>NaN</td>\n",
       "      <td>NaN</td>\n",
       "      <td>NaN</td>\n",
       "      <td>Recurrent Disease</td>\n",
       "      <td>DISEASE RELAPSE</td>\n",
       "      <td>NaN</td>\n",
       "      <td>NaN</td>\n",
       "      <td>NaN</td>\n",
       "      <td>NaN</td>\n",
       "      <td>NaN</td>\n",
       "      <td>0</td>\n",
       "      <td>3.145746e-08</td>\n",
       "    </tr>\n",
       "    <tr>\n",
       "      <th>4</th>\n",
       "      <td>I-Spy1</td>\n",
       "      <td>DS</td>\n",
       "      <td>ISPY1_1230</td>\n",
       "      <td>212</td>\n",
       "      <td>NaN</td>\n",
       "      <td>NaN</td>\n",
       "      <td>NaN</td>\n",
       "      <td>Recurrent Disease</td>\n",
       "      <td>DISEASE RELAPSE</td>\n",
       "      <td>NaN</td>\n",
       "      <td>NaN</td>\n",
       "      <td>NaN</td>\n",
       "      <td>NaN</td>\n",
       "      <td>NaN</td>\n",
       "      <td>0</td>\n",
       "      <td>3.145746e-08</td>\n",
       "    </tr>\n",
       "  </tbody>\n",
       "</table>\n",
       "</div>"
      ],
      "text/plain": [
       "                 STUDYID DOMAIN     USUBJID  DSSEQ  DSGRPID  DSREFID  DSSPID  \\\n",
       "0  Breast-MRI-NACT-Pilot     DS  UCSF-BR-58    326      NaN      NaN     NaN   \n",
       "1                 I-Spy1     DS  ISPY1_1017     15      NaN      NaN     NaN   \n",
       "2                 I-Spy1     DS  ISPY1_1152    139      NaN      NaN     NaN   \n",
       "3                 I-Spy1     DS  ISPY1_1206    188      NaN      NaN     NaN   \n",
       "4                 I-Spy1     DS  ISPY1_1230    212      NaN      NaN     NaN   \n",
       "\n",
       "              DSTERM          DSDECOD  DSSCAT  EPOCH  DSDTC  DSSTDTC  DSSTDY  \\\n",
       "0  Recurrent Disease  DISEASE RELAPSE     NaN    NaN    NaN      NaN     NaN   \n",
       "1  Recurrent Disease  DISEASE RELAPSE     NaN    NaN    NaN      NaN     NaN   \n",
       "2  Recurrent Disease  DISEASE RELAPSE     NaN    NaN    NaN      NaN     NaN   \n",
       "3  Recurrent Disease  DISEASE RELAPSE     NaN    NaN    NaN      NaN     NaN   \n",
       "4  Recurrent Disease  DISEASE RELAPSE     NaN    NaN    NaN      NaN     NaN   \n",
       "\n",
       "   Label         Score  \n",
       "0      0  3.145746e-08  \n",
       "1      0  3.145746e-08  \n",
       "2      0  3.145746e-08  \n",
       "3      0  3.145746e-08  \n",
       "4      0  3.145746e-08  "
      ]
     },
     "execution_count": 15,
     "metadata": {},
     "output_type": "execute_result"
    }
   ],
   "source": [
    "unseen_predictions = predict_model(svm, data=data_unseen)\n",
    "unseen_predictions.head()"
   ]
  },
  {
   "cell_type": "code",
   "execution_count": 16,
   "metadata": {},
   "outputs": [
    {
     "data": {
      "text/html": [
       "<div>\n",
       "<style scoped>\n",
       "    .dataframe tbody tr th:only-of-type {\n",
       "        vertical-align: middle;\n",
       "    }\n",
       "\n",
       "    .dataframe tbody tr th {\n",
       "        vertical-align: top;\n",
       "    }\n",
       "\n",
       "    .dataframe thead th {\n",
       "        text-align: right;\n",
       "    }\n",
       "</style>\n",
       "<table border=\"1\" class=\"dataframe\">\n",
       "  <thead>\n",
       "    <tr style=\"text-align: right;\">\n",
       "      <th></th>\n",
       "      <th>STUDYID</th>\n",
       "      <th>DOMAIN</th>\n",
       "      <th>USUBJID</th>\n",
       "      <th>DSSEQ</th>\n",
       "      <th>DSGRPID</th>\n",
       "      <th>DSREFID</th>\n",
       "      <th>DSSPID</th>\n",
       "      <th>DSTERM</th>\n",
       "      <th>DSDECOD</th>\n",
       "      <th>DSSCAT</th>\n",
       "      <th>EPOCH</th>\n",
       "      <th>DSDTC</th>\n",
       "      <th>DSSTDTC</th>\n",
       "      <th>DSSTDY</th>\n",
       "      <th>Label</th>\n",
       "      <th>Score</th>\n",
       "    </tr>\n",
       "  </thead>\n",
       "  <tbody>\n",
       "    <tr>\n",
       "      <th>0</th>\n",
       "      <td>I-Spy1</td>\n",
       "      <td>DS</td>\n",
       "      <td>ISPY1_1041</td>\n",
       "      <td>37</td>\n",
       "      <td>NaN</td>\n",
       "      <td>NaN</td>\n",
       "      <td>NaN</td>\n",
       "      <td>Recurrent Disease</td>\n",
       "      <td>DISEASE RELAPSE</td>\n",
       "      <td>NaN</td>\n",
       "      <td>NaN</td>\n",
       "      <td>NaN</td>\n",
       "      <td>NaN</td>\n",
       "      <td>NaN</td>\n",
       "      <td>0</td>\n",
       "      <td>3.145746e-08</td>\n",
       "    </tr>\n",
       "    <tr>\n",
       "      <th>1</th>\n",
       "      <td>I-Spy1</td>\n",
       "      <td>DS</td>\n",
       "      <td>ISPY1_1067</td>\n",
       "      <td>62</td>\n",
       "      <td>NaN</td>\n",
       "      <td>NaN</td>\n",
       "      <td>NaN</td>\n",
       "      <td>Recurrent Disease</td>\n",
       "      <td>DISEASE RELAPSE</td>\n",
       "      <td>NaN</td>\n",
       "      <td>NaN</td>\n",
       "      <td>NaN</td>\n",
       "      <td>NaN</td>\n",
       "      <td>NaN</td>\n",
       "      <td>0</td>\n",
       "      <td>3.145746e-08</td>\n",
       "    </tr>\n",
       "    <tr>\n",
       "      <th>2</th>\n",
       "      <td>I-Spy1</td>\n",
       "      <td>DS</td>\n",
       "      <td>ISPY1_1040</td>\n",
       "      <td>36</td>\n",
       "      <td>NaN</td>\n",
       "      <td>NaN</td>\n",
       "      <td>NaN</td>\n",
       "      <td>Recurrent Disease</td>\n",
       "      <td>DISEASE RELAPSE</td>\n",
       "      <td>NaN</td>\n",
       "      <td>NaN</td>\n",
       "      <td>NaN</td>\n",
       "      <td>NaN</td>\n",
       "      <td>NaN</td>\n",
       "      <td>0</td>\n",
       "      <td>3.145746e-08</td>\n",
       "    </tr>\n",
       "    <tr>\n",
       "      <th>3</th>\n",
       "      <td>Breast-MRI-NACT-Pilot</td>\n",
       "      <td>DS</td>\n",
       "      <td>UCSF-BR-40</td>\n",
       "      <td>308</td>\n",
       "      <td>NaN</td>\n",
       "      <td>NaN</td>\n",
       "      <td>NaN</td>\n",
       "      <td>Recurrent Disease</td>\n",
       "      <td>DISEASE RELAPSE</td>\n",
       "      <td>NaN</td>\n",
       "      <td>NaN</td>\n",
       "      <td>NaN</td>\n",
       "      <td>NaN</td>\n",
       "      <td>NaN</td>\n",
       "      <td>0</td>\n",
       "      <td>3.145746e-08</td>\n",
       "    </tr>\n",
       "    <tr>\n",
       "      <th>4</th>\n",
       "      <td>Breast-MRI-NACT-Pilot</td>\n",
       "      <td>DS</td>\n",
       "      <td>UCSF-BR-43</td>\n",
       "      <td>311</td>\n",
       "      <td>NaN</td>\n",
       "      <td>NaN</td>\n",
       "      <td>NaN</td>\n",
       "      <td>Recurrent Disease</td>\n",
       "      <td>DISEASE RELAPSE</td>\n",
       "      <td>NaN</td>\n",
       "      <td>NaN</td>\n",
       "      <td>NaN</td>\n",
       "      <td>NaN</td>\n",
       "      <td>NaN</td>\n",
       "      <td>0</td>\n",
       "      <td>3.145746e-08</td>\n",
       "    </tr>\n",
       "  </tbody>\n",
       "</table>\n",
       "</div>"
      ],
      "text/plain": [
       "                 STUDYID DOMAIN     USUBJID  DSSEQ  DSGRPID  DSREFID  DSSPID  \\\n",
       "0                 I-Spy1     DS  ISPY1_1041     37      NaN      NaN     NaN   \n",
       "1                 I-Spy1     DS  ISPY1_1067     62      NaN      NaN     NaN   \n",
       "2                 I-Spy1     DS  ISPY1_1040     36      NaN      NaN     NaN   \n",
       "3  Breast-MRI-NACT-Pilot     DS  UCSF-BR-40    308      NaN      NaN     NaN   \n",
       "4  Breast-MRI-NACT-Pilot     DS  UCSF-BR-43    311      NaN      NaN     NaN   \n",
       "\n",
       "              DSTERM          DSDECOD  DSSCAT  EPOCH  DSDTC  DSSTDTC  DSSTDY  \\\n",
       "0  Recurrent Disease  DISEASE RELAPSE     NaN    NaN    NaN      NaN     NaN   \n",
       "1  Recurrent Disease  DISEASE RELAPSE     NaN    NaN    NaN      NaN     NaN   \n",
       "2  Recurrent Disease  DISEASE RELAPSE     NaN    NaN    NaN      NaN     NaN   \n",
       "3  Recurrent Disease  DISEASE RELAPSE     NaN    NaN    NaN      NaN     NaN   \n",
       "4  Recurrent Disease  DISEASE RELAPSE     NaN    NaN    NaN      NaN     NaN   \n",
       "\n",
       "   Label         Score  \n",
       "0      0  3.145746e-08  \n",
       "1      0  3.145746e-08  \n",
       "2      0  3.145746e-08  \n",
       "3      0  3.145746e-08  \n",
       "4      0  3.145746e-08  "
      ]
     },
     "execution_count": 16,
     "metadata": {},
     "output_type": "execute_result"
    }
   ],
   "source": [
    "data_predictions = predict_model(svm, data = data)\n",
    "data_predictions.head()"
   ]
  },
  {
   "cell_type": "code",
   "execution_count": 17,
   "metadata": {},
   "outputs": [
    {
     "name": "stdout",
     "output_type": "stream",
     "text": [
      "Transformation Pipeline and Model Succesfully Saved\n"
     ]
    }
   ],
   "source": [
    "save_model(svm,'DS_SVM_Breast_Cancer')"
   ]
  }
 ],
 "metadata": {
  "kernelspec": {
   "display_name": "Python 3",
   "language": "python",
   "name": "python3"
  },
  "language_info": {
   "codemirror_mode": {
    "name": "ipython",
    "version": 3
   },
   "file_extension": ".py",
   "mimetype": "text/x-python",
   "name": "python",
   "nbconvert_exporter": "python",
   "pygments_lexer": "ipython3",
   "version": "3.7.7"
  }
 },
 "nbformat": 4,
 "nbformat_minor": 4
}
