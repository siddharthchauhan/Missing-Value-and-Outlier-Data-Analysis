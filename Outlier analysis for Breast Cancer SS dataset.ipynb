{
 "cells": [
  {
   "cell_type": "code",
   "execution_count": 1,
   "metadata": {},
   "outputs": [],
   "source": [
    "import pandas as pd\n",
    "import numpy as np\n",
    "from pycaret.anomaly import *"
   ]
  },
  {
   "cell_type": "code",
   "execution_count": 2,
   "metadata": {},
   "outputs": [],
   "source": [
    "pd.set_option('display.max_columns', None)\n",
    "pd.set_option('display.max_rows', None)"
   ]
  },
  {
   "cell_type": "code",
   "execution_count": 3,
   "metadata": {},
   "outputs": [
    {
     "data": {
      "text/html": [
       "<div>\n",
       "<style scoped>\n",
       "    .dataframe tbody tr th:only-of-type {\n",
       "        vertical-align: middle;\n",
       "    }\n",
       "\n",
       "    .dataframe tbody tr th {\n",
       "        vertical-align: top;\n",
       "    }\n",
       "\n",
       "    .dataframe thead th {\n",
       "        text-align: right;\n",
       "    }\n",
       "</style>\n",
       "<table border=\"1\" class=\"dataframe\">\n",
       "  <thead>\n",
       "    <tr style=\"text-align: right;\">\n",
       "      <th></th>\n",
       "      <th>STUDYID</th>\n",
       "      <th>DOMAIN</th>\n",
       "      <th>USUBJID</th>\n",
       "      <th>SSSEQ</th>\n",
       "      <th>SSTESTCD</th>\n",
       "      <th>SSTEST</th>\n",
       "      <th>SSORRES</th>\n",
       "    </tr>\n",
       "  </thead>\n",
       "  <tbody>\n",
       "    <tr>\n",
       "      <th>1</th>\n",
       "      <td>Breast-MRI-NACT-Pilot</td>\n",
       "      <td>SS</td>\n",
       "      <td>UCSF-BR-01</td>\n",
       "      <td>1</td>\n",
       "      <td>RFSIND</td>\n",
       "      <td>Recurrence-free survival indicator</td>\n",
       "      <td>No Evidence of Disease</td>\n",
       "    </tr>\n",
       "    <tr>\n",
       "      <th>2</th>\n",
       "      <td>Breast-MRI-NACT-Pilot</td>\n",
       "      <td>SS</td>\n",
       "      <td>UCSF-BR-02</td>\n",
       "      <td>1</td>\n",
       "      <td>RFSIND</td>\n",
       "      <td>Recurrence-free survival indicator</td>\n",
       "      <td>Recurrent Disease</td>\n",
       "    </tr>\n",
       "    <tr>\n",
       "      <th>3</th>\n",
       "      <td>Breast-MRI-NACT-Pilot</td>\n",
       "      <td>SS</td>\n",
       "      <td>UCSF-BR-03</td>\n",
       "      <td>1</td>\n",
       "      <td>RFSIND</td>\n",
       "      <td>Recurrence-free survival indicator</td>\n",
       "      <td>No Evidence of Disease</td>\n",
       "    </tr>\n",
       "    <tr>\n",
       "      <th>4</th>\n",
       "      <td>Breast-MRI-NACT-Pilot</td>\n",
       "      <td>SS</td>\n",
       "      <td>UCSF-BR-04</td>\n",
       "      <td>1</td>\n",
       "      <td>RFSIND</td>\n",
       "      <td>Recurrence-free survival indicator</td>\n",
       "      <td>Recurrent Disease</td>\n",
       "    </tr>\n",
       "    <tr>\n",
       "      <th>5</th>\n",
       "      <td>Breast-MRI-NACT-Pilot</td>\n",
       "      <td>SS</td>\n",
       "      <td>UCSF-BR-06</td>\n",
       "      <td>1</td>\n",
       "      <td>RFSIND</td>\n",
       "      <td>Recurrence-free survival indicator</td>\n",
       "      <td>No Evidence of Disease</td>\n",
       "    </tr>\n",
       "    <tr>\n",
       "      <th>6</th>\n",
       "      <td>Breast-MRI-NACT-Pilot</td>\n",
       "      <td>SS</td>\n",
       "      <td>UCSF-BR-07</td>\n",
       "      <td>1</td>\n",
       "      <td>RFSIND</td>\n",
       "      <td>Recurrence-free survival indicator</td>\n",
       "      <td>No Evidence of Disease</td>\n",
       "    </tr>\n",
       "    <tr>\n",
       "      <th>7</th>\n",
       "      <td>Breast-MRI-NACT-Pilot</td>\n",
       "      <td>SS</td>\n",
       "      <td>UCSF-BR-08</td>\n",
       "      <td>1</td>\n",
       "      <td>RFSIND</td>\n",
       "      <td>Recurrence-free survival indicato</td>\n",
       "      <td>No Evidence o Disease</td>\n",
       "    </tr>\n",
       "    <tr>\n",
       "      <th>8</th>\n",
       "      <td>Breast-MRI-NACT-Pilot</td>\n",
       "      <td>SS</td>\n",
       "      <td>UCSF-BR-09</td>\n",
       "      <td>1</td>\n",
       "      <td>RFSIND</td>\n",
       "      <td>Recurrence-free survival indicator</td>\n",
       "      <td>Recurrent Disease</td>\n",
       "    </tr>\n",
       "    <tr>\n",
       "      <th>9</th>\n",
       "      <td>Breast-MRI-NACT-Pilot</td>\n",
       "      <td>SS</td>\n",
       "      <td>UCSF-BR-11</td>\n",
       "      <td>1</td>\n",
       "      <td>RFSIND</td>\n",
       "      <td>Recurrence-free survival indicator</td>\n",
       "      <td>No Evidence of Disease</td>\n",
       "    </tr>\n",
       "    <tr>\n",
       "      <th>10</th>\n",
       "      <td>Breast-MRI-NACT-Pilot</td>\n",
       "      <td>SS</td>\n",
       "      <td>UCSF-BR-12</td>\n",
       "      <td>1</td>\n",
       "      <td>RFSIND</td>\n",
       "      <td>Recurrence-free survival indicator</td>\n",
       "      <td>Recurrent Disease</td>\n",
       "    </tr>\n",
       "    <tr>\n",
       "      <th>11</th>\n",
       "      <td>Breast-MRI-NACT-Pilot</td>\n",
       "      <td>SS</td>\n",
       "      <td>UCSF-BR-13</td>\n",
       "      <td>1</td>\n",
       "      <td>RFSIND</td>\n",
       "      <td>Recurrence-free survival indicator</td>\n",
       "      <td>Recurrent Disease</td>\n",
       "    </tr>\n",
       "    <tr>\n",
       "      <th>12</th>\n",
       "      <td>Breast-MRI-NACT-Pilot</td>\n",
       "      <td>SS</td>\n",
       "      <td>UCSF-BR-14</td>\n",
       "      <td>1</td>\n",
       "      <td>RFSIND</td>\n",
       "      <td>Recurrence-free survival indicator</td>\n",
       "      <td>No Evidence of Disease</td>\n",
       "    </tr>\n",
       "    <tr>\n",
       "      <th>13</th>\n",
       "      <td>Breast-MRI-NACT-Pilot</td>\n",
       "      <td>SS</td>\n",
       "      <td>UCSF-BR-15</td>\n",
       "      <td>1</td>\n",
       "      <td>RFSIND</td>\n",
       "      <td>Recurrence-free survival indicator</td>\n",
       "      <td>No Evidence of Disease</td>\n",
       "    </tr>\n",
       "    <tr>\n",
       "      <th>14</th>\n",
       "      <td>Breast-MRI-NACT-Pilot</td>\n",
       "      <td>SS</td>\n",
       "      <td>UCSF-BR-17</td>\n",
       "      <td>1</td>\n",
       "      <td>RFSIND</td>\n",
       "      <td>Recurrence-free survival indicator</td>\n",
       "      <td>Recurrent Disease</td>\n",
       "    </tr>\n",
       "    <tr>\n",
       "      <th>15</th>\n",
       "      <td>Breast-MRI-NACT-Pilot</td>\n",
       "      <td>SS</td>\n",
       "      <td>UCSF-BR-18</td>\n",
       "      <td>1</td>\n",
       "      <td>RFSIND</td>\n",
       "      <td>Recurrence-free survival indicator</td>\n",
       "      <td>No Evidence of Disease</td>\n",
       "    </tr>\n",
       "    <tr>\n",
       "      <th>16</th>\n",
       "      <td>Breast-MRI-NACT-Pilot</td>\n",
       "      <td>SS</td>\n",
       "      <td>UCSF-BR-19</td>\n",
       "      <td>1</td>\n",
       "      <td>RFSIND</td>\n",
       "      <td>Recurrence-free survival indicator</td>\n",
       "      <td>No Evidence of Disease</td>\n",
       "    </tr>\n",
       "    <tr>\n",
       "      <th>17</th>\n",
       "      <td>Breast-MRI-NACT-Pilot</td>\n",
       "      <td>SS</td>\n",
       "      <td>UCSF-BR-20</td>\n",
       "      <td>1</td>\n",
       "      <td>RFSIND</td>\n",
       "      <td>Recurrence-free survival indicator</td>\n",
       "      <td>No Evidence of Disease</td>\n",
       "    </tr>\n",
       "    <tr>\n",
       "      <th>18</th>\n",
       "      <td>Breast-MRI-NACT-Pilot</td>\n",
       "      <td>SS</td>\n",
       "      <td>UCSF-BR-21</td>\n",
       "      <td>1</td>\n",
       "      <td>RFSIND</td>\n",
       "      <td>Recurrence-free survival indicator</td>\n",
       "      <td>No Evidence of Disease</td>\n",
       "    </tr>\n",
       "    <tr>\n",
       "      <th>19</th>\n",
       "      <td>Breast-MRI-NACT-Pilot</td>\n",
       "      <td>SS</td>\n",
       "      <td>UCSF-BR-22</td>\n",
       "      <td>1</td>\n",
       "      <td>RFSIND</td>\n",
       "      <td>Recurrence-free survival indicator</td>\n",
       "      <td>No Evidence of Disease</td>\n",
       "    </tr>\n",
       "    <tr>\n",
       "      <th>20</th>\n",
       "      <td>Breast-MRI-NACT-Pilot</td>\n",
       "      <td>SS</td>\n",
       "      <td>UCSF-BR-23</td>\n",
       "      <td>1</td>\n",
       "      <td>RFSIND</td>\n",
       "      <td>Recurrence-free survival indicator</td>\n",
       "      <td>Recurrent Disease</td>\n",
       "    </tr>\n",
       "    <tr>\n",
       "      <th>21</th>\n",
       "      <td>Breast-MRI-NACT-Pilot</td>\n",
       "      <td>SS</td>\n",
       "      <td>UCSF-BR-24</td>\n",
       "      <td>1</td>\n",
       "      <td>RFSIND</td>\n",
       "      <td>Recurrence-free survival indicator</td>\n",
       "      <td>No Evidence of Disease</td>\n",
       "    </tr>\n",
       "    <tr>\n",
       "      <th>22</th>\n",
       "      <td>Breast-MRI-NACT-Pilot</td>\n",
       "      <td>SS</td>\n",
       "      <td>UCSF-BR-25</td>\n",
       "      <td>1</td>\n",
       "      <td>RFSIND</td>\n",
       "      <td>Recurrence-free survival indicator</td>\n",
       "      <td>No Evidence of Disease</td>\n",
       "    </tr>\n",
       "    <tr>\n",
       "      <th>23</th>\n",
       "      <td>Breast-MRI-NACT-Pilot</td>\n",
       "      <td>SS</td>\n",
       "      <td>UCSF-BR-26</td>\n",
       "      <td>1</td>\n",
       "      <td>RFSIND</td>\n",
       "      <td>Recurrence-free survival indicator</td>\n",
       "      <td>No Evidence of Disease</td>\n",
       "    </tr>\n",
       "    <tr>\n",
       "      <th>24</th>\n",
       "      <td>Breast-MRI-NACT-Pilot</td>\n",
       "      <td>SS</td>\n",
       "      <td>UCSF-BR-27</td>\n",
       "      <td>1</td>\n",
       "      <td>RFSIND</td>\n",
       "      <td>Recurrence-free survival indicator</td>\n",
       "      <td>Recurrent Disease</td>\n",
       "    </tr>\n",
       "    <tr>\n",
       "      <th>25</th>\n",
       "      <td>Breast-MRI-NACT-Pilot</td>\n",
       "      <td>SS</td>\n",
       "      <td>UCSF-BR-28</td>\n",
       "      <td>1</td>\n",
       "      <td>RFSIND</td>\n",
       "      <td>Recurrence-free survival indicator</td>\n",
       "      <td>Recurrent Disease</td>\n",
       "    </tr>\n",
       "    <tr>\n",
       "      <th>26</th>\n",
       "      <td>Breast-MRI-NACT-Pilot</td>\n",
       "      <td>SS</td>\n",
       "      <td>UCSF-BR-29</td>\n",
       "      <td>1</td>\n",
       "      <td>RFSIND</td>\n",
       "      <td>Recurrence-free survival indicator</td>\n",
       "      <td>Recurrent Disease</td>\n",
       "    </tr>\n",
       "    <tr>\n",
       "      <th>27</th>\n",
       "      <td>Breast-MRI-NACT-Pilot</td>\n",
       "      <td>SS</td>\n",
       "      <td>UCSF-BR-30</td>\n",
       "      <td>1</td>\n",
       "      <td>RFSIND</td>\n",
       "      <td>Recurrence-free survival indicator</td>\n",
       "      <td>Recurrent Disease</td>\n",
       "    </tr>\n",
       "    <tr>\n",
       "      <th>28</th>\n",
       "      <td>Breast-MRI-NACT-Pilot</td>\n",
       "      <td>SS</td>\n",
       "      <td>UCSF-BR-31</td>\n",
       "      <td>1</td>\n",
       "      <td>RFSIND</td>\n",
       "      <td>Recurrence-free survival indicator</td>\n",
       "      <td>No Evidence of Disease</td>\n",
       "    </tr>\n",
       "    <tr>\n",
       "      <th>29</th>\n",
       "      <td>Breast-MRI-NACT-Pilot</td>\n",
       "      <td>SS</td>\n",
       "      <td>UCSF-BR-32</td>\n",
       "      <td>1</td>\n",
       "      <td>RFSIND</td>\n",
       "      <td>Recurrence-free survival indicator</td>\n",
       "      <td>Recurrent Disease</td>\n",
       "    </tr>\n",
       "    <tr>\n",
       "      <th>30</th>\n",
       "      <td>Breast-MRI-NACT-Pilot</td>\n",
       "      <td>SS</td>\n",
       "      <td>UCSF-BR-33</td>\n",
       "      <td>1</td>\n",
       "      <td>RFSIND</td>\n",
       "      <td>Recurrence-free survival indicator</td>\n",
       "      <td>No Evidence of Disease</td>\n",
       "    </tr>\n",
       "    <tr>\n",
       "      <th>31</th>\n",
       "      <td>Breast-MRI-NACT-Pilot</td>\n",
       "      <td>SS</td>\n",
       "      <td>UCSF-BR-34</td>\n",
       "      <td>1</td>\n",
       "      <td>RFSIND</td>\n",
       "      <td>Recurrence-free survival indicator</td>\n",
       "      <td>No Evidence of Disease</td>\n",
       "    </tr>\n",
       "    <tr>\n",
       "      <th>32</th>\n",
       "      <td>Breast-MRI-NACT-Pilot</td>\n",
       "      <td>SS</td>\n",
       "      <td>UCSF-BR-35</td>\n",
       "      <td>1</td>\n",
       "      <td>RFSIND</td>\n",
       "      <td>Recurrence-free survival indicator</td>\n",
       "      <td>No Evidence of Disease</td>\n",
       "    </tr>\n",
       "    <tr>\n",
       "      <th>33</th>\n",
       "      <td>Breast-MRI-NACT-Pilot</td>\n",
       "      <td>SS</td>\n",
       "      <td>UCSF-BR-36</td>\n",
       "      <td>1</td>\n",
       "      <td>RFSIND</td>\n",
       "      <td>Recurrence-free survival indicator</td>\n",
       "      <td>No Evidence of Disease</td>\n",
       "    </tr>\n",
       "    <tr>\n",
       "      <th>34</th>\n",
       "      <td>Breast-MRI-NACT-Pilot</td>\n",
       "      <td>SS</td>\n",
       "      <td>UCSF-BR-37</td>\n",
       "      <td>1</td>\n",
       "      <td>RFSIND</td>\n",
       "      <td>Recurrence-free survival indicator</td>\n",
       "      <td>No Evidence of Disease</td>\n",
       "    </tr>\n",
       "    <tr>\n",
       "      <th>35</th>\n",
       "      <td>Breast-MRI-NACT-Pilot</td>\n",
       "      <td>SS</td>\n",
       "      <td>UCSF-BR-39</td>\n",
       "      <td>1</td>\n",
       "      <td>RFSIND</td>\n",
       "      <td>Recurrence-free survival indicator</td>\n",
       "      <td>Recurrent Disease</td>\n",
       "    </tr>\n",
       "    <tr>\n",
       "      <th>36</th>\n",
       "      <td>Breast-MRI-NACT-Pilot</td>\n",
       "      <td>SS</td>\n",
       "      <td>UCSF-BR-40</td>\n",
       "      <td>1</td>\n",
       "      <td>RFSIND</td>\n",
       "      <td>Recurrence-free survival indicator</td>\n",
       "      <td>Recurrent Disease</td>\n",
       "    </tr>\n",
       "    <tr>\n",
       "      <th>37</th>\n",
       "      <td>Breast-MRI-NACT-Pilot</td>\n",
       "      <td>SS</td>\n",
       "      <td>UCSF-BR-41</td>\n",
       "      <td>1</td>\n",
       "      <td>RFSIND</td>\n",
       "      <td>Recurrence-free survival indicator</td>\n",
       "      <td>No Evidence of Disease</td>\n",
       "    </tr>\n",
       "    <tr>\n",
       "      <th>38</th>\n",
       "      <td>Breast-MRI-NACT-Pilot</td>\n",
       "      <td>SS</td>\n",
       "      <td>UCSF-BR-42</td>\n",
       "      <td>1</td>\n",
       "      <td>RFSIND</td>\n",
       "      <td>Recurrence-free survival indicator</td>\n",
       "      <td>No Evidence of Disease</td>\n",
       "    </tr>\n",
       "    <tr>\n",
       "      <th>39</th>\n",
       "      <td>Breast-MRI-NACT-Pilot</td>\n",
       "      <td>SS</td>\n",
       "      <td>UCSF-BR-43</td>\n",
       "      <td>1</td>\n",
       "      <td>RFSIND</td>\n",
       "      <td>Recurrence-free survival indicator</td>\n",
       "      <td>Recurrent Disease</td>\n",
       "    </tr>\n",
       "    <tr>\n",
       "      <th>40</th>\n",
       "      <td>Breast-MRI-NACT-Pilot</td>\n",
       "      <td>SS</td>\n",
       "      <td>UCSF-BR-44</td>\n",
       "      <td>1</td>\n",
       "      <td>RFSIND</td>\n",
       "      <td>Recurrence-free survival indicator</td>\n",
       "      <td>No Evidence of Disease</td>\n",
       "    </tr>\n",
       "    <tr>\n",
       "      <th>41</th>\n",
       "      <td>Breast-MRI-NACT-Pilot</td>\n",
       "      <td>SS</td>\n",
       "      <td>UCSF-BR-45</td>\n",
       "      <td>1</td>\n",
       "      <td>RFSIND</td>\n",
       "      <td>Recurrence-free survival indicator</td>\n",
       "      <td>Recurrent Disease</td>\n",
       "    </tr>\n",
       "    <tr>\n",
       "      <th>42</th>\n",
       "      <td>Breast-MRI-NACT-Pilot</td>\n",
       "      <td>SS</td>\n",
       "      <td>UCSF-BR-46</td>\n",
       "      <td>1</td>\n",
       "      <td>RFSIND</td>\n",
       "      <td>Recurrence-free survival indicator</td>\n",
       "      <td>No Evidence of Disease</td>\n",
       "    </tr>\n",
       "    <tr>\n",
       "      <th>43</th>\n",
       "      <td>Breast-MRI-NACT-Pilot</td>\n",
       "      <td>SS</td>\n",
       "      <td>UCSF-BR-47</td>\n",
       "      <td>1</td>\n",
       "      <td>RFSIND</td>\n",
       "      <td>Recurrence-free survival indicator</td>\n",
       "      <td>Recurrent Disease</td>\n",
       "    </tr>\n",
       "    <tr>\n",
       "      <th>44</th>\n",
       "      <td>Breast-MRI-NACT-Pilot</td>\n",
       "      <td>SS</td>\n",
       "      <td>UCSF-BR-48</td>\n",
       "      <td>1</td>\n",
       "      <td>RFSIND</td>\n",
       "      <td>Recurrence-free survival indicator</td>\n",
       "      <td>No Evidence of Disease</td>\n",
       "    </tr>\n",
       "    <tr>\n",
       "      <th>45</th>\n",
       "      <td>Breast-MRI-NACT-Pilot</td>\n",
       "      <td>SS</td>\n",
       "      <td>UCSF-BR-49</td>\n",
       "      <td>1</td>\n",
       "      <td>RFSIND</td>\n",
       "      <td>Recurrence-free survival indicator</td>\n",
       "      <td>Recurrent Disease</td>\n",
       "    </tr>\n",
       "    <tr>\n",
       "      <th>46</th>\n",
       "      <td>Breast-MRI-NACT-Pilot</td>\n",
       "      <td>SS</td>\n",
       "      <td>UCSF-BR-50</td>\n",
       "      <td>1</td>\n",
       "      <td>RFSIND</td>\n",
       "      <td>Recurrence-free survival indicator</td>\n",
       "      <td>No Evidence of Disease</td>\n",
       "    </tr>\n",
       "    <tr>\n",
       "      <th>47</th>\n",
       "      <td>Breast-MRI-NACT-Pilot</td>\n",
       "      <td>SS</td>\n",
       "      <td>UCSF-BR-51</td>\n",
       "      <td>1</td>\n",
       "      <td>RFSIND</td>\n",
       "      <td>Recurrence-free survival indicator</td>\n",
       "      <td>Recurrent Disease</td>\n",
       "    </tr>\n",
       "    <tr>\n",
       "      <th>48</th>\n",
       "      <td>Breast-MRI-NACT-Pilot</td>\n",
       "      <td>SS</td>\n",
       "      <td>UCSF-BR-52</td>\n",
       "      <td>1</td>\n",
       "      <td>RFSIND</td>\n",
       "      <td>Recurrence-free survival indicator</td>\n",
       "      <td>No Evidence of Disease</td>\n",
       "    </tr>\n",
       "    <tr>\n",
       "      <th>49</th>\n",
       "      <td>Breast-MRI-NACT-Pilot</td>\n",
       "      <td>SS</td>\n",
       "      <td>UCSF-BR-53</td>\n",
       "      <td>1</td>\n",
       "      <td>RFSIND</td>\n",
       "      <td>Recurrence-free survival indicator</td>\n",
       "      <td>Recurrent Disease</td>\n",
       "    </tr>\n",
       "    <tr>\n",
       "      <th>50</th>\n",
       "      <td>Breast-MRI-NACT-Pilot</td>\n",
       "      <td>SS</td>\n",
       "      <td>UCSF-BR-54</td>\n",
       "      <td>1</td>\n",
       "      <td>RFSIND</td>\n",
       "      <td>Recurrence-free survival indicator</td>\n",
       "      <td>No Evidence of Disease</td>\n",
       "    </tr>\n",
       "    <tr>\n",
       "      <th>51</th>\n",
       "      <td>Breast-MRI-NACT-Pilot</td>\n",
       "      <td>SS</td>\n",
       "      <td>UCSF-BR-55</td>\n",
       "      <td>1</td>\n",
       "      <td>RFSIND</td>\n",
       "      <td>Recurrence-free survival indicator</td>\n",
       "      <td>No Evidence of Disease</td>\n",
       "    </tr>\n",
       "    <tr>\n",
       "      <th>52</th>\n",
       "      <td>Breast-MRI-NACT-Pilot</td>\n",
       "      <td>SS</td>\n",
       "      <td>UCSF-BR-56</td>\n",
       "      <td>1</td>\n",
       "      <td>RFSIND</td>\n",
       "      <td>Recurrence-free survival indicator</td>\n",
       "      <td>No Evidence of Disease</td>\n",
       "    </tr>\n",
       "    <tr>\n",
       "      <th>53</th>\n",
       "      <td>Breast-MRI-NACT-Pilot</td>\n",
       "      <td>SS</td>\n",
       "      <td>UCSF-BR-57</td>\n",
       "      <td>1</td>\n",
       "      <td>RFSIND</td>\n",
       "      <td>Recurrence-free survival indicator</td>\n",
       "      <td>No Evidence of Disease</td>\n",
       "    </tr>\n",
       "    <tr>\n",
       "      <th>54</th>\n",
       "      <td>Breast-MRI-NACT-Pilot</td>\n",
       "      <td>SS</td>\n",
       "      <td>UCSF-BR-58</td>\n",
       "      <td>1</td>\n",
       "      <td>RFSIND</td>\n",
       "      <td>Recurrence-free survival indicator</td>\n",
       "      <td>Recurrent Disease</td>\n",
       "    </tr>\n",
       "    <tr>\n",
       "      <th>55</th>\n",
       "      <td>Breast-MRI-NACT-Pilot</td>\n",
       "      <td>SS</td>\n",
       "      <td>UCSF-BR-59</td>\n",
       "      <td>1</td>\n",
       "      <td>RFSIND</td>\n",
       "      <td>Recurrence-free survival indicator</td>\n",
       "      <td>No Evidence of Disease</td>\n",
       "    </tr>\n",
       "    <tr>\n",
       "      <th>56</th>\n",
       "      <td>Breast-MRI-NACT-Pilot</td>\n",
       "      <td>SS</td>\n",
       "      <td>UCSF-BR-60</td>\n",
       "      <td>1</td>\n",
       "      <td>RFSIND</td>\n",
       "      <td>Recurrence-free survival indicator</td>\n",
       "      <td>No Evidence of Disease</td>\n",
       "    </tr>\n",
       "    <tr>\n",
       "      <th>57</th>\n",
       "      <td>Breast-MRI-NACT-Pilot</td>\n",
       "      <td>SS</td>\n",
       "      <td>UCSF-BR-61</td>\n",
       "      <td>1</td>\n",
       "      <td>RFSIND</td>\n",
       "      <td>Recurrence-free survival indicator</td>\n",
       "      <td>Recurrent Disease</td>\n",
       "    </tr>\n",
       "    <tr>\n",
       "      <th>58</th>\n",
       "      <td>Breast-MRI-NACT-Pilot</td>\n",
       "      <td>SS</td>\n",
       "      <td>UCSF-BR-62</td>\n",
       "      <td>1</td>\n",
       "      <td>RFSIND</td>\n",
       "      <td>Recurrence-free survival indicator</td>\n",
       "      <td>No Evidence of Disease</td>\n",
       "    </tr>\n",
       "    <tr>\n",
       "      <th>59</th>\n",
       "      <td>Breast-MRI-NACT-Pilot</td>\n",
       "      <td>SS</td>\n",
       "      <td>UCSF-BR-63</td>\n",
       "      <td>1</td>\n",
       "      <td>RFSIND</td>\n",
       "      <td>Recurrence-free survival indicator</td>\n",
       "      <td>No Evidence of Disease</td>\n",
       "    </tr>\n",
       "    <tr>\n",
       "      <th>60</th>\n",
       "      <td>Breast-MRI-NACT-Pilot</td>\n",
       "      <td>SS</td>\n",
       "      <td>UCSF-BR-64</td>\n",
       "      <td>1</td>\n",
       "      <td>RFSIND</td>\n",
       "      <td>Recurrence-free survival indicator</td>\n",
       "      <td>Recurrent Disease</td>\n",
       "    </tr>\n",
       "    <tr>\n",
       "      <th>61</th>\n",
       "      <td>Breast-MRI-NACT-Pilot</td>\n",
       "      <td>SS</td>\n",
       "      <td>UCSF-BR-65</td>\n",
       "      <td>1</td>\n",
       "      <td>RFSIND</td>\n",
       "      <td>Recurrence-free survival indicator</td>\n",
       "      <td>No Evidence of Disease</td>\n",
       "    </tr>\n",
       "    <tr>\n",
       "      <th>62</th>\n",
       "      <td>Breast-MRI-NACT-Pilot</td>\n",
       "      <td>SS</td>\n",
       "      <td>UCSF-BR-66</td>\n",
       "      <td>1</td>\n",
       "      <td>RFSIND</td>\n",
       "      <td>Recurrence-free survival indicator</td>\n",
       "      <td>No Evidence of Disease</td>\n",
       "    </tr>\n",
       "    <tr>\n",
       "      <th>63</th>\n",
       "      <td>Breast-MRI-NACT-Pilot</td>\n",
       "      <td>SS</td>\n",
       "      <td>UCSF-BR-67</td>\n",
       "      <td>1</td>\n",
       "      <td>RFSIND</td>\n",
       "      <td>Recurrence-free survival indicator</td>\n",
       "      <td>Recurrent Disease</td>\n",
       "    </tr>\n",
       "    <tr>\n",
       "      <th>64</th>\n",
       "      <td>Breast-MRI-NACT-Pilot</td>\n",
       "      <td>SS</td>\n",
       "      <td>UCSF-BR-68</td>\n",
       "      <td>1</td>\n",
       "      <td>RFSIND</td>\n",
       "      <td>Recurrence-free survival indicator</td>\n",
       "      <td>Recurrent Disease</td>\n",
       "    </tr>\n",
       "    <tr>\n",
       "      <th>65</th>\n",
       "      <td>I-Spy1</td>\n",
       "      <td>SS</td>\n",
       "      <td>ISPY1_1001</td>\n",
       "      <td>1</td>\n",
       "      <td>RFSIND</td>\n",
       "      <td>Recurrence-free survival indicator</td>\n",
       "      <td>Recurrent Disease</td>\n",
       "    </tr>\n",
       "    <tr>\n",
       "      <th>66</th>\n",
       "      <td>I-Spy1</td>\n",
       "      <td>SS</td>\n",
       "      <td>ISPY1_1002</td>\n",
       "      <td>1</td>\n",
       "      <td>RFSIND</td>\n",
       "      <td>Recurrence-free survival indicator</td>\n",
       "      <td>Recurrent Disease</td>\n",
       "    </tr>\n",
       "    <tr>\n",
       "      <th>67</th>\n",
       "      <td>I-Spy1</td>\n",
       "      <td>SS</td>\n",
       "      <td>ISPY1_1003</td>\n",
       "      <td>1</td>\n",
       "      <td>RFSIND</td>\n",
       "      <td>Recurrence-free survival indicator</td>\n",
       "      <td>No Evidence of Disease</td>\n",
       "    </tr>\n",
       "    <tr>\n",
       "      <th>68</th>\n",
       "      <td>I-Spy1</td>\n",
       "      <td>SS</td>\n",
       "      <td>ISPY1_1004</td>\n",
       "      <td>1</td>\n",
       "      <td>RFSIND</td>\n",
       "      <td>Recurrence-free survival indicator</td>\n",
       "      <td>No Evidence of Disease</td>\n",
       "    </tr>\n",
       "    <tr>\n",
       "      <th>69</th>\n",
       "      <td>I-Spy1</td>\n",
       "      <td>SS</td>\n",
       "      <td>ISPY1_1005</td>\n",
       "      <td>1</td>\n",
       "      <td>RFSIND</td>\n",
       "      <td>Recurrence-free survival indicator</td>\n",
       "      <td>No Evidence of Disease</td>\n",
       "    </tr>\n",
       "    <tr>\n",
       "      <th>70</th>\n",
       "      <td>I-Spy1</td>\n",
       "      <td>SS</td>\n",
       "      <td>ISPY1_1007</td>\n",
       "      <td>1</td>\n",
       "      <td>RFSIND</td>\n",
       "      <td>Recurrence-free survival indicator</td>\n",
       "      <td>Recurrent Disease</td>\n",
       "    </tr>\n",
       "    <tr>\n",
       "      <th>71</th>\n",
       "      <td>I-Spy1</td>\n",
       "      <td>SS</td>\n",
       "      <td>ISPY1_1008</td>\n",
       "      <td>1</td>\n",
       "      <td>RFSIND</td>\n",
       "      <td>Recurrence-free survival indicator</td>\n",
       "      <td>No Evidence of Disease</td>\n",
       "    </tr>\n",
       "    <tr>\n",
       "      <th>72</th>\n",
       "      <td>I-Spy1</td>\n",
       "      <td>SS</td>\n",
       "      <td>ISPY1_1009</td>\n",
       "      <td>1</td>\n",
       "      <td>RFSIND</td>\n",
       "      <td>Recurrence-free survival indicator</td>\n",
       "      <td>No Evidence of Disease</td>\n",
       "    </tr>\n",
       "    <tr>\n",
       "      <th>73</th>\n",
       "      <td>I-Spy1</td>\n",
       "      <td>SS</td>\n",
       "      <td>ISPY1_1010</td>\n",
       "      <td>1</td>\n",
       "      <td>RFSIND</td>\n",
       "      <td>Recurrence-free survival indicator</td>\n",
       "      <td>No Evidence of Disease</td>\n",
       "    </tr>\n",
       "    <tr>\n",
       "      <th>74</th>\n",
       "      <td>I-Spy1</td>\n",
       "      <td>SS</td>\n",
       "      <td>ISPY1_1011</td>\n",
       "      <td>1</td>\n",
       "      <td>RFSIND</td>\n",
       "      <td>Recurrence-free survival indicator</td>\n",
       "      <td>No Evidence of Disease</td>\n",
       "    </tr>\n",
       "    <tr>\n",
       "      <th>75</th>\n",
       "      <td>I-Spy1</td>\n",
       "      <td>SS</td>\n",
       "      <td>ISPY1_1012</td>\n",
       "      <td>1</td>\n",
       "      <td>RFSIND</td>\n",
       "      <td>Recurrence-free survival indicator</td>\n",
       "      <td>Recurrent Disease</td>\n",
       "    </tr>\n",
       "    <tr>\n",
       "      <th>76</th>\n",
       "      <td>I-Spy1</td>\n",
       "      <td>SS</td>\n",
       "      <td>ISPY1_1013</td>\n",
       "      <td>1</td>\n",
       "      <td>RFSIND</td>\n",
       "      <td>Recurrence-free survival indicator</td>\n",
       "      <td>No Evidence of Disease</td>\n",
       "    </tr>\n",
       "    <tr>\n",
       "      <th>77</th>\n",
       "      <td>I-Spy1</td>\n",
       "      <td>SS</td>\n",
       "      <td>ISPY1_1015</td>\n",
       "      <td>1</td>\n",
       "      <td>RFSIND</td>\n",
       "      <td>Recurrence-free survival indicator</td>\n",
       "      <td>No Evidence of Disease</td>\n",
       "    </tr>\n",
       "    <tr>\n",
       "      <th>78</th>\n",
       "      <td>I-Spy1</td>\n",
       "      <td>SS</td>\n",
       "      <td>ISPY1_1016</td>\n",
       "      <td>1</td>\n",
       "      <td>RFSIND</td>\n",
       "      <td>Recurrence-free survival indicator</td>\n",
       "      <td>Recurrent Disease</td>\n",
       "    </tr>\n",
       "    <tr>\n",
       "      <th>79</th>\n",
       "      <td>I-Spy1</td>\n",
       "      <td>SS</td>\n",
       "      <td>ISPY1_1017</td>\n",
       "      <td>1</td>\n",
       "      <td>RFSIND</td>\n",
       "      <td>Recurrence-free survival indicator</td>\n",
       "      <td>Recurrent Disease</td>\n",
       "    </tr>\n",
       "    <tr>\n",
       "      <th>80</th>\n",
       "      <td>I-Spy1</td>\n",
       "      <td>SS</td>\n",
       "      <td>ISPY1_1018</td>\n",
       "      <td>1</td>\n",
       "      <td>RFSIND</td>\n",
       "      <td>Recurrence-free survival indicator</td>\n",
       "      <td>No Evidence of Disease</td>\n",
       "    </tr>\n",
       "    <tr>\n",
       "      <th>81</th>\n",
       "      <td>I-Spy1</td>\n",
       "      <td>SS</td>\n",
       "      <td>ISPY1_1019</td>\n",
       "      <td>1</td>\n",
       "      <td>RFSIND</td>\n",
       "      <td>Recurrence-free survival indicator</td>\n",
       "      <td>No Evidence of Disease</td>\n",
       "    </tr>\n",
       "    <tr>\n",
       "      <th>82</th>\n",
       "      <td>I-Spy1</td>\n",
       "      <td>SS</td>\n",
       "      <td>ISPY1_1021</td>\n",
       "      <td>1</td>\n",
       "      <td>RFSIND</td>\n",
       "      <td>Recurrence-free survival indicator</td>\n",
       "      <td>Recurrent Disease</td>\n",
       "    </tr>\n",
       "    <tr>\n",
       "      <th>83</th>\n",
       "      <td>I-Spy1</td>\n",
       "      <td>SS</td>\n",
       "      <td>ISPY1_1022</td>\n",
       "      <td>1</td>\n",
       "      <td>RFSIND</td>\n",
       "      <td>Recurrence-free survival indicator</td>\n",
       "      <td>No Evidence of Disease</td>\n",
       "    </tr>\n",
       "    <tr>\n",
       "      <th>84</th>\n",
       "      <td>I-Spy1</td>\n",
       "      <td>SS</td>\n",
       "      <td>ISPY1_1024</td>\n",
       "      <td>1</td>\n",
       "      <td>RFSIND</td>\n",
       "      <td>Recurrence-free survival indicator</td>\n",
       "      <td>Recurrent Disease</td>\n",
       "    </tr>\n",
       "    <tr>\n",
       "      <th>85</th>\n",
       "      <td>I-Spy1</td>\n",
       "      <td>SS</td>\n",
       "      <td>ISPY1_1025</td>\n",
       "      <td>1</td>\n",
       "      <td>RFSIND</td>\n",
       "      <td>Recurrence-free survival indicator</td>\n",
       "      <td>Recurrent Disease</td>\n",
       "    </tr>\n",
       "    <tr>\n",
       "      <th>86</th>\n",
       "      <td>I-Spy1</td>\n",
       "      <td>SS</td>\n",
       "      <td>ISPY1_1026</td>\n",
       "      <td>1</td>\n",
       "      <td>RFSIND</td>\n",
       "      <td>Recurrence-free survival indicator</td>\n",
       "      <td>No Evidence of Disease</td>\n",
       "    </tr>\n",
       "    <tr>\n",
       "      <th>87</th>\n",
       "      <td>I-Spy1</td>\n",
       "      <td>SS</td>\n",
       "      <td>ISPY1_1027</td>\n",
       "      <td>1</td>\n",
       "      <td>RFSIND</td>\n",
       "      <td>Recurrence-free survival indicator</td>\n",
       "      <td>Recurrent Disease</td>\n",
       "    </tr>\n",
       "    <tr>\n",
       "      <th>88</th>\n",
       "      <td>I-Spy1</td>\n",
       "      <td>SS</td>\n",
       "      <td>ISPY1_1028</td>\n",
       "      <td>1</td>\n",
       "      <td>RFSIND</td>\n",
       "      <td>Recurrence-free survival indicator</td>\n",
       "      <td>Recurrent Disease</td>\n",
       "    </tr>\n",
       "    <tr>\n",
       "      <th>89</th>\n",
       "      <td>I-Spy1</td>\n",
       "      <td>SS</td>\n",
       "      <td>ISPY1_1029</td>\n",
       "      <td>1</td>\n",
       "      <td>RFSIND</td>\n",
       "      <td>Recurrence-free survival indicator</td>\n",
       "      <td>No Evidence of Disease</td>\n",
       "    </tr>\n",
       "    <tr>\n",
       "      <th>90</th>\n",
       "      <td>I-Spy1</td>\n",
       "      <td>SS</td>\n",
       "      <td>ISPY1_1030</td>\n",
       "      <td>1</td>\n",
       "      <td>RFSIND</td>\n",
       "      <td>Recurrence-free survival indicator</td>\n",
       "      <td>No Evidence of Disease</td>\n",
       "    </tr>\n",
       "    <tr>\n",
       "      <th>91</th>\n",
       "      <td>I-Spy1</td>\n",
       "      <td>SS</td>\n",
       "      <td>ISPY1_1031</td>\n",
       "      <td>1</td>\n",
       "      <td>RFSIND</td>\n",
       "      <td>Recurrence-free survival indicator</td>\n",
       "      <td>Recurrent Disease</td>\n",
       "    </tr>\n",
       "    <tr>\n",
       "      <th>92</th>\n",
       "      <td>I-Spy1</td>\n",
       "      <td>SS</td>\n",
       "      <td>ISPY1_1032</td>\n",
       "      <td>1</td>\n",
       "      <td>RFSIND</td>\n",
       "      <td>Recurrence-free survival indicator</td>\n",
       "      <td>No Evidence of Disease</td>\n",
       "    </tr>\n",
       "    <tr>\n",
       "      <th>93</th>\n",
       "      <td>I-Spy1</td>\n",
       "      <td>SS</td>\n",
       "      <td>ISPY1_1033</td>\n",
       "      <td>1</td>\n",
       "      <td>RFSIND</td>\n",
       "      <td>Recurrence-free survival indicator</td>\n",
       "      <td>No Evidence of Disease</td>\n",
       "    </tr>\n",
       "    <tr>\n",
       "      <th>94</th>\n",
       "      <td>I-Spy1</td>\n",
       "      <td>SS</td>\n",
       "      <td>ISPY1_1034</td>\n",
       "      <td>1</td>\n",
       "      <td>RFSIND</td>\n",
       "      <td>Recurrence-free survival indicator</td>\n",
       "      <td>Recurrent Disease</td>\n",
       "    </tr>\n",
       "    <tr>\n",
       "      <th>95</th>\n",
       "      <td>I-Spy1</td>\n",
       "      <td>SS</td>\n",
       "      <td>ISPY1_1035</td>\n",
       "      <td>1</td>\n",
       "      <td>RFSIND</td>\n",
       "      <td>Recurrence-free survival indicator</td>\n",
       "      <td>Recurrent Disease</td>\n",
       "    </tr>\n",
       "    <tr>\n",
       "      <th>96</th>\n",
       "      <td>I-Spy1</td>\n",
       "      <td>SS</td>\n",
       "      <td>ISPY1_1036</td>\n",
       "      <td>1</td>\n",
       "      <td>RFSIND</td>\n",
       "      <td>Recurrence-free survival indicator</td>\n",
       "      <td>Recurrent Disease</td>\n",
       "    </tr>\n",
       "    <tr>\n",
       "      <th>97</th>\n",
       "      <td>I-Spy1</td>\n",
       "      <td>SS</td>\n",
       "      <td>ISPY1_1037</td>\n",
       "      <td>1</td>\n",
       "      <td>RFSIND</td>\n",
       "      <td>Recurrence-free survival indicator</td>\n",
       "      <td>No Evidence of Disease</td>\n",
       "    </tr>\n",
       "    <tr>\n",
       "      <th>98</th>\n",
       "      <td>I-Spy1</td>\n",
       "      <td>SS</td>\n",
       "      <td>ISPY1_1038</td>\n",
       "      <td>1</td>\n",
       "      <td>RFSIND</td>\n",
       "      <td>Recurrence-free survival indicator</td>\n",
       "      <td>No Evidence of Disease</td>\n",
       "    </tr>\n",
       "    <tr>\n",
       "      <th>99</th>\n",
       "      <td>I-Spy1</td>\n",
       "      <td>SS</td>\n",
       "      <td>ISPY1_1039</td>\n",
       "      <td>1</td>\n",
       "      <td>RFSIND</td>\n",
       "      <td>Recurrence-free survival indicator</td>\n",
       "      <td>No Evidence of Disease</td>\n",
       "    </tr>\n",
       "    <tr>\n",
       "      <th>100</th>\n",
       "      <td>I-Spy1</td>\n",
       "      <td>SS</td>\n",
       "      <td>ISPY1_1040</td>\n",
       "      <td>1</td>\n",
       "      <td>RFSIND</td>\n",
       "      <td>Recurrence-free survival indicator</td>\n",
       "      <td>Recurrent Disease</td>\n",
       "    </tr>\n",
       "    <tr>\n",
       "      <th>101</th>\n",
       "      <td>I-Spy1</td>\n",
       "      <td>SS</td>\n",
       "      <td>ISPY1_1041</td>\n",
       "      <td>1</td>\n",
       "      <td>RFSIND</td>\n",
       "      <td>Recurrence-free survival indicator</td>\n",
       "      <td>Recurrent Disease</td>\n",
       "    </tr>\n",
       "    <tr>\n",
       "      <th>102</th>\n",
       "      <td>I-Spy1</td>\n",
       "      <td>SS</td>\n",
       "      <td>ISPY1_1042</td>\n",
       "      <td>1</td>\n",
       "      <td>RFSIND</td>\n",
       "      <td>Recurrence-free survival indicator</td>\n",
       "      <td>No Evidence of Disease</td>\n",
       "    </tr>\n",
       "    <tr>\n",
       "      <th>103</th>\n",
       "      <td>I-Spy1</td>\n",
       "      <td>SS</td>\n",
       "      <td>ISPY1_1043</td>\n",
       "      <td>1</td>\n",
       "      <td>RFSIND</td>\n",
       "      <td>Recurrence-free survival indicator</td>\n",
       "      <td>Recurrent Disease</td>\n",
       "    </tr>\n",
       "    <tr>\n",
       "      <th>104</th>\n",
       "      <td>I-Spy1</td>\n",
       "      <td>SS</td>\n",
       "      <td>ISPY1_1044</td>\n",
       "      <td>1</td>\n",
       "      <td>RFSIND</td>\n",
       "      <td>Recurrence-free survival indicator</td>\n",
       "      <td>Recurrent Disease</td>\n",
       "    </tr>\n",
       "    <tr>\n",
       "      <th>105</th>\n",
       "      <td>I-Spy1</td>\n",
       "      <td>SS</td>\n",
       "      <td>ISPY1_1045</td>\n",
       "      <td>1</td>\n",
       "      <td>RFSIND</td>\n",
       "      <td>Recurrence-free survival indicator</td>\n",
       "      <td>Recurrent Disease</td>\n",
       "    </tr>\n",
       "    <tr>\n",
       "      <th>106</th>\n",
       "      <td>I-Spy1</td>\n",
       "      <td>SS</td>\n",
       "      <td>ISPY1_1046</td>\n",
       "      <td>1</td>\n",
       "      <td>RFSIND</td>\n",
       "      <td>Recurrence-free survival indicator</td>\n",
       "      <td>No Evidence of Disease</td>\n",
       "    </tr>\n",
       "    <tr>\n",
       "      <th>107</th>\n",
       "      <td>I-Spy1</td>\n",
       "      <td>SS</td>\n",
       "      <td>ISPY1_1047</td>\n",
       "      <td>1</td>\n",
       "      <td>RFSIND</td>\n",
       "      <td>Recurrence-free survival indicator</td>\n",
       "      <td>No Evidence of Disease</td>\n",
       "    </tr>\n",
       "    <tr>\n",
       "      <th>108</th>\n",
       "      <td>I-Spy1</td>\n",
       "      <td>SS</td>\n",
       "      <td>ISPY1_1048</td>\n",
       "      <td>1</td>\n",
       "      <td>RFSIND</td>\n",
       "      <td>Recurrence-free survival indicator</td>\n",
       "      <td>No Evidence of Disease</td>\n",
       "    </tr>\n",
       "    <tr>\n",
       "      <th>109</th>\n",
       "      <td>I-Spy1</td>\n",
       "      <td>SS</td>\n",
       "      <td>ISPY1_1049</td>\n",
       "      <td>1</td>\n",
       "      <td>RFSIND</td>\n",
       "      <td>Recurrence-free survival indicator</td>\n",
       "      <td>Recurrent Disease</td>\n",
       "    </tr>\n",
       "    <tr>\n",
       "      <th>110</th>\n",
       "      <td>I-Spy1</td>\n",
       "      <td>SS</td>\n",
       "      <td>ISPY1_1050</td>\n",
       "      <td>1</td>\n",
       "      <td>RFSIND</td>\n",
       "      <td>Recurrence-free survival indicator</td>\n",
       "      <td>Recurrent Disease</td>\n",
       "    </tr>\n",
       "    <tr>\n",
       "      <th>111</th>\n",
       "      <td>I-Spy1</td>\n",
       "      <td>SS</td>\n",
       "      <td>ISPY1_1051</td>\n",
       "      <td>1</td>\n",
       "      <td>RFSIND</td>\n",
       "      <td>Recurrence-free survival indicator</td>\n",
       "      <td>No Evidence of Disease</td>\n",
       "    </tr>\n",
       "    <tr>\n",
       "      <th>112</th>\n",
       "      <td>I-Spy1</td>\n",
       "      <td>SS</td>\n",
       "      <td>ISPY1_1053</td>\n",
       "      <td>1</td>\n",
       "      <td>RFSIND</td>\n",
       "      <td>Recurrence-free survival indicator</td>\n",
       "      <td>No Evidence of Disease</td>\n",
       "    </tr>\n",
       "    <tr>\n",
       "      <th>113</th>\n",
       "      <td>I-Spy1</td>\n",
       "      <td>SS</td>\n",
       "      <td>ISPY1_1054</td>\n",
       "      <td>1</td>\n",
       "      <td>RFSIND</td>\n",
       "      <td>Recurrence-free survival indicator</td>\n",
       "      <td>Recurrent Disease</td>\n",
       "    </tr>\n",
       "    <tr>\n",
       "      <th>114</th>\n",
       "      <td>I-Spy1</td>\n",
       "      <td>SS</td>\n",
       "      <td>ISPY1_1055</td>\n",
       "      <td>1</td>\n",
       "      <td>RFSIND</td>\n",
       "      <td>Recurrence-free survival indicator</td>\n",
       "      <td>No Evidence of Disease</td>\n",
       "    </tr>\n",
       "    <tr>\n",
       "      <th>115</th>\n",
       "      <td>I-Spy1</td>\n",
       "      <td>SS</td>\n",
       "      <td>ISPY1_1056</td>\n",
       "      <td>1</td>\n",
       "      <td>RFSIND</td>\n",
       "      <td>Recurrence-free survival indicator</td>\n",
       "      <td>Recurrent Disease</td>\n",
       "    </tr>\n",
       "    <tr>\n",
       "      <th>116</th>\n",
       "      <td>I-Spy1</td>\n",
       "      <td>SS</td>\n",
       "      <td>ISPY1_1057</td>\n",
       "      <td>1</td>\n",
       "      <td>RFSIND</td>\n",
       "      <td>Recurrence-free survival indicator</td>\n",
       "      <td>Recurrent Disease</td>\n",
       "    </tr>\n",
       "    <tr>\n",
       "      <th>117</th>\n",
       "      <td>I-Spy1</td>\n",
       "      <td>SS</td>\n",
       "      <td>ISPY1_1058</td>\n",
       "      <td>1</td>\n",
       "      <td>RFSIND</td>\n",
       "      <td>Recurrence-free survival indicator</td>\n",
       "      <td>No Evidence of Disease</td>\n",
       "    </tr>\n",
       "    <tr>\n",
       "      <th>118</th>\n",
       "      <td>I-Spy1</td>\n",
       "      <td>SS</td>\n",
       "      <td>ISPY1_1059</td>\n",
       "      <td>1</td>\n",
       "      <td>RFSIND</td>\n",
       "      <td>Recurrence-free survival indicator</td>\n",
       "      <td>No Evidence of Disease</td>\n",
       "    </tr>\n",
       "    <tr>\n",
       "      <th>119</th>\n",
       "      <td>I-Spy1</td>\n",
       "      <td>SS</td>\n",
       "      <td>ISPY1_1060</td>\n",
       "      <td>1</td>\n",
       "      <td>RFSIND</td>\n",
       "      <td>Recurrence-free survival indicator</td>\n",
       "      <td>No Evidence of Disease</td>\n",
       "    </tr>\n",
       "    <tr>\n",
       "      <th>120</th>\n",
       "      <td>I-Spy1</td>\n",
       "      <td>SS</td>\n",
       "      <td>ISPY1_1061</td>\n",
       "      <td>1</td>\n",
       "      <td>RFSIND</td>\n",
       "      <td>Recurrence-free survival indicator</td>\n",
       "      <td>Recurrent Disease</td>\n",
       "    </tr>\n",
       "    <tr>\n",
       "      <th>121</th>\n",
       "      <td>I-Spy1</td>\n",
       "      <td>SS</td>\n",
       "      <td>ISPY1_1062</td>\n",
       "      <td>1</td>\n",
       "      <td>RFSIND</td>\n",
       "      <td>Recurrence-free survival indicator</td>\n",
       "      <td>Recurrent Disease</td>\n",
       "    </tr>\n",
       "    <tr>\n",
       "      <th>122</th>\n",
       "      <td>I-Spy1</td>\n",
       "      <td>SS</td>\n",
       "      <td>ISPY1_1063</td>\n",
       "      <td>1</td>\n",
       "      <td>RFSIND</td>\n",
       "      <td>Recurrence-free survival indicator</td>\n",
       "      <td>No Evidence of Disease</td>\n",
       "    </tr>\n",
       "    <tr>\n",
       "      <th>123</th>\n",
       "      <td>I-Spy1</td>\n",
       "      <td>SS</td>\n",
       "      <td>ISPY1_1064</td>\n",
       "      <td>1</td>\n",
       "      <td>RFSIND</td>\n",
       "      <td>Recurrence-free survival indicator</td>\n",
       "      <td>Recurrent Disease</td>\n",
       "    </tr>\n",
       "    <tr>\n",
       "      <th>124</th>\n",
       "      <td>I-Spy1</td>\n",
       "      <td>SS</td>\n",
       "      <td>ISPY1_1065</td>\n",
       "      <td>1</td>\n",
       "      <td>RFSIND</td>\n",
       "      <td>Recurrence-free survival indicator</td>\n",
       "      <td>No Evidence of Disease</td>\n",
       "    </tr>\n",
       "    <tr>\n",
       "      <th>125</th>\n",
       "      <td>I-Spy1</td>\n",
       "      <td>SS</td>\n",
       "      <td>ISPY1_1066</td>\n",
       "      <td>1</td>\n",
       "      <td>RFSIND</td>\n",
       "      <td>Recurrence-free survival indicator</td>\n",
       "      <td>No Evidence of Disease</td>\n",
       "    </tr>\n",
       "    <tr>\n",
       "      <th>126</th>\n",
       "      <td>I-Spy1</td>\n",
       "      <td>SS</td>\n",
       "      <td>ISPY1_1067</td>\n",
       "      <td>1</td>\n",
       "      <td>RFSIND</td>\n",
       "      <td>Recurrence-free survival indicator</td>\n",
       "      <td>Recurrent Disease</td>\n",
       "    </tr>\n",
       "    <tr>\n",
       "      <th>127</th>\n",
       "      <td>I-Spy1</td>\n",
       "      <td>SS</td>\n",
       "      <td>ISPY1_1068</td>\n",
       "      <td>1</td>\n",
       "      <td>RFSIND</td>\n",
       "      <td>Recurrence-free survival indicator</td>\n",
       "      <td>No Evidence of Disease</td>\n",
       "    </tr>\n",
       "    <tr>\n",
       "      <th>128</th>\n",
       "      <td>I-Spy1</td>\n",
       "      <td>SS</td>\n",
       "      <td>ISPY1_1069</td>\n",
       "      <td>1</td>\n",
       "      <td>RFSIND</td>\n",
       "      <td>Recurrence-free survival indicator</td>\n",
       "      <td>No Evidence of Disease</td>\n",
       "    </tr>\n",
       "    <tr>\n",
       "      <th>129</th>\n",
       "      <td>I-Spy1</td>\n",
       "      <td>SS</td>\n",
       "      <td>ISPY1_1070</td>\n",
       "      <td>1</td>\n",
       "      <td>RFSIND</td>\n",
       "      <td>Recurrence-free survival indicator</td>\n",
       "      <td>No Evidence of Disease</td>\n",
       "    </tr>\n",
       "    <tr>\n",
       "      <th>130</th>\n",
       "      <td>I-Spy1</td>\n",
       "      <td>SS</td>\n",
       "      <td>ISPY1_1071</td>\n",
       "      <td>1</td>\n",
       "      <td>RFSIND</td>\n",
       "      <td>Recurrence-free survival indicator</td>\n",
       "      <td>No Evidence of Disease</td>\n",
       "    </tr>\n",
       "    <tr>\n",
       "      <th>131</th>\n",
       "      <td>I-Spy1</td>\n",
       "      <td>SS</td>\n",
       "      <td>ISPY1_1072</td>\n",
       "      <td>1</td>\n",
       "      <td>RFSIND</td>\n",
       "      <td>Recurrence-free survival indicator</td>\n",
       "      <td>No Evidence of Disease</td>\n",
       "    </tr>\n",
       "    <tr>\n",
       "      <th>132</th>\n",
       "      <td>I-Spy1</td>\n",
       "      <td>SS</td>\n",
       "      <td>ISPY1_1073</td>\n",
       "      <td>1</td>\n",
       "      <td>RFSIND</td>\n",
       "      <td>Recurrence-free survival indicator</td>\n",
       "      <td>No Evidence of Disease</td>\n",
       "    </tr>\n",
       "    <tr>\n",
       "      <th>133</th>\n",
       "      <td>I-Spy1</td>\n",
       "      <td>SS</td>\n",
       "      <td>ISPY1_1074</td>\n",
       "      <td>1</td>\n",
       "      <td>RFSIND</td>\n",
       "      <td>Recurrence-free survival indicator</td>\n",
       "      <td>No Evidence of Disease</td>\n",
       "    </tr>\n",
       "    <tr>\n",
       "      <th>134</th>\n",
       "      <td>I-Spy1</td>\n",
       "      <td>SS</td>\n",
       "      <td>ISPY1_1075</td>\n",
       "      <td>1</td>\n",
       "      <td>RFSIND</td>\n",
       "      <td>Recurrence-free survival indicator</td>\n",
       "      <td>No Evidence of Disease</td>\n",
       "    </tr>\n",
       "    <tr>\n",
       "      <th>135</th>\n",
       "      <td>I-Spy1</td>\n",
       "      <td>SS</td>\n",
       "      <td>ISPY1_1077</td>\n",
       "      <td>1</td>\n",
       "      <td>RFSIND</td>\n",
       "      <td>Recurrence-free survival indicator</td>\n",
       "      <td>No Evidence of Disease</td>\n",
       "    </tr>\n",
       "    <tr>\n",
       "      <th>136</th>\n",
       "      <td>I-Spy1</td>\n",
       "      <td>SS</td>\n",
       "      <td>ISPY1_1078</td>\n",
       "      <td>1</td>\n",
       "      <td>RFSIND</td>\n",
       "      <td>Recurrence-free survival indicator</td>\n",
       "      <td>No Evidence of Disease</td>\n",
       "    </tr>\n",
       "    <tr>\n",
       "      <th>137</th>\n",
       "      <td>I-Spy1</td>\n",
       "      <td>SS</td>\n",
       "      <td>ISPY1_1081</td>\n",
       "      <td>1</td>\n",
       "      <td>RFSIND</td>\n",
       "      <td>Recurrence-free survival indicator</td>\n",
       "      <td>No Evidence of Disease</td>\n",
       "    </tr>\n",
       "    <tr>\n",
       "      <th>138</th>\n",
       "      <td>I-Spy1</td>\n",
       "      <td>SS</td>\n",
       "      <td>ISPY1_1082</td>\n",
       "      <td>1</td>\n",
       "      <td>RFSIND</td>\n",
       "      <td>Recurrence-free survival indicator</td>\n",
       "      <td>No Evidence of Disease</td>\n",
       "    </tr>\n",
       "    <tr>\n",
       "      <th>139</th>\n",
       "      <td>I-Spy1</td>\n",
       "      <td>SS</td>\n",
       "      <td>ISPY1_1083</td>\n",
       "      <td>1</td>\n",
       "      <td>RFSIND</td>\n",
       "      <td>Recurrence-free survival indicator</td>\n",
       "      <td>No Evidence of Disease</td>\n",
       "    </tr>\n",
       "    <tr>\n",
       "      <th>140</th>\n",
       "      <td>I-Spy1</td>\n",
       "      <td>SS</td>\n",
       "      <td>ISPY1_1084</td>\n",
       "      <td>1</td>\n",
       "      <td>RFSIND</td>\n",
       "      <td>Recurrence-free survival indicator</td>\n",
       "      <td>No Evidence of Disease</td>\n",
       "    </tr>\n",
       "    <tr>\n",
       "      <th>141</th>\n",
       "      <td>I-Spy1</td>\n",
       "      <td>SS</td>\n",
       "      <td>ISPY1_1085</td>\n",
       "      <td>1</td>\n",
       "      <td>RFSIND</td>\n",
       "      <td>Recurrence-free survival indicator</td>\n",
       "      <td>No Evidence of Disease</td>\n",
       "    </tr>\n",
       "    <tr>\n",
       "      <th>142</th>\n",
       "      <td>I-Spy1</td>\n",
       "      <td>SS</td>\n",
       "      <td>ISPY1_1086</td>\n",
       "      <td>1</td>\n",
       "      <td>RFSIND</td>\n",
       "      <td>Recurrence-free survival indicator</td>\n",
       "      <td>No Evidence of Disease</td>\n",
       "    </tr>\n",
       "    <tr>\n",
       "      <th>143</th>\n",
       "      <td>I-Spy1</td>\n",
       "      <td>SS</td>\n",
       "      <td>ISPY1_1087</td>\n",
       "      <td>1</td>\n",
       "      <td>RFSIND</td>\n",
       "      <td>Recurrence-free survival indicator</td>\n",
       "      <td>No Evidence of Disease</td>\n",
       "    </tr>\n",
       "    <tr>\n",
       "      <th>144</th>\n",
       "      <td>I-Spy1</td>\n",
       "      <td>SS</td>\n",
       "      <td>ISPY1_1088</td>\n",
       "      <td>1</td>\n",
       "      <td>RFSIND</td>\n",
       "      <td>Recurrence-free survival indicator</td>\n",
       "      <td>No Evidence of Disease</td>\n",
       "    </tr>\n",
       "    <tr>\n",
       "      <th>145</th>\n",
       "      <td>I-Spy1</td>\n",
       "      <td>SS</td>\n",
       "      <td>ISPY1_1089</td>\n",
       "      <td>1</td>\n",
       "      <td>RFSIND</td>\n",
       "      <td>Recurrence-free survival indicator</td>\n",
       "      <td>No Evidence of Disease</td>\n",
       "    </tr>\n",
       "    <tr>\n",
       "      <th>146</th>\n",
       "      <td>I-Spy1</td>\n",
       "      <td>SS</td>\n",
       "      <td>ISPY1_1090</td>\n",
       "      <td>1</td>\n",
       "      <td>RFSIND</td>\n",
       "      <td>Recurrence-free survival indicator</td>\n",
       "      <td>Recurrent Disease</td>\n",
       "    </tr>\n",
       "    <tr>\n",
       "      <th>147</th>\n",
       "      <td>I-Spy1</td>\n",
       "      <td>SS</td>\n",
       "      <td>ISPY1_1091</td>\n",
       "      <td>1</td>\n",
       "      <td>RFSIND</td>\n",
       "      <td>Recurrence-free survival indicator</td>\n",
       "      <td>Recurrent Disease</td>\n",
       "    </tr>\n",
       "    <tr>\n",
       "      <th>148</th>\n",
       "      <td>I-Spy1</td>\n",
       "      <td>SS</td>\n",
       "      <td>ISPY1_1092</td>\n",
       "      <td>1</td>\n",
       "      <td>RFSIND</td>\n",
       "      <td>Recurrence-free survival indicator</td>\n",
       "      <td>No Evidence of Disease</td>\n",
       "    </tr>\n",
       "    <tr>\n",
       "      <th>149</th>\n",
       "      <td>I-Spy1</td>\n",
       "      <td>SS</td>\n",
       "      <td>ISPY1_1093</td>\n",
       "      <td>1</td>\n",
       "      <td>RFSIND</td>\n",
       "      <td>Recurrence-free survival indicator</td>\n",
       "      <td>No Evidence of Disease</td>\n",
       "    </tr>\n",
       "    <tr>\n",
       "      <th>150</th>\n",
       "      <td>I-Spy1</td>\n",
       "      <td>SS</td>\n",
       "      <td>ISPY1_1094</td>\n",
       "      <td>1</td>\n",
       "      <td>RFSIND</td>\n",
       "      <td>Recurrence-free survival indicator</td>\n",
       "      <td>No Evidence of Disease</td>\n",
       "    </tr>\n",
       "    <tr>\n",
       "      <th>151</th>\n",
       "      <td>I-Spy1</td>\n",
       "      <td>SS</td>\n",
       "      <td>ISPY1_1095</td>\n",
       "      <td>1</td>\n",
       "      <td>RFSIND</td>\n",
       "      <td>Recurrence-free survival indicator</td>\n",
       "      <td>No Evidence of Disease</td>\n",
       "    </tr>\n",
       "    <tr>\n",
       "      <th>152</th>\n",
       "      <td>I-Spy1</td>\n",
       "      <td>SS</td>\n",
       "      <td>ISPY1_1096</td>\n",
       "      <td>1</td>\n",
       "      <td>RFSIND</td>\n",
       "      <td>Recurrence-free survival indicator</td>\n",
       "      <td>Recurrent Disease</td>\n",
       "    </tr>\n",
       "    <tr>\n",
       "      <th>153</th>\n",
       "      <td>I-Spy1</td>\n",
       "      <td>SS</td>\n",
       "      <td>ISPY1_1097</td>\n",
       "      <td>1</td>\n",
       "      <td>RFSIND</td>\n",
       "      <td>Recurrence-free survival indicator</td>\n",
       "      <td>No Evidence of Disease</td>\n",
       "    </tr>\n",
       "    <tr>\n",
       "      <th>154</th>\n",
       "      <td>I-Spy1</td>\n",
       "      <td>SS</td>\n",
       "      <td>ISPY1_1098</td>\n",
       "      <td>1</td>\n",
       "      <td>RFSIND</td>\n",
       "      <td>Recurrence-free survival indicator</td>\n",
       "      <td>Recurrent Disease</td>\n",
       "    </tr>\n",
       "    <tr>\n",
       "      <th>155</th>\n",
       "      <td>I-Spy1</td>\n",
       "      <td>SS</td>\n",
       "      <td>ISPY1_1099</td>\n",
       "      <td>1</td>\n",
       "      <td>RFSIND</td>\n",
       "      <td>Recurrence-free survival indicator</td>\n",
       "      <td>No Evidence of Disease</td>\n",
       "    </tr>\n",
       "    <tr>\n",
       "      <th>156</th>\n",
       "      <td>I-Spy1</td>\n",
       "      <td>SS</td>\n",
       "      <td>ISPY1_1100</td>\n",
       "      <td>1</td>\n",
       "      <td>RFSIND</td>\n",
       "      <td>Recurrence-free survival indicator</td>\n",
       "      <td>No Evidence of Disease</td>\n",
       "    </tr>\n",
       "    <tr>\n",
       "      <th>157</th>\n",
       "      <td>I-Spy1</td>\n",
       "      <td>SS</td>\n",
       "      <td>ISPY1_1101</td>\n",
       "      <td>1</td>\n",
       "      <td>RFSIND</td>\n",
       "      <td>Recurrence-free survival indicator</td>\n",
       "      <td>Recurrent Disease</td>\n",
       "    </tr>\n",
       "    <tr>\n",
       "      <th>158</th>\n",
       "      <td>I-Spy1</td>\n",
       "      <td>SS</td>\n",
       "      <td>ISPY1_1102</td>\n",
       "      <td>1</td>\n",
       "      <td>RFSIND</td>\n",
       "      <td>Recurrence-free survival indicator</td>\n",
       "      <td>Recurrent Disease</td>\n",
       "    </tr>\n",
       "    <tr>\n",
       "      <th>159</th>\n",
       "      <td>I-Spy1</td>\n",
       "      <td>SS</td>\n",
       "      <td>ISPY1_1103</td>\n",
       "      <td>1</td>\n",
       "      <td>RFSIND</td>\n",
       "      <td>Recurrence-free survival indicator</td>\n",
       "      <td>No Evidence of Disease</td>\n",
       "    </tr>\n",
       "    <tr>\n",
       "      <th>160</th>\n",
       "      <td>I-Spy1</td>\n",
       "      <td>SS</td>\n",
       "      <td>ISPY1_1104</td>\n",
       "      <td>1</td>\n",
       "      <td>RFSIND</td>\n",
       "      <td>Recurrence-free survival indicator</td>\n",
       "      <td>No Evidence of Disease</td>\n",
       "    </tr>\n",
       "    <tr>\n",
       "      <th>161</th>\n",
       "      <td>I-Spy1</td>\n",
       "      <td>SS</td>\n",
       "      <td>ISPY1_1106</td>\n",
       "      <td>1</td>\n",
       "      <td>RFSIND</td>\n",
       "      <td>Recurrence-free survival indicator</td>\n",
       "      <td>Recurrent Disease</td>\n",
       "    </tr>\n",
       "    <tr>\n",
       "      <th>162</th>\n",
       "      <td>I-Spy1</td>\n",
       "      <td>SS</td>\n",
       "      <td>ISPY1_1107</td>\n",
       "      <td>1</td>\n",
       "      <td>RFSIND</td>\n",
       "      <td>Recurrence-free survival indicator</td>\n",
       "      <td>No Evidence of Disease</td>\n",
       "    </tr>\n",
       "    <tr>\n",
       "      <th>163</th>\n",
       "      <td>I-Spy1</td>\n",
       "      <td>SS</td>\n",
       "      <td>ISPY1_1109</td>\n",
       "      <td>1</td>\n",
       "      <td>RFSIND</td>\n",
       "      <td>Recurrence-free survival indicator</td>\n",
       "      <td>No Evidence of Disease</td>\n",
       "    </tr>\n",
       "    <tr>\n",
       "      <th>164</th>\n",
       "      <td>I-Spy1</td>\n",
       "      <td>SS</td>\n",
       "      <td>ISPY1_1110</td>\n",
       "      <td>1</td>\n",
       "      <td>RFSIND</td>\n",
       "      <td>Recurrence-free survival indicator</td>\n",
       "      <td>No Evidence of Disease</td>\n",
       "    </tr>\n",
       "    <tr>\n",
       "      <th>165</th>\n",
       "      <td>I-Spy1</td>\n",
       "      <td>SS</td>\n",
       "      <td>ISPY1_1111</td>\n",
       "      <td>1</td>\n",
       "      <td>RFSIND</td>\n",
       "      <td>Recurrence-free survival indicator</td>\n",
       "      <td>No Evidence of Disease</td>\n",
       "    </tr>\n",
       "    <tr>\n",
       "      <th>166</th>\n",
       "      <td>I-Spy1</td>\n",
       "      <td>SS</td>\n",
       "      <td>ISPY1_1112</td>\n",
       "      <td>1</td>\n",
       "      <td>RFSIND</td>\n",
       "      <td>Recurrence-free survival indicator</td>\n",
       "      <td>No Evidence of Disease</td>\n",
       "    </tr>\n",
       "    <tr>\n",
       "      <th>167</th>\n",
       "      <td>I-Spy1</td>\n",
       "      <td>SS</td>\n",
       "      <td>ISPY1_1113</td>\n",
       "      <td>1</td>\n",
       "      <td>RFSIND</td>\n",
       "      <td>Recurrence-free survival indicator</td>\n",
       "      <td>No Evidence of Disease</td>\n",
       "    </tr>\n",
       "    <tr>\n",
       "      <th>168</th>\n",
       "      <td>I-Spy1</td>\n",
       "      <td>SS</td>\n",
       "      <td>ISPY1_1114</td>\n",
       "      <td>1</td>\n",
       "      <td>RFSIND</td>\n",
       "      <td>Recurrence-free survival indicator</td>\n",
       "      <td>No Evidence of Disease</td>\n",
       "    </tr>\n",
       "    <tr>\n",
       "      <th>169</th>\n",
       "      <td>I-Spy1</td>\n",
       "      <td>SS</td>\n",
       "      <td>ISPY1_1115</td>\n",
       "      <td>1</td>\n",
       "      <td>RFSIND</td>\n",
       "      <td>Recurrence-free survival indicator</td>\n",
       "      <td>No Evidence of Disease</td>\n",
       "    </tr>\n",
       "    <tr>\n",
       "      <th>170</th>\n",
       "      <td>I-Spy1</td>\n",
       "      <td>SS</td>\n",
       "      <td>ISPY1_1116</td>\n",
       "      <td>1</td>\n",
       "      <td>RFSIND</td>\n",
       "      <td>Recurrence-free survival indicator</td>\n",
       "      <td>No Evidence of Disease</td>\n",
       "    </tr>\n",
       "    <tr>\n",
       "      <th>171</th>\n",
       "      <td>I-Spy1</td>\n",
       "      <td>SS</td>\n",
       "      <td>ISPY1_1117</td>\n",
       "      <td>1</td>\n",
       "      <td>RFSIND</td>\n",
       "      <td>Recurrence-free survival indicator</td>\n",
       "      <td>No Evidence of Disease</td>\n",
       "    </tr>\n",
       "    <tr>\n",
       "      <th>172</th>\n",
       "      <td>I-Spy1</td>\n",
       "      <td>SS</td>\n",
       "      <td>ISPY1_1118</td>\n",
       "      <td>1</td>\n",
       "      <td>RFSIND</td>\n",
       "      <td>Recurrence-free survival indicator</td>\n",
       "      <td>No Evidence of Disease</td>\n",
       "    </tr>\n",
       "    <tr>\n",
       "      <th>173</th>\n",
       "      <td>I-Spy1</td>\n",
       "      <td>SS</td>\n",
       "      <td>ISPY1_1120</td>\n",
       "      <td>1</td>\n",
       "      <td>RFSIND</td>\n",
       "      <td>Recurrence-free survival indicator</td>\n",
       "      <td>No Evidence of Disease</td>\n",
       "    </tr>\n",
       "    <tr>\n",
       "      <th>174</th>\n",
       "      <td>I-Spy1</td>\n",
       "      <td>SS</td>\n",
       "      <td>ISPY1_1121</td>\n",
       "      <td>1</td>\n",
       "      <td>RFSIND</td>\n",
       "      <td>Recurrence-free survival indicator</td>\n",
       "      <td>No Evidence of Disease</td>\n",
       "    </tr>\n",
       "    <tr>\n",
       "      <th>175</th>\n",
       "      <td>I-Spy1</td>\n",
       "      <td>SS</td>\n",
       "      <td>ISPY1_1122</td>\n",
       "      <td>1</td>\n",
       "      <td>RFSIND</td>\n",
       "      <td>Recurrence-free survival indicator</td>\n",
       "      <td>No Evidence of Disease</td>\n",
       "    </tr>\n",
       "    <tr>\n",
       "      <th>176</th>\n",
       "      <td>I-Spy1</td>\n",
       "      <td>SS</td>\n",
       "      <td>ISPY1_1123</td>\n",
       "      <td>1</td>\n",
       "      <td>RFSIND</td>\n",
       "      <td>Recurrence-free survival indicator</td>\n",
       "      <td>No Evidence of Disease</td>\n",
       "    </tr>\n",
       "    <tr>\n",
       "      <th>177</th>\n",
       "      <td>I-Spy1</td>\n",
       "      <td>SS</td>\n",
       "      <td>ISPY1_1124</td>\n",
       "      <td>1</td>\n",
       "      <td>RFSIND</td>\n",
       "      <td>Recurrence-free survival indicator</td>\n",
       "      <td>Recurrent Disease</td>\n",
       "    </tr>\n",
       "    <tr>\n",
       "      <th>178</th>\n",
       "      <td>I-Spy1</td>\n",
       "      <td>SS</td>\n",
       "      <td>ISPY1_1125</td>\n",
       "      <td>1</td>\n",
       "      <td>RFSIND</td>\n",
       "      <td>Recurrence-free survival indicator</td>\n",
       "      <td>No Evidence of Disease</td>\n",
       "    </tr>\n",
       "    <tr>\n",
       "      <th>179</th>\n",
       "      <td>I-Spy1</td>\n",
       "      <td>SS</td>\n",
       "      <td>ISPY1_1126</td>\n",
       "      <td>1</td>\n",
       "      <td>RFSIND</td>\n",
       "      <td>Recurrence-free survival indicator</td>\n",
       "      <td>No Evidence of Disease</td>\n",
       "    </tr>\n",
       "    <tr>\n",
       "      <th>180</th>\n",
       "      <td>I-Spy1</td>\n",
       "      <td>SS</td>\n",
       "      <td>ISPY1_1127</td>\n",
       "      <td>1</td>\n",
       "      <td>RFSIND</td>\n",
       "      <td>Recurrence-free survival indicator</td>\n",
       "      <td>No Evidence of Disease</td>\n",
       "    </tr>\n",
       "    <tr>\n",
       "      <th>181</th>\n",
       "      <td>I-Spy1</td>\n",
       "      <td>SS</td>\n",
       "      <td>ISPY1_1128</td>\n",
       "      <td>1</td>\n",
       "      <td>RFSIND</td>\n",
       "      <td>Recurrence-free survival indicator</td>\n",
       "      <td>No Evidence of Disease</td>\n",
       "    </tr>\n",
       "    <tr>\n",
       "      <th>182</th>\n",
       "      <td>I-Spy1</td>\n",
       "      <td>SS</td>\n",
       "      <td>ISPY1_1129</td>\n",
       "      <td>1</td>\n",
       "      <td>RFSIND</td>\n",
       "      <td>Recurrence-free survival indicator</td>\n",
       "      <td>Recurrent Disease</td>\n",
       "    </tr>\n",
       "    <tr>\n",
       "      <th>183</th>\n",
       "      <td>I-Spy1</td>\n",
       "      <td>SS</td>\n",
       "      <td>ISPY1_1130</td>\n",
       "      <td>1</td>\n",
       "      <td>RFSIND</td>\n",
       "      <td>Recurrence-free survival indicator</td>\n",
       "      <td>No Evidence of Disease</td>\n",
       "    </tr>\n",
       "    <tr>\n",
       "      <th>184</th>\n",
       "      <td>I-Spy1</td>\n",
       "      <td>SS</td>\n",
       "      <td>ISPY1_1132</td>\n",
       "      <td>1</td>\n",
       "      <td>RFSIND</td>\n",
       "      <td>Recurrence-free survival indicator</td>\n",
       "      <td>No Evidence of Disease</td>\n",
       "    </tr>\n",
       "    <tr>\n",
       "      <th>185</th>\n",
       "      <td>I-Spy1</td>\n",
       "      <td>SS</td>\n",
       "      <td>ISPY1_1134</td>\n",
       "      <td>1</td>\n",
       "      <td>RFSIND</td>\n",
       "      <td>Recurrence-free survival indicator</td>\n",
       "      <td>No Evidence of Disease</td>\n",
       "    </tr>\n",
       "    <tr>\n",
       "      <th>186</th>\n",
       "      <td>I-Spy1</td>\n",
       "      <td>SS</td>\n",
       "      <td>ISPY1_1135</td>\n",
       "      <td>1</td>\n",
       "      <td>RFSIND</td>\n",
       "      <td>Recurrence-free survival indicator</td>\n",
       "      <td>No Evidence of Disease</td>\n",
       "    </tr>\n",
       "    <tr>\n",
       "      <th>187</th>\n",
       "      <td>I-Spy1</td>\n",
       "      <td>SS</td>\n",
       "      <td>ISPY1_1136</td>\n",
       "      <td>1</td>\n",
       "      <td>RFSIND</td>\n",
       "      <td>Recurrence-free survival indicator</td>\n",
       "      <td>Recurrent Disease</td>\n",
       "    </tr>\n",
       "    <tr>\n",
       "      <th>188</th>\n",
       "      <td>I-Spy1</td>\n",
       "      <td>SS</td>\n",
       "      <td>ISPY1_1137</td>\n",
       "      <td>1</td>\n",
       "      <td>RFSIND</td>\n",
       "      <td>Recurrence-free survival indicator</td>\n",
       "      <td>Recurrent Disease</td>\n",
       "    </tr>\n",
       "    <tr>\n",
       "      <th>189</th>\n",
       "      <td>I-Spy1</td>\n",
       "      <td>SS</td>\n",
       "      <td>ISPY1_1138</td>\n",
       "      <td>1</td>\n",
       "      <td>RFSIND</td>\n",
       "      <td>Recurrence-free survival indicator</td>\n",
       "      <td>No Evidence of Disease</td>\n",
       "    </tr>\n",
       "    <tr>\n",
       "      <th>190</th>\n",
       "      <td>I-Spy1</td>\n",
       "      <td>SS</td>\n",
       "      <td>ISPY1_1139</td>\n",
       "      <td>1</td>\n",
       "      <td>RFSIND</td>\n",
       "      <td>Recurrence-free survival indicator</td>\n",
       "      <td>No Evidence of Disease</td>\n",
       "    </tr>\n",
       "    <tr>\n",
       "      <th>191</th>\n",
       "      <td>I-Spy1</td>\n",
       "      <td>SS</td>\n",
       "      <td>ISPY1_1140</td>\n",
       "      <td>1</td>\n",
       "      <td>RFSIND</td>\n",
       "      <td>Recurrence-free survival indicator</td>\n",
       "      <td>Recurrent Disease</td>\n",
       "    </tr>\n",
       "    <tr>\n",
       "      <th>192</th>\n",
       "      <td>I-Spy1</td>\n",
       "      <td>SS</td>\n",
       "      <td>ISPY1_1141</td>\n",
       "      <td>1</td>\n",
       "      <td>RFSIND</td>\n",
       "      <td>Recurrence-free survival indicator</td>\n",
       "      <td>No Evidence of Disease</td>\n",
       "    </tr>\n",
       "    <tr>\n",
       "      <th>193</th>\n",
       "      <td>I-Spy1</td>\n",
       "      <td>SS</td>\n",
       "      <td>ISPY1_1142</td>\n",
       "      <td>1</td>\n",
       "      <td>RFSIND</td>\n",
       "      <td>Recurrence-free survival indicator</td>\n",
       "      <td>Recurrent Disease</td>\n",
       "    </tr>\n",
       "    <tr>\n",
       "      <th>194</th>\n",
       "      <td>I-Spy1</td>\n",
       "      <td>SS</td>\n",
       "      <td>ISPY1_1143</td>\n",
       "      <td>1</td>\n",
       "      <td>RFSIND</td>\n",
       "      <td>Recurrence-free survival indicator</td>\n",
       "      <td>Recurrent Disease</td>\n",
       "    </tr>\n",
       "    <tr>\n",
       "      <th>195</th>\n",
       "      <td>I-Spy1</td>\n",
       "      <td>SS</td>\n",
       "      <td>ISPY1_1144</td>\n",
       "      <td>1</td>\n",
       "      <td>RFSIND</td>\n",
       "      <td>Recurrence-free survival indicator</td>\n",
       "      <td>No Evidence of Disease</td>\n",
       "    </tr>\n",
       "    <tr>\n",
       "      <th>196</th>\n",
       "      <td>I-Spy1</td>\n",
       "      <td>SS</td>\n",
       "      <td>ISPY1_1145</td>\n",
       "      <td>1</td>\n",
       "      <td>RFSIND</td>\n",
       "      <td>Recurrence-free survival indicator</td>\n",
       "      <td>No Evidence of Disease</td>\n",
       "    </tr>\n",
       "    <tr>\n",
       "      <th>197</th>\n",
       "      <td>I-Spy1</td>\n",
       "      <td>SS</td>\n",
       "      <td>ISPY1_1146</td>\n",
       "      <td>1</td>\n",
       "      <td>RFSIND</td>\n",
       "      <td>Recurrence-free survival indicator</td>\n",
       "      <td>No Evidence of Disease</td>\n",
       "    </tr>\n",
       "    <tr>\n",
       "      <th>198</th>\n",
       "      <td>I-Spy1</td>\n",
       "      <td>SS</td>\n",
       "      <td>ISPY1_1147</td>\n",
       "      <td>1</td>\n",
       "      <td>RFSIND</td>\n",
       "      <td>Recurrence-free survival indicator</td>\n",
       "      <td>Recurrent Disease</td>\n",
       "    </tr>\n",
       "    <tr>\n",
       "      <th>199</th>\n",
       "      <td>I-Spy1</td>\n",
       "      <td>SS</td>\n",
       "      <td>ISPY1_1148</td>\n",
       "      <td>1</td>\n",
       "      <td>RFSIND</td>\n",
       "      <td>Recurrence-free survival indicator</td>\n",
       "      <td>No Evidence of Disease</td>\n",
       "    </tr>\n",
       "    <tr>\n",
       "      <th>200</th>\n",
       "      <td>I-Spy1</td>\n",
       "      <td>SS</td>\n",
       "      <td>ISPY1_1149</td>\n",
       "      <td>1</td>\n",
       "      <td>RFSIND</td>\n",
       "      <td>Recurrence-free survival indicator</td>\n",
       "      <td>Recurrent Disease</td>\n",
       "    </tr>\n",
       "    <tr>\n",
       "      <th>201</th>\n",
       "      <td>I-Spy1</td>\n",
       "      <td>SS</td>\n",
       "      <td>ISPY1_1150</td>\n",
       "      <td>1</td>\n",
       "      <td>RFSIND</td>\n",
       "      <td>Recurrence-free survival indicator</td>\n",
       "      <td>No Evidence of Disease</td>\n",
       "    </tr>\n",
       "    <tr>\n",
       "      <th>202</th>\n",
       "      <td>I-Spy1</td>\n",
       "      <td>SS</td>\n",
       "      <td>ISPY1_1151</td>\n",
       "      <td>1</td>\n",
       "      <td>RFSIND</td>\n",
       "      <td>Recurrence-free survival indicator</td>\n",
       "      <td>No Evidence of Disease</td>\n",
       "    </tr>\n",
       "    <tr>\n",
       "      <th>203</th>\n",
       "      <td>I-Spy1</td>\n",
       "      <td>SS</td>\n",
       "      <td>ISPY1_1152</td>\n",
       "      <td>1</td>\n",
       "      <td>RFSIND</td>\n",
       "      <td>Recurrence-free survival indicator</td>\n",
       "      <td>Recurrent Disease</td>\n",
       "    </tr>\n",
       "    <tr>\n",
       "      <th>204</th>\n",
       "      <td>I-Spy1</td>\n",
       "      <td>SS</td>\n",
       "      <td>ISPY1_1154</td>\n",
       "      <td>1</td>\n",
       "      <td>RFSIND</td>\n",
       "      <td>Recurrence-free survival indicator</td>\n",
       "      <td>No Evidence of Disease</td>\n",
       "    </tr>\n",
       "    <tr>\n",
       "      <th>205</th>\n",
       "      <td>I-Spy1</td>\n",
       "      <td>SS</td>\n",
       "      <td>ISPY1_1155</td>\n",
       "      <td>1</td>\n",
       "      <td>RFSIND</td>\n",
       "      <td>Recurrence-free survival indicator</td>\n",
       "      <td>No Evidence of Disease</td>\n",
       "    </tr>\n",
       "    <tr>\n",
       "      <th>206</th>\n",
       "      <td>I-Spy1</td>\n",
       "      <td>SS</td>\n",
       "      <td>ISPY1_1156</td>\n",
       "      <td>1</td>\n",
       "      <td>RFSIND</td>\n",
       "      <td>Recurrence-free survival indicator</td>\n",
       "      <td>Recurrent Disease</td>\n",
       "    </tr>\n",
       "    <tr>\n",
       "      <th>207</th>\n",
       "      <td>I-Spy1</td>\n",
       "      <td>SS</td>\n",
       "      <td>ISPY1_1157</td>\n",
       "      <td>1</td>\n",
       "      <td>RFSIND</td>\n",
       "      <td>Recurrence-free survival indicator</td>\n",
       "      <td>No Evidence of Disease</td>\n",
       "    </tr>\n",
       "    <tr>\n",
       "      <th>208</th>\n",
       "      <td>I-Spy1</td>\n",
       "      <td>SS</td>\n",
       "      <td>ISPY1_1158</td>\n",
       "      <td>1</td>\n",
       "      <td>RFSIND</td>\n",
       "      <td>Recurrence-free survival indicator</td>\n",
       "      <td>No Evidence of Disease</td>\n",
       "    </tr>\n",
       "    <tr>\n",
       "      <th>209</th>\n",
       "      <td>I-Spy1</td>\n",
       "      <td>SS</td>\n",
       "      <td>ISPY1_1159</td>\n",
       "      <td>1</td>\n",
       "      <td>RFSIND</td>\n",
       "      <td>Recurrence-free survival indicator</td>\n",
       "      <td>Recurrent Disease</td>\n",
       "    </tr>\n",
       "    <tr>\n",
       "      <th>210</th>\n",
       "      <td>I-Spy1</td>\n",
       "      <td>SS</td>\n",
       "      <td>ISPY1_1160</td>\n",
       "      <td>1</td>\n",
       "      <td>RFSIND</td>\n",
       "      <td>Recurrence-free survival indicator</td>\n",
       "      <td>No Evidence of Disease</td>\n",
       "    </tr>\n",
       "    <tr>\n",
       "      <th>211</th>\n",
       "      <td>I-Spy1</td>\n",
       "      <td>SS</td>\n",
       "      <td>ISPY1_1161</td>\n",
       "      <td>1</td>\n",
       "      <td>RFSIND</td>\n",
       "      <td>Recurrence-free survival indicator</td>\n",
       "      <td>No Evidence of Disease</td>\n",
       "    </tr>\n",
       "    <tr>\n",
       "      <th>212</th>\n",
       "      <td>I-Spy1</td>\n",
       "      <td>SS</td>\n",
       "      <td>ISPY1_1162</td>\n",
       "      <td>1</td>\n",
       "      <td>RFSIND</td>\n",
       "      <td>Recurrence-free survival indicator</td>\n",
       "      <td>No Evidence of Disease</td>\n",
       "    </tr>\n",
       "    <tr>\n",
       "      <th>213</th>\n",
       "      <td>I-Spy1</td>\n",
       "      <td>SS</td>\n",
       "      <td>ISPY1_1163</td>\n",
       "      <td>1</td>\n",
       "      <td>RFSIND</td>\n",
       "      <td>Recurrence-free survival indicator</td>\n",
       "      <td>No Evidence of Disease</td>\n",
       "    </tr>\n",
       "    <tr>\n",
       "      <th>214</th>\n",
       "      <td>I-Spy1</td>\n",
       "      <td>SS</td>\n",
       "      <td>ISPY1_1164</td>\n",
       "      <td>1</td>\n",
       "      <td>RFSIND</td>\n",
       "      <td>Recurrence-free survival indicator</td>\n",
       "      <td>No Evidence of Disease</td>\n",
       "    </tr>\n",
       "    <tr>\n",
       "      <th>215</th>\n",
       "      <td>I-Spy1</td>\n",
       "      <td>SS</td>\n",
       "      <td>ISPY1_1165</td>\n",
       "      <td>1</td>\n",
       "      <td>RFSIND</td>\n",
       "      <td>Recurrence-free survival indicator</td>\n",
       "      <td>No Evidence of Disease</td>\n",
       "    </tr>\n",
       "    <tr>\n",
       "      <th>216</th>\n",
       "      <td>I-Spy1</td>\n",
       "      <td>SS</td>\n",
       "      <td>ISPY1_1166</td>\n",
       "      <td>1</td>\n",
       "      <td>RFSIND</td>\n",
       "      <td>Recurrence-free survival indicator</td>\n",
       "      <td>No Evidence of Disease</td>\n",
       "    </tr>\n",
       "    <tr>\n",
       "      <th>217</th>\n",
       "      <td>I-Spy1</td>\n",
       "      <td>SS</td>\n",
       "      <td>ISPY1_1167</td>\n",
       "      <td>1</td>\n",
       "      <td>RFSIND</td>\n",
       "      <td>Recurrence-free survival indicator</td>\n",
       "      <td>Recurrent Disease</td>\n",
       "    </tr>\n",
       "    <tr>\n",
       "      <th>218</th>\n",
       "      <td>I-Spy1</td>\n",
       "      <td>SS</td>\n",
       "      <td>ISPY1_1168</td>\n",
       "      <td>1</td>\n",
       "      <td>RFSIND</td>\n",
       "      <td>Recurrence-free survival indicator</td>\n",
       "      <td>Recurrent Disease</td>\n",
       "    </tr>\n",
       "    <tr>\n",
       "      <th>219</th>\n",
       "      <td>I-Spy1</td>\n",
       "      <td>SS</td>\n",
       "      <td>ISPY1_1169</td>\n",
       "      <td>1</td>\n",
       "      <td>RFSIND</td>\n",
       "      <td>Recurrence-free survival indicator</td>\n",
       "      <td>Recurrent Disease</td>\n",
       "    </tr>\n",
       "    <tr>\n",
       "      <th>220</th>\n",
       "      <td>I-Spy1</td>\n",
       "      <td>SS</td>\n",
       "      <td>ISPY1_1170</td>\n",
       "      <td>1</td>\n",
       "      <td>RFSIND</td>\n",
       "      <td>Recurrence-free survival indicator</td>\n",
       "      <td>No Evidence of Disease</td>\n",
       "    </tr>\n",
       "    <tr>\n",
       "      <th>221</th>\n",
       "      <td>I-Spy1</td>\n",
       "      <td>SS</td>\n",
       "      <td>ISPY1_1171</td>\n",
       "      <td>1</td>\n",
       "      <td>RFSIND</td>\n",
       "      <td>Recurrence-free survival indicator</td>\n",
       "      <td>No Evidence of Disease</td>\n",
       "    </tr>\n",
       "    <tr>\n",
       "      <th>222</th>\n",
       "      <td>I-Spy1</td>\n",
       "      <td>SS</td>\n",
       "      <td>ISPY1_1172</td>\n",
       "      <td>1</td>\n",
       "      <td>RFSIND</td>\n",
       "      <td>Recurrence-free survival indicator</td>\n",
       "      <td>No Evidence of Disease</td>\n",
       "    </tr>\n",
       "    <tr>\n",
       "      <th>223</th>\n",
       "      <td>I-Spy1</td>\n",
       "      <td>SS</td>\n",
       "      <td>ISPY1_1173</td>\n",
       "      <td>1</td>\n",
       "      <td>RFSIND</td>\n",
       "      <td>Recurrence-free survival indicator</td>\n",
       "      <td>No Evidence of Disease</td>\n",
       "    </tr>\n",
       "    <tr>\n",
       "      <th>224</th>\n",
       "      <td>I-Spy1</td>\n",
       "      <td>SS</td>\n",
       "      <td>ISPY1_1174</td>\n",
       "      <td>1</td>\n",
       "      <td>RFSIND</td>\n",
       "      <td>Recurrence-free survival indicator</td>\n",
       "      <td>Recurrent Disease</td>\n",
       "    </tr>\n",
       "    <tr>\n",
       "      <th>225</th>\n",
       "      <td>I-Spy1</td>\n",
       "      <td>SS</td>\n",
       "      <td>ISPY1_1175</td>\n",
       "      <td>1</td>\n",
       "      <td>RFSIND</td>\n",
       "      <td>Recurrence-free survival indicator</td>\n",
       "      <td>No Evidence of Disease</td>\n",
       "    </tr>\n",
       "    <tr>\n",
       "      <th>226</th>\n",
       "      <td>I-Spy1</td>\n",
       "      <td>SS</td>\n",
       "      <td>ISPY1_1176</td>\n",
       "      <td>1</td>\n",
       "      <td>RFSIND</td>\n",
       "      <td>Recurrence-free survival indicator</td>\n",
       "      <td>No Evidence of Disease</td>\n",
       "    </tr>\n",
       "    <tr>\n",
       "      <th>227</th>\n",
       "      <td>I-Spy1</td>\n",
       "      <td>SS</td>\n",
       "      <td>ISPY1_1177</td>\n",
       "      <td>1</td>\n",
       "      <td>RFSIND</td>\n",
       "      <td>Recurrence-free survival indicator</td>\n",
       "      <td>No Evidence of Disease</td>\n",
       "    </tr>\n",
       "    <tr>\n",
       "      <th>228</th>\n",
       "      <td>I-Spy1</td>\n",
       "      <td>SS</td>\n",
       "      <td>ISPY1_1179</td>\n",
       "      <td>1</td>\n",
       "      <td>RFSIND</td>\n",
       "      <td>Recurrence-free survival indicator</td>\n",
       "      <td>No Evidence of Disease</td>\n",
       "    </tr>\n",
       "    <tr>\n",
       "      <th>229</th>\n",
       "      <td>I-Spy1</td>\n",
       "      <td>SS</td>\n",
       "      <td>ISPY1_1180</td>\n",
       "      <td>1</td>\n",
       "      <td>RFSIND</td>\n",
       "      <td>Recurrence-free survival indicator</td>\n",
       "      <td>Recurrent Disease</td>\n",
       "    </tr>\n",
       "    <tr>\n",
       "      <th>230</th>\n",
       "      <td>I-Spy1</td>\n",
       "      <td>SS</td>\n",
       "      <td>ISPY1_1181</td>\n",
       "      <td>1</td>\n",
       "      <td>RFSIND</td>\n",
       "      <td>Recurrence-free survival indicator</td>\n",
       "      <td>No Evidence of Disease</td>\n",
       "    </tr>\n",
       "    <tr>\n",
       "      <th>231</th>\n",
       "      <td>I-Spy1</td>\n",
       "      <td>SS</td>\n",
       "      <td>ISPY1_1182</td>\n",
       "      <td>1</td>\n",
       "      <td>RFSIND</td>\n",
       "      <td>Recurrence-free survival indicator</td>\n",
       "      <td>No Evidence of Disease</td>\n",
       "    </tr>\n",
       "    <tr>\n",
       "      <th>232</th>\n",
       "      <td>I-Spy1</td>\n",
       "      <td>SS</td>\n",
       "      <td>ISPY1_1183</td>\n",
       "      <td>1</td>\n",
       "      <td>RFSIND</td>\n",
       "      <td>Recurrence-free survival indicator</td>\n",
       "      <td>No Evidence of Disease</td>\n",
       "    </tr>\n",
       "    <tr>\n",
       "      <th>233</th>\n",
       "      <td>I-Spy1</td>\n",
       "      <td>SS</td>\n",
       "      <td>ISPY1_1184</td>\n",
       "      <td>1</td>\n",
       "      <td>RFSIND</td>\n",
       "      <td>Recurrence-free survival indicator</td>\n",
       "      <td>No Evidence of Disease</td>\n",
       "    </tr>\n",
       "    <tr>\n",
       "      <th>234</th>\n",
       "      <td>I-Spy1</td>\n",
       "      <td>SS</td>\n",
       "      <td>ISPY1_1185</td>\n",
       "      <td>1</td>\n",
       "      <td>RFSIND</td>\n",
       "      <td>Recurrence-free survival indicator</td>\n",
       "      <td>No Evidence of Disease</td>\n",
       "    </tr>\n",
       "    <tr>\n",
       "      <th>235</th>\n",
       "      <td>I-Spy1</td>\n",
       "      <td>SS</td>\n",
       "      <td>ISPY1_1187</td>\n",
       "      <td>1</td>\n",
       "      <td>RFSIND</td>\n",
       "      <td>Recurrence-free survival indicator</td>\n",
       "      <td>No Evidence of Disease</td>\n",
       "    </tr>\n",
       "    <tr>\n",
       "      <th>236</th>\n",
       "      <td>I-Spy1</td>\n",
       "      <td>SS</td>\n",
       "      <td>ISPY1_1188</td>\n",
       "      <td>1</td>\n",
       "      <td>RFSIND</td>\n",
       "      <td>Recurrence-free survival indicator</td>\n",
       "      <td>No Evidence of Disease</td>\n",
       "    </tr>\n",
       "    <tr>\n",
       "      <th>237</th>\n",
       "      <td>I-Spy1</td>\n",
       "      <td>SS</td>\n",
       "      <td>ISPY1_1189</td>\n",
       "      <td>1</td>\n",
       "      <td>RFSIND</td>\n",
       "      <td>Recurrence-free survival indicator</td>\n",
       "      <td>No Evidence of Disease</td>\n",
       "    </tr>\n",
       "    <tr>\n",
       "      <th>238</th>\n",
       "      <td>I-Spy1</td>\n",
       "      <td>SS</td>\n",
       "      <td>ISPY1_1191</td>\n",
       "      <td>1</td>\n",
       "      <td>RFSIND</td>\n",
       "      <td>Recurrence-free survival indicator</td>\n",
       "      <td>No Evidence of Disease</td>\n",
       "    </tr>\n",
       "    <tr>\n",
       "      <th>239</th>\n",
       "      <td>I-Spy1</td>\n",
       "      <td>SS</td>\n",
       "      <td>ISPY1_1192</td>\n",
       "      <td>1</td>\n",
       "      <td>RFSIND</td>\n",
       "      <td>Recurrence-free survival indicator</td>\n",
       "      <td>No Evidence of Disease</td>\n",
       "    </tr>\n",
       "    <tr>\n",
       "      <th>240</th>\n",
       "      <td>I-Spy1</td>\n",
       "      <td>SS</td>\n",
       "      <td>ISPY1_1193</td>\n",
       "      <td>1</td>\n",
       "      <td>RFSIND</td>\n",
       "      <td>Recurrence-free survival indicator</td>\n",
       "      <td>No Evidence of Disease</td>\n",
       "    </tr>\n",
       "    <tr>\n",
       "      <th>241</th>\n",
       "      <td>I-Spy1</td>\n",
       "      <td>SS</td>\n",
       "      <td>ISPY1_1194</td>\n",
       "      <td>1</td>\n",
       "      <td>RFSIND</td>\n",
       "      <td>Recurrence-free survival indicator</td>\n",
       "      <td>Recurrent Disease</td>\n",
       "    </tr>\n",
       "    <tr>\n",
       "      <th>242</th>\n",
       "      <td>I-Spy1</td>\n",
       "      <td>SS</td>\n",
       "      <td>ISPY1_1196</td>\n",
       "      <td>1</td>\n",
       "      <td>RFSIND</td>\n",
       "      <td>Recurrence-free survival indicator</td>\n",
       "      <td>No Evidence of Disease</td>\n",
       "    </tr>\n",
       "    <tr>\n",
       "      <th>243</th>\n",
       "      <td>I-Spy1</td>\n",
       "      <td>SS</td>\n",
       "      <td>ISPY1_1197</td>\n",
       "      <td>1</td>\n",
       "      <td>RFSIND</td>\n",
       "      <td>Recurrence-free survival indicator</td>\n",
       "      <td>No Evidence of Disease</td>\n",
       "    </tr>\n",
       "    <tr>\n",
       "      <th>244</th>\n",
       "      <td>I-Spy1</td>\n",
       "      <td>SS</td>\n",
       "      <td>ISPY1_1198</td>\n",
       "      <td>1</td>\n",
       "      <td>RFSIND</td>\n",
       "      <td>Recurrence-free survival indicator</td>\n",
       "      <td>No Evidence of Disease</td>\n",
       "    </tr>\n",
       "    <tr>\n",
       "      <th>245</th>\n",
       "      <td>I-Spy1</td>\n",
       "      <td>SS</td>\n",
       "      <td>ISPY1_1199</td>\n",
       "      <td>1</td>\n",
       "      <td>RFSIND</td>\n",
       "      <td>Recurrence-free survival indicator</td>\n",
       "      <td>Recurrent Disease</td>\n",
       "    </tr>\n",
       "    <tr>\n",
       "      <th>246</th>\n",
       "      <td>I-Spy1</td>\n",
       "      <td>SS</td>\n",
       "      <td>ISPY1_1200</td>\n",
       "      <td>1</td>\n",
       "      <td>RFSIND</td>\n",
       "      <td>Recurrence-free survival indicator</td>\n",
       "      <td>Recurrent Disease</td>\n",
       "    </tr>\n",
       "    <tr>\n",
       "      <th>247</th>\n",
       "      <td>I-Spy1</td>\n",
       "      <td>SS</td>\n",
       "      <td>ISPY1_1201</td>\n",
       "      <td>1</td>\n",
       "      <td>RFSIND</td>\n",
       "      <td>Recurrence-free survival indicator</td>\n",
       "      <td>No Evidence of Disease</td>\n",
       "    </tr>\n",
       "    <tr>\n",
       "      <th>248</th>\n",
       "      <td>I-Spy1</td>\n",
       "      <td>SS</td>\n",
       "      <td>ISPY1_1202</td>\n",
       "      <td>1</td>\n",
       "      <td>RFSIND</td>\n",
       "      <td>Recurrence-free survival indicator</td>\n",
       "      <td>No Evidence of Disease</td>\n",
       "    </tr>\n",
       "    <tr>\n",
       "      <th>249</th>\n",
       "      <td>I-Spy1</td>\n",
       "      <td>SS</td>\n",
       "      <td>ISPY1_1203</td>\n",
       "      <td>1</td>\n",
       "      <td>RFSIND</td>\n",
       "      <td>Recurrence-free survival indicator</td>\n",
       "      <td>Recurrent Disease</td>\n",
       "    </tr>\n",
       "    <tr>\n",
       "      <th>250</th>\n",
       "      <td>I-Spy1</td>\n",
       "      <td>SS</td>\n",
       "      <td>ISPY1_1204</td>\n",
       "      <td>1</td>\n",
       "      <td>RFSIND</td>\n",
       "      <td>Recurrence-free survival indicator</td>\n",
       "      <td>No Evidence of Disease</td>\n",
       "    </tr>\n",
       "    <tr>\n",
       "      <th>251</th>\n",
       "      <td>I-Spy1</td>\n",
       "      <td>SS</td>\n",
       "      <td>ISPY1_1205</td>\n",
       "      <td>1</td>\n",
       "      <td>RFSIND</td>\n",
       "      <td>Recurrence-free survival indicator</td>\n",
       "      <td>No Evidence of Disease</td>\n",
       "    </tr>\n",
       "    <tr>\n",
       "      <th>252</th>\n",
       "      <td>I-Spy1</td>\n",
       "      <td>SS</td>\n",
       "      <td>ISPY1_1206</td>\n",
       "      <td>1</td>\n",
       "      <td>RFSIND</td>\n",
       "      <td>Recurrence-free survival indicator</td>\n",
       "      <td>Recurrent Disease</td>\n",
       "    </tr>\n",
       "    <tr>\n",
       "      <th>253</th>\n",
       "      <td>I-Spy1</td>\n",
       "      <td>SS</td>\n",
       "      <td>ISPY1_1207</td>\n",
       "      <td>1</td>\n",
       "      <td>RFSIND</td>\n",
       "      <td>Recurrence-free survival indicator</td>\n",
       "      <td>No Evidence of Disease</td>\n",
       "    </tr>\n",
       "    <tr>\n",
       "      <th>254</th>\n",
       "      <td>I-Spy1</td>\n",
       "      <td>SS</td>\n",
       "      <td>ISPY1_1208</td>\n",
       "      <td>1</td>\n",
       "      <td>RFSIND</td>\n",
       "      <td>Recurrence-free survival indicator</td>\n",
       "      <td>No Evidence of Disease</td>\n",
       "    </tr>\n",
       "    <tr>\n",
       "      <th>255</th>\n",
       "      <td>I-Spy1</td>\n",
       "      <td>SS</td>\n",
       "      <td>ISPY1_1209</td>\n",
       "      <td>1</td>\n",
       "      <td>RFSIND</td>\n",
       "      <td>Recurrence-free survival indicator</td>\n",
       "      <td>No Evidence of Disease</td>\n",
       "    </tr>\n",
       "    <tr>\n",
       "      <th>256</th>\n",
       "      <td>I-Spy1</td>\n",
       "      <td>SS</td>\n",
       "      <td>ISPY1_1210</td>\n",
       "      <td>1</td>\n",
       "      <td>RFSIND</td>\n",
       "      <td>Recurrence-free survival indicator</td>\n",
       "      <td>No Evidence of Disease</td>\n",
       "    </tr>\n",
       "    <tr>\n",
       "      <th>257</th>\n",
       "      <td>I-Spy1</td>\n",
       "      <td>SS</td>\n",
       "      <td>ISPY1_1211</td>\n",
       "      <td>1</td>\n",
       "      <td>RFSIND</td>\n",
       "      <td>Recurrence-free survival indicator</td>\n",
       "      <td>No Evidence of Disease</td>\n",
       "    </tr>\n",
       "    <tr>\n",
       "      <th>258</th>\n",
       "      <td>I-Spy1</td>\n",
       "      <td>SS</td>\n",
       "      <td>ISPY1_1212</td>\n",
       "      <td>1</td>\n",
       "      <td>RFSIND</td>\n",
       "      <td>Recurrence-free survival indicator</td>\n",
       "      <td>No Evidence of Disease</td>\n",
       "    </tr>\n",
       "    <tr>\n",
       "      <th>259</th>\n",
       "      <td>I-Spy1</td>\n",
       "      <td>SS</td>\n",
       "      <td>ISPY1_1213</td>\n",
       "      <td>1</td>\n",
       "      <td>RFSIND</td>\n",
       "      <td>Recurrence-free survival indicator</td>\n",
       "      <td>No Evidence of Disease</td>\n",
       "    </tr>\n",
       "    <tr>\n",
       "      <th>260</th>\n",
       "      <td>I-Spy1</td>\n",
       "      <td>SS</td>\n",
       "      <td>ISPY1_1214</td>\n",
       "      <td>1</td>\n",
       "      <td>RFSIND</td>\n",
       "      <td>Recurrence-free survival indicator</td>\n",
       "      <td>No Evidence of Disease</td>\n",
       "    </tr>\n",
       "    <tr>\n",
       "      <th>261</th>\n",
       "      <td>I-Spy1</td>\n",
       "      <td>SS</td>\n",
       "      <td>ISPY1_1215</td>\n",
       "      <td>1</td>\n",
       "      <td>RFSIND</td>\n",
       "      <td>Recurrence-free survival indicator</td>\n",
       "      <td>Recurrent Disease</td>\n",
       "    </tr>\n",
       "    <tr>\n",
       "      <th>262</th>\n",
       "      <td>I-Spy1</td>\n",
       "      <td>SS</td>\n",
       "      <td>ISPY1_1216</td>\n",
       "      <td>1</td>\n",
       "      <td>RFSIND</td>\n",
       "      <td>Recurrence-free survival indicator</td>\n",
       "      <td>Recurrent Disease</td>\n",
       "    </tr>\n",
       "    <tr>\n",
       "      <th>263</th>\n",
       "      <td>I-Spy1</td>\n",
       "      <td>SS</td>\n",
       "      <td>ISPY1_1217</td>\n",
       "      <td>1</td>\n",
       "      <td>RFSIND</td>\n",
       "      <td>Recurrence-free survival indicator</td>\n",
       "      <td>No Evidence of Disease</td>\n",
       "    </tr>\n",
       "    <tr>\n",
       "      <th>264</th>\n",
       "      <td>I-Spy1</td>\n",
       "      <td>SS</td>\n",
       "      <td>ISPY1_1218</td>\n",
       "      <td>1</td>\n",
       "      <td>RFSIND</td>\n",
       "      <td>Recurrence-free survival indicator</td>\n",
       "      <td>No Evidence of Disease</td>\n",
       "    </tr>\n",
       "    <tr>\n",
       "      <th>265</th>\n",
       "      <td>I-Spy1</td>\n",
       "      <td>SS</td>\n",
       "      <td>ISPY1_1219</td>\n",
       "      <td>1</td>\n",
       "      <td>RFSIND</td>\n",
       "      <td>Recurrence-free survival indicator</td>\n",
       "      <td>No Evidence of Disease</td>\n",
       "    </tr>\n",
       "    <tr>\n",
       "      <th>266</th>\n",
       "      <td>I-Spy1</td>\n",
       "      <td>SS</td>\n",
       "      <td>ISPY1_1220</td>\n",
       "      <td>1</td>\n",
       "      <td>RFSIND</td>\n",
       "      <td>Recurrence-free survival indicator</td>\n",
       "      <td>No Evidence of Disease</td>\n",
       "    </tr>\n",
       "    <tr>\n",
       "      <th>267</th>\n",
       "      <td>I-Spy1</td>\n",
       "      <td>SS</td>\n",
       "      <td>ISPY1_1221</td>\n",
       "      <td>1</td>\n",
       "      <td>RFSIND</td>\n",
       "      <td>Recurrence-free survival indicator</td>\n",
       "      <td>Recurrent Disease</td>\n",
       "    </tr>\n",
       "    <tr>\n",
       "      <th>268</th>\n",
       "      <td>I-Spy1</td>\n",
       "      <td>SS</td>\n",
       "      <td>ISPY1_1222</td>\n",
       "      <td>1</td>\n",
       "      <td>RFSIND</td>\n",
       "      <td>Recurrence-free survival indicator</td>\n",
       "      <td>No Evidence of Disease</td>\n",
       "    </tr>\n",
       "    <tr>\n",
       "      <th>269</th>\n",
       "      <td>I-Spy1</td>\n",
       "      <td>SS</td>\n",
       "      <td>ISPY1_1223</td>\n",
       "      <td>1</td>\n",
       "      <td>RFSIND</td>\n",
       "      <td>Recurrence-free survival indicator</td>\n",
       "      <td>No Evidence of Disease</td>\n",
       "    </tr>\n",
       "    <tr>\n",
       "      <th>270</th>\n",
       "      <td>I-Spy1</td>\n",
       "      <td>SS</td>\n",
       "      <td>ISPY1_1224</td>\n",
       "      <td>1</td>\n",
       "      <td>RFSIND</td>\n",
       "      <td>Recurrence-free survival indicator</td>\n",
       "      <td>No Evidence of Disease</td>\n",
       "    </tr>\n",
       "    <tr>\n",
       "      <th>271</th>\n",
       "      <td>I-Spy1</td>\n",
       "      <td>SS</td>\n",
       "      <td>ISPY1_1225</td>\n",
       "      <td>1</td>\n",
       "      <td>RFSIND</td>\n",
       "      <td>Recurrence-free survival indicator</td>\n",
       "      <td>No Evidence of Disease</td>\n",
       "    </tr>\n",
       "    <tr>\n",
       "      <th>272</th>\n",
       "      <td>I-Spy1</td>\n",
       "      <td>SS</td>\n",
       "      <td>ISPY1_1226</td>\n",
       "      <td>1</td>\n",
       "      <td>RFSIND</td>\n",
       "      <td>Recurrence-free survival indicator</td>\n",
       "      <td>No Evidence of Disease</td>\n",
       "    </tr>\n",
       "    <tr>\n",
       "      <th>273</th>\n",
       "      <td>I-Spy1</td>\n",
       "      <td>SS</td>\n",
       "      <td>ISPY1_1227</td>\n",
       "      <td>1</td>\n",
       "      <td>RFSIND</td>\n",
       "      <td>Recurrence-free survival indicator</td>\n",
       "      <td>No Evidence of Disease</td>\n",
       "    </tr>\n",
       "    <tr>\n",
       "      <th>274</th>\n",
       "      <td>I-Spy1</td>\n",
       "      <td>SS</td>\n",
       "      <td>ISPY1_1228</td>\n",
       "      <td>1</td>\n",
       "      <td>RFSIND</td>\n",
       "      <td>Recurrence-free survival indicator</td>\n",
       "      <td>No Evidence of Disease</td>\n",
       "    </tr>\n",
       "    <tr>\n",
       "      <th>275</th>\n",
       "      <td>I-Spy1</td>\n",
       "      <td>SS</td>\n",
       "      <td>ISPY1_1229</td>\n",
       "      <td>1</td>\n",
       "      <td>RFSIND</td>\n",
       "      <td>Recurrence-free survival indicator</td>\n",
       "      <td>No Evidence of Disease</td>\n",
       "    </tr>\n",
       "    <tr>\n",
       "      <th>276</th>\n",
       "      <td>I-Spy1</td>\n",
       "      <td>SS</td>\n",
       "      <td>ISPY1_1230</td>\n",
       "      <td>1</td>\n",
       "      <td>RFSIND</td>\n",
       "      <td>Recurrence-free survival indicator</td>\n",
       "      <td>Recurrent Disease</td>\n",
       "    </tr>\n",
       "    <tr>\n",
       "      <th>277</th>\n",
       "      <td>I-Spy1</td>\n",
       "      <td>SS</td>\n",
       "      <td>ISPY1_1231</td>\n",
       "      <td>1</td>\n",
       "      <td>RFSIND</td>\n",
       "      <td>Recurrence-free survival indicator</td>\n",
       "      <td>No Evidence of Disease</td>\n",
       "    </tr>\n",
       "    <tr>\n",
       "      <th>278</th>\n",
       "      <td>I-Spy1</td>\n",
       "      <td>SS</td>\n",
       "      <td>ISPY1_1232</td>\n",
       "      <td>1</td>\n",
       "      <td>RFSIND</td>\n",
       "      <td>Recurrence-free survival indicator</td>\n",
       "      <td>No Evidence of Disease</td>\n",
       "    </tr>\n",
       "    <tr>\n",
       "      <th>279</th>\n",
       "      <td>I-Spy1</td>\n",
       "      <td>SS</td>\n",
       "      <td>ISPY1_1233</td>\n",
       "      <td>1</td>\n",
       "      <td>RFSIND</td>\n",
       "      <td>Recurrence-free survival indicator</td>\n",
       "      <td>No Evidence of Disease</td>\n",
       "    </tr>\n",
       "    <tr>\n",
       "      <th>280</th>\n",
       "      <td>I-Spy1</td>\n",
       "      <td>SS</td>\n",
       "      <td>ISPY1_1234</td>\n",
       "      <td>1</td>\n",
       "      <td>RFSIND</td>\n",
       "      <td>Recurrence-free survival indicator</td>\n",
       "      <td>No Evidence of Disease</td>\n",
       "    </tr>\n",
       "    <tr>\n",
       "      <th>281</th>\n",
       "      <td>I-Spy1</td>\n",
       "      <td>SS</td>\n",
       "      <td>ISPY1_1235</td>\n",
       "      <td>1</td>\n",
       "      <td>RFSIND</td>\n",
       "      <td>Recurrence-free survival indicator</td>\n",
       "      <td>No Evidence of Disease</td>\n",
       "    </tr>\n",
       "    <tr>\n",
       "      <th>282</th>\n",
       "      <td>I-Spy1</td>\n",
       "      <td>SS</td>\n",
       "      <td>ISPY1_1236</td>\n",
       "      <td>1</td>\n",
       "      <td>RFSIND</td>\n",
       "      <td>Recurrence-free survival indicator</td>\n",
       "      <td>Recurrent Disease</td>\n",
       "    </tr>\n",
       "    <tr>\n",
       "      <th>283</th>\n",
       "      <td>I-Spy1</td>\n",
       "      <td>SS</td>\n",
       "      <td>ISPY1_1237</td>\n",
       "      <td>1</td>\n",
       "      <td>RFSIND</td>\n",
       "      <td>Recurrence-free survival indicator</td>\n",
       "      <td>No Evidence of Disease</td>\n",
       "    </tr>\n",
       "    <tr>\n",
       "      <th>284</th>\n",
       "      <td>I-Spy1</td>\n",
       "      <td>SS</td>\n",
       "      <td>ISPY1_1238</td>\n",
       "      <td>1</td>\n",
       "      <td>RFSIND</td>\n",
       "      <td>Recurrence-free survival indicator</td>\n",
       "      <td>No Evidence of Disease</td>\n",
       "    </tr>\n",
       "    <tr>\n",
       "      <th>285</th>\n",
       "      <td>I-Spy1</td>\n",
       "      <td>SS</td>\n",
       "      <td>ISPY1_1239</td>\n",
       "      <td>1</td>\n",
       "      <td>RFSIND</td>\n",
       "      <td>Recurrence-free survival indicator</td>\n",
       "      <td>No Evidence of Disease</td>\n",
       "    </tr>\n",
       "  </tbody>\n",
       "</table>\n",
       "</div>"
      ],
      "text/plain": [
       "                   STUDYID DOMAIN     USUBJID  SSSEQ SSTESTCD  \\\n",
       "1    Breast-MRI-NACT-Pilot     SS  UCSF-BR-01      1   RFSIND   \n",
       "2    Breast-MRI-NACT-Pilot     SS  UCSF-BR-02      1   RFSIND   \n",
       "3    Breast-MRI-NACT-Pilot     SS  UCSF-BR-03      1   RFSIND   \n",
       "4    Breast-MRI-NACT-Pilot     SS  UCSF-BR-04      1   RFSIND   \n",
       "5    Breast-MRI-NACT-Pilot     SS  UCSF-BR-06      1   RFSIND   \n",
       "6    Breast-MRI-NACT-Pilot     SS  UCSF-BR-07      1   RFSIND   \n",
       "7    Breast-MRI-NACT-Pilot     SS  UCSF-BR-08      1   RFSIND   \n",
       "8    Breast-MRI-NACT-Pilot     SS  UCSF-BR-09      1   RFSIND   \n",
       "9    Breast-MRI-NACT-Pilot     SS  UCSF-BR-11      1   RFSIND   \n",
       "10   Breast-MRI-NACT-Pilot     SS  UCSF-BR-12      1   RFSIND   \n",
       "11   Breast-MRI-NACT-Pilot     SS  UCSF-BR-13      1   RFSIND   \n",
       "12   Breast-MRI-NACT-Pilot     SS  UCSF-BR-14      1   RFSIND   \n",
       "13   Breast-MRI-NACT-Pilot     SS  UCSF-BR-15      1   RFSIND   \n",
       "14   Breast-MRI-NACT-Pilot     SS  UCSF-BR-17      1   RFSIND   \n",
       "15   Breast-MRI-NACT-Pilot     SS  UCSF-BR-18      1   RFSIND   \n",
       "16   Breast-MRI-NACT-Pilot     SS  UCSF-BR-19      1   RFSIND   \n",
       "17   Breast-MRI-NACT-Pilot     SS  UCSF-BR-20      1   RFSIND   \n",
       "18   Breast-MRI-NACT-Pilot     SS  UCSF-BR-21      1   RFSIND   \n",
       "19   Breast-MRI-NACT-Pilot     SS  UCSF-BR-22      1   RFSIND   \n",
       "20   Breast-MRI-NACT-Pilot     SS  UCSF-BR-23      1   RFSIND   \n",
       "21   Breast-MRI-NACT-Pilot     SS  UCSF-BR-24      1   RFSIND   \n",
       "22   Breast-MRI-NACT-Pilot     SS  UCSF-BR-25      1   RFSIND   \n",
       "23   Breast-MRI-NACT-Pilot     SS  UCSF-BR-26      1   RFSIND   \n",
       "24   Breast-MRI-NACT-Pilot     SS  UCSF-BR-27      1   RFSIND   \n",
       "25   Breast-MRI-NACT-Pilot     SS  UCSF-BR-28      1   RFSIND   \n",
       "26   Breast-MRI-NACT-Pilot     SS  UCSF-BR-29      1   RFSIND   \n",
       "27   Breast-MRI-NACT-Pilot     SS  UCSF-BR-30      1   RFSIND   \n",
       "28   Breast-MRI-NACT-Pilot     SS  UCSF-BR-31      1   RFSIND   \n",
       "29   Breast-MRI-NACT-Pilot     SS  UCSF-BR-32      1   RFSIND   \n",
       "30   Breast-MRI-NACT-Pilot     SS  UCSF-BR-33      1   RFSIND   \n",
       "31   Breast-MRI-NACT-Pilot     SS  UCSF-BR-34      1   RFSIND   \n",
       "32   Breast-MRI-NACT-Pilot     SS  UCSF-BR-35      1   RFSIND   \n",
       "33   Breast-MRI-NACT-Pilot     SS  UCSF-BR-36      1   RFSIND   \n",
       "34   Breast-MRI-NACT-Pilot     SS  UCSF-BR-37      1   RFSIND   \n",
       "35   Breast-MRI-NACT-Pilot     SS  UCSF-BR-39      1   RFSIND   \n",
       "36   Breast-MRI-NACT-Pilot     SS  UCSF-BR-40      1   RFSIND   \n",
       "37   Breast-MRI-NACT-Pilot     SS  UCSF-BR-41      1   RFSIND   \n",
       "38   Breast-MRI-NACT-Pilot     SS  UCSF-BR-42      1   RFSIND   \n",
       "39   Breast-MRI-NACT-Pilot     SS  UCSF-BR-43      1   RFSIND   \n",
       "40   Breast-MRI-NACT-Pilot     SS  UCSF-BR-44      1   RFSIND   \n",
       "41   Breast-MRI-NACT-Pilot     SS  UCSF-BR-45      1   RFSIND   \n",
       "42   Breast-MRI-NACT-Pilot     SS  UCSF-BR-46      1   RFSIND   \n",
       "43   Breast-MRI-NACT-Pilot     SS  UCSF-BR-47      1   RFSIND   \n",
       "44   Breast-MRI-NACT-Pilot     SS  UCSF-BR-48      1   RFSIND   \n",
       "45   Breast-MRI-NACT-Pilot     SS  UCSF-BR-49      1   RFSIND   \n",
       "46   Breast-MRI-NACT-Pilot     SS  UCSF-BR-50      1   RFSIND   \n",
       "47   Breast-MRI-NACT-Pilot     SS  UCSF-BR-51      1   RFSIND   \n",
       "48   Breast-MRI-NACT-Pilot     SS  UCSF-BR-52      1   RFSIND   \n",
       "49   Breast-MRI-NACT-Pilot     SS  UCSF-BR-53      1   RFSIND   \n",
       "50   Breast-MRI-NACT-Pilot     SS  UCSF-BR-54      1   RFSIND   \n",
       "51   Breast-MRI-NACT-Pilot     SS  UCSF-BR-55      1   RFSIND   \n",
       "52   Breast-MRI-NACT-Pilot     SS  UCSF-BR-56      1   RFSIND   \n",
       "53   Breast-MRI-NACT-Pilot     SS  UCSF-BR-57      1   RFSIND   \n",
       "54   Breast-MRI-NACT-Pilot     SS  UCSF-BR-58      1   RFSIND   \n",
       "55   Breast-MRI-NACT-Pilot     SS  UCSF-BR-59      1   RFSIND   \n",
       "56   Breast-MRI-NACT-Pilot     SS  UCSF-BR-60      1   RFSIND   \n",
       "57   Breast-MRI-NACT-Pilot     SS  UCSF-BR-61      1   RFSIND   \n",
       "58   Breast-MRI-NACT-Pilot     SS  UCSF-BR-62      1   RFSIND   \n",
       "59   Breast-MRI-NACT-Pilot     SS  UCSF-BR-63      1   RFSIND   \n",
       "60   Breast-MRI-NACT-Pilot     SS  UCSF-BR-64      1   RFSIND   \n",
       "61   Breast-MRI-NACT-Pilot     SS  UCSF-BR-65      1   RFSIND   \n",
       "62   Breast-MRI-NACT-Pilot     SS  UCSF-BR-66      1   RFSIND   \n",
       "63   Breast-MRI-NACT-Pilot     SS  UCSF-BR-67      1   RFSIND   \n",
       "64   Breast-MRI-NACT-Pilot     SS  UCSF-BR-68      1   RFSIND   \n",
       "65                  I-Spy1     SS  ISPY1_1001      1   RFSIND   \n",
       "66                  I-Spy1     SS  ISPY1_1002      1   RFSIND   \n",
       "67                  I-Spy1     SS  ISPY1_1003      1   RFSIND   \n",
       "68                  I-Spy1     SS  ISPY1_1004      1   RFSIND   \n",
       "69                  I-Spy1     SS  ISPY1_1005      1   RFSIND   \n",
       "70                  I-Spy1     SS  ISPY1_1007      1   RFSIND   \n",
       "71                  I-Spy1     SS  ISPY1_1008      1   RFSIND   \n",
       "72                  I-Spy1     SS  ISPY1_1009      1   RFSIND   \n",
       "73                  I-Spy1     SS  ISPY1_1010      1   RFSIND   \n",
       "74                  I-Spy1     SS  ISPY1_1011      1   RFSIND   \n",
       "75                  I-Spy1     SS  ISPY1_1012      1   RFSIND   \n",
       "76                  I-Spy1     SS  ISPY1_1013      1   RFSIND   \n",
       "77                  I-Spy1     SS  ISPY1_1015      1   RFSIND   \n",
       "78                  I-Spy1     SS  ISPY1_1016      1   RFSIND   \n",
       "79                  I-Spy1     SS  ISPY1_1017      1   RFSIND   \n",
       "80                  I-Spy1     SS  ISPY1_1018      1   RFSIND   \n",
       "81                  I-Spy1     SS  ISPY1_1019      1   RFSIND   \n",
       "82                  I-Spy1     SS  ISPY1_1021      1   RFSIND   \n",
       "83                  I-Spy1     SS  ISPY1_1022      1   RFSIND   \n",
       "84                  I-Spy1     SS  ISPY1_1024      1   RFSIND   \n",
       "85                  I-Spy1     SS  ISPY1_1025      1   RFSIND   \n",
       "86                  I-Spy1     SS  ISPY1_1026      1   RFSIND   \n",
       "87                  I-Spy1     SS  ISPY1_1027      1   RFSIND   \n",
       "88                  I-Spy1     SS  ISPY1_1028      1   RFSIND   \n",
       "89                  I-Spy1     SS  ISPY1_1029      1   RFSIND   \n",
       "90                  I-Spy1     SS  ISPY1_1030      1   RFSIND   \n",
       "91                  I-Spy1     SS  ISPY1_1031      1   RFSIND   \n",
       "92                  I-Spy1     SS  ISPY1_1032      1   RFSIND   \n",
       "93                  I-Spy1     SS  ISPY1_1033      1   RFSIND   \n",
       "94                  I-Spy1     SS  ISPY1_1034      1   RFSIND   \n",
       "95                  I-Spy1     SS  ISPY1_1035      1   RFSIND   \n",
       "96                  I-Spy1     SS  ISPY1_1036      1   RFSIND   \n",
       "97                  I-Spy1     SS  ISPY1_1037      1   RFSIND   \n",
       "98                  I-Spy1     SS  ISPY1_1038      1   RFSIND   \n",
       "99                  I-Spy1     SS  ISPY1_1039      1   RFSIND   \n",
       "100                 I-Spy1     SS  ISPY1_1040      1   RFSIND   \n",
       "101                 I-Spy1     SS  ISPY1_1041      1   RFSIND   \n",
       "102                 I-Spy1     SS  ISPY1_1042      1   RFSIND   \n",
       "103                 I-Spy1     SS  ISPY1_1043      1   RFSIND   \n",
       "104                 I-Spy1     SS  ISPY1_1044      1   RFSIND   \n",
       "105                 I-Spy1     SS  ISPY1_1045      1   RFSIND   \n",
       "106                 I-Spy1     SS  ISPY1_1046      1   RFSIND   \n",
       "107                 I-Spy1     SS  ISPY1_1047      1   RFSIND   \n",
       "108                 I-Spy1     SS  ISPY1_1048      1   RFSIND   \n",
       "109                 I-Spy1     SS  ISPY1_1049      1   RFSIND   \n",
       "110                 I-Spy1     SS  ISPY1_1050      1   RFSIND   \n",
       "111                 I-Spy1     SS  ISPY1_1051      1   RFSIND   \n",
       "112                 I-Spy1     SS  ISPY1_1053      1   RFSIND   \n",
       "113                 I-Spy1     SS  ISPY1_1054      1   RFSIND   \n",
       "114                 I-Spy1     SS  ISPY1_1055      1   RFSIND   \n",
       "115                 I-Spy1     SS  ISPY1_1056      1   RFSIND   \n",
       "116                 I-Spy1     SS  ISPY1_1057      1   RFSIND   \n",
       "117                 I-Spy1     SS  ISPY1_1058      1   RFSIND   \n",
       "118                 I-Spy1     SS  ISPY1_1059      1   RFSIND   \n",
       "119                 I-Spy1     SS  ISPY1_1060      1   RFSIND   \n",
       "120                 I-Spy1     SS  ISPY1_1061      1   RFSIND   \n",
       "121                 I-Spy1     SS  ISPY1_1062      1   RFSIND   \n",
       "122                 I-Spy1     SS  ISPY1_1063      1   RFSIND   \n",
       "123                 I-Spy1     SS  ISPY1_1064      1   RFSIND   \n",
       "124                 I-Spy1     SS  ISPY1_1065      1   RFSIND   \n",
       "125                 I-Spy1     SS  ISPY1_1066      1   RFSIND   \n",
       "126                 I-Spy1     SS  ISPY1_1067      1   RFSIND   \n",
       "127                 I-Spy1     SS  ISPY1_1068      1   RFSIND   \n",
       "128                 I-Spy1     SS  ISPY1_1069      1   RFSIND   \n",
       "129                 I-Spy1     SS  ISPY1_1070      1   RFSIND   \n",
       "130                 I-Spy1     SS  ISPY1_1071      1   RFSIND   \n",
       "131                 I-Spy1     SS  ISPY1_1072      1   RFSIND   \n",
       "132                 I-Spy1     SS  ISPY1_1073      1   RFSIND   \n",
       "133                 I-Spy1     SS  ISPY1_1074      1   RFSIND   \n",
       "134                 I-Spy1     SS  ISPY1_1075      1   RFSIND   \n",
       "135                 I-Spy1     SS  ISPY1_1077      1   RFSIND   \n",
       "136                 I-Spy1     SS  ISPY1_1078      1   RFSIND   \n",
       "137                 I-Spy1     SS  ISPY1_1081      1   RFSIND   \n",
       "138                 I-Spy1     SS  ISPY1_1082      1   RFSIND   \n",
       "139                 I-Spy1     SS  ISPY1_1083      1   RFSIND   \n",
       "140                 I-Spy1     SS  ISPY1_1084      1   RFSIND   \n",
       "141                 I-Spy1     SS  ISPY1_1085      1   RFSIND   \n",
       "142                 I-Spy1     SS  ISPY1_1086      1   RFSIND   \n",
       "143                 I-Spy1     SS  ISPY1_1087      1   RFSIND   \n",
       "144                 I-Spy1     SS  ISPY1_1088      1   RFSIND   \n",
       "145                 I-Spy1     SS  ISPY1_1089      1   RFSIND   \n",
       "146                 I-Spy1     SS  ISPY1_1090      1   RFSIND   \n",
       "147                 I-Spy1     SS  ISPY1_1091      1   RFSIND   \n",
       "148                 I-Spy1     SS  ISPY1_1092      1   RFSIND   \n",
       "149                 I-Spy1     SS  ISPY1_1093      1   RFSIND   \n",
       "150                 I-Spy1     SS  ISPY1_1094      1   RFSIND   \n",
       "151                 I-Spy1     SS  ISPY1_1095      1   RFSIND   \n",
       "152                 I-Spy1     SS  ISPY1_1096      1   RFSIND   \n",
       "153                 I-Spy1     SS  ISPY1_1097      1   RFSIND   \n",
       "154                 I-Spy1     SS  ISPY1_1098      1   RFSIND   \n",
       "155                 I-Spy1     SS  ISPY1_1099      1   RFSIND   \n",
       "156                 I-Spy1     SS  ISPY1_1100      1   RFSIND   \n",
       "157                 I-Spy1     SS  ISPY1_1101      1   RFSIND   \n",
       "158                 I-Spy1     SS  ISPY1_1102      1   RFSIND   \n",
       "159                 I-Spy1     SS  ISPY1_1103      1   RFSIND   \n",
       "160                 I-Spy1     SS  ISPY1_1104      1   RFSIND   \n",
       "161                 I-Spy1     SS  ISPY1_1106      1   RFSIND   \n",
       "162                 I-Spy1     SS  ISPY1_1107      1   RFSIND   \n",
       "163                 I-Spy1     SS  ISPY1_1109      1   RFSIND   \n",
       "164                 I-Spy1     SS  ISPY1_1110      1   RFSIND   \n",
       "165                 I-Spy1     SS  ISPY1_1111      1   RFSIND   \n",
       "166                 I-Spy1     SS  ISPY1_1112      1   RFSIND   \n",
       "167                 I-Spy1     SS  ISPY1_1113      1   RFSIND   \n",
       "168                 I-Spy1     SS  ISPY1_1114      1   RFSIND   \n",
       "169                 I-Spy1     SS  ISPY1_1115      1   RFSIND   \n",
       "170                 I-Spy1     SS  ISPY1_1116      1   RFSIND   \n",
       "171                 I-Spy1     SS  ISPY1_1117      1   RFSIND   \n",
       "172                 I-Spy1     SS  ISPY1_1118      1   RFSIND   \n",
       "173                 I-Spy1     SS  ISPY1_1120      1   RFSIND   \n",
       "174                 I-Spy1     SS  ISPY1_1121      1   RFSIND   \n",
       "175                 I-Spy1     SS  ISPY1_1122      1   RFSIND   \n",
       "176                 I-Spy1     SS  ISPY1_1123      1   RFSIND   \n",
       "177                 I-Spy1     SS  ISPY1_1124      1   RFSIND   \n",
       "178                 I-Spy1     SS  ISPY1_1125      1   RFSIND   \n",
       "179                 I-Spy1     SS  ISPY1_1126      1   RFSIND   \n",
       "180                 I-Spy1     SS  ISPY1_1127      1   RFSIND   \n",
       "181                 I-Spy1     SS  ISPY1_1128      1   RFSIND   \n",
       "182                 I-Spy1     SS  ISPY1_1129      1   RFSIND   \n",
       "183                 I-Spy1     SS  ISPY1_1130      1   RFSIND   \n",
       "184                 I-Spy1     SS  ISPY1_1132      1   RFSIND   \n",
       "185                 I-Spy1     SS  ISPY1_1134      1   RFSIND   \n",
       "186                 I-Spy1     SS  ISPY1_1135      1   RFSIND   \n",
       "187                 I-Spy1     SS  ISPY1_1136      1   RFSIND   \n",
       "188                 I-Spy1     SS  ISPY1_1137      1   RFSIND   \n",
       "189                 I-Spy1     SS  ISPY1_1138      1   RFSIND   \n",
       "190                 I-Spy1     SS  ISPY1_1139      1   RFSIND   \n",
       "191                 I-Spy1     SS  ISPY1_1140      1   RFSIND   \n",
       "192                 I-Spy1     SS  ISPY1_1141      1   RFSIND   \n",
       "193                 I-Spy1     SS  ISPY1_1142      1   RFSIND   \n",
       "194                 I-Spy1     SS  ISPY1_1143      1   RFSIND   \n",
       "195                 I-Spy1     SS  ISPY1_1144      1   RFSIND   \n",
       "196                 I-Spy1     SS  ISPY1_1145      1   RFSIND   \n",
       "197                 I-Spy1     SS  ISPY1_1146      1   RFSIND   \n",
       "198                 I-Spy1     SS  ISPY1_1147      1   RFSIND   \n",
       "199                 I-Spy1     SS  ISPY1_1148      1   RFSIND   \n",
       "200                 I-Spy1     SS  ISPY1_1149      1   RFSIND   \n",
       "201                 I-Spy1     SS  ISPY1_1150      1   RFSIND   \n",
       "202                 I-Spy1     SS  ISPY1_1151      1   RFSIND   \n",
       "203                 I-Spy1     SS  ISPY1_1152      1   RFSIND   \n",
       "204                 I-Spy1     SS  ISPY1_1154      1   RFSIND   \n",
       "205                 I-Spy1     SS  ISPY1_1155      1   RFSIND   \n",
       "206                 I-Spy1     SS  ISPY1_1156      1   RFSIND   \n",
       "207                 I-Spy1     SS  ISPY1_1157      1   RFSIND   \n",
       "208                 I-Spy1     SS  ISPY1_1158      1   RFSIND   \n",
       "209                 I-Spy1     SS  ISPY1_1159      1   RFSIND   \n",
       "210                 I-Spy1     SS  ISPY1_1160      1   RFSIND   \n",
       "211                 I-Spy1     SS  ISPY1_1161      1   RFSIND   \n",
       "212                 I-Spy1     SS  ISPY1_1162      1   RFSIND   \n",
       "213                 I-Spy1     SS  ISPY1_1163      1   RFSIND   \n",
       "214                 I-Spy1     SS  ISPY1_1164      1   RFSIND   \n",
       "215                 I-Spy1     SS  ISPY1_1165      1   RFSIND   \n",
       "216                 I-Spy1     SS  ISPY1_1166      1   RFSIND   \n",
       "217                 I-Spy1     SS  ISPY1_1167      1   RFSIND   \n",
       "218                 I-Spy1     SS  ISPY1_1168      1   RFSIND   \n",
       "219                 I-Spy1     SS  ISPY1_1169      1   RFSIND   \n",
       "220                 I-Spy1     SS  ISPY1_1170      1   RFSIND   \n",
       "221                 I-Spy1     SS  ISPY1_1171      1   RFSIND   \n",
       "222                 I-Spy1     SS  ISPY1_1172      1   RFSIND   \n",
       "223                 I-Spy1     SS  ISPY1_1173      1   RFSIND   \n",
       "224                 I-Spy1     SS  ISPY1_1174      1   RFSIND   \n",
       "225                 I-Spy1     SS  ISPY1_1175      1   RFSIND   \n",
       "226                 I-Spy1     SS  ISPY1_1176      1   RFSIND   \n",
       "227                 I-Spy1     SS  ISPY1_1177      1   RFSIND   \n",
       "228                 I-Spy1     SS  ISPY1_1179      1   RFSIND   \n",
       "229                 I-Spy1     SS  ISPY1_1180      1   RFSIND   \n",
       "230                 I-Spy1     SS  ISPY1_1181      1   RFSIND   \n",
       "231                 I-Spy1     SS  ISPY1_1182      1   RFSIND   \n",
       "232                 I-Spy1     SS  ISPY1_1183      1   RFSIND   \n",
       "233                 I-Spy1     SS  ISPY1_1184      1   RFSIND   \n",
       "234                 I-Spy1     SS  ISPY1_1185      1   RFSIND   \n",
       "235                 I-Spy1     SS  ISPY1_1187      1   RFSIND   \n",
       "236                 I-Spy1     SS  ISPY1_1188      1   RFSIND   \n",
       "237                 I-Spy1     SS  ISPY1_1189      1   RFSIND   \n",
       "238                 I-Spy1     SS  ISPY1_1191      1   RFSIND   \n",
       "239                 I-Spy1     SS  ISPY1_1192      1   RFSIND   \n",
       "240                 I-Spy1     SS  ISPY1_1193      1   RFSIND   \n",
       "241                 I-Spy1     SS  ISPY1_1194      1   RFSIND   \n",
       "242                 I-Spy1     SS  ISPY1_1196      1   RFSIND   \n",
       "243                 I-Spy1     SS  ISPY1_1197      1   RFSIND   \n",
       "244                 I-Spy1     SS  ISPY1_1198      1   RFSIND   \n",
       "245                 I-Spy1     SS  ISPY1_1199      1   RFSIND   \n",
       "246                 I-Spy1     SS  ISPY1_1200      1   RFSIND   \n",
       "247                 I-Spy1     SS  ISPY1_1201      1   RFSIND   \n",
       "248                 I-Spy1     SS  ISPY1_1202      1   RFSIND   \n",
       "249                 I-Spy1     SS  ISPY1_1203      1   RFSIND   \n",
       "250                 I-Spy1     SS  ISPY1_1204      1   RFSIND   \n",
       "251                 I-Spy1     SS  ISPY1_1205      1   RFSIND   \n",
       "252                 I-Spy1     SS  ISPY1_1206      1   RFSIND   \n",
       "253                 I-Spy1     SS  ISPY1_1207      1   RFSIND   \n",
       "254                 I-Spy1     SS  ISPY1_1208      1   RFSIND   \n",
       "255                 I-Spy1     SS  ISPY1_1209      1   RFSIND   \n",
       "256                 I-Spy1     SS  ISPY1_1210      1   RFSIND   \n",
       "257                 I-Spy1     SS  ISPY1_1211      1   RFSIND   \n",
       "258                 I-Spy1     SS  ISPY1_1212      1   RFSIND   \n",
       "259                 I-Spy1     SS  ISPY1_1213      1   RFSIND   \n",
       "260                 I-Spy1     SS  ISPY1_1214      1   RFSIND   \n",
       "261                 I-Spy1     SS  ISPY1_1215      1   RFSIND   \n",
       "262                 I-Spy1     SS  ISPY1_1216      1   RFSIND   \n",
       "263                 I-Spy1     SS  ISPY1_1217      1   RFSIND   \n",
       "264                 I-Spy1     SS  ISPY1_1218      1   RFSIND   \n",
       "265                 I-Spy1     SS  ISPY1_1219      1   RFSIND   \n",
       "266                 I-Spy1     SS  ISPY1_1220      1   RFSIND   \n",
       "267                 I-Spy1     SS  ISPY1_1221      1   RFSIND   \n",
       "268                 I-Spy1     SS  ISPY1_1222      1   RFSIND   \n",
       "269                 I-Spy1     SS  ISPY1_1223      1   RFSIND   \n",
       "270                 I-Spy1     SS  ISPY1_1224      1   RFSIND   \n",
       "271                 I-Spy1     SS  ISPY1_1225      1   RFSIND   \n",
       "272                 I-Spy1     SS  ISPY1_1226      1   RFSIND   \n",
       "273                 I-Spy1     SS  ISPY1_1227      1   RFSIND   \n",
       "274                 I-Spy1     SS  ISPY1_1228      1   RFSIND   \n",
       "275                 I-Spy1     SS  ISPY1_1229      1   RFSIND   \n",
       "276                 I-Spy1     SS  ISPY1_1230      1   RFSIND   \n",
       "277                 I-Spy1     SS  ISPY1_1231      1   RFSIND   \n",
       "278                 I-Spy1     SS  ISPY1_1232      1   RFSIND   \n",
       "279                 I-Spy1     SS  ISPY1_1233      1   RFSIND   \n",
       "280                 I-Spy1     SS  ISPY1_1234      1   RFSIND   \n",
       "281                 I-Spy1     SS  ISPY1_1235      1   RFSIND   \n",
       "282                 I-Spy1     SS  ISPY1_1236      1   RFSIND   \n",
       "283                 I-Spy1     SS  ISPY1_1237      1   RFSIND   \n",
       "284                 I-Spy1     SS  ISPY1_1238      1   RFSIND   \n",
       "285                 I-Spy1     SS  ISPY1_1239      1   RFSIND   \n",
       "\n",
       "                                 SSTEST                 SSORRES  \n",
       "1    Recurrence-free survival indicator  No Evidence of Disease  \n",
       "2    Recurrence-free survival indicator       Recurrent Disease  \n",
       "3    Recurrence-free survival indicator  No Evidence of Disease  \n",
       "4    Recurrence-free survival indicator       Recurrent Disease  \n",
       "5    Recurrence-free survival indicator  No Evidence of Disease  \n",
       "6    Recurrence-free survival indicator  No Evidence of Disease  \n",
       "7     Recurrence-free survival indicato   No Evidence o Disease  \n",
       "8    Recurrence-free survival indicator       Recurrent Disease  \n",
       "9    Recurrence-free survival indicator  No Evidence of Disease  \n",
       "10   Recurrence-free survival indicator       Recurrent Disease  \n",
       "11   Recurrence-free survival indicator       Recurrent Disease  \n",
       "12   Recurrence-free survival indicator  No Evidence of Disease  \n",
       "13   Recurrence-free survival indicator  No Evidence of Disease  \n",
       "14   Recurrence-free survival indicator       Recurrent Disease  \n",
       "15   Recurrence-free survival indicator  No Evidence of Disease  \n",
       "16   Recurrence-free survival indicator  No Evidence of Disease  \n",
       "17   Recurrence-free survival indicator  No Evidence of Disease  \n",
       "18   Recurrence-free survival indicator  No Evidence of Disease  \n",
       "19   Recurrence-free survival indicator  No Evidence of Disease  \n",
       "20   Recurrence-free survival indicator       Recurrent Disease  \n",
       "21   Recurrence-free survival indicator  No Evidence of Disease  \n",
       "22   Recurrence-free survival indicator  No Evidence of Disease  \n",
       "23   Recurrence-free survival indicator  No Evidence of Disease  \n",
       "24   Recurrence-free survival indicator       Recurrent Disease  \n",
       "25   Recurrence-free survival indicator       Recurrent Disease  \n",
       "26   Recurrence-free survival indicator       Recurrent Disease  \n",
       "27   Recurrence-free survival indicator       Recurrent Disease  \n",
       "28   Recurrence-free survival indicator  No Evidence of Disease  \n",
       "29   Recurrence-free survival indicator       Recurrent Disease  \n",
       "30   Recurrence-free survival indicator  No Evidence of Disease  \n",
       "31   Recurrence-free survival indicator  No Evidence of Disease  \n",
       "32   Recurrence-free survival indicator  No Evidence of Disease  \n",
       "33   Recurrence-free survival indicator  No Evidence of Disease  \n",
       "34   Recurrence-free survival indicator  No Evidence of Disease  \n",
       "35   Recurrence-free survival indicator       Recurrent Disease  \n",
       "36   Recurrence-free survival indicator       Recurrent Disease  \n",
       "37   Recurrence-free survival indicator  No Evidence of Disease  \n",
       "38   Recurrence-free survival indicator  No Evidence of Disease  \n",
       "39   Recurrence-free survival indicator       Recurrent Disease  \n",
       "40   Recurrence-free survival indicator  No Evidence of Disease  \n",
       "41   Recurrence-free survival indicator       Recurrent Disease  \n",
       "42   Recurrence-free survival indicator  No Evidence of Disease  \n",
       "43   Recurrence-free survival indicator       Recurrent Disease  \n",
       "44   Recurrence-free survival indicator  No Evidence of Disease  \n",
       "45   Recurrence-free survival indicator       Recurrent Disease  \n",
       "46   Recurrence-free survival indicator  No Evidence of Disease  \n",
       "47   Recurrence-free survival indicator       Recurrent Disease  \n",
       "48   Recurrence-free survival indicator  No Evidence of Disease  \n",
       "49   Recurrence-free survival indicator       Recurrent Disease  \n",
       "50   Recurrence-free survival indicator  No Evidence of Disease  \n",
       "51   Recurrence-free survival indicator  No Evidence of Disease  \n",
       "52   Recurrence-free survival indicator  No Evidence of Disease  \n",
       "53   Recurrence-free survival indicator  No Evidence of Disease  \n",
       "54   Recurrence-free survival indicator       Recurrent Disease  \n",
       "55   Recurrence-free survival indicator  No Evidence of Disease  \n",
       "56   Recurrence-free survival indicator  No Evidence of Disease  \n",
       "57   Recurrence-free survival indicator       Recurrent Disease  \n",
       "58   Recurrence-free survival indicator  No Evidence of Disease  \n",
       "59   Recurrence-free survival indicator  No Evidence of Disease  \n",
       "60   Recurrence-free survival indicator       Recurrent Disease  \n",
       "61   Recurrence-free survival indicator  No Evidence of Disease  \n",
       "62   Recurrence-free survival indicator  No Evidence of Disease  \n",
       "63   Recurrence-free survival indicator       Recurrent Disease  \n",
       "64   Recurrence-free survival indicator       Recurrent Disease  \n",
       "65   Recurrence-free survival indicator       Recurrent Disease  \n",
       "66   Recurrence-free survival indicator       Recurrent Disease  \n",
       "67   Recurrence-free survival indicator  No Evidence of Disease  \n",
       "68   Recurrence-free survival indicator  No Evidence of Disease  \n",
       "69   Recurrence-free survival indicator  No Evidence of Disease  \n",
       "70   Recurrence-free survival indicator       Recurrent Disease  \n",
       "71   Recurrence-free survival indicator  No Evidence of Disease  \n",
       "72   Recurrence-free survival indicator  No Evidence of Disease  \n",
       "73   Recurrence-free survival indicator  No Evidence of Disease  \n",
       "74   Recurrence-free survival indicator  No Evidence of Disease  \n",
       "75   Recurrence-free survival indicator       Recurrent Disease  \n",
       "76   Recurrence-free survival indicator  No Evidence of Disease  \n",
       "77   Recurrence-free survival indicator  No Evidence of Disease  \n",
       "78   Recurrence-free survival indicator       Recurrent Disease  \n",
       "79   Recurrence-free survival indicator       Recurrent Disease  \n",
       "80   Recurrence-free survival indicator  No Evidence of Disease  \n",
       "81   Recurrence-free survival indicator  No Evidence of Disease  \n",
       "82   Recurrence-free survival indicator       Recurrent Disease  \n",
       "83   Recurrence-free survival indicator  No Evidence of Disease  \n",
       "84   Recurrence-free survival indicator       Recurrent Disease  \n",
       "85   Recurrence-free survival indicator       Recurrent Disease  \n",
       "86   Recurrence-free survival indicator  No Evidence of Disease  \n",
       "87   Recurrence-free survival indicator       Recurrent Disease  \n",
       "88   Recurrence-free survival indicator       Recurrent Disease  \n",
       "89   Recurrence-free survival indicator  No Evidence of Disease  \n",
       "90   Recurrence-free survival indicator  No Evidence of Disease  \n",
       "91   Recurrence-free survival indicator       Recurrent Disease  \n",
       "92   Recurrence-free survival indicator  No Evidence of Disease  \n",
       "93   Recurrence-free survival indicator  No Evidence of Disease  \n",
       "94   Recurrence-free survival indicator       Recurrent Disease  \n",
       "95   Recurrence-free survival indicator       Recurrent Disease  \n",
       "96   Recurrence-free survival indicator       Recurrent Disease  \n",
       "97   Recurrence-free survival indicator  No Evidence of Disease  \n",
       "98   Recurrence-free survival indicator  No Evidence of Disease  \n",
       "99   Recurrence-free survival indicator  No Evidence of Disease  \n",
       "100  Recurrence-free survival indicator       Recurrent Disease  \n",
       "101  Recurrence-free survival indicator       Recurrent Disease  \n",
       "102  Recurrence-free survival indicator  No Evidence of Disease  \n",
       "103  Recurrence-free survival indicator       Recurrent Disease  \n",
       "104  Recurrence-free survival indicator       Recurrent Disease  \n",
       "105  Recurrence-free survival indicator       Recurrent Disease  \n",
       "106  Recurrence-free survival indicator  No Evidence of Disease  \n",
       "107  Recurrence-free survival indicator  No Evidence of Disease  \n",
       "108  Recurrence-free survival indicator  No Evidence of Disease  \n",
       "109  Recurrence-free survival indicator       Recurrent Disease  \n",
       "110  Recurrence-free survival indicator       Recurrent Disease  \n",
       "111  Recurrence-free survival indicator  No Evidence of Disease  \n",
       "112  Recurrence-free survival indicator  No Evidence of Disease  \n",
       "113  Recurrence-free survival indicator       Recurrent Disease  \n",
       "114  Recurrence-free survival indicator  No Evidence of Disease  \n",
       "115  Recurrence-free survival indicator       Recurrent Disease  \n",
       "116  Recurrence-free survival indicator       Recurrent Disease  \n",
       "117  Recurrence-free survival indicator  No Evidence of Disease  \n",
       "118  Recurrence-free survival indicator  No Evidence of Disease  \n",
       "119  Recurrence-free survival indicator  No Evidence of Disease  \n",
       "120  Recurrence-free survival indicator       Recurrent Disease  \n",
       "121  Recurrence-free survival indicator       Recurrent Disease  \n",
       "122  Recurrence-free survival indicator  No Evidence of Disease  \n",
       "123  Recurrence-free survival indicator       Recurrent Disease  \n",
       "124  Recurrence-free survival indicator  No Evidence of Disease  \n",
       "125  Recurrence-free survival indicator  No Evidence of Disease  \n",
       "126  Recurrence-free survival indicator       Recurrent Disease  \n",
       "127  Recurrence-free survival indicator  No Evidence of Disease  \n",
       "128  Recurrence-free survival indicator  No Evidence of Disease  \n",
       "129  Recurrence-free survival indicator  No Evidence of Disease  \n",
       "130  Recurrence-free survival indicator  No Evidence of Disease  \n",
       "131  Recurrence-free survival indicator  No Evidence of Disease  \n",
       "132  Recurrence-free survival indicator  No Evidence of Disease  \n",
       "133  Recurrence-free survival indicator  No Evidence of Disease  \n",
       "134  Recurrence-free survival indicator  No Evidence of Disease  \n",
       "135  Recurrence-free survival indicator  No Evidence of Disease  \n",
       "136  Recurrence-free survival indicator  No Evidence of Disease  \n",
       "137  Recurrence-free survival indicator  No Evidence of Disease  \n",
       "138  Recurrence-free survival indicator  No Evidence of Disease  \n",
       "139  Recurrence-free survival indicator  No Evidence of Disease  \n",
       "140  Recurrence-free survival indicator  No Evidence of Disease  \n",
       "141  Recurrence-free survival indicator  No Evidence of Disease  \n",
       "142  Recurrence-free survival indicator  No Evidence of Disease  \n",
       "143  Recurrence-free survival indicator  No Evidence of Disease  \n",
       "144  Recurrence-free survival indicator  No Evidence of Disease  \n",
       "145  Recurrence-free survival indicator  No Evidence of Disease  \n",
       "146  Recurrence-free survival indicator       Recurrent Disease  \n",
       "147  Recurrence-free survival indicator       Recurrent Disease  \n",
       "148  Recurrence-free survival indicator  No Evidence of Disease  \n",
       "149  Recurrence-free survival indicator  No Evidence of Disease  \n",
       "150  Recurrence-free survival indicator  No Evidence of Disease  \n",
       "151  Recurrence-free survival indicator  No Evidence of Disease  \n",
       "152  Recurrence-free survival indicator       Recurrent Disease  \n",
       "153  Recurrence-free survival indicator  No Evidence of Disease  \n",
       "154  Recurrence-free survival indicator       Recurrent Disease  \n",
       "155  Recurrence-free survival indicator  No Evidence of Disease  \n",
       "156  Recurrence-free survival indicator  No Evidence of Disease  \n",
       "157  Recurrence-free survival indicator       Recurrent Disease  \n",
       "158  Recurrence-free survival indicator       Recurrent Disease  \n",
       "159  Recurrence-free survival indicator  No Evidence of Disease  \n",
       "160  Recurrence-free survival indicator  No Evidence of Disease  \n",
       "161  Recurrence-free survival indicator       Recurrent Disease  \n",
       "162  Recurrence-free survival indicator  No Evidence of Disease  \n",
       "163  Recurrence-free survival indicator  No Evidence of Disease  \n",
       "164  Recurrence-free survival indicator  No Evidence of Disease  \n",
       "165  Recurrence-free survival indicator  No Evidence of Disease  \n",
       "166  Recurrence-free survival indicator  No Evidence of Disease  \n",
       "167  Recurrence-free survival indicator  No Evidence of Disease  \n",
       "168  Recurrence-free survival indicator  No Evidence of Disease  \n",
       "169  Recurrence-free survival indicator  No Evidence of Disease  \n",
       "170  Recurrence-free survival indicator  No Evidence of Disease  \n",
       "171  Recurrence-free survival indicator  No Evidence of Disease  \n",
       "172  Recurrence-free survival indicator  No Evidence of Disease  \n",
       "173  Recurrence-free survival indicator  No Evidence of Disease  \n",
       "174  Recurrence-free survival indicator  No Evidence of Disease  \n",
       "175  Recurrence-free survival indicator  No Evidence of Disease  \n",
       "176  Recurrence-free survival indicator  No Evidence of Disease  \n",
       "177  Recurrence-free survival indicator       Recurrent Disease  \n",
       "178  Recurrence-free survival indicator  No Evidence of Disease  \n",
       "179  Recurrence-free survival indicator  No Evidence of Disease  \n",
       "180  Recurrence-free survival indicator  No Evidence of Disease  \n",
       "181  Recurrence-free survival indicator  No Evidence of Disease  \n",
       "182  Recurrence-free survival indicator       Recurrent Disease  \n",
       "183  Recurrence-free survival indicator  No Evidence of Disease  \n",
       "184  Recurrence-free survival indicator  No Evidence of Disease  \n",
       "185  Recurrence-free survival indicator  No Evidence of Disease  \n",
       "186  Recurrence-free survival indicator  No Evidence of Disease  \n",
       "187  Recurrence-free survival indicator       Recurrent Disease  \n",
       "188  Recurrence-free survival indicator       Recurrent Disease  \n",
       "189  Recurrence-free survival indicator  No Evidence of Disease  \n",
       "190  Recurrence-free survival indicator  No Evidence of Disease  \n",
       "191  Recurrence-free survival indicator       Recurrent Disease  \n",
       "192  Recurrence-free survival indicator  No Evidence of Disease  \n",
       "193  Recurrence-free survival indicator       Recurrent Disease  \n",
       "194  Recurrence-free survival indicator       Recurrent Disease  \n",
       "195  Recurrence-free survival indicator  No Evidence of Disease  \n",
       "196  Recurrence-free survival indicator  No Evidence of Disease  \n",
       "197  Recurrence-free survival indicator  No Evidence of Disease  \n",
       "198  Recurrence-free survival indicator       Recurrent Disease  \n",
       "199  Recurrence-free survival indicator  No Evidence of Disease  \n",
       "200  Recurrence-free survival indicator       Recurrent Disease  \n",
       "201  Recurrence-free survival indicator  No Evidence of Disease  \n",
       "202  Recurrence-free survival indicator  No Evidence of Disease  \n",
       "203  Recurrence-free survival indicator       Recurrent Disease  \n",
       "204  Recurrence-free survival indicator  No Evidence of Disease  \n",
       "205  Recurrence-free survival indicator  No Evidence of Disease  \n",
       "206  Recurrence-free survival indicator       Recurrent Disease  \n",
       "207  Recurrence-free survival indicator  No Evidence of Disease  \n",
       "208  Recurrence-free survival indicator  No Evidence of Disease  \n",
       "209  Recurrence-free survival indicator       Recurrent Disease  \n",
       "210  Recurrence-free survival indicator  No Evidence of Disease  \n",
       "211  Recurrence-free survival indicator  No Evidence of Disease  \n",
       "212  Recurrence-free survival indicator  No Evidence of Disease  \n",
       "213  Recurrence-free survival indicator  No Evidence of Disease  \n",
       "214  Recurrence-free survival indicator  No Evidence of Disease  \n",
       "215  Recurrence-free survival indicator  No Evidence of Disease  \n",
       "216  Recurrence-free survival indicator  No Evidence of Disease  \n",
       "217  Recurrence-free survival indicator       Recurrent Disease  \n",
       "218  Recurrence-free survival indicator       Recurrent Disease  \n",
       "219  Recurrence-free survival indicator       Recurrent Disease  \n",
       "220  Recurrence-free survival indicator  No Evidence of Disease  \n",
       "221  Recurrence-free survival indicator  No Evidence of Disease  \n",
       "222  Recurrence-free survival indicator  No Evidence of Disease  \n",
       "223  Recurrence-free survival indicator  No Evidence of Disease  \n",
       "224  Recurrence-free survival indicator       Recurrent Disease  \n",
       "225  Recurrence-free survival indicator  No Evidence of Disease  \n",
       "226  Recurrence-free survival indicator  No Evidence of Disease  \n",
       "227  Recurrence-free survival indicator  No Evidence of Disease  \n",
       "228  Recurrence-free survival indicator  No Evidence of Disease  \n",
       "229  Recurrence-free survival indicator       Recurrent Disease  \n",
       "230  Recurrence-free survival indicator  No Evidence of Disease  \n",
       "231  Recurrence-free survival indicator  No Evidence of Disease  \n",
       "232  Recurrence-free survival indicator  No Evidence of Disease  \n",
       "233  Recurrence-free survival indicator  No Evidence of Disease  \n",
       "234  Recurrence-free survival indicator  No Evidence of Disease  \n",
       "235  Recurrence-free survival indicator  No Evidence of Disease  \n",
       "236  Recurrence-free survival indicator  No Evidence of Disease  \n",
       "237  Recurrence-free survival indicator  No Evidence of Disease  \n",
       "238  Recurrence-free survival indicator  No Evidence of Disease  \n",
       "239  Recurrence-free survival indicator  No Evidence of Disease  \n",
       "240  Recurrence-free survival indicator  No Evidence of Disease  \n",
       "241  Recurrence-free survival indicator       Recurrent Disease  \n",
       "242  Recurrence-free survival indicator  No Evidence of Disease  \n",
       "243  Recurrence-free survival indicator  No Evidence of Disease  \n",
       "244  Recurrence-free survival indicator  No Evidence of Disease  \n",
       "245  Recurrence-free survival indicator       Recurrent Disease  \n",
       "246  Recurrence-free survival indicator       Recurrent Disease  \n",
       "247  Recurrence-free survival indicator  No Evidence of Disease  \n",
       "248  Recurrence-free survival indicator  No Evidence of Disease  \n",
       "249  Recurrence-free survival indicator       Recurrent Disease  \n",
       "250  Recurrence-free survival indicator  No Evidence of Disease  \n",
       "251  Recurrence-free survival indicator  No Evidence of Disease  \n",
       "252  Recurrence-free survival indicator       Recurrent Disease  \n",
       "253  Recurrence-free survival indicator  No Evidence of Disease  \n",
       "254  Recurrence-free survival indicator  No Evidence of Disease  \n",
       "255  Recurrence-free survival indicator  No Evidence of Disease  \n",
       "256  Recurrence-free survival indicator  No Evidence of Disease  \n",
       "257  Recurrence-free survival indicator  No Evidence of Disease  \n",
       "258  Recurrence-free survival indicator  No Evidence of Disease  \n",
       "259  Recurrence-free survival indicator  No Evidence of Disease  \n",
       "260  Recurrence-free survival indicator  No Evidence of Disease  \n",
       "261  Recurrence-free survival indicator       Recurrent Disease  \n",
       "262  Recurrence-free survival indicator       Recurrent Disease  \n",
       "263  Recurrence-free survival indicator  No Evidence of Disease  \n",
       "264  Recurrence-free survival indicator  No Evidence of Disease  \n",
       "265  Recurrence-free survival indicator  No Evidence of Disease  \n",
       "266  Recurrence-free survival indicator  No Evidence of Disease  \n",
       "267  Recurrence-free survival indicator       Recurrent Disease  \n",
       "268  Recurrence-free survival indicator  No Evidence of Disease  \n",
       "269  Recurrence-free survival indicator  No Evidence of Disease  \n",
       "270  Recurrence-free survival indicator  No Evidence of Disease  \n",
       "271  Recurrence-free survival indicator  No Evidence of Disease  \n",
       "272  Recurrence-free survival indicator  No Evidence of Disease  \n",
       "273  Recurrence-free survival indicator  No Evidence of Disease  \n",
       "274  Recurrence-free survival indicator  No Evidence of Disease  \n",
       "275  Recurrence-free survival indicator  No Evidence of Disease  \n",
       "276  Recurrence-free survival indicator       Recurrent Disease  \n",
       "277  Recurrence-free survival indicator  No Evidence of Disease  \n",
       "278  Recurrence-free survival indicator  No Evidence of Disease  \n",
       "279  Recurrence-free survival indicator  No Evidence of Disease  \n",
       "280  Recurrence-free survival indicator  No Evidence of Disease  \n",
       "281  Recurrence-free survival indicator  No Evidence of Disease  \n",
       "282  Recurrence-free survival indicator       Recurrent Disease  \n",
       "283  Recurrence-free survival indicator  No Evidence of Disease  \n",
       "284  Recurrence-free survival indicator  No Evidence of Disease  \n",
       "285  Recurrence-free survival indicator  No Evidence of Disease  "
      ]
     },
     "execution_count": 3,
     "metadata": {},
     "output_type": "execute_result"
    }
   ],
   "source": [
    "dataset = pd.read_csv(r'C:\\Users\\ClinAsia1\\VisualStudio\\PoC Anomaly  and Missing Value analysis (MaxisIT)\\oulier dataset\\Breast Cancer\\ss.csv')\n",
    "dataset"
   ]
  },
  {
   "cell_type": "code",
   "execution_count": 4,
   "metadata": {},
   "outputs": [
    {
     "data": {
      "text/plain": [
       "(285, 7)"
      ]
     },
     "execution_count": 4,
     "metadata": {},
     "output_type": "execute_result"
    }
   ],
   "source": [
    "dataset.shape"
   ]
  },
  {
   "cell_type": "code",
   "execution_count": 5,
   "metadata": {},
   "outputs": [
    {
     "name": "stdout",
     "output_type": "stream",
     "text": [
      "Data for Modeling: (271, 7)\n",
      "Unseen Data For Predictions: (14, 7)\n"
     ]
    }
   ],
   "source": [
    "data = dataset.sample(frac=0.95, random_state=786)\n",
    "data_unseen = dataset.drop(data.index).reset_index(drop=True)\n",
    "data.reset_index(drop=True, inplace=True)\n",
    "\n",
    "print('Data for Modeling: ' + str(data.shape))\n",
    "print('Unseen Data For Predictions: ' + str(data_unseen.shape))"
   ]
  },
  {
   "cell_type": "code",
   "execution_count": 6,
   "metadata": {},
   "outputs": [
    {
     "name": "stdout",
     "output_type": "stream",
     "text": [
      "Setup Succesfully Completed!\n"
     ]
    },
    {
     "data": {
      "text/html": [
       "<style  type=\"text/css\" >\n",
       "#T_561ae99a_e60b_11ea_9817_7cb27d7d8dadrow10_col1,#T_561ae99a_e60b_11ea_9817_7cb27d7d8dadrow12_col1{\n",
       "            background-color:  lightgreen;\n",
       "        }</style><table id=\"T_561ae99a_e60b_11ea_9817_7cb27d7d8dad\" ><thead>    <tr>        <th class=\"blank level0\" ></th>        <th class=\"col_heading level0 col0\" >Description</th>        <th class=\"col_heading level0 col1\" >Value</th>    </tr></thead><tbody>\n",
       "                <tr>\n",
       "                        <th id=\"T_561ae99a_e60b_11ea_9817_7cb27d7d8dadlevel0_row0\" class=\"row_heading level0 row0\" >0</th>\n",
       "                        <td id=\"T_561ae99a_e60b_11ea_9817_7cb27d7d8dadrow0_col0\" class=\"data row0 col0\" >session_id </td>\n",
       "                        <td id=\"T_561ae99a_e60b_11ea_9817_7cb27d7d8dadrow0_col1\" class=\"data row0 col1\" >6928</td>\n",
       "            </tr>\n",
       "            <tr>\n",
       "                        <th id=\"T_561ae99a_e60b_11ea_9817_7cb27d7d8dadlevel0_row1\" class=\"row_heading level0 row1\" >1</th>\n",
       "                        <td id=\"T_561ae99a_e60b_11ea_9817_7cb27d7d8dadrow1_col0\" class=\"data row1 col0\" >Original Data </td>\n",
       "                        <td id=\"T_561ae99a_e60b_11ea_9817_7cb27d7d8dadrow1_col1\" class=\"data row1 col1\" >(285, 7)</td>\n",
       "            </tr>\n",
       "            <tr>\n",
       "                        <th id=\"T_561ae99a_e60b_11ea_9817_7cb27d7d8dadlevel0_row2\" class=\"row_heading level0 row2\" >2</th>\n",
       "                        <td id=\"T_561ae99a_e60b_11ea_9817_7cb27d7d8dadrow2_col0\" class=\"data row2 col0\" >Missing Values </td>\n",
       "                        <td id=\"T_561ae99a_e60b_11ea_9817_7cb27d7d8dadrow2_col1\" class=\"data row2 col1\" >False</td>\n",
       "            </tr>\n",
       "            <tr>\n",
       "                        <th id=\"T_561ae99a_e60b_11ea_9817_7cb27d7d8dadlevel0_row3\" class=\"row_heading level0 row3\" >3</th>\n",
       "                        <td id=\"T_561ae99a_e60b_11ea_9817_7cb27d7d8dadrow3_col0\" class=\"data row3 col0\" >Numeric Features </td>\n",
       "                        <td id=\"T_561ae99a_e60b_11ea_9817_7cb27d7d8dadrow3_col1\" class=\"data row3 col1\" >0</td>\n",
       "            </tr>\n",
       "            <tr>\n",
       "                        <th id=\"T_561ae99a_e60b_11ea_9817_7cb27d7d8dadlevel0_row4\" class=\"row_heading level0 row4\" >4</th>\n",
       "                        <td id=\"T_561ae99a_e60b_11ea_9817_7cb27d7d8dadrow4_col0\" class=\"data row4 col0\" >Categorical Features </td>\n",
       "                        <td id=\"T_561ae99a_e60b_11ea_9817_7cb27d7d8dadrow4_col1\" class=\"data row4 col1\" >7</td>\n",
       "            </tr>\n",
       "            <tr>\n",
       "                        <th id=\"T_561ae99a_e60b_11ea_9817_7cb27d7d8dadlevel0_row5\" class=\"row_heading level0 row5\" >5</th>\n",
       "                        <td id=\"T_561ae99a_e60b_11ea_9817_7cb27d7d8dadrow5_col0\" class=\"data row5 col0\" >Ordinal Features </td>\n",
       "                        <td id=\"T_561ae99a_e60b_11ea_9817_7cb27d7d8dadrow5_col1\" class=\"data row5 col1\" >False</td>\n",
       "            </tr>\n",
       "            <tr>\n",
       "                        <th id=\"T_561ae99a_e60b_11ea_9817_7cb27d7d8dadlevel0_row6\" class=\"row_heading level0 row6\" >6</th>\n",
       "                        <td id=\"T_561ae99a_e60b_11ea_9817_7cb27d7d8dadrow6_col0\" class=\"data row6 col0\" >High Cardinality Features </td>\n",
       "                        <td id=\"T_561ae99a_e60b_11ea_9817_7cb27d7d8dadrow6_col1\" class=\"data row6 col1\" >False</td>\n",
       "            </tr>\n",
       "            <tr>\n",
       "                        <th id=\"T_561ae99a_e60b_11ea_9817_7cb27d7d8dadlevel0_row7\" class=\"row_heading level0 row7\" >7</th>\n",
       "                        <td id=\"T_561ae99a_e60b_11ea_9817_7cb27d7d8dadrow7_col0\" class=\"data row7 col0\" >Transformed Data </td>\n",
       "                        <td id=\"T_561ae99a_e60b_11ea_9817_7cb27d7d8dadrow7_col1\" class=\"data row7 col1\" >(285, 7)</td>\n",
       "            </tr>\n",
       "            <tr>\n",
       "                        <th id=\"T_561ae99a_e60b_11ea_9817_7cb27d7d8dadlevel0_row8\" class=\"row_heading level0 row8\" >8</th>\n",
       "                        <td id=\"T_561ae99a_e60b_11ea_9817_7cb27d7d8dadrow8_col0\" class=\"data row8 col0\" >Numeric Imputer </td>\n",
       "                        <td id=\"T_561ae99a_e60b_11ea_9817_7cb27d7d8dadrow8_col1\" class=\"data row8 col1\" >median</td>\n",
       "            </tr>\n",
       "            <tr>\n",
       "                        <th id=\"T_561ae99a_e60b_11ea_9817_7cb27d7d8dadlevel0_row9\" class=\"row_heading level0 row9\" >9</th>\n",
       "                        <td id=\"T_561ae99a_e60b_11ea_9817_7cb27d7d8dadrow9_col0\" class=\"data row9 col0\" >Categorical Imputer </td>\n",
       "                        <td id=\"T_561ae99a_e60b_11ea_9817_7cb27d7d8dadrow9_col1\" class=\"data row9 col1\" >constant</td>\n",
       "            </tr>\n",
       "            <tr>\n",
       "                        <th id=\"T_561ae99a_e60b_11ea_9817_7cb27d7d8dadlevel0_row10\" class=\"row_heading level0 row10\" >10</th>\n",
       "                        <td id=\"T_561ae99a_e60b_11ea_9817_7cb27d7d8dadrow10_col0\" class=\"data row10 col0\" >Normalize </td>\n",
       "                        <td id=\"T_561ae99a_e60b_11ea_9817_7cb27d7d8dadrow10_col1\" class=\"data row10 col1\" >True</td>\n",
       "            </tr>\n",
       "            <tr>\n",
       "                        <th id=\"T_561ae99a_e60b_11ea_9817_7cb27d7d8dadlevel0_row11\" class=\"row_heading level0 row11\" >11</th>\n",
       "                        <td id=\"T_561ae99a_e60b_11ea_9817_7cb27d7d8dadrow11_col0\" class=\"data row11 col0\" >Normalize Method </td>\n",
       "                        <td id=\"T_561ae99a_e60b_11ea_9817_7cb27d7d8dadrow11_col1\" class=\"data row11 col1\" >zscore</td>\n",
       "            </tr>\n",
       "            <tr>\n",
       "                        <th id=\"T_561ae99a_e60b_11ea_9817_7cb27d7d8dadlevel0_row12\" class=\"row_heading level0 row12\" >12</th>\n",
       "                        <td id=\"T_561ae99a_e60b_11ea_9817_7cb27d7d8dadrow12_col0\" class=\"data row12 col0\" >Transformation </td>\n",
       "                        <td id=\"T_561ae99a_e60b_11ea_9817_7cb27d7d8dadrow12_col1\" class=\"data row12 col1\" >True</td>\n",
       "            </tr>\n",
       "            <tr>\n",
       "                        <th id=\"T_561ae99a_e60b_11ea_9817_7cb27d7d8dadlevel0_row13\" class=\"row_heading level0 row13\" >13</th>\n",
       "                        <td id=\"T_561ae99a_e60b_11ea_9817_7cb27d7d8dadrow13_col0\" class=\"data row13 col0\" >Transformation Method </td>\n",
       "                        <td id=\"T_561ae99a_e60b_11ea_9817_7cb27d7d8dadrow13_col1\" class=\"data row13 col1\" >quantile</td>\n",
       "            </tr>\n",
       "            <tr>\n",
       "                        <th id=\"T_561ae99a_e60b_11ea_9817_7cb27d7d8dadlevel0_row14\" class=\"row_heading level0 row14\" >14</th>\n",
       "                        <td id=\"T_561ae99a_e60b_11ea_9817_7cb27d7d8dadrow14_col0\" class=\"data row14 col0\" >PCA </td>\n",
       "                        <td id=\"T_561ae99a_e60b_11ea_9817_7cb27d7d8dadrow14_col1\" class=\"data row14 col1\" >False</td>\n",
       "            </tr>\n",
       "            <tr>\n",
       "                        <th id=\"T_561ae99a_e60b_11ea_9817_7cb27d7d8dadlevel0_row15\" class=\"row_heading level0 row15\" >15</th>\n",
       "                        <td id=\"T_561ae99a_e60b_11ea_9817_7cb27d7d8dadrow15_col0\" class=\"data row15 col0\" >PCA Method </td>\n",
       "                        <td id=\"T_561ae99a_e60b_11ea_9817_7cb27d7d8dadrow15_col1\" class=\"data row15 col1\" >None</td>\n",
       "            </tr>\n",
       "            <tr>\n",
       "                        <th id=\"T_561ae99a_e60b_11ea_9817_7cb27d7d8dadlevel0_row16\" class=\"row_heading level0 row16\" >16</th>\n",
       "                        <td id=\"T_561ae99a_e60b_11ea_9817_7cb27d7d8dadrow16_col0\" class=\"data row16 col0\" >PCA components </td>\n",
       "                        <td id=\"T_561ae99a_e60b_11ea_9817_7cb27d7d8dadrow16_col1\" class=\"data row16 col1\" >None</td>\n",
       "            </tr>\n",
       "            <tr>\n",
       "                        <th id=\"T_561ae99a_e60b_11ea_9817_7cb27d7d8dadlevel0_row17\" class=\"row_heading level0 row17\" >17</th>\n",
       "                        <td id=\"T_561ae99a_e60b_11ea_9817_7cb27d7d8dadrow17_col0\" class=\"data row17 col0\" >Ignore Low Variance </td>\n",
       "                        <td id=\"T_561ae99a_e60b_11ea_9817_7cb27d7d8dadrow17_col1\" class=\"data row17 col1\" >False</td>\n",
       "            </tr>\n",
       "            <tr>\n",
       "                        <th id=\"T_561ae99a_e60b_11ea_9817_7cb27d7d8dadlevel0_row18\" class=\"row_heading level0 row18\" >18</th>\n",
       "                        <td id=\"T_561ae99a_e60b_11ea_9817_7cb27d7d8dadrow18_col0\" class=\"data row18 col0\" >Combine Rare Levels </td>\n",
       "                        <td id=\"T_561ae99a_e60b_11ea_9817_7cb27d7d8dadrow18_col1\" class=\"data row18 col1\" >False</td>\n",
       "            </tr>\n",
       "            <tr>\n",
       "                        <th id=\"T_561ae99a_e60b_11ea_9817_7cb27d7d8dadlevel0_row19\" class=\"row_heading level0 row19\" >19</th>\n",
       "                        <td id=\"T_561ae99a_e60b_11ea_9817_7cb27d7d8dadrow19_col0\" class=\"data row19 col0\" >Rare Level Threshold </td>\n",
       "                        <td id=\"T_561ae99a_e60b_11ea_9817_7cb27d7d8dadrow19_col1\" class=\"data row19 col1\" >None</td>\n",
       "            </tr>\n",
       "            <tr>\n",
       "                        <th id=\"T_561ae99a_e60b_11ea_9817_7cb27d7d8dadlevel0_row20\" class=\"row_heading level0 row20\" >20</th>\n",
       "                        <td id=\"T_561ae99a_e60b_11ea_9817_7cb27d7d8dadrow20_col0\" class=\"data row20 col0\" >Numeric Binning </td>\n",
       "                        <td id=\"T_561ae99a_e60b_11ea_9817_7cb27d7d8dadrow20_col1\" class=\"data row20 col1\" >False</td>\n",
       "            </tr>\n",
       "            <tr>\n",
       "                        <th id=\"T_561ae99a_e60b_11ea_9817_7cb27d7d8dadlevel0_row21\" class=\"row_heading level0 row21\" >21</th>\n",
       "                        <td id=\"T_561ae99a_e60b_11ea_9817_7cb27d7d8dadrow21_col0\" class=\"data row21 col0\" >Remove Multicollinearity </td>\n",
       "                        <td id=\"T_561ae99a_e60b_11ea_9817_7cb27d7d8dadrow21_col1\" class=\"data row21 col1\" >False</td>\n",
       "            </tr>\n",
       "            <tr>\n",
       "                        <th id=\"T_561ae99a_e60b_11ea_9817_7cb27d7d8dadlevel0_row22\" class=\"row_heading level0 row22\" >22</th>\n",
       "                        <td id=\"T_561ae99a_e60b_11ea_9817_7cb27d7d8dadrow22_col0\" class=\"data row22 col0\" >Multicollinearity Threshold </td>\n",
       "                        <td id=\"T_561ae99a_e60b_11ea_9817_7cb27d7d8dadrow22_col1\" class=\"data row22 col1\" >None</td>\n",
       "            </tr>\n",
       "            <tr>\n",
       "                        <th id=\"T_561ae99a_e60b_11ea_9817_7cb27d7d8dadlevel0_row23\" class=\"row_heading level0 row23\" >23</th>\n",
       "                        <td id=\"T_561ae99a_e60b_11ea_9817_7cb27d7d8dadrow23_col0\" class=\"data row23 col0\" >Group Features </td>\n",
       "                        <td id=\"T_561ae99a_e60b_11ea_9817_7cb27d7d8dadrow23_col1\" class=\"data row23 col1\" >False</td>\n",
       "            </tr>\n",
       "    </tbody></table>"
      ],
      "text/plain": [
       "<pandas.io.formats.style.Styler at 0x1f40b896d48>"
      ]
     },
     "metadata": {},
     "output_type": "display_data"
    }
   ],
   "source": [
    "anomaly_setup = setup(dataset, normalize=True, transformation=True,transformation_method='quantile',numeric_imputation='median', ignore_features = ['STUDYID','USUBJID','SSSEQ'])"
   ]
  },
  {
   "cell_type": "code",
   "execution_count": 7,
   "metadata": {},
   "outputs": [],
   "source": [
    "svm = create_model('svm')"
   ]
  },
  {
   "cell_type": "code",
   "execution_count": 8,
   "metadata": {},
   "outputs": [
    {
     "name": "stdout",
     "output_type": "stream",
     "text": [
      "OCSVM(cache_size=200, coef0=0.0, contamination=0.05, degree=3, gamma='auto',\n",
      "   kernel='rbf', max_iter=-1, nu=0.5, shrinking=True, tol=0.001,\n",
      "   verbose=False)\n"
     ]
    }
   ],
   "source": [
    "print(svm)"
   ]
  },
  {
   "cell_type": "code",
   "execution_count": 9,
   "metadata": {},
   "outputs": [
    {
     "data": {
      "text/html": [
       "<div>\n",
       "<style scoped>\n",
       "    .dataframe tbody tr th:only-of-type {\n",
       "        vertical-align: middle;\n",
       "    }\n",
       "\n",
       "    .dataframe tbody tr th {\n",
       "        vertical-align: top;\n",
       "    }\n",
       "\n",
       "    .dataframe thead th {\n",
       "        text-align: right;\n",
       "    }\n",
       "</style>\n",
       "<table border=\"1\" class=\"dataframe\">\n",
       "  <thead>\n",
       "    <tr style=\"text-align: right;\">\n",
       "      <th></th>\n",
       "      <th>STUDYID</th>\n",
       "      <th>DOMAIN</th>\n",
       "      <th>USUBJID</th>\n",
       "      <th>SSSEQ</th>\n",
       "      <th>SSTESTCD</th>\n",
       "      <th>SSTEST</th>\n",
       "      <th>SSORRES</th>\n",
       "      <th>Label</th>\n",
       "      <th>Score</th>\n",
       "    </tr>\n",
       "  </thead>\n",
       "  <tbody>\n",
       "    <tr>\n",
       "      <th>1</th>\n",
       "      <td>Breast-MRI-NACT-Pilot</td>\n",
       "      <td>SS</td>\n",
       "      <td>UCSF-BR-01</td>\n",
       "      <td>1</td>\n",
       "      <td>RFSIND</td>\n",
       "      <td>Recurrence-free survival indicator</td>\n",
       "      <td>No Evidence of Disease</td>\n",
       "      <td>0</td>\n",
       "      <td>5.744602e-07</td>\n",
       "    </tr>\n",
       "    <tr>\n",
       "      <th>2</th>\n",
       "      <td>Breast-MRI-NACT-Pilot</td>\n",
       "      <td>SS</td>\n",
       "      <td>UCSF-BR-02</td>\n",
       "      <td>1</td>\n",
       "      <td>RFSIND</td>\n",
       "      <td>Recurrence-free survival indicator</td>\n",
       "      <td>Recurrent Disease</td>\n",
       "      <td>0</td>\n",
       "      <td>5.744602e-07</td>\n",
       "    </tr>\n",
       "    <tr>\n",
       "      <th>3</th>\n",
       "      <td>Breast-MRI-NACT-Pilot</td>\n",
       "      <td>SS</td>\n",
       "      <td>UCSF-BR-03</td>\n",
       "      <td>1</td>\n",
       "      <td>RFSIND</td>\n",
       "      <td>Recurrence-free survival indicator</td>\n",
       "      <td>No Evidence of Disease</td>\n",
       "      <td>0</td>\n",
       "      <td>5.744602e-07</td>\n",
       "    </tr>\n",
       "    <tr>\n",
       "      <th>4</th>\n",
       "      <td>Breast-MRI-NACT-Pilot</td>\n",
       "      <td>SS</td>\n",
       "      <td>UCSF-BR-04</td>\n",
       "      <td>1</td>\n",
       "      <td>RFSIND</td>\n",
       "      <td>Recurrence-free survival indicator</td>\n",
       "      <td>Recurrent Disease</td>\n",
       "      <td>0</td>\n",
       "      <td>5.744602e-07</td>\n",
       "    </tr>\n",
       "    <tr>\n",
       "      <th>5</th>\n",
       "      <td>Breast-MRI-NACT-Pilot</td>\n",
       "      <td>SS</td>\n",
       "      <td>UCSF-BR-06</td>\n",
       "      <td>1</td>\n",
       "      <td>RFSIND</td>\n",
       "      <td>Recurrence-free survival indicator</td>\n",
       "      <td>No Evidence of Disease</td>\n",
       "      <td>0</td>\n",
       "      <td>5.744602e-07</td>\n",
       "    </tr>\n",
       "  </tbody>\n",
       "</table>\n",
       "</div>"
      ],
      "text/plain": [
       "                 STUDYID DOMAIN     USUBJID  SSSEQ SSTESTCD  \\\n",
       "1  Breast-MRI-NACT-Pilot     SS  UCSF-BR-01      1   RFSIND   \n",
       "2  Breast-MRI-NACT-Pilot     SS  UCSF-BR-02      1   RFSIND   \n",
       "3  Breast-MRI-NACT-Pilot     SS  UCSF-BR-03      1   RFSIND   \n",
       "4  Breast-MRI-NACT-Pilot     SS  UCSF-BR-04      1   RFSIND   \n",
       "5  Breast-MRI-NACT-Pilot     SS  UCSF-BR-06      1   RFSIND   \n",
       "\n",
       "                               SSTEST                 SSORRES  Label  \\\n",
       "1  Recurrence-free survival indicator  No Evidence of Disease      0   \n",
       "2  Recurrence-free survival indicator       Recurrent Disease      0   \n",
       "3  Recurrence-free survival indicator  No Evidence of Disease      0   \n",
       "4  Recurrence-free survival indicator       Recurrent Disease      0   \n",
       "5  Recurrence-free survival indicator  No Evidence of Disease      0   \n",
       "\n",
       "          Score  \n",
       "1  5.744602e-07  \n",
       "2  5.744602e-07  \n",
       "3  5.744602e-07  \n",
       "4  5.744602e-07  \n",
       "5  5.744602e-07  "
      ]
     },
     "execution_count": 9,
     "metadata": {},
     "output_type": "execute_result"
    }
   ],
   "source": [
    "svm_results = assign_model(svm)\n",
    "svm_results.head()"
   ]
  },
  {
   "cell_type": "code",
   "execution_count": 10,
   "metadata": {},
   "outputs": [],
   "source": [
    "pd.set_option('display.max_columns', None)\n",
    "pd.set_option('display.max_rows', None)"
   ]
  },
  {
   "cell_type": "code",
   "execution_count": 11,
   "metadata": {},
   "outputs": [],
   "source": [
    "label_1 = svm_results['Label'] == 1"
   ]
  },
  {
   "cell_type": "code",
   "execution_count": 12,
   "metadata": {},
   "outputs": [
    {
     "data": {
      "text/html": [
       "<div>\n",
       "<style scoped>\n",
       "    .dataframe tbody tr th:only-of-type {\n",
       "        vertical-align: middle;\n",
       "    }\n",
       "\n",
       "    .dataframe tbody tr th {\n",
       "        vertical-align: top;\n",
       "    }\n",
       "\n",
       "    .dataframe thead th {\n",
       "        text-align: right;\n",
       "    }\n",
       "</style>\n",
       "<table border=\"1\" class=\"dataframe\">\n",
       "  <thead>\n",
       "    <tr style=\"text-align: right;\">\n",
       "      <th></th>\n",
       "      <th>STUDYID</th>\n",
       "      <th>DOMAIN</th>\n",
       "      <th>USUBJID</th>\n",
       "      <th>SSSEQ</th>\n",
       "      <th>SSTESTCD</th>\n",
       "      <th>SSTEST</th>\n",
       "      <th>SSORRES</th>\n",
       "      <th>Label</th>\n",
       "      <th>Score</th>\n",
       "    </tr>\n",
       "  </thead>\n",
       "  <tbody>\n",
       "    <tr>\n",
       "      <th>7</th>\n",
       "      <td>Breast-MRI-NACT-Pilot</td>\n",
       "      <td>SS</td>\n",
       "      <td>UCSF-BR-08</td>\n",
       "      <td>1</td>\n",
       "      <td>RFSIND</td>\n",
       "      <td>Recurrence-free survival indicato</td>\n",
       "      <td>No Evidence o Disease</td>\n",
       "      <td>1</td>\n",
       "      <td>43.574123</td>\n",
       "    </tr>\n",
       "  </tbody>\n",
       "</table>\n",
       "</div>"
      ],
      "text/plain": [
       "                 STUDYID DOMAIN     USUBJID  SSSEQ SSTESTCD  \\\n",
       "7  Breast-MRI-NACT-Pilot     SS  UCSF-BR-08      1   RFSIND   \n",
       "\n",
       "                              SSTEST                SSORRES  Label      Score  \n",
       "7  Recurrence-free survival indicato  No Evidence o Disease      1  43.574123  "
      ]
     },
     "execution_count": 12,
     "metadata": {},
     "output_type": "execute_result"
    }
   ],
   "source": [
    "svm_results[label_1]"
   ]
  },
  {
   "cell_type": "code",
   "execution_count": 13,
   "metadata": {
    "scrolled": true
   },
   "outputs": [
    {
     "data": {
      "text/html": [
       "        <script type=\"text/javascript\">\n",
       "        window.PlotlyConfig = {MathJaxConfig: 'local'};\n",
       "        if (window.MathJax) {MathJax.Hub.Config({SVG: {font: \"STIX-Web\"}});}\n",
       "        if (typeof require !== 'undefined') {\n",
       "        require.undef(\"plotly\");\n",
       "        requirejs.config({\n",
       "            paths: {\n",
       "                'plotly': ['https://cdn.plot.ly/plotly-latest.min']\n",
       "            }\n",
       "        });\n",
       "        require(['plotly'], function(Plotly) {\n",
       "            window._Plotly = Plotly;\n",
       "        });\n",
       "        }\n",
       "        </script>\n",
       "        "
      ]
     },
     "metadata": {},
     "output_type": "display_data"
    },
    {
     "data": {
      "application/vnd.plotly.v1+json": {
       "config": {
        "plotlyServerURL": "https://plot.ly"
       },
       "data": [
        {
         "customdata": [
          [
           null
          ],
          [
           "Breast-MRI-NACT-Pilot"
          ],
          [
           "Breast-MRI-NACT-Pilot"
          ],
          [
           "Breast-MRI-NACT-Pilot"
          ],
          [
           "Breast-MRI-NACT-Pilot"
          ],
          [
           "Breast-MRI-NACT-Pilot"
          ],
          [
           "Breast-MRI-NACT-Pilot"
          ],
          [
           "Breast-MRI-NACT-Pilot"
          ],
          [
           "Breast-MRI-NACT-Pilot"
          ],
          [
           "Breast-MRI-NACT-Pilot"
          ],
          [
           "Breast-MRI-NACT-Pilot"
          ],
          [
           "Breast-MRI-NACT-Pilot"
          ],
          [
           "Breast-MRI-NACT-Pilot"
          ],
          [
           "Breast-MRI-NACT-Pilot"
          ],
          [
           "Breast-MRI-NACT-Pilot"
          ],
          [
           "Breast-MRI-NACT-Pilot"
          ],
          [
           "Breast-MRI-NACT-Pilot"
          ],
          [
           "Breast-MRI-NACT-Pilot"
          ],
          [
           "Breast-MRI-NACT-Pilot"
          ],
          [
           "Breast-MRI-NACT-Pilot"
          ],
          [
           "Breast-MRI-NACT-Pilot"
          ],
          [
           "Breast-MRI-NACT-Pilot"
          ],
          [
           "Breast-MRI-NACT-Pilot"
          ],
          [
           "Breast-MRI-NACT-Pilot"
          ],
          [
           "Breast-MRI-NACT-Pilot"
          ],
          [
           "Breast-MRI-NACT-Pilot"
          ],
          [
           "Breast-MRI-NACT-Pilot"
          ],
          [
           "Breast-MRI-NACT-Pilot"
          ],
          [
           "Breast-MRI-NACT-Pilot"
          ],
          [
           "Breast-MRI-NACT-Pilot"
          ],
          [
           "Breast-MRI-NACT-Pilot"
          ],
          [
           "Breast-MRI-NACT-Pilot"
          ],
          [
           "Breast-MRI-NACT-Pilot"
          ],
          [
           "Breast-MRI-NACT-Pilot"
          ],
          [
           "Breast-MRI-NACT-Pilot"
          ],
          [
           "Breast-MRI-NACT-Pilot"
          ],
          [
           "Breast-MRI-NACT-Pilot"
          ],
          [
           "Breast-MRI-NACT-Pilot"
          ],
          [
           "Breast-MRI-NACT-Pilot"
          ],
          [
           "Breast-MRI-NACT-Pilot"
          ],
          [
           "Breast-MRI-NACT-Pilot"
          ],
          [
           "Breast-MRI-NACT-Pilot"
          ],
          [
           "Breast-MRI-NACT-Pilot"
          ],
          [
           "Breast-MRI-NACT-Pilot"
          ],
          [
           "Breast-MRI-NACT-Pilot"
          ],
          [
           "Breast-MRI-NACT-Pilot"
          ],
          [
           "Breast-MRI-NACT-Pilot"
          ],
          [
           "Breast-MRI-NACT-Pilot"
          ],
          [
           "Breast-MRI-NACT-Pilot"
          ],
          [
           "Breast-MRI-NACT-Pilot"
          ],
          [
           "Breast-MRI-NACT-Pilot"
          ],
          [
           "Breast-MRI-NACT-Pilot"
          ],
          [
           "Breast-MRI-NACT-Pilot"
          ],
          [
           "Breast-MRI-NACT-Pilot"
          ],
          [
           "Breast-MRI-NACT-Pilot"
          ],
          [
           "Breast-MRI-NACT-Pilot"
          ],
          [
           "Breast-MRI-NACT-Pilot"
          ],
          [
           "Breast-MRI-NACT-Pilot"
          ],
          [
           "Breast-MRI-NACT-Pilot"
          ],
          [
           "Breast-MRI-NACT-Pilot"
          ],
          [
           "Breast-MRI-NACT-Pilot"
          ],
          [
           "Breast-MRI-NACT-Pilot"
          ],
          [
           "Breast-MRI-NACT-Pilot"
          ],
          [
           "Breast-MRI-NACT-Pilot"
          ],
          [
           "Breast-MRI-NACT-Pilot"
          ],
          [
           "I-Spy1"
          ],
          [
           "I-Spy1"
          ],
          [
           "I-Spy1"
          ],
          [
           "I-Spy1"
          ],
          [
           "I-Spy1"
          ],
          [
           "I-Spy1"
          ],
          [
           "I-Spy1"
          ],
          [
           "I-Spy1"
          ],
          [
           "I-Spy1"
          ],
          [
           "I-Spy1"
          ],
          [
           "I-Spy1"
          ],
          [
           "I-Spy1"
          ],
          [
           "I-Spy1"
          ],
          [
           "I-Spy1"
          ],
          [
           "I-Spy1"
          ],
          [
           "I-Spy1"
          ],
          [
           "I-Spy1"
          ],
          [
           "I-Spy1"
          ],
          [
           "I-Spy1"
          ],
          [
           "I-Spy1"
          ],
          [
           "I-Spy1"
          ],
          [
           "I-Spy1"
          ],
          [
           "I-Spy1"
          ],
          [
           "I-Spy1"
          ],
          [
           "I-Spy1"
          ],
          [
           "I-Spy1"
          ],
          [
           "I-Spy1"
          ],
          [
           "I-Spy1"
          ],
          [
           "I-Spy1"
          ],
          [
           "I-Spy1"
          ],
          [
           "I-Spy1"
          ],
          [
           "I-Spy1"
          ],
          [
           "I-Spy1"
          ],
          [
           "I-Spy1"
          ],
          [
           "I-Spy1"
          ],
          [
           "I-Spy1"
          ],
          [
           "I-Spy1"
          ],
          [
           "I-Spy1"
          ],
          [
           "I-Spy1"
          ],
          [
           "I-Spy1"
          ],
          [
           "I-Spy1"
          ],
          [
           "I-Spy1"
          ],
          [
           "I-Spy1"
          ],
          [
           "I-Spy1"
          ],
          [
           "I-Spy1"
          ],
          [
           "I-Spy1"
          ],
          [
           "I-Spy1"
          ],
          [
           "I-Spy1"
          ],
          [
           "I-Spy1"
          ],
          [
           "I-Spy1"
          ],
          [
           "I-Spy1"
          ],
          [
           "I-Spy1"
          ],
          [
           "I-Spy1"
          ],
          [
           "I-Spy1"
          ],
          [
           "I-Spy1"
          ],
          [
           "I-Spy1"
          ],
          [
           "I-Spy1"
          ],
          [
           "I-Spy1"
          ],
          [
           "I-Spy1"
          ],
          [
           "I-Spy1"
          ],
          [
           "I-Spy1"
          ],
          [
           "I-Spy1"
          ],
          [
           "I-Spy1"
          ],
          [
           "I-Spy1"
          ],
          [
           "I-Spy1"
          ],
          [
           "I-Spy1"
          ],
          [
           "I-Spy1"
          ],
          [
           "I-Spy1"
          ],
          [
           "I-Spy1"
          ],
          [
           "I-Spy1"
          ],
          [
           "I-Spy1"
          ],
          [
           "I-Spy1"
          ],
          [
           "I-Spy1"
          ],
          [
           "I-Spy1"
          ],
          [
           "I-Spy1"
          ],
          [
           "I-Spy1"
          ],
          [
           "I-Spy1"
          ],
          [
           "I-Spy1"
          ],
          [
           "I-Spy1"
          ],
          [
           "I-Spy1"
          ],
          [
           "I-Spy1"
          ],
          [
           "I-Spy1"
          ],
          [
           "I-Spy1"
          ],
          [
           "I-Spy1"
          ],
          [
           "I-Spy1"
          ],
          [
           "I-Spy1"
          ],
          [
           "I-Spy1"
          ],
          [
           "I-Spy1"
          ],
          [
           "I-Spy1"
          ],
          [
           "I-Spy1"
          ],
          [
           "I-Spy1"
          ],
          [
           "I-Spy1"
          ],
          [
           "I-Spy1"
          ],
          [
           "I-Spy1"
          ],
          [
           "I-Spy1"
          ],
          [
           "I-Spy1"
          ],
          [
           "I-Spy1"
          ],
          [
           "I-Spy1"
          ],
          [
           "I-Spy1"
          ],
          [
           "I-Spy1"
          ],
          [
           "I-Spy1"
          ],
          [
           "I-Spy1"
          ],
          [
           "I-Spy1"
          ],
          [
           "I-Spy1"
          ],
          [
           "I-Spy1"
          ],
          [
           "I-Spy1"
          ],
          [
           "I-Spy1"
          ],
          [
           "I-Spy1"
          ],
          [
           "I-Spy1"
          ],
          [
           "I-Spy1"
          ],
          [
           "I-Spy1"
          ],
          [
           "I-Spy1"
          ],
          [
           "I-Spy1"
          ],
          [
           "I-Spy1"
          ],
          [
           "I-Spy1"
          ],
          [
           "I-Spy1"
          ],
          [
           "I-Spy1"
          ],
          [
           "I-Spy1"
          ],
          [
           "I-Spy1"
          ],
          [
           "I-Spy1"
          ],
          [
           "I-Spy1"
          ],
          [
           "I-Spy1"
          ],
          [
           "I-Spy1"
          ],
          [
           "I-Spy1"
          ],
          [
           "I-Spy1"
          ],
          [
           "I-Spy1"
          ],
          [
           "I-Spy1"
          ],
          [
           "I-Spy1"
          ],
          [
           "I-Spy1"
          ],
          [
           "I-Spy1"
          ],
          [
           "I-Spy1"
          ],
          [
           "I-Spy1"
          ],
          [
           "I-Spy1"
          ],
          [
           "I-Spy1"
          ],
          [
           "I-Spy1"
          ],
          [
           "I-Spy1"
          ],
          [
           "I-Spy1"
          ],
          [
           "I-Spy1"
          ],
          [
           "I-Spy1"
          ],
          [
           "I-Spy1"
          ],
          [
           "I-Spy1"
          ],
          [
           "I-Spy1"
          ],
          [
           "I-Spy1"
          ],
          [
           "I-Spy1"
          ],
          [
           "I-Spy1"
          ],
          [
           "I-Spy1"
          ],
          [
           "I-Spy1"
          ],
          [
           "I-Spy1"
          ],
          [
           "I-Spy1"
          ],
          [
           "I-Spy1"
          ],
          [
           "I-Spy1"
          ],
          [
           "I-Spy1"
          ],
          [
           "I-Spy1"
          ],
          [
           "I-Spy1"
          ],
          [
           "I-Spy1"
          ],
          [
           "I-Spy1"
          ],
          [
           "I-Spy1"
          ],
          [
           "I-Spy1"
          ],
          [
           "I-Spy1"
          ],
          [
           "I-Spy1"
          ],
          [
           "I-Spy1"
          ],
          [
           "I-Spy1"
          ],
          [
           "I-Spy1"
          ],
          [
           "I-Spy1"
          ],
          [
           "I-Spy1"
          ],
          [
           "I-Spy1"
          ],
          [
           "I-Spy1"
          ],
          [
           "I-Spy1"
          ],
          [
           "I-Spy1"
          ],
          [
           "I-Spy1"
          ],
          [
           "I-Spy1"
          ],
          [
           "I-Spy1"
          ],
          [
           "I-Spy1"
          ],
          [
           "I-Spy1"
          ],
          [
           "I-Spy1"
          ],
          [
           "I-Spy1"
          ],
          [
           "I-Spy1"
          ],
          [
           "I-Spy1"
          ],
          [
           "I-Spy1"
          ],
          [
           "I-Spy1"
          ],
          [
           "I-Spy1"
          ],
          [
           "I-Spy1"
          ],
          [
           "I-Spy1"
          ],
          [
           "I-Spy1"
          ],
          [
           "I-Spy1"
          ],
          [
           "I-Spy1"
          ],
          [
           "I-Spy1"
          ],
          [
           "I-Spy1"
          ],
          [
           "I-Spy1"
          ],
          [
           "I-Spy1"
          ],
          [
           "I-Spy1"
          ],
          [
           "I-Spy1"
          ],
          [
           "I-Spy1"
          ],
          [
           "I-Spy1"
          ],
          [
           "I-Spy1"
          ],
          [
           "I-Spy1"
          ],
          [
           "I-Spy1"
          ],
          [
           "I-Spy1"
          ],
          [
           "I-Spy1"
          ],
          [
           "I-Spy1"
          ],
          [
           "I-Spy1"
          ],
          [
           "I-Spy1"
          ],
          [
           "I-Spy1"
          ],
          [
           "I-Spy1"
          ],
          [
           "I-Spy1"
          ],
          [
           "I-Spy1"
          ],
          [
           "I-Spy1"
          ],
          [
           "I-Spy1"
          ],
          [
           "I-Spy1"
          ],
          [
           "I-Spy1"
          ],
          [
           "I-Spy1"
          ],
          [
           "I-Spy1"
          ],
          [
           "I-Spy1"
          ],
          [
           "I-Spy1"
          ],
          [
           "I-Spy1"
          ],
          [
           "I-Spy1"
          ],
          [
           "I-Spy1"
          ],
          [
           "I-Spy1"
          ],
          [
           "I-Spy1"
          ],
          [
           "I-Spy1"
          ]
         ],
         "hovertemplate": "0=%{x}<br>1=%{y}<br>2=%{z}<br>Feature=%{customdata[0]}<br>Label=%{marker.color}<extra></extra>",
         "legendgroup": "",
         "marker": {
          "color": [
           null,
           0,
           0,
           0,
           0,
           0,
           0,
           1,
           0,
           0,
           0,
           0,
           0,
           0,
           0,
           0,
           0,
           0,
           0,
           0,
           0,
           0,
           0,
           0,
           0,
           0,
           0,
           0,
           0,
           0,
           0,
           0,
           0,
           0,
           0,
           0,
           0,
           0,
           0,
           0,
           0,
           0,
           0,
           0,
           0,
           0,
           0,
           0,
           0,
           0,
           0,
           0,
           0,
           0,
           0,
           0,
           0,
           0,
           0,
           0,
           0,
           0,
           0,
           0,
           0,
           0,
           0,
           0,
           0,
           0,
           0,
           0,
           0,
           0,
           0,
           0,
           0,
           0,
           0,
           0,
           0,
           0,
           0,
           0,
           0,
           0,
           0,
           0,
           0,
           0,
           0,
           0,
           0,
           0,
           0,
           0,
           0,
           0,
           0,
           0,
           0,
           0,
           0,
           0,
           0,
           0,
           0,
           0,
           0,
           0,
           0,
           0,
           0,
           0,
           0,
           0,
           0,
           0,
           0,
           0,
           0,
           0,
           0,
           0,
           0,
           0,
           0,
           0,
           0,
           0,
           0,
           0,
           0,
           0,
           0,
           0,
           0,
           0,
           0,
           0,
           0,
           0,
           0,
           0,
           0,
           0,
           0,
           0,
           0,
           0,
           0,
           0,
           0,
           0,
           0,
           0,
           0,
           0,
           0,
           0,
           0,
           0,
           0,
           0,
           0,
           0,
           0,
           0,
           0,
           0,
           0,
           0,
           0,
           0,
           0,
           0,
           0,
           0,
           0,
           0,
           0,
           0,
           0,
           0,
           0,
           0,
           0,
           0,
           0,
           0,
           0,
           0,
           0,
           0,
           0,
           0,
           0,
           0,
           0,
           0,
           0,
           0,
           0,
           0,
           0,
           0,
           0,
           0,
           0,
           0,
           0,
           0,
           0,
           0,
           0,
           0,
           0,
           0,
           0,
           0,
           0,
           0,
           0,
           0,
           0,
           0,
           0,
           0,
           0,
           0,
           0,
           0,
           0,
           0,
           0,
           0,
           0,
           0,
           0,
           0,
           0,
           0,
           0,
           0,
           0,
           0,
           0,
           0,
           0,
           0,
           0,
           0,
           0,
           0,
           0,
           0,
           0,
           0,
           0,
           0,
           0,
           0,
           0,
           0,
           0,
           0,
           0,
           0,
           0,
           0,
           0,
           0,
           0,
           0,
           0,
           0,
           0,
           0,
           0,
           0,
           0,
           0,
           0,
           0,
           0
          ],
          "coloraxis": "coloraxis",
          "opacity": 0.7,
          "symbol": "circle"
         },
         "mode": "markers",
         "name": "",
         "scene": "scene",
         "showlegend": false,
         "type": "scatter3d",
         "x": [
          -173.45974731445312,
          -56.992366790771484,
          -14.057389259338379,
          -126.3456039428711,
          -97.86781311035156,
          -76.21151733398438,
          -17.080562591552734,
          -67.4599609375,
          -156.4199981689453,
          -45.41508865356445,
          -19.86102294921875,
          56.39305114746094,
          42.48752975463867,
          161.04696655273438,
          -156.95216369628906,
          72.1824951171875,
          2.4087417125701904,
          113.59675598144531,
          -44.543968200683594,
          -75.98384094238281,
          85.65727233886719,
          149.2255859375,
          59.11454772949219,
          -43.079410552978516,
          -36.45536422729492,
          -125.53771209716797,
          -114.27008056640625,
          147.2972869873047,
          -137.05532836914062,
          121.27731323242188,
          109.19757080078125,
          134.16058349609375,
          71.61357879638672,
          88.25346374511719,
          53.152671813964844,
          -106.09735870361328,
          -14.005672454833984,
          28.831729888916016,
          -94.1686019897461,
          -62.80931091308594,
          -115.48490142822266,
          4.4620137214660645,
          12.869122505187988,
          64.67076873779297,
          -86.83727264404297,
          27.994312286376953,
          -2.351276159286499,
          -169.74925231933594,
          -81.0368423461914,
          17.55230712890625,
          6.2649946212768555,
          23.869766235351562,
          145.45750427246094,
          -64.01469421386719,
          118.81263732910156,
          95.8614730834961,
          -32.90580749511719,
          -145.02601623535156,
          50.370849609375,
          -38.90410232543945,
          53.729854583740234,
          -104.2390365600586,
          -33.52393341064453,
          -122.41917419433594,
          -96.39004516601562,
          -107.43875122070312,
          -107.31986236572266,
          36.25197219848633,
          46.27825164794922,
          -25.27642822265625,
          153.24862670898438,
          120.5445327758789,
          15.13568115234375,
          -15.756404876708984,
          -55.9969596862793,
          122.25189971923828,
          5.370471477508545,
          13.712847709655762,
          -68.47853088378906,
          15.102920532226562,
          75.16044616699219,
          -113.24199676513672,
          -141.35348510742188,
          -36.67087173461914,
          78.90276336669922,
          83.07103729248047,
          -114.76104736328125,
          -9.722168922424316,
          -68.91120147705078,
          150.46983337402344,
          -90.86016845703125,
          15.341197967529297,
          24.976160049438477,
          -59.722190856933594,
          -62.4028205871582,
          -108.10383605957031,
          48.91437911987305,
          -53.838863372802734,
          38.56327819824219,
          -34.85820007324219,
          -67.37026977539062,
          -264.25054931640625,
          -66.90164947509766,
          -9.373927116394043,
          -86.54979705810547,
          60.929019927978516,
          -121.34846496582031,
          -168.60623168945312,
          -118.06495666503906,
          102.6347427368164,
          119.4893569946289,
          135.39573669433594,
          -15.967982292175293,
          19.616689682006836,
          -100.70307922363281,
          -108.17472076416016,
          181.3810577392578,
          77.50360870361328,
          -128.7764129638672,
          -113.86186981201172,
          -23.922271728515625,
          56.54817581176758,
          3.2706246376037598,
          -29.66349983215332,
          -150.0538787841797,
          -78.50071716308594,
          41.05713653564453,
          98.15097045898438,
          -13.98291015625,
          141.9395751953125,
          88.85318756103516,
          54.379493713378906,
          37.69865417480469,
          -5.314637660980225,
          -7.937089443206787,
          21.514095306396484,
          27.285438537597656,
          86.96382141113281,
          -0.15937699377536774,
          -4.824390411376953,
          155.31903076171875,
          74.06462860107422,
          95.9146499633789,
          55.429141998291016,
          127.7264404296875,
          -71.49600219726562,
          -33.94965744018555,
          24.63177490234375,
          76.67251586914062,
          18.52487564086914,
          101.6659164428711,
          53.32258605957031,
          117.28106689453125,
          -76.49446105957031,
          53.577449798583984,
          76.5551986694336,
          111.8521957397461,
          -16.828081130981445,
          74.44041442871094,
          37.07429504394531,
          -87.07299041748047,
          -20.663618087768555,
          -168.1294403076172,
          101.69631958007812,
          39.59480285644531,
          124.24164581298828,
          121.253662109375,
          48.448150634765625,
          103.89476776123047,
          80.71146392822266,
          100.28273010253906,
          114.10655975341797,
          55.511898040771484,
          48.73795700073242,
          101.57608032226562,
          131.40341186523438,
          -135.6108856201172,
          60.3361930847168,
          53.69303894042969,
          76.66846466064453,
          63.490943908691406,
          -20.614816665649414,
          123.6488037109375,
          110.15556335449219,
          154.78656005859375,
          69.87525939941406,
          -92.5997314453125,
          -18.082651138305664,
          62.68486404418945,
          54.727882385253906,
          107.04463195800781,
          73.93024444580078,
          -47.14311218261719,
          -56.419315338134766,
          69.1146240234375,
          76.92523956298828,
          97.3124771118164,
          -65.4665756225586,
          54.202945709228516,
          -47.40860366821289,
          93.37584686279297,
          82.91498565673828,
          -121.91277313232422,
          70.83219146728516,
          101.84944915771484,
          -108.97197723388672,
          81.04171752929688,
          152.34954833984375,
          -136.14947509765625,
          97.91101837158203,
          127.39556884765625,
          128.75875854492188,
          -34.34812927246094,
          -99.96521759033203,
          16.54806900024414,
          -115.74163055419922,
          -79.59110260009766,
          -101.8739013671875,
          -92.17913055419922,
          -68.49131774902344,
          45.63008117675781,
          33.74392318725586,
          -51.58774185180664,
          -67.05746459960938,
          28.45052719116211,
          7.771782398223877,
          8.684405326843262,
          14.83161449432373,
          1.8665413856506348,
          20.632680892944336,
          -15.59616470336914,
          -26.921735763549805,
          -30.909461975097656,
          -9.255656242370605,
          -54.295814514160156,
          -27.26439666748047,
          13.890299797058105,
          47.79851150512695,
          -25.64076042175293,
          -0.36661937832832336,
          -112.82845306396484,
          57.37006759643555,
          -14.906941413879395,
          -87.73660278320312,
          -87.10043334960938,
          -64.83444213867188,
          -60.31418991088867,
          -16.712825775146484,
          132.2985382080078,
          -15.81173038482666,
          -78.56275939941406,
          -124.77999877929688,
          19.006351470947266,
          -40.92624282836914,
          9.726820945739746,
          43.68330001831055,
          -44.681453704833984,
          58.825740814208984,
          10.002392768859863,
          -58.894134521484375,
          34.76438903808594,
          -84.87026977539062,
          -56.000404357910156,
          -71.58685302734375,
          4.289822101593018,
          -9.27057933807373,
          158.74758911132812,
          14.516707420349121,
          39.55586242675781,
          -50.57972717285156,
          -69.47502899169922,
          -89.47653198242188,
          12.980484962463379,
          -55.624168395996094,
          25.066478729248047,
          -133.01437377929688,
          29.031715393066406,
          -21.868350982666016,
          72.55734252929688,
          14.4024076461792,
          -16.71980094909668,
          -47.68042755126953,
          8.988363265991211,
          -29.00675392150879,
          -193.17491149902344
         ],
         "y": [
          -19.634798049926758,
          -91.39533996582031,
          95.15218353271484,
          23.298011779785156,
          92.06561279296875,
          -103.0125503540039,
          81.32415771484375,
          -36.48851776123047,
          -17.87874412536621,
          7.8090739250183105,
          45.9466667175293,
          -62.64730453491211,
          21.806198120117188,
          -0.959374189376831,
          -63.001792907714844,
          43.59342956542969,
          -30.498273849487305,
          -86.0699462890625,
          63.3759651184082,
          4.172762870788574,
          -16.502368927001953,
          11.393891334533691,
          6.51796817779541,
          77.71121215820312,
          -66.47379302978516,
          -62.14133834838867,
          -123.48478698730469,
          -69.46360778808594,
          -63.56150436401367,
          5.070221424102783,
          -16.32779884338379,
          -50.825225830078125,
          0.9309591054916382,
          4.687323570251465,
          -12.786187171936035,
          24.079029083251953,
          73.84391021728516,
          -81.46562194824219,
          -47.343971252441406,
          -16.85037612915039,
          4.024148464202881,
          35.72814178466797,
          16.660810470581055,
          51.03559875488281,
          31.586095809936523,
          -107.96629333496094,
          147.63702392578125,
          34.84263610839844,
          83.17896270751953,
          -118.20549011230469,
          13.37176513671875,
          -154.054931640625,
          -78.22120666503906,
          -48.47856903076172,
          14.658252716064453,
          -72.4188461303711,
          -83.3387680053711,
          39.83521270751953,
          111.41365051269531,
          -64.28529357910156,
          -42.2203483581543,
          4.345829486846924,
          -43.72624969482422,
          -53.59981918334961,
          -104.2008285522461,
          -51.950130462646484,
          119.70580291748047,
          40.21205520629883,
          18.096839904785156,
          -3.529344081878662,
          -27.663692474365234,
          -25.10416603088379,
          140.1258087158203,
          -58.83623504638672,
          50.52590560913086,
          -42.49597930908203,
          -13.034001350402832,
          -164.26515197753906,
          132.19375610351562,
          -54.10271072387695,
          -3.8310413360595703,
          128.1055908203125,
          67.09649658203125,
          23.8604679107666,
          80.64590454101562,
          -111.90662384033203,
          -9.496145248413086,
          -30.696170806884766,
          -129.834228515625,
          18.047325134277344,
          43.949378967285156,
          -67.86559295654297,
          -38.44815444946289,
          -32.104671478271484,
          18.612428665161133,
          -0.362270712852478,
          -31.783491134643555,
          99.8098373413086,
          -78.62183380126953,
          29.675758361816406,
          -47.49138259887695,
          -0.1649385243654251,
          9.90614128112793,
          -16.832122802734375,
          52.680233001708984,
          -137.9253387451172,
          96.56373596191406,
          29.426969528198242,
          84.7944564819336,
          95.74283599853516,
          -103.50487518310547,
          49.23780059814453,
          18.284744262695312,
          -3.298053026199341,
          -31.048791885375977,
          -21.092273712158203,
          3.4739251136779785,
          26.212186813354492,
          16.4898681640625,
          -95.80731201171875,
          -42.791500091552734,
          78.2154312133789,
          86.85687255859375,
          -119.59024047851562,
          -18.49314308166504,
          -49.74024200439453,
          -25.319198608398438,
          -127.39850616455078,
          105.94493103027344,
          -54.053775787353516,
          23.06441307067871,
          -5.395650863647461,
          7.833951950073242,
          14.05086612701416,
          -90.77722930908203,
          48.807830810546875,
          45.74835205078125,
          87.45301818847656,
          64.16173553466797,
          146.5140838623047,
          -14.622635841369629,
          -165.2688446044922,
          50.829322814941406,
          83.57769775390625,
          56.5014533996582,
          132.50167846679688,
          121.2698745727539,
          0.10565778613090515,
          -60.93326950073242,
          -58.369808197021484,
          -35.44028091430664,
          44.555477142333984,
          -113.6953353881836,
          -15.37742805480957,
          -87.01686096191406,
          -39.371665954589844,
          15.077977180480957,
          1.5862711668014526,
          119.32642364501953,
          -66.56160736083984,
          -75.11109924316406,
          88.85652160644531,
          -1.4444715976715088,
          37.69099426269531,
          -128.5370330810547,
          102.06774139404297,
          132.7550811767578,
          -68.34241485595703,
          -65.4341049194336,
          69.1092300415039,
          29.295522689819336,
          -17.0137996673584,
          -57.51200485229492,
          -138.38436889648438,
          -67.32303619384766,
          -98.46890258789062,
          -10.101212501525879,
          65.4400634765625,
          14.442201614379883,
          114.1201171875,
          -115.7763900756836,
          -26.681352615356445,
          -140.0365447998047,
          145.2276153564453,
          48.07067108154297,
          -24.286479949951172,
          139.4614715576172,
          33.98115921020508,
          -104.4240493774414,
          -158.16258239746094,
          -13.207863807678223,
          -68.58855438232422,
          -27.408615112304688,
          155.23573303222656,
          -6.0498785972595215,
          -104.63997650146484,
          42.70744705200195,
          -27.797700881958008,
          61.546363830566406,
          13.813241004943848,
          -54.75408935546875,
          127.82288360595703,
          -91.49600219726562,
          -99.29739379882812,
          80.49581146240234,
          70.6306381225586,
          -34.12427520751953,
          32.12847137451172,
          -46.08720397949219,
          -63.667381286621094,
          87.374755859375,
          83.87669372558594,
          176.1209716796875,
          -139.62779235839844,
          -125.19883728027344,
          -50.08637619018555,
          -59.790672302246094,
          49.87136459350586,
          -17.231719970703125,
          -3.5754618644714355,
          37.272430419921875,
          -29.421506881713867,
          42.7706413269043,
          -0.7269470691680908,
          100.00926971435547,
          -113.58145141601562,
          -99.98003387451172,
          105.62772369384766,
          -41.03999710083008,
          -1.9187827110290527,
          138.8138885498047,
          -71.30422973632812,
          -14.862225532531738,
          39.949432373046875,
          36.83353042602539,
          -0.21622134745121002,
          72.64028930664062,
          125.54663848876953,
          -29.559526443481445,
          170.25856018066406,
          20.05061149597168,
          174.84490966796875,
          -189.14698791503906,
          67.62689208984375,
          56.999210357666016,
          -85.88082122802734,
          -86.08364868164062,
          -150.10433959960938,
          55.80485534667969,
          -66.84164428710938,
          66.87494659423828,
          35.6520881652832,
          42.43474578857422,
          72.2706298828125,
          -44.12610626220703,
          126.92725372314453,
          56.01087951660156,
          160.20315551757812,
          85.56290435791016,
          89.85977172851562,
          129.37869262695312,
          19.557260513305664,
          112.23542022705078,
          -175.72250366210938,
          -85.39844512939453,
          -112.7916030883789,
          92.38864135742188,
          -12.689270973205566,
          85.53457641601562,
          -110.10701751708984,
          109.95396423339844,
          -84.69520568847656,
          57.97454071044922,
          -138.89205932617188,
          60.095760345458984,
          69.13160705566406,
          106.56257629394531,
          125.2943115234375,
          -108.1981430053711,
          -84.10324096679688,
          -136.9320068359375,
          -107.15618133544922,
          -168.22076416015625,
          -151.70880126953125,
          79.75945281982422
         ],
         "z": [
          -29.211437225341797,
          -113.41910552978516,
          100.19180297851562,
          -67.20332336425781,
          95.71231079101562,
          114.26268768310547,
          -25.704256057739258,
          60.145118713378906,
          -84.1158447265625,
          72.29228210449219,
          9.228049278259277,
          11.224833488464355,
          -50.04818344116211,
          -76.53008270263672,
          50.01051712036133,
          29.268373489379883,
          8.90866470336914,
          -40.39457321166992,
          73.4995346069336,
          -5.404653549194336,
          -112.4040756225586,
          62.91392517089844,
          53.5044059753418,
          25.868392944335938,
          -6.356741428375244,
          -85.27717590332031,
          -0.19340196251869202,
          -10.269929885864258,
          3.395142078399658,
          -38.80791091918945,
          70.31320190429688,
          74.91356658935547,
          -27.639053344726562,
          -66.18051147460938,
          -164.16860961914062,
          22.057571411132812,
          -119.28934478759766,
          39.26422119140625,
          -31.799320220947266,
          154.5652618408203,
          -105.92530822753906,
          -75.11115264892578,
          144.3794403076172,
          -16.73737144470215,
          -84.48448181152344,
          -2.8931944370269775,
          -62.697425842285156,
          1.803705096244812,
          -57.88808822631836,
          99.32001495361328,
          4.147255897521973,
          -16.878047943115234,
          39.68508529663086,
          21.252424240112305,
          -103.37298583984375,
          54.36114501953125,
          118.68263244628906,
          60.15037536621094,
          -64.41592407226562,
          75.24423217773438,
          -100.41443634033203,
          137.3058624267578,
          -44.92277145385742,
          98.0318374633789,
          -83.35906219482422,
          44.91266632080078,
          -42.82023239135742,
          69.33078002929688,
          0.10609793663024902,
          -58.59014892578125,
          -20.013246536254883,
          -84.35295104980469,
          -14.730425834655762,
          -137.55662536621094,
          -108.65047454833984,
          28.762149810791016,
          -138.9337615966797,
          38.70027542114258,
          -69.55851745605469,
          -108.33609771728516,
          16.18365478515625,
          11.221084594726562,
          23.658037185668945,
          149.44314575195312,
          -139.99798583984375,
          -62.55556106567383,
          46.48435974121094,
          -178.99639892578125,
          -39.84248352050781,
          -1.5493282079696655,
          -42.44715881347656,
          0.06977708637714386,
          45.93810272216797,
          -15.300363540649414,
          109.06217956542969,
          -32.004112243652344,
          -47.101234436035156,
          -105.299560546875,
          -34.29401779174805,
          -147.62278747558594,
          -128.58645629882812,
          65.621826171875,
          -46.246253967285156,
          169.0170440673828,
          128.25241088867188,
          -32.80634307861328,
          52.25761413574219,
          -47.11608123779297,
          -12.786127090454102,
          34.021358489990234,
          11.983241081237793,
          -24.41994285583496,
          46.496665954589844,
          -31.17103385925293,
          8.495368957519531,
          -67.75062561035156,
          -33.091182708740234,
          -130.21084594726562,
          98.35968780517578,
          39.5808219909668,
          133.68836975097656,
          -96.97276306152344,
          13.024571418762207,
          -77.14382934570312,
          75.02711486816406,
          120.73306274414062,
          2.2074313163757324,
          44.153865814208984,
          55.44249725341797,
          -56.495662689208984,
          75.88494873046875,
          -80.95049285888672,
          -121.1530990600586,
          -107.93785858154297,
          -34.67045974731445,
          -19.250070571899414,
          26.01692008972168,
          -57.971107482910156,
          52.94229507446289,
          75.63574981689453,
          26.946298599243164,
          13.50683307647705,
          -94.33946990966797,
          11.055055618286133,
          72.297119140625,
          -11.633956909179688,
          -39.30051803588867,
          36.729034423828125,
          156.2936553955078,
          -67.13157653808594,
          -48.248443603515625,
          155.59266662597656,
          91.02182006835938,
          -97.32051086425781,
          -90.71247863769531,
          -15.147858619689941,
          36.99711990356445,
          110.631591796875,
          -19.77716064453125,
          -155.8602294921875,
          76.96762084960938,
          -73.26407623291016,
          33.635501861572266,
          122.99089813232422,
          40.3256950378418,
          91.92720794677734,
          -35.36817932128906,
          110.56230163574219,
          110.39486694335938,
          67.5863037109375,
          -3.6501150131225586,
          -2.62795090675354,
          66.78759765625,
          -89.7929458618164,
          -0.4062570333480835,
          -95.34943389892578,
          -0.20925834774971008,
          108.79740905761719,
          111.2018814086914,
          122.36770629882812,
          131.49476623535156,
          61.254093170166016,
          -22.96161460876465,
          19.856201171875,
          -74.03311920166016,
          92.92814636230469,
          67.7398452758789,
          -38.440364837646484,
          79.41288757324219,
          82.15848541259766,
          128.07057189941406,
          -52.839996337890625,
          98.83168029785156,
          33.969085693359375,
          167.6761932373047,
          -13.507733345031738,
          -49.740509033203125,
          -59.09637451171875,
          -55.69432830810547,
          -87.81515502929688,
          -146.32601928710938,
          65.58560180664062,
          -41.504905700683594,
          28.422256469726562,
          -8.929125785827637,
          -97.17504119873047,
          40.89189910888672,
          109.95870971679688,
          -39.26100158691406,
          -94.8160400390625,
          -104.68511199951172,
          -48.81962966918945,
          -19.550962448120117,
          71.28671264648438,
          -51.99291229248047,
          -142.12864685058594,
          -81.7178955078125,
          83.4435043334961,
          89.08446502685547,
          33.932804107666016,
          -93.1858139038086,
          136.48333740234375,
          -16.60757827758789,
          -138.1932373046875,
          -26.12603187561035,
          -136.12245178222656,
          -90.52034759521484,
          -94.88134002685547,
          -31.707408905029297,
          82.0274887084961,
          -116.493408203125,
          -79.25505828857422,
          21.897706985473633,
          87.97327423095703,
          32.870792388916016,
          -15.915444374084473,
          -58.3560791015625,
          -124.5843276977539,
          -102.20602416992188,
          28.615205764770508,
          -143.484619140625,
          16.36461639404297,
          7.049075126647949,
          44.51336669921875,
          0.20378167927265167,
          37.7472038269043,
          -46.664424896240234,
          76.64366149902344,
          25.587888717651367,
          34.25238037109375,
          -150.7472686767578,
          -16.004539489746094,
          -175.15689086914062,
          133.7693328857422,
          95.43502044677734,
          20.046567916870117,
          -63.5914192199707,
          -48.896827697753906,
          162.33279418945312,
          -15.195401191711426,
          65.58023834228516,
          64.42684936523438,
          93.64789581298828,
          12.64571762084961,
          76.53450012207031,
          33.05944061279297,
          30.826454162597656,
          -77.73983001708984,
          55.811851501464844,
          -1.3329145908355713,
          37.96075439453125,
          -5.0332231521606445,
          119.93128204345703,
          38.668582916259766,
          -131.82745361328125,
          -54.736846923828125,
          109.01538848876953,
          12.32295036315918,
          -131.22503662109375,
          151.844970703125,
          -5.748092174530029,
          75.53659057617188,
          -85.86567687988281,
          -45.07033920288086,
          33.086647033691406
         ]
        }
       ],
       "layout": {
        "coloraxis": {
         "colorbar": {
          "title": {
           "text": "Label"
          }
         },
         "colorscale": [
          [
           0,
           "#0d0887"
          ],
          [
           0.1111111111111111,
           "#46039f"
          ],
          [
           0.2222222222222222,
           "#7201a8"
          ],
          [
           0.3333333333333333,
           "#9c179e"
          ],
          [
           0.4444444444444444,
           "#bd3786"
          ],
          [
           0.5555555555555556,
           "#d8576b"
          ],
          [
           0.6666666666666666,
           "#ed7953"
          ],
          [
           0.7777777777777778,
           "#fb9f3a"
          ],
          [
           0.8888888888888888,
           "#fdca26"
          ],
          [
           1,
           "#f0f921"
          ]
         ]
        },
        "height": 800,
        "legend": {
         "tracegroupgap": 0
        },
        "scene": {
         "domain": {
          "x": [
           0,
           1
          ],
          "y": [
           0,
           1
          ]
         },
         "xaxis": {
          "title": {
           "text": "0"
          }
         },
         "yaxis": {
          "title": {
           "text": "1"
          }
         },
         "zaxis": {
          "title": {
           "text": "2"
          }
         }
        },
        "template": {
         "data": {
          "bar": [
           {
            "error_x": {
             "color": "#2a3f5f"
            },
            "error_y": {
             "color": "#2a3f5f"
            },
            "marker": {
             "line": {
              "color": "#E5ECF6",
              "width": 0.5
             }
            },
            "type": "bar"
           }
          ],
          "barpolar": [
           {
            "marker": {
             "line": {
              "color": "#E5ECF6",
              "width": 0.5
             }
            },
            "type": "barpolar"
           }
          ],
          "carpet": [
           {
            "aaxis": {
             "endlinecolor": "#2a3f5f",
             "gridcolor": "white",
             "linecolor": "white",
             "minorgridcolor": "white",
             "startlinecolor": "#2a3f5f"
            },
            "baxis": {
             "endlinecolor": "#2a3f5f",
             "gridcolor": "white",
             "linecolor": "white",
             "minorgridcolor": "white",
             "startlinecolor": "#2a3f5f"
            },
            "type": "carpet"
           }
          ],
          "choropleth": [
           {
            "colorbar": {
             "outlinewidth": 0,
             "ticks": ""
            },
            "type": "choropleth"
           }
          ],
          "contour": [
           {
            "colorbar": {
             "outlinewidth": 0,
             "ticks": ""
            },
            "colorscale": [
             [
              0,
              "#0d0887"
             ],
             [
              0.1111111111111111,
              "#46039f"
             ],
             [
              0.2222222222222222,
              "#7201a8"
             ],
             [
              0.3333333333333333,
              "#9c179e"
             ],
             [
              0.4444444444444444,
              "#bd3786"
             ],
             [
              0.5555555555555556,
              "#d8576b"
             ],
             [
              0.6666666666666666,
              "#ed7953"
             ],
             [
              0.7777777777777778,
              "#fb9f3a"
             ],
             [
              0.8888888888888888,
              "#fdca26"
             ],
             [
              1,
              "#f0f921"
             ]
            ],
            "type": "contour"
           }
          ],
          "contourcarpet": [
           {
            "colorbar": {
             "outlinewidth": 0,
             "ticks": ""
            },
            "type": "contourcarpet"
           }
          ],
          "heatmap": [
           {
            "colorbar": {
             "outlinewidth": 0,
             "ticks": ""
            },
            "colorscale": [
             [
              0,
              "#0d0887"
             ],
             [
              0.1111111111111111,
              "#46039f"
             ],
             [
              0.2222222222222222,
              "#7201a8"
             ],
             [
              0.3333333333333333,
              "#9c179e"
             ],
             [
              0.4444444444444444,
              "#bd3786"
             ],
             [
              0.5555555555555556,
              "#d8576b"
             ],
             [
              0.6666666666666666,
              "#ed7953"
             ],
             [
              0.7777777777777778,
              "#fb9f3a"
             ],
             [
              0.8888888888888888,
              "#fdca26"
             ],
             [
              1,
              "#f0f921"
             ]
            ],
            "type": "heatmap"
           }
          ],
          "heatmapgl": [
           {
            "colorbar": {
             "outlinewidth": 0,
             "ticks": ""
            },
            "colorscale": [
             [
              0,
              "#0d0887"
             ],
             [
              0.1111111111111111,
              "#46039f"
             ],
             [
              0.2222222222222222,
              "#7201a8"
             ],
             [
              0.3333333333333333,
              "#9c179e"
             ],
             [
              0.4444444444444444,
              "#bd3786"
             ],
             [
              0.5555555555555556,
              "#d8576b"
             ],
             [
              0.6666666666666666,
              "#ed7953"
             ],
             [
              0.7777777777777778,
              "#fb9f3a"
             ],
             [
              0.8888888888888888,
              "#fdca26"
             ],
             [
              1,
              "#f0f921"
             ]
            ],
            "type": "heatmapgl"
           }
          ],
          "histogram": [
           {
            "marker": {
             "colorbar": {
              "outlinewidth": 0,
              "ticks": ""
             }
            },
            "type": "histogram"
           }
          ],
          "histogram2d": [
           {
            "colorbar": {
             "outlinewidth": 0,
             "ticks": ""
            },
            "colorscale": [
             [
              0,
              "#0d0887"
             ],
             [
              0.1111111111111111,
              "#46039f"
             ],
             [
              0.2222222222222222,
              "#7201a8"
             ],
             [
              0.3333333333333333,
              "#9c179e"
             ],
             [
              0.4444444444444444,
              "#bd3786"
             ],
             [
              0.5555555555555556,
              "#d8576b"
             ],
             [
              0.6666666666666666,
              "#ed7953"
             ],
             [
              0.7777777777777778,
              "#fb9f3a"
             ],
             [
              0.8888888888888888,
              "#fdca26"
             ],
             [
              1,
              "#f0f921"
             ]
            ],
            "type": "histogram2d"
           }
          ],
          "histogram2dcontour": [
           {
            "colorbar": {
             "outlinewidth": 0,
             "ticks": ""
            },
            "colorscale": [
             [
              0,
              "#0d0887"
             ],
             [
              0.1111111111111111,
              "#46039f"
             ],
             [
              0.2222222222222222,
              "#7201a8"
             ],
             [
              0.3333333333333333,
              "#9c179e"
             ],
             [
              0.4444444444444444,
              "#bd3786"
             ],
             [
              0.5555555555555556,
              "#d8576b"
             ],
             [
              0.6666666666666666,
              "#ed7953"
             ],
             [
              0.7777777777777778,
              "#fb9f3a"
             ],
             [
              0.8888888888888888,
              "#fdca26"
             ],
             [
              1,
              "#f0f921"
             ]
            ],
            "type": "histogram2dcontour"
           }
          ],
          "mesh3d": [
           {
            "colorbar": {
             "outlinewidth": 0,
             "ticks": ""
            },
            "type": "mesh3d"
           }
          ],
          "parcoords": [
           {
            "line": {
             "colorbar": {
              "outlinewidth": 0,
              "ticks": ""
             }
            },
            "type": "parcoords"
           }
          ],
          "pie": [
           {
            "automargin": true,
            "type": "pie"
           }
          ],
          "scatter": [
           {
            "marker": {
             "colorbar": {
              "outlinewidth": 0,
              "ticks": ""
             }
            },
            "type": "scatter"
           }
          ],
          "scatter3d": [
           {
            "line": {
             "colorbar": {
              "outlinewidth": 0,
              "ticks": ""
             }
            },
            "marker": {
             "colorbar": {
              "outlinewidth": 0,
              "ticks": ""
             }
            },
            "type": "scatter3d"
           }
          ],
          "scattercarpet": [
           {
            "marker": {
             "colorbar": {
              "outlinewidth": 0,
              "ticks": ""
             }
            },
            "type": "scattercarpet"
           }
          ],
          "scattergeo": [
           {
            "marker": {
             "colorbar": {
              "outlinewidth": 0,
              "ticks": ""
             }
            },
            "type": "scattergeo"
           }
          ],
          "scattergl": [
           {
            "marker": {
             "colorbar": {
              "outlinewidth": 0,
              "ticks": ""
             }
            },
            "type": "scattergl"
           }
          ],
          "scattermapbox": [
           {
            "marker": {
             "colorbar": {
              "outlinewidth": 0,
              "ticks": ""
             }
            },
            "type": "scattermapbox"
           }
          ],
          "scatterpolar": [
           {
            "marker": {
             "colorbar": {
              "outlinewidth": 0,
              "ticks": ""
             }
            },
            "type": "scatterpolar"
           }
          ],
          "scatterpolargl": [
           {
            "marker": {
             "colorbar": {
              "outlinewidth": 0,
              "ticks": ""
             }
            },
            "type": "scatterpolargl"
           }
          ],
          "scatterternary": [
           {
            "marker": {
             "colorbar": {
              "outlinewidth": 0,
              "ticks": ""
             }
            },
            "type": "scatterternary"
           }
          ],
          "surface": [
           {
            "colorbar": {
             "outlinewidth": 0,
             "ticks": ""
            },
            "colorscale": [
             [
              0,
              "#0d0887"
             ],
             [
              0.1111111111111111,
              "#46039f"
             ],
             [
              0.2222222222222222,
              "#7201a8"
             ],
             [
              0.3333333333333333,
              "#9c179e"
             ],
             [
              0.4444444444444444,
              "#bd3786"
             ],
             [
              0.5555555555555556,
              "#d8576b"
             ],
             [
              0.6666666666666666,
              "#ed7953"
             ],
             [
              0.7777777777777778,
              "#fb9f3a"
             ],
             [
              0.8888888888888888,
              "#fdca26"
             ],
             [
              1,
              "#f0f921"
             ]
            ],
            "type": "surface"
           }
          ],
          "table": [
           {
            "cells": {
             "fill": {
              "color": "#EBF0F8"
             },
             "line": {
              "color": "white"
             }
            },
            "header": {
             "fill": {
              "color": "#C8D4E3"
             },
             "line": {
              "color": "white"
             }
            },
            "type": "table"
           }
          ]
         },
         "layout": {
          "annotationdefaults": {
           "arrowcolor": "#2a3f5f",
           "arrowhead": 0,
           "arrowwidth": 1
          },
          "coloraxis": {
           "colorbar": {
            "outlinewidth": 0,
            "ticks": ""
           }
          },
          "colorscale": {
           "diverging": [
            [
             0,
             "#8e0152"
            ],
            [
             0.1,
             "#c51b7d"
            ],
            [
             0.2,
             "#de77ae"
            ],
            [
             0.3,
             "#f1b6da"
            ],
            [
             0.4,
             "#fde0ef"
            ],
            [
             0.5,
             "#f7f7f7"
            ],
            [
             0.6,
             "#e6f5d0"
            ],
            [
             0.7,
             "#b8e186"
            ],
            [
             0.8,
             "#7fbc41"
            ],
            [
             0.9,
             "#4d9221"
            ],
            [
             1,
             "#276419"
            ]
           ],
           "sequential": [
            [
             0,
             "#0d0887"
            ],
            [
             0.1111111111111111,
             "#46039f"
            ],
            [
             0.2222222222222222,
             "#7201a8"
            ],
            [
             0.3333333333333333,
             "#9c179e"
            ],
            [
             0.4444444444444444,
             "#bd3786"
            ],
            [
             0.5555555555555556,
             "#d8576b"
            ],
            [
             0.6666666666666666,
             "#ed7953"
            ],
            [
             0.7777777777777778,
             "#fb9f3a"
            ],
            [
             0.8888888888888888,
             "#fdca26"
            ],
            [
             1,
             "#f0f921"
            ]
           ],
           "sequentialminus": [
            [
             0,
             "#0d0887"
            ],
            [
             0.1111111111111111,
             "#46039f"
            ],
            [
             0.2222222222222222,
             "#7201a8"
            ],
            [
             0.3333333333333333,
             "#9c179e"
            ],
            [
             0.4444444444444444,
             "#bd3786"
            ],
            [
             0.5555555555555556,
             "#d8576b"
            ],
            [
             0.6666666666666666,
             "#ed7953"
            ],
            [
             0.7777777777777778,
             "#fb9f3a"
            ],
            [
             0.8888888888888888,
             "#fdca26"
            ],
            [
             1,
             "#f0f921"
            ]
           ]
          },
          "colorway": [
           "#636efa",
           "#EF553B",
           "#00cc96",
           "#ab63fa",
           "#FFA15A",
           "#19d3f3",
           "#FF6692",
           "#B6E880",
           "#FF97FF",
           "#FECB52"
          ],
          "font": {
           "color": "#2a3f5f"
          },
          "geo": {
           "bgcolor": "white",
           "lakecolor": "white",
           "landcolor": "#E5ECF6",
           "showlakes": true,
           "showland": true,
           "subunitcolor": "white"
          },
          "hoverlabel": {
           "align": "left"
          },
          "hovermode": "closest",
          "mapbox": {
           "style": "light"
          },
          "paper_bgcolor": "white",
          "plot_bgcolor": "#E5ECF6",
          "polar": {
           "angularaxis": {
            "gridcolor": "white",
            "linecolor": "white",
            "ticks": ""
           },
           "bgcolor": "#E5ECF6",
           "radialaxis": {
            "gridcolor": "white",
            "linecolor": "white",
            "ticks": ""
           }
          },
          "scene": {
           "xaxis": {
            "backgroundcolor": "#E5ECF6",
            "gridcolor": "white",
            "gridwidth": 2,
            "linecolor": "white",
            "showbackground": true,
            "ticks": "",
            "zerolinecolor": "white"
           },
           "yaxis": {
            "backgroundcolor": "#E5ECF6",
            "gridcolor": "white",
            "gridwidth": 2,
            "linecolor": "white",
            "showbackground": true,
            "ticks": "",
            "zerolinecolor": "white"
           },
           "zaxis": {
            "backgroundcolor": "#E5ECF6",
            "gridcolor": "white",
            "gridwidth": 2,
            "linecolor": "white",
            "showbackground": true,
            "ticks": "",
            "zerolinecolor": "white"
           }
          },
          "shapedefaults": {
           "line": {
            "color": "#2a3f5f"
           }
          },
          "ternary": {
           "aaxis": {
            "gridcolor": "white",
            "linecolor": "white",
            "ticks": ""
           },
           "baxis": {
            "gridcolor": "white",
            "linecolor": "white",
            "ticks": ""
           },
           "bgcolor": "#E5ECF6",
           "caxis": {
            "gridcolor": "white",
            "linecolor": "white",
            "ticks": ""
           }
          },
          "title": {
           "x": 0.05
          },
          "xaxis": {
           "automargin": true,
           "gridcolor": "white",
           "linecolor": "white",
           "ticks": "",
           "title": {
            "standoff": 15
           },
           "zerolinecolor": "white",
           "zerolinewidth": 2
          },
          "yaxis": {
           "automargin": true,
           "gridcolor": "white",
           "linecolor": "white",
           "ticks": "",
           "title": {
            "standoff": 15
           },
           "zerolinecolor": "white",
           "zerolinewidth": 2
          }
         }
        },
        "title": {
         "text": "3d TSNE Plot for Outliers"
        },
        "width": 900
       }
      },
      "text/html": [
       "<div>\n",
       "        \n",
       "        \n",
       "            <div id=\"2df5c077-1dfa-4e8f-a624-e264a8152ba4\" class=\"plotly-graph-div\" style=\"height:800px; width:900px;\"></div>\n",
       "            <script type=\"text/javascript\">\n",
       "                require([\"plotly\"], function(Plotly) {\n",
       "                    window.PLOTLYENV=window.PLOTLYENV || {};\n",
       "                    \n",
       "                if (document.getElementById(\"2df5c077-1dfa-4e8f-a624-e264a8152ba4\")) {\n",
       "                    Plotly.newPlot(\n",
       "                        '2df5c077-1dfa-4e8f-a624-e264a8152ba4',\n",
       "                        [{\"customdata\": [[null], [\"Breast-MRI-NACT-Pilot\"], [\"Breast-MRI-NACT-Pilot\"], [\"Breast-MRI-NACT-Pilot\"], [\"Breast-MRI-NACT-Pilot\"], [\"Breast-MRI-NACT-Pilot\"], [\"Breast-MRI-NACT-Pilot\"], [\"Breast-MRI-NACT-Pilot\"], [\"Breast-MRI-NACT-Pilot\"], [\"Breast-MRI-NACT-Pilot\"], [\"Breast-MRI-NACT-Pilot\"], [\"Breast-MRI-NACT-Pilot\"], [\"Breast-MRI-NACT-Pilot\"], [\"Breast-MRI-NACT-Pilot\"], [\"Breast-MRI-NACT-Pilot\"], [\"Breast-MRI-NACT-Pilot\"], [\"Breast-MRI-NACT-Pilot\"], [\"Breast-MRI-NACT-Pilot\"], [\"Breast-MRI-NACT-Pilot\"], [\"Breast-MRI-NACT-Pilot\"], [\"Breast-MRI-NACT-Pilot\"], [\"Breast-MRI-NACT-Pilot\"], [\"Breast-MRI-NACT-Pilot\"], [\"Breast-MRI-NACT-Pilot\"], [\"Breast-MRI-NACT-Pilot\"], [\"Breast-MRI-NACT-Pilot\"], [\"Breast-MRI-NACT-Pilot\"], [\"Breast-MRI-NACT-Pilot\"], [\"Breast-MRI-NACT-Pilot\"], [\"Breast-MRI-NACT-Pilot\"], [\"Breast-MRI-NACT-Pilot\"], [\"Breast-MRI-NACT-Pilot\"], [\"Breast-MRI-NACT-Pilot\"], [\"Breast-MRI-NACT-Pilot\"], [\"Breast-MRI-NACT-Pilot\"], [\"Breast-MRI-NACT-Pilot\"], [\"Breast-MRI-NACT-Pilot\"], [\"Breast-MRI-NACT-Pilot\"], [\"Breast-MRI-NACT-Pilot\"], [\"Breast-MRI-NACT-Pilot\"], [\"Breast-MRI-NACT-Pilot\"], [\"Breast-MRI-NACT-Pilot\"], [\"Breast-MRI-NACT-Pilot\"], [\"Breast-MRI-NACT-Pilot\"], [\"Breast-MRI-NACT-Pilot\"], [\"Breast-MRI-NACT-Pilot\"], [\"Breast-MRI-NACT-Pilot\"], [\"Breast-MRI-NACT-Pilot\"], [\"Breast-MRI-NACT-Pilot\"], [\"Breast-MRI-NACT-Pilot\"], [\"Breast-MRI-NACT-Pilot\"], [\"Breast-MRI-NACT-Pilot\"], [\"Breast-MRI-NACT-Pilot\"], [\"Breast-MRI-NACT-Pilot\"], [\"Breast-MRI-NACT-Pilot\"], [\"Breast-MRI-NACT-Pilot\"], [\"Breast-MRI-NACT-Pilot\"], [\"Breast-MRI-NACT-Pilot\"], [\"Breast-MRI-NACT-Pilot\"], [\"Breast-MRI-NACT-Pilot\"], [\"Breast-MRI-NACT-Pilot\"], [\"Breast-MRI-NACT-Pilot\"], [\"Breast-MRI-NACT-Pilot\"], [\"Breast-MRI-NACT-Pilot\"], [\"Breast-MRI-NACT-Pilot\"], [\"I-Spy1\"], [\"I-Spy1\"], [\"I-Spy1\"], [\"I-Spy1\"], [\"I-Spy1\"], [\"I-Spy1\"], [\"I-Spy1\"], [\"I-Spy1\"], [\"I-Spy1\"], [\"I-Spy1\"], [\"I-Spy1\"], [\"I-Spy1\"], [\"I-Spy1\"], [\"I-Spy1\"], [\"I-Spy1\"], [\"I-Spy1\"], [\"I-Spy1\"], [\"I-Spy1\"], [\"I-Spy1\"], [\"I-Spy1\"], [\"I-Spy1\"], [\"I-Spy1\"], [\"I-Spy1\"], [\"I-Spy1\"], [\"I-Spy1\"], [\"I-Spy1\"], [\"I-Spy1\"], [\"I-Spy1\"], [\"I-Spy1\"], [\"I-Spy1\"], [\"I-Spy1\"], [\"I-Spy1\"], [\"I-Spy1\"], [\"I-Spy1\"], [\"I-Spy1\"], [\"I-Spy1\"], [\"I-Spy1\"], [\"I-Spy1\"], [\"I-Spy1\"], [\"I-Spy1\"], [\"I-Spy1\"], [\"I-Spy1\"], [\"I-Spy1\"], [\"I-Spy1\"], [\"I-Spy1\"], [\"I-Spy1\"], [\"I-Spy1\"], [\"I-Spy1\"], [\"I-Spy1\"], [\"I-Spy1\"], [\"I-Spy1\"], [\"I-Spy1\"], [\"I-Spy1\"], [\"I-Spy1\"], [\"I-Spy1\"], [\"I-Spy1\"], [\"I-Spy1\"], [\"I-Spy1\"], [\"I-Spy1\"], [\"I-Spy1\"], [\"I-Spy1\"], [\"I-Spy1\"], [\"I-Spy1\"], [\"I-Spy1\"], [\"I-Spy1\"], [\"I-Spy1\"], [\"I-Spy1\"], [\"I-Spy1\"], [\"I-Spy1\"], [\"I-Spy1\"], [\"I-Spy1\"], [\"I-Spy1\"], [\"I-Spy1\"], [\"I-Spy1\"], [\"I-Spy1\"], [\"I-Spy1\"], [\"I-Spy1\"], [\"I-Spy1\"], [\"I-Spy1\"], [\"I-Spy1\"], [\"I-Spy1\"], [\"I-Spy1\"], [\"I-Spy1\"], [\"I-Spy1\"], [\"I-Spy1\"], [\"I-Spy1\"], [\"I-Spy1\"], [\"I-Spy1\"], [\"I-Spy1\"], [\"I-Spy1\"], [\"I-Spy1\"], [\"I-Spy1\"], [\"I-Spy1\"], [\"I-Spy1\"], [\"I-Spy1\"], [\"I-Spy1\"], [\"I-Spy1\"], [\"I-Spy1\"], [\"I-Spy1\"], [\"I-Spy1\"], [\"I-Spy1\"], [\"I-Spy1\"], [\"I-Spy1\"], [\"I-Spy1\"], [\"I-Spy1\"], [\"I-Spy1\"], [\"I-Spy1\"], [\"I-Spy1\"], [\"I-Spy1\"], [\"I-Spy1\"], [\"I-Spy1\"], [\"I-Spy1\"], [\"I-Spy1\"], [\"I-Spy1\"], [\"I-Spy1\"], [\"I-Spy1\"], [\"I-Spy1\"], [\"I-Spy1\"], [\"I-Spy1\"], [\"I-Spy1\"], [\"I-Spy1\"], [\"I-Spy1\"], [\"I-Spy1\"], [\"I-Spy1\"], [\"I-Spy1\"], [\"I-Spy1\"], [\"I-Spy1\"], [\"I-Spy1\"], [\"I-Spy1\"], [\"I-Spy1\"], [\"I-Spy1\"], [\"I-Spy1\"], [\"I-Spy1\"], [\"I-Spy1\"], [\"I-Spy1\"], [\"I-Spy1\"], [\"I-Spy1\"], [\"I-Spy1\"], [\"I-Spy1\"], [\"I-Spy1\"], [\"I-Spy1\"], [\"I-Spy1\"], [\"I-Spy1\"], [\"I-Spy1\"], [\"I-Spy1\"], [\"I-Spy1\"], [\"I-Spy1\"], [\"I-Spy1\"], [\"I-Spy1\"], [\"I-Spy1\"], [\"I-Spy1\"], [\"I-Spy1\"], [\"I-Spy1\"], [\"I-Spy1\"], [\"I-Spy1\"], [\"I-Spy1\"], [\"I-Spy1\"], [\"I-Spy1\"], [\"I-Spy1\"], [\"I-Spy1\"], [\"I-Spy1\"], [\"I-Spy1\"], [\"I-Spy1\"], [\"I-Spy1\"], [\"I-Spy1\"], [\"I-Spy1\"], [\"I-Spy1\"], [\"I-Spy1\"], [\"I-Spy1\"], [\"I-Spy1\"], [\"I-Spy1\"], [\"I-Spy1\"], [\"I-Spy1\"], [\"I-Spy1\"], [\"I-Spy1\"], [\"I-Spy1\"], [\"I-Spy1\"], [\"I-Spy1\"], [\"I-Spy1\"], [\"I-Spy1\"], [\"I-Spy1\"], [\"I-Spy1\"], [\"I-Spy1\"], [\"I-Spy1\"], [\"I-Spy1\"], [\"I-Spy1\"], [\"I-Spy1\"], [\"I-Spy1\"], [\"I-Spy1\"], [\"I-Spy1\"], [\"I-Spy1\"], [\"I-Spy1\"], [\"I-Spy1\"], [\"I-Spy1\"], [\"I-Spy1\"], [\"I-Spy1\"], [\"I-Spy1\"], [\"I-Spy1\"], [\"I-Spy1\"], [\"I-Spy1\"], [\"I-Spy1\"], [\"I-Spy1\"], [\"I-Spy1\"], [\"I-Spy1\"], [\"I-Spy1\"], [\"I-Spy1\"], [\"I-Spy1\"], [\"I-Spy1\"], [\"I-Spy1\"], [\"I-Spy1\"], [\"I-Spy1\"], [\"I-Spy1\"], [\"I-Spy1\"], [\"I-Spy1\"], [\"I-Spy1\"], [\"I-Spy1\"], [\"I-Spy1\"], [\"I-Spy1\"], [\"I-Spy1\"], [\"I-Spy1\"]], \"hovertemplate\": \"0=%{x}<br>1=%{y}<br>2=%{z}<br>Feature=%{customdata[0]}<br>Label=%{marker.color}<extra></extra>\", \"legendgroup\": \"\", \"marker\": {\"color\": [null, 0.0, 0.0, 0.0, 0.0, 0.0, 0.0, 1.0, 0.0, 0.0, 0.0, 0.0, 0.0, 0.0, 0.0, 0.0, 0.0, 0.0, 0.0, 0.0, 0.0, 0.0, 0.0, 0.0, 0.0, 0.0, 0.0, 0.0, 0.0, 0.0, 0.0, 0.0, 0.0, 0.0, 0.0, 0.0, 0.0, 0.0, 0.0, 0.0, 0.0, 0.0, 0.0, 0.0, 0.0, 0.0, 0.0, 0.0, 0.0, 0.0, 0.0, 0.0, 0.0, 0.0, 0.0, 0.0, 0.0, 0.0, 0.0, 0.0, 0.0, 0.0, 0.0, 0.0, 0.0, 0.0, 0.0, 0.0, 0.0, 0.0, 0.0, 0.0, 0.0, 0.0, 0.0, 0.0, 0.0, 0.0, 0.0, 0.0, 0.0, 0.0, 0.0, 0.0, 0.0, 0.0, 0.0, 0.0, 0.0, 0.0, 0.0, 0.0, 0.0, 0.0, 0.0, 0.0, 0.0, 0.0, 0.0, 0.0, 0.0, 0.0, 0.0, 0.0, 0.0, 0.0, 0.0, 0.0, 0.0, 0.0, 0.0, 0.0, 0.0, 0.0, 0.0, 0.0, 0.0, 0.0, 0.0, 0.0, 0.0, 0.0, 0.0, 0.0, 0.0, 0.0, 0.0, 0.0, 0.0, 0.0, 0.0, 0.0, 0.0, 0.0, 0.0, 0.0, 0.0, 0.0, 0.0, 0.0, 0.0, 0.0, 0.0, 0.0, 0.0, 0.0, 0.0, 0.0, 0.0, 0.0, 0.0, 0.0, 0.0, 0.0, 0.0, 0.0, 0.0, 0.0, 0.0, 0.0, 0.0, 0.0, 0.0, 0.0, 0.0, 0.0, 0.0, 0.0, 0.0, 0.0, 0.0, 0.0, 0.0, 0.0, 0.0, 0.0, 0.0, 0.0, 0.0, 0.0, 0.0, 0.0, 0.0, 0.0, 0.0, 0.0, 0.0, 0.0, 0.0, 0.0, 0.0, 0.0, 0.0, 0.0, 0.0, 0.0, 0.0, 0.0, 0.0, 0.0, 0.0, 0.0, 0.0, 0.0, 0.0, 0.0, 0.0, 0.0, 0.0, 0.0, 0.0, 0.0, 0.0, 0.0, 0.0, 0.0, 0.0, 0.0, 0.0, 0.0, 0.0, 0.0, 0.0, 0.0, 0.0, 0.0, 0.0, 0.0, 0.0, 0.0, 0.0, 0.0, 0.0, 0.0, 0.0, 0.0, 0.0, 0.0, 0.0, 0.0, 0.0, 0.0, 0.0, 0.0, 0.0, 0.0, 0.0, 0.0, 0.0, 0.0, 0.0, 0.0, 0.0, 0.0, 0.0, 0.0, 0.0, 0.0, 0.0, 0.0, 0.0, 0.0, 0.0, 0.0, 0.0, 0.0, 0.0, 0.0, 0.0, 0.0, 0.0, 0.0, 0.0, 0.0, 0.0, 0.0, 0.0, 0.0, 0.0, 0.0, 0.0, 0.0, 0.0, 0.0, 0.0], \"coloraxis\": \"coloraxis\", \"opacity\": 0.7, \"symbol\": \"circle\"}, \"mode\": \"markers\", \"name\": \"\", \"scene\": \"scene\", \"showlegend\": false, \"type\": \"scatter3d\", \"x\": [-173.45974731445312, -56.992366790771484, -14.057389259338379, -126.3456039428711, -97.86781311035156, -76.21151733398438, -17.080562591552734, -67.4599609375, -156.4199981689453, -45.41508865356445, -19.86102294921875, 56.39305114746094, 42.48752975463867, 161.04696655273438, -156.95216369628906, 72.1824951171875, 2.4087417125701904, 113.59675598144531, -44.543968200683594, -75.98384094238281, 85.65727233886719, 149.2255859375, 59.11454772949219, -43.079410552978516, -36.45536422729492, -125.53771209716797, -114.27008056640625, 147.2972869873047, -137.05532836914062, 121.27731323242188, 109.19757080078125, 134.16058349609375, 71.61357879638672, 88.25346374511719, 53.152671813964844, -106.09735870361328, -14.005672454833984, 28.831729888916016, -94.1686019897461, -62.80931091308594, -115.48490142822266, 4.4620137214660645, 12.869122505187988, 64.67076873779297, -86.83727264404297, 27.994312286376953, -2.351276159286499, -169.74925231933594, -81.0368423461914, 17.55230712890625, 6.2649946212768555, 23.869766235351562, 145.45750427246094, -64.01469421386719, 118.81263732910156, 95.8614730834961, -32.90580749511719, -145.02601623535156, 50.370849609375, -38.90410232543945, 53.729854583740234, -104.2390365600586, -33.52393341064453, -122.41917419433594, -96.39004516601562, -107.43875122070312, -107.31986236572266, 36.25197219848633, 46.27825164794922, -25.27642822265625, 153.24862670898438, 120.5445327758789, 15.13568115234375, -15.756404876708984, -55.9969596862793, 122.25189971923828, 5.370471477508545, 13.712847709655762, -68.47853088378906, 15.102920532226562, 75.16044616699219, -113.24199676513672, -141.35348510742188, -36.67087173461914, 78.90276336669922, 83.07103729248047, -114.76104736328125, -9.722168922424316, -68.91120147705078, 150.46983337402344, -90.86016845703125, 15.341197967529297, 24.976160049438477, -59.722190856933594, -62.4028205871582, -108.10383605957031, 48.91437911987305, -53.838863372802734, 38.56327819824219, -34.85820007324219, -67.37026977539062, -264.25054931640625, -66.90164947509766, -9.373927116394043, -86.54979705810547, 60.929019927978516, -121.34846496582031, -168.60623168945312, -118.06495666503906, 102.6347427368164, 119.4893569946289, 135.39573669433594, -15.967982292175293, 19.616689682006836, -100.70307922363281, -108.17472076416016, 181.3810577392578, 77.50360870361328, -128.7764129638672, -113.86186981201172, -23.922271728515625, 56.54817581176758, 3.2706246376037598, -29.66349983215332, -150.0538787841797, -78.50071716308594, 41.05713653564453, 98.15097045898438, -13.98291015625, 141.9395751953125, 88.85318756103516, 54.379493713378906, 37.69865417480469, -5.314637660980225, -7.937089443206787, 21.514095306396484, 27.285438537597656, 86.96382141113281, -0.15937699377536774, -4.824390411376953, 155.31903076171875, 74.06462860107422, 95.9146499633789, 55.429141998291016, 127.7264404296875, -71.49600219726562, -33.94965744018555, 24.63177490234375, 76.67251586914062, 18.52487564086914, 101.6659164428711, 53.32258605957031, 117.28106689453125, -76.49446105957031, 53.577449798583984, 76.5551986694336, 111.8521957397461, -16.828081130981445, 74.44041442871094, 37.07429504394531, -87.07299041748047, -20.663618087768555, -168.1294403076172, 101.69631958007812, 39.59480285644531, 124.24164581298828, 121.253662109375, 48.448150634765625, 103.89476776123047, 80.71146392822266, 100.28273010253906, 114.10655975341797, 55.511898040771484, 48.73795700073242, 101.57608032226562, 131.40341186523438, -135.6108856201172, 60.3361930847168, 53.69303894042969, 76.66846466064453, 63.490943908691406, -20.614816665649414, 123.6488037109375, 110.15556335449219, 154.78656005859375, 69.87525939941406, -92.5997314453125, -18.082651138305664, 62.68486404418945, 54.727882385253906, 107.04463195800781, 73.93024444580078, -47.14311218261719, -56.419315338134766, 69.1146240234375, 76.92523956298828, 97.3124771118164, -65.4665756225586, 54.202945709228516, -47.40860366821289, 93.37584686279297, 82.91498565673828, -121.91277313232422, 70.83219146728516, 101.84944915771484, -108.97197723388672, 81.04171752929688, 152.34954833984375, -136.14947509765625, 97.91101837158203, 127.39556884765625, 128.75875854492188, -34.34812927246094, -99.96521759033203, 16.54806900024414, -115.74163055419922, -79.59110260009766, -101.8739013671875, -92.17913055419922, -68.49131774902344, 45.63008117675781, 33.74392318725586, -51.58774185180664, -67.05746459960938, 28.45052719116211, 7.771782398223877, 8.684405326843262, 14.83161449432373, 1.8665413856506348, 20.632680892944336, -15.59616470336914, -26.921735763549805, -30.909461975097656, -9.255656242370605, -54.295814514160156, -27.26439666748047, 13.890299797058105, 47.79851150512695, -25.64076042175293, -0.36661937832832336, -112.82845306396484, 57.37006759643555, -14.906941413879395, -87.73660278320312, -87.10043334960938, -64.83444213867188, -60.31418991088867, -16.712825775146484, 132.2985382080078, -15.81173038482666, -78.56275939941406, -124.77999877929688, 19.006351470947266, -40.92624282836914, 9.726820945739746, 43.68330001831055, -44.681453704833984, 58.825740814208984, 10.002392768859863, -58.894134521484375, 34.76438903808594, -84.87026977539062, -56.000404357910156, -71.58685302734375, 4.289822101593018, -9.27057933807373, 158.74758911132812, 14.516707420349121, 39.55586242675781, -50.57972717285156, -69.47502899169922, -89.47653198242188, 12.980484962463379, -55.624168395996094, 25.066478729248047, -133.01437377929688, 29.031715393066406, -21.868350982666016, 72.55734252929688, 14.4024076461792, -16.71980094909668, -47.68042755126953, 8.988363265991211, -29.00675392150879, -193.17491149902344], \"y\": [-19.634798049926758, -91.39533996582031, 95.15218353271484, 23.298011779785156, 92.06561279296875, -103.0125503540039, 81.32415771484375, -36.48851776123047, -17.87874412536621, 7.8090739250183105, 45.9466667175293, -62.64730453491211, 21.806198120117188, -0.959374189376831, -63.001792907714844, 43.59342956542969, -30.498273849487305, -86.0699462890625, 63.3759651184082, 4.172762870788574, -16.502368927001953, 11.393891334533691, 6.51796817779541, 77.71121215820312, -66.47379302978516, -62.14133834838867, -123.48478698730469, -69.46360778808594, -63.56150436401367, 5.070221424102783, -16.32779884338379, -50.825225830078125, 0.9309591054916382, 4.687323570251465, -12.786187171936035, 24.079029083251953, 73.84391021728516, -81.46562194824219, -47.343971252441406, -16.85037612915039, 4.024148464202881, 35.72814178466797, 16.660810470581055, 51.03559875488281, 31.586095809936523, -107.96629333496094, 147.63702392578125, 34.84263610839844, 83.17896270751953, -118.20549011230469, 13.37176513671875, -154.054931640625, -78.22120666503906, -48.47856903076172, 14.658252716064453, -72.4188461303711, -83.3387680053711, 39.83521270751953, 111.41365051269531, -64.28529357910156, -42.2203483581543, 4.345829486846924, -43.72624969482422, -53.59981918334961, -104.2008285522461, -51.950130462646484, 119.70580291748047, 40.21205520629883, 18.096839904785156, -3.529344081878662, -27.663692474365234, -25.10416603088379, 140.1258087158203, -58.83623504638672, 50.52590560913086, -42.49597930908203, -13.034001350402832, -164.26515197753906, 132.19375610351562, -54.10271072387695, -3.8310413360595703, 128.1055908203125, 67.09649658203125, 23.8604679107666, 80.64590454101562, -111.90662384033203, -9.496145248413086, -30.696170806884766, -129.834228515625, 18.047325134277344, 43.949378967285156, -67.86559295654297, -38.44815444946289, -32.104671478271484, 18.612428665161133, -0.362270712852478, -31.783491134643555, 99.8098373413086, -78.62183380126953, 29.675758361816406, -47.49138259887695, -0.1649385243654251, 9.90614128112793, -16.832122802734375, 52.680233001708984, -137.9253387451172, 96.56373596191406, 29.426969528198242, 84.7944564819336, 95.74283599853516, -103.50487518310547, 49.23780059814453, 18.284744262695312, -3.298053026199341, -31.048791885375977, -21.092273712158203, 3.4739251136779785, 26.212186813354492, 16.4898681640625, -95.80731201171875, -42.791500091552734, 78.2154312133789, 86.85687255859375, -119.59024047851562, -18.49314308166504, -49.74024200439453, -25.319198608398438, -127.39850616455078, 105.94493103027344, -54.053775787353516, 23.06441307067871, -5.395650863647461, 7.833951950073242, 14.05086612701416, -90.77722930908203, 48.807830810546875, 45.74835205078125, 87.45301818847656, 64.16173553466797, 146.5140838623047, -14.622635841369629, -165.2688446044922, 50.829322814941406, 83.57769775390625, 56.5014533996582, 132.50167846679688, 121.2698745727539, 0.10565778613090515, -60.93326950073242, -58.369808197021484, -35.44028091430664, 44.555477142333984, -113.6953353881836, -15.37742805480957, -87.01686096191406, -39.371665954589844, 15.077977180480957, 1.5862711668014526, 119.32642364501953, -66.56160736083984, -75.11109924316406, 88.85652160644531, -1.4444715976715088, 37.69099426269531, -128.5370330810547, 102.06774139404297, 132.7550811767578, -68.34241485595703, -65.4341049194336, 69.1092300415039, 29.295522689819336, -17.0137996673584, -57.51200485229492, -138.38436889648438, -67.32303619384766, -98.46890258789062, -10.101212501525879, 65.4400634765625, 14.442201614379883, 114.1201171875, -115.7763900756836, -26.681352615356445, -140.0365447998047, 145.2276153564453, 48.07067108154297, -24.286479949951172, 139.4614715576172, 33.98115921020508, -104.4240493774414, -158.16258239746094, -13.207863807678223, -68.58855438232422, -27.408615112304688, 155.23573303222656, -6.0498785972595215, -104.63997650146484, 42.70744705200195, -27.797700881958008, 61.546363830566406, 13.813241004943848, -54.75408935546875, 127.82288360595703, -91.49600219726562, -99.29739379882812, 80.49581146240234, 70.6306381225586, -34.12427520751953, 32.12847137451172, -46.08720397949219, -63.667381286621094, 87.374755859375, 83.87669372558594, 176.1209716796875, -139.62779235839844, -125.19883728027344, -50.08637619018555, -59.790672302246094, 49.87136459350586, -17.231719970703125, -3.5754618644714355, 37.272430419921875, -29.421506881713867, 42.7706413269043, -0.7269470691680908, 100.00926971435547, -113.58145141601562, -99.98003387451172, 105.62772369384766, -41.03999710083008, -1.9187827110290527, 138.8138885498047, -71.30422973632812, -14.862225532531738, 39.949432373046875, 36.83353042602539, -0.21622134745121002, 72.64028930664062, 125.54663848876953, -29.559526443481445, 170.25856018066406, 20.05061149597168, 174.84490966796875, -189.14698791503906, 67.62689208984375, 56.999210357666016, -85.88082122802734, -86.08364868164062, -150.10433959960938, 55.80485534667969, -66.84164428710938, 66.87494659423828, 35.6520881652832, 42.43474578857422, 72.2706298828125, -44.12610626220703, 126.92725372314453, 56.01087951660156, 160.20315551757812, 85.56290435791016, 89.85977172851562, 129.37869262695312, 19.557260513305664, 112.23542022705078, -175.72250366210938, -85.39844512939453, -112.7916030883789, 92.38864135742188, -12.689270973205566, 85.53457641601562, -110.10701751708984, 109.95396423339844, -84.69520568847656, 57.97454071044922, -138.89205932617188, 60.095760345458984, 69.13160705566406, 106.56257629394531, 125.2943115234375, -108.1981430053711, -84.10324096679688, -136.9320068359375, -107.15618133544922, -168.22076416015625, -151.70880126953125, 79.75945281982422], \"z\": [-29.211437225341797, -113.41910552978516, 100.19180297851562, -67.20332336425781, 95.71231079101562, 114.26268768310547, -25.704256057739258, 60.145118713378906, -84.1158447265625, 72.29228210449219, 9.228049278259277, 11.224833488464355, -50.04818344116211, -76.53008270263672, 50.01051712036133, 29.268373489379883, 8.90866470336914, -40.39457321166992, 73.4995346069336, -5.404653549194336, -112.4040756225586, 62.91392517089844, 53.5044059753418, 25.868392944335938, -6.356741428375244, -85.27717590332031, -0.19340196251869202, -10.269929885864258, 3.395142078399658, -38.80791091918945, 70.31320190429688, 74.91356658935547, -27.639053344726562, -66.18051147460938, -164.16860961914062, 22.057571411132812, -119.28934478759766, 39.26422119140625, -31.799320220947266, 154.5652618408203, -105.92530822753906, -75.11115264892578, 144.3794403076172, -16.73737144470215, -84.48448181152344, -2.8931944370269775, -62.697425842285156, 1.803705096244812, -57.88808822631836, 99.32001495361328, 4.147255897521973, -16.878047943115234, 39.68508529663086, 21.252424240112305, -103.37298583984375, 54.36114501953125, 118.68263244628906, 60.15037536621094, -64.41592407226562, 75.24423217773438, -100.41443634033203, 137.3058624267578, -44.92277145385742, 98.0318374633789, -83.35906219482422, 44.91266632080078, -42.82023239135742, 69.33078002929688, 0.10609793663024902, -58.59014892578125, -20.013246536254883, -84.35295104980469, -14.730425834655762, -137.55662536621094, -108.65047454833984, 28.762149810791016, -138.9337615966797, 38.70027542114258, -69.55851745605469, -108.33609771728516, 16.18365478515625, 11.221084594726562, 23.658037185668945, 149.44314575195312, -139.99798583984375, -62.55556106567383, 46.48435974121094, -178.99639892578125, -39.84248352050781, -1.5493282079696655, -42.44715881347656, 0.06977708637714386, 45.93810272216797, -15.300363540649414, 109.06217956542969, -32.004112243652344, -47.101234436035156, -105.299560546875, -34.29401779174805, -147.62278747558594, -128.58645629882812, 65.621826171875, -46.246253967285156, 169.0170440673828, 128.25241088867188, -32.80634307861328, 52.25761413574219, -47.11608123779297, -12.786127090454102, 34.021358489990234, 11.983241081237793, -24.41994285583496, 46.496665954589844, -31.17103385925293, 8.495368957519531, -67.75062561035156, -33.091182708740234, -130.21084594726562, 98.35968780517578, 39.5808219909668, 133.68836975097656, -96.97276306152344, 13.024571418762207, -77.14382934570312, 75.02711486816406, 120.73306274414062, 2.2074313163757324, 44.153865814208984, 55.44249725341797, -56.495662689208984, 75.88494873046875, -80.95049285888672, -121.1530990600586, -107.93785858154297, -34.67045974731445, -19.250070571899414, 26.01692008972168, -57.971107482910156, 52.94229507446289, 75.63574981689453, 26.946298599243164, 13.50683307647705, -94.33946990966797, 11.055055618286133, 72.297119140625, -11.633956909179688, -39.30051803588867, 36.729034423828125, 156.2936553955078, -67.13157653808594, -48.248443603515625, 155.59266662597656, 91.02182006835938, -97.32051086425781, -90.71247863769531, -15.147858619689941, 36.99711990356445, 110.631591796875, -19.77716064453125, -155.8602294921875, 76.96762084960938, -73.26407623291016, 33.635501861572266, 122.99089813232422, 40.3256950378418, 91.92720794677734, -35.36817932128906, 110.56230163574219, 110.39486694335938, 67.5863037109375, -3.6501150131225586, -2.62795090675354, 66.78759765625, -89.7929458618164, -0.4062570333480835, -95.34943389892578, -0.20925834774971008, 108.79740905761719, 111.2018814086914, 122.36770629882812, 131.49476623535156, 61.254093170166016, -22.96161460876465, 19.856201171875, -74.03311920166016, 92.92814636230469, 67.7398452758789, -38.440364837646484, 79.41288757324219, 82.15848541259766, 128.07057189941406, -52.839996337890625, 98.83168029785156, 33.969085693359375, 167.6761932373047, -13.507733345031738, -49.740509033203125, -59.09637451171875, -55.69432830810547, -87.81515502929688, -146.32601928710938, 65.58560180664062, -41.504905700683594, 28.422256469726562, -8.929125785827637, -97.17504119873047, 40.89189910888672, 109.95870971679688, -39.26100158691406, -94.8160400390625, -104.68511199951172, -48.81962966918945, -19.550962448120117, 71.28671264648438, -51.99291229248047, -142.12864685058594, -81.7178955078125, 83.4435043334961, 89.08446502685547, 33.932804107666016, -93.1858139038086, 136.48333740234375, -16.60757827758789, -138.1932373046875, -26.12603187561035, -136.12245178222656, -90.52034759521484, -94.88134002685547, -31.707408905029297, 82.0274887084961, -116.493408203125, -79.25505828857422, 21.897706985473633, 87.97327423095703, 32.870792388916016, -15.915444374084473, -58.3560791015625, -124.5843276977539, -102.20602416992188, 28.615205764770508, -143.484619140625, 16.36461639404297, 7.049075126647949, 44.51336669921875, 0.20378167927265167, 37.7472038269043, -46.664424896240234, 76.64366149902344, 25.587888717651367, 34.25238037109375, -150.7472686767578, -16.004539489746094, -175.15689086914062, 133.7693328857422, 95.43502044677734, 20.046567916870117, -63.5914192199707, -48.896827697753906, 162.33279418945312, -15.195401191711426, 65.58023834228516, 64.42684936523438, 93.64789581298828, 12.64571762084961, 76.53450012207031, 33.05944061279297, 30.826454162597656, -77.73983001708984, 55.811851501464844, -1.3329145908355713, 37.96075439453125, -5.0332231521606445, 119.93128204345703, 38.668582916259766, -131.82745361328125, -54.736846923828125, 109.01538848876953, 12.32295036315918, -131.22503662109375, 151.844970703125, -5.748092174530029, 75.53659057617188, -85.86567687988281, -45.07033920288086, 33.086647033691406]}],\n",
       "                        {\"coloraxis\": {\"colorbar\": {\"title\": {\"text\": \"Label\"}}, \"colorscale\": [[0.0, \"#0d0887\"], [0.1111111111111111, \"#46039f\"], [0.2222222222222222, \"#7201a8\"], [0.3333333333333333, \"#9c179e\"], [0.4444444444444444, \"#bd3786\"], [0.5555555555555556, \"#d8576b\"], [0.6666666666666666, \"#ed7953\"], [0.7777777777777778, \"#fb9f3a\"], [0.8888888888888888, \"#fdca26\"], [1.0, \"#f0f921\"]]}, \"height\": 800, \"legend\": {\"tracegroupgap\": 0}, \"scene\": {\"domain\": {\"x\": [0.0, 1.0], \"y\": [0.0, 1.0]}, \"xaxis\": {\"title\": {\"text\": \"0\"}}, \"yaxis\": {\"title\": {\"text\": \"1\"}}, \"zaxis\": {\"title\": {\"text\": \"2\"}}}, \"template\": {\"data\": {\"bar\": [{\"error_x\": {\"color\": \"#2a3f5f\"}, \"error_y\": {\"color\": \"#2a3f5f\"}, \"marker\": {\"line\": {\"color\": \"#E5ECF6\", \"width\": 0.5}}, \"type\": \"bar\"}], \"barpolar\": [{\"marker\": {\"line\": {\"color\": \"#E5ECF6\", \"width\": 0.5}}, \"type\": \"barpolar\"}], \"carpet\": [{\"aaxis\": {\"endlinecolor\": \"#2a3f5f\", \"gridcolor\": \"white\", \"linecolor\": \"white\", \"minorgridcolor\": \"white\", \"startlinecolor\": \"#2a3f5f\"}, \"baxis\": {\"endlinecolor\": \"#2a3f5f\", \"gridcolor\": \"white\", \"linecolor\": \"white\", \"minorgridcolor\": \"white\", \"startlinecolor\": \"#2a3f5f\"}, \"type\": \"carpet\"}], \"choropleth\": [{\"colorbar\": {\"outlinewidth\": 0, \"ticks\": \"\"}, \"type\": \"choropleth\"}], \"contour\": [{\"colorbar\": {\"outlinewidth\": 0, \"ticks\": \"\"}, \"colorscale\": [[0.0, \"#0d0887\"], [0.1111111111111111, \"#46039f\"], [0.2222222222222222, \"#7201a8\"], [0.3333333333333333, \"#9c179e\"], [0.4444444444444444, \"#bd3786\"], [0.5555555555555556, \"#d8576b\"], [0.6666666666666666, \"#ed7953\"], [0.7777777777777778, \"#fb9f3a\"], [0.8888888888888888, \"#fdca26\"], [1.0, \"#f0f921\"]], \"type\": \"contour\"}], \"contourcarpet\": [{\"colorbar\": {\"outlinewidth\": 0, \"ticks\": \"\"}, \"type\": \"contourcarpet\"}], \"heatmap\": [{\"colorbar\": {\"outlinewidth\": 0, \"ticks\": \"\"}, \"colorscale\": [[0.0, \"#0d0887\"], [0.1111111111111111, \"#46039f\"], [0.2222222222222222, \"#7201a8\"], [0.3333333333333333, \"#9c179e\"], [0.4444444444444444, \"#bd3786\"], [0.5555555555555556, \"#d8576b\"], [0.6666666666666666, \"#ed7953\"], [0.7777777777777778, \"#fb9f3a\"], [0.8888888888888888, \"#fdca26\"], [1.0, \"#f0f921\"]], \"type\": \"heatmap\"}], \"heatmapgl\": [{\"colorbar\": {\"outlinewidth\": 0, \"ticks\": \"\"}, \"colorscale\": [[0.0, \"#0d0887\"], [0.1111111111111111, \"#46039f\"], [0.2222222222222222, \"#7201a8\"], [0.3333333333333333, \"#9c179e\"], [0.4444444444444444, \"#bd3786\"], [0.5555555555555556, \"#d8576b\"], [0.6666666666666666, \"#ed7953\"], [0.7777777777777778, \"#fb9f3a\"], [0.8888888888888888, \"#fdca26\"], [1.0, \"#f0f921\"]], \"type\": \"heatmapgl\"}], \"histogram\": [{\"marker\": {\"colorbar\": {\"outlinewidth\": 0, \"ticks\": \"\"}}, \"type\": \"histogram\"}], \"histogram2d\": [{\"colorbar\": {\"outlinewidth\": 0, \"ticks\": \"\"}, \"colorscale\": [[0.0, \"#0d0887\"], [0.1111111111111111, \"#46039f\"], [0.2222222222222222, \"#7201a8\"], [0.3333333333333333, \"#9c179e\"], [0.4444444444444444, \"#bd3786\"], [0.5555555555555556, \"#d8576b\"], [0.6666666666666666, \"#ed7953\"], [0.7777777777777778, \"#fb9f3a\"], [0.8888888888888888, \"#fdca26\"], [1.0, \"#f0f921\"]], \"type\": \"histogram2d\"}], \"histogram2dcontour\": [{\"colorbar\": {\"outlinewidth\": 0, \"ticks\": \"\"}, \"colorscale\": [[0.0, \"#0d0887\"], [0.1111111111111111, \"#46039f\"], [0.2222222222222222, \"#7201a8\"], [0.3333333333333333, \"#9c179e\"], [0.4444444444444444, \"#bd3786\"], [0.5555555555555556, \"#d8576b\"], [0.6666666666666666, \"#ed7953\"], [0.7777777777777778, \"#fb9f3a\"], [0.8888888888888888, \"#fdca26\"], [1.0, \"#f0f921\"]], \"type\": \"histogram2dcontour\"}], \"mesh3d\": [{\"colorbar\": {\"outlinewidth\": 0, \"ticks\": \"\"}, \"type\": \"mesh3d\"}], \"parcoords\": [{\"line\": {\"colorbar\": {\"outlinewidth\": 0, \"ticks\": \"\"}}, \"type\": \"parcoords\"}], \"pie\": [{\"automargin\": true, \"type\": \"pie\"}], \"scatter\": [{\"marker\": {\"colorbar\": {\"outlinewidth\": 0, \"ticks\": \"\"}}, \"type\": \"scatter\"}], \"scatter3d\": [{\"line\": {\"colorbar\": {\"outlinewidth\": 0, \"ticks\": \"\"}}, \"marker\": {\"colorbar\": {\"outlinewidth\": 0, \"ticks\": \"\"}}, \"type\": \"scatter3d\"}], \"scattercarpet\": [{\"marker\": {\"colorbar\": {\"outlinewidth\": 0, \"ticks\": \"\"}}, \"type\": \"scattercarpet\"}], \"scattergeo\": [{\"marker\": {\"colorbar\": {\"outlinewidth\": 0, \"ticks\": \"\"}}, \"type\": \"scattergeo\"}], \"scattergl\": [{\"marker\": {\"colorbar\": {\"outlinewidth\": 0, \"ticks\": \"\"}}, \"type\": \"scattergl\"}], \"scattermapbox\": [{\"marker\": {\"colorbar\": {\"outlinewidth\": 0, \"ticks\": \"\"}}, \"type\": \"scattermapbox\"}], \"scatterpolar\": [{\"marker\": {\"colorbar\": {\"outlinewidth\": 0, \"ticks\": \"\"}}, \"type\": \"scatterpolar\"}], \"scatterpolargl\": [{\"marker\": {\"colorbar\": {\"outlinewidth\": 0, \"ticks\": \"\"}}, \"type\": \"scatterpolargl\"}], \"scatterternary\": [{\"marker\": {\"colorbar\": {\"outlinewidth\": 0, \"ticks\": \"\"}}, \"type\": \"scatterternary\"}], \"surface\": [{\"colorbar\": {\"outlinewidth\": 0, \"ticks\": \"\"}, \"colorscale\": [[0.0, \"#0d0887\"], [0.1111111111111111, \"#46039f\"], [0.2222222222222222, \"#7201a8\"], [0.3333333333333333, \"#9c179e\"], [0.4444444444444444, \"#bd3786\"], [0.5555555555555556, \"#d8576b\"], [0.6666666666666666, \"#ed7953\"], [0.7777777777777778, \"#fb9f3a\"], [0.8888888888888888, \"#fdca26\"], [1.0, \"#f0f921\"]], \"type\": \"surface\"}], \"table\": [{\"cells\": {\"fill\": {\"color\": \"#EBF0F8\"}, \"line\": {\"color\": \"white\"}}, \"header\": {\"fill\": {\"color\": \"#C8D4E3\"}, \"line\": {\"color\": \"white\"}}, \"type\": \"table\"}]}, \"layout\": {\"annotationdefaults\": {\"arrowcolor\": \"#2a3f5f\", \"arrowhead\": 0, \"arrowwidth\": 1}, \"coloraxis\": {\"colorbar\": {\"outlinewidth\": 0, \"ticks\": \"\"}}, \"colorscale\": {\"diverging\": [[0, \"#8e0152\"], [0.1, \"#c51b7d\"], [0.2, \"#de77ae\"], [0.3, \"#f1b6da\"], [0.4, \"#fde0ef\"], [0.5, \"#f7f7f7\"], [0.6, \"#e6f5d0\"], [0.7, \"#b8e186\"], [0.8, \"#7fbc41\"], [0.9, \"#4d9221\"], [1, \"#276419\"]], \"sequential\": [[0.0, \"#0d0887\"], [0.1111111111111111, \"#46039f\"], [0.2222222222222222, \"#7201a8\"], [0.3333333333333333, \"#9c179e\"], [0.4444444444444444, \"#bd3786\"], [0.5555555555555556, \"#d8576b\"], [0.6666666666666666, \"#ed7953\"], [0.7777777777777778, \"#fb9f3a\"], [0.8888888888888888, \"#fdca26\"], [1.0, \"#f0f921\"]], \"sequentialminus\": [[0.0, \"#0d0887\"], [0.1111111111111111, \"#46039f\"], [0.2222222222222222, \"#7201a8\"], [0.3333333333333333, \"#9c179e\"], [0.4444444444444444, \"#bd3786\"], [0.5555555555555556, \"#d8576b\"], [0.6666666666666666, \"#ed7953\"], [0.7777777777777778, \"#fb9f3a\"], [0.8888888888888888, \"#fdca26\"], [1.0, \"#f0f921\"]]}, \"colorway\": [\"#636efa\", \"#EF553B\", \"#00cc96\", \"#ab63fa\", \"#FFA15A\", \"#19d3f3\", \"#FF6692\", \"#B6E880\", \"#FF97FF\", \"#FECB52\"], \"font\": {\"color\": \"#2a3f5f\"}, \"geo\": {\"bgcolor\": \"white\", \"lakecolor\": \"white\", \"landcolor\": \"#E5ECF6\", \"showlakes\": true, \"showland\": true, \"subunitcolor\": \"white\"}, \"hoverlabel\": {\"align\": \"left\"}, \"hovermode\": \"closest\", \"mapbox\": {\"style\": \"light\"}, \"paper_bgcolor\": \"white\", \"plot_bgcolor\": \"#E5ECF6\", \"polar\": {\"angularaxis\": {\"gridcolor\": \"white\", \"linecolor\": \"white\", \"ticks\": \"\"}, \"bgcolor\": \"#E5ECF6\", \"radialaxis\": {\"gridcolor\": \"white\", \"linecolor\": \"white\", \"ticks\": \"\"}}, \"scene\": {\"xaxis\": {\"backgroundcolor\": \"#E5ECF6\", \"gridcolor\": \"white\", \"gridwidth\": 2, \"linecolor\": \"white\", \"showbackground\": true, \"ticks\": \"\", \"zerolinecolor\": \"white\"}, \"yaxis\": {\"backgroundcolor\": \"#E5ECF6\", \"gridcolor\": \"white\", \"gridwidth\": 2, \"linecolor\": \"white\", \"showbackground\": true, \"ticks\": \"\", \"zerolinecolor\": \"white\"}, \"zaxis\": {\"backgroundcolor\": \"#E5ECF6\", \"gridcolor\": \"white\", \"gridwidth\": 2, \"linecolor\": \"white\", \"showbackground\": true, \"ticks\": \"\", \"zerolinecolor\": \"white\"}}, \"shapedefaults\": {\"line\": {\"color\": \"#2a3f5f\"}}, \"ternary\": {\"aaxis\": {\"gridcolor\": \"white\", \"linecolor\": \"white\", \"ticks\": \"\"}, \"baxis\": {\"gridcolor\": \"white\", \"linecolor\": \"white\", \"ticks\": \"\"}, \"bgcolor\": \"#E5ECF6\", \"caxis\": {\"gridcolor\": \"white\", \"linecolor\": \"white\", \"ticks\": \"\"}}, \"title\": {\"x\": 0.05}, \"xaxis\": {\"automargin\": true, \"gridcolor\": \"white\", \"linecolor\": \"white\", \"ticks\": \"\", \"title\": {\"standoff\": 15}, \"zerolinecolor\": \"white\", \"zerolinewidth\": 2}, \"yaxis\": {\"automargin\": true, \"gridcolor\": \"white\", \"linecolor\": \"white\", \"ticks\": \"\", \"title\": {\"standoff\": 15}, \"zerolinecolor\": \"white\", \"zerolinewidth\": 2}}}, \"title\": {\"text\": \"3d TSNE Plot for Outliers\"}, \"width\": 900},\n",
       "                        {\"responsive\": true}\n",
       "                    ).then(function(){\n",
       "                            \n",
       "var gd = document.getElementById('2df5c077-1dfa-4e8f-a624-e264a8152ba4');\n",
       "var x = new MutationObserver(function (mutations, observer) {{\n",
       "        var display = window.getComputedStyle(gd).display;\n",
       "        if (!display || display === 'none') {{\n",
       "            console.log([gd, 'removed!']);\n",
       "            Plotly.purge(gd);\n",
       "            observer.disconnect();\n",
       "        }}\n",
       "}});\n",
       "\n",
       "// Listen for the removal of the full notebook cells\n",
       "var notebookContainer = gd.closest('#notebook-container');\n",
       "if (notebookContainer) {{\n",
       "    x.observe(notebookContainer, {childList: true});\n",
       "}}\n",
       "\n",
       "// Listen for the clearing of the current output cell\n",
       "var outputEl = gd.closest('.output');\n",
       "if (outputEl) {{\n",
       "    x.observe(outputEl, {childList: true});\n",
       "}}\n",
       "\n",
       "                        })\n",
       "                };\n",
       "                });\n",
       "            </script>\n",
       "        </div>"
      ]
     },
     "metadata": {},
     "output_type": "display_data"
    }
   ],
   "source": [
    "plot_model(svm)"
   ]
  },
  {
   "cell_type": "code",
   "execution_count": 14,
   "metadata": {},
   "outputs": [
    {
     "data": {
      "text/html": [
       "        <script type=\"text/javascript\">\n",
       "        window.PlotlyConfig = {MathJaxConfig: 'local'};\n",
       "        if (window.MathJax) {MathJax.Hub.Config({SVG: {font: \"STIX-Web\"}});}\n",
       "        if (typeof require !== 'undefined') {\n",
       "        require.undef(\"plotly\");\n",
       "        requirejs.config({\n",
       "            paths: {\n",
       "                'plotly': ['https://cdn.plot.ly/plotly-latest.min']\n",
       "            }\n",
       "        });\n",
       "        require(['plotly'], function(Plotly) {\n",
       "            window._Plotly = Plotly;\n",
       "        });\n",
       "        }\n",
       "        </script>\n",
       "        "
      ]
     },
     "metadata": {},
     "output_type": "display_data"
    },
    {
     "data": {
      "application/vnd.plotly.v1+json": {
       "config": {
        "plotlyServerURL": "https://plot.ly"
       },
       "data": [
        {
         "customdata": [
          [
           null
          ],
          [
           "Breast-MRI-NACT-Pilot"
          ],
          [
           "Breast-MRI-NACT-Pilot"
          ],
          [
           "Breast-MRI-NACT-Pilot"
          ],
          [
           "Breast-MRI-NACT-Pilot"
          ],
          [
           "Breast-MRI-NACT-Pilot"
          ],
          [
           "Breast-MRI-NACT-Pilot"
          ],
          [
           "Breast-MRI-NACT-Pilot"
          ],
          [
           "Breast-MRI-NACT-Pilot"
          ],
          [
           "Breast-MRI-NACT-Pilot"
          ],
          [
           "Breast-MRI-NACT-Pilot"
          ],
          [
           "Breast-MRI-NACT-Pilot"
          ],
          [
           "Breast-MRI-NACT-Pilot"
          ],
          [
           "Breast-MRI-NACT-Pilot"
          ],
          [
           "Breast-MRI-NACT-Pilot"
          ],
          [
           "Breast-MRI-NACT-Pilot"
          ],
          [
           "Breast-MRI-NACT-Pilot"
          ],
          [
           "Breast-MRI-NACT-Pilot"
          ],
          [
           "Breast-MRI-NACT-Pilot"
          ],
          [
           "Breast-MRI-NACT-Pilot"
          ],
          [
           "Breast-MRI-NACT-Pilot"
          ],
          [
           "Breast-MRI-NACT-Pilot"
          ],
          [
           "Breast-MRI-NACT-Pilot"
          ],
          [
           "Breast-MRI-NACT-Pilot"
          ],
          [
           "Breast-MRI-NACT-Pilot"
          ],
          [
           "Breast-MRI-NACT-Pilot"
          ],
          [
           "Breast-MRI-NACT-Pilot"
          ],
          [
           "Breast-MRI-NACT-Pilot"
          ],
          [
           "Breast-MRI-NACT-Pilot"
          ],
          [
           "Breast-MRI-NACT-Pilot"
          ],
          [
           "Breast-MRI-NACT-Pilot"
          ],
          [
           "Breast-MRI-NACT-Pilot"
          ],
          [
           "Breast-MRI-NACT-Pilot"
          ],
          [
           "Breast-MRI-NACT-Pilot"
          ],
          [
           "Breast-MRI-NACT-Pilot"
          ],
          [
           "Breast-MRI-NACT-Pilot"
          ],
          [
           "Breast-MRI-NACT-Pilot"
          ],
          [
           "Breast-MRI-NACT-Pilot"
          ],
          [
           "Breast-MRI-NACT-Pilot"
          ],
          [
           "Breast-MRI-NACT-Pilot"
          ],
          [
           "Breast-MRI-NACT-Pilot"
          ],
          [
           "Breast-MRI-NACT-Pilot"
          ],
          [
           "Breast-MRI-NACT-Pilot"
          ],
          [
           "Breast-MRI-NACT-Pilot"
          ],
          [
           "Breast-MRI-NACT-Pilot"
          ],
          [
           "Breast-MRI-NACT-Pilot"
          ],
          [
           "Breast-MRI-NACT-Pilot"
          ],
          [
           "Breast-MRI-NACT-Pilot"
          ],
          [
           "Breast-MRI-NACT-Pilot"
          ],
          [
           "Breast-MRI-NACT-Pilot"
          ],
          [
           "Breast-MRI-NACT-Pilot"
          ],
          [
           "Breast-MRI-NACT-Pilot"
          ],
          [
           "Breast-MRI-NACT-Pilot"
          ],
          [
           "Breast-MRI-NACT-Pilot"
          ],
          [
           "Breast-MRI-NACT-Pilot"
          ],
          [
           "Breast-MRI-NACT-Pilot"
          ],
          [
           "Breast-MRI-NACT-Pilot"
          ],
          [
           "Breast-MRI-NACT-Pilot"
          ],
          [
           "Breast-MRI-NACT-Pilot"
          ],
          [
           "Breast-MRI-NACT-Pilot"
          ],
          [
           "Breast-MRI-NACT-Pilot"
          ],
          [
           "Breast-MRI-NACT-Pilot"
          ],
          [
           "Breast-MRI-NACT-Pilot"
          ],
          [
           "Breast-MRI-NACT-Pilot"
          ],
          [
           "Breast-MRI-NACT-Pilot"
          ],
          [
           "I-Spy1"
          ],
          [
           "I-Spy1"
          ],
          [
           "I-Spy1"
          ],
          [
           "I-Spy1"
          ],
          [
           "I-Spy1"
          ],
          [
           "I-Spy1"
          ],
          [
           "I-Spy1"
          ],
          [
           "I-Spy1"
          ],
          [
           "I-Spy1"
          ],
          [
           "I-Spy1"
          ],
          [
           "I-Spy1"
          ],
          [
           "I-Spy1"
          ],
          [
           "I-Spy1"
          ],
          [
           "I-Spy1"
          ],
          [
           "I-Spy1"
          ],
          [
           "I-Spy1"
          ],
          [
           "I-Spy1"
          ],
          [
           "I-Spy1"
          ],
          [
           "I-Spy1"
          ],
          [
           "I-Spy1"
          ],
          [
           "I-Spy1"
          ],
          [
           "I-Spy1"
          ],
          [
           "I-Spy1"
          ],
          [
           "I-Spy1"
          ],
          [
           "I-Spy1"
          ],
          [
           "I-Spy1"
          ],
          [
           "I-Spy1"
          ],
          [
           "I-Spy1"
          ],
          [
           "I-Spy1"
          ],
          [
           "I-Spy1"
          ],
          [
           "I-Spy1"
          ],
          [
           "I-Spy1"
          ],
          [
           "I-Spy1"
          ],
          [
           "I-Spy1"
          ],
          [
           "I-Spy1"
          ],
          [
           "I-Spy1"
          ],
          [
           "I-Spy1"
          ],
          [
           "I-Spy1"
          ],
          [
           "I-Spy1"
          ],
          [
           "I-Spy1"
          ],
          [
           "I-Spy1"
          ],
          [
           "I-Spy1"
          ],
          [
           "I-Spy1"
          ],
          [
           "I-Spy1"
          ],
          [
           "I-Spy1"
          ],
          [
           "I-Spy1"
          ],
          [
           "I-Spy1"
          ],
          [
           "I-Spy1"
          ],
          [
           "I-Spy1"
          ],
          [
           "I-Spy1"
          ],
          [
           "I-Spy1"
          ],
          [
           "I-Spy1"
          ],
          [
           "I-Spy1"
          ],
          [
           "I-Spy1"
          ],
          [
           "I-Spy1"
          ],
          [
           "I-Spy1"
          ],
          [
           "I-Spy1"
          ],
          [
           "I-Spy1"
          ],
          [
           "I-Spy1"
          ],
          [
           "I-Spy1"
          ],
          [
           "I-Spy1"
          ],
          [
           "I-Spy1"
          ],
          [
           "I-Spy1"
          ],
          [
           "I-Spy1"
          ],
          [
           "I-Spy1"
          ],
          [
           "I-Spy1"
          ],
          [
           "I-Spy1"
          ],
          [
           "I-Spy1"
          ],
          [
           "I-Spy1"
          ],
          [
           "I-Spy1"
          ],
          [
           "I-Spy1"
          ],
          [
           "I-Spy1"
          ],
          [
           "I-Spy1"
          ],
          [
           "I-Spy1"
          ],
          [
           "I-Spy1"
          ],
          [
           "I-Spy1"
          ],
          [
           "I-Spy1"
          ],
          [
           "I-Spy1"
          ],
          [
           "I-Spy1"
          ],
          [
           "I-Spy1"
          ],
          [
           "I-Spy1"
          ],
          [
           "I-Spy1"
          ],
          [
           "I-Spy1"
          ],
          [
           "I-Spy1"
          ],
          [
           "I-Spy1"
          ],
          [
           "I-Spy1"
          ],
          [
           "I-Spy1"
          ],
          [
           "I-Spy1"
          ],
          [
           "I-Spy1"
          ],
          [
           "I-Spy1"
          ],
          [
           "I-Spy1"
          ],
          [
           "I-Spy1"
          ],
          [
           "I-Spy1"
          ],
          [
           "I-Spy1"
          ],
          [
           "I-Spy1"
          ],
          [
           "I-Spy1"
          ],
          [
           "I-Spy1"
          ],
          [
           "I-Spy1"
          ],
          [
           "I-Spy1"
          ],
          [
           "I-Spy1"
          ],
          [
           "I-Spy1"
          ],
          [
           "I-Spy1"
          ],
          [
           "I-Spy1"
          ],
          [
           "I-Spy1"
          ],
          [
           "I-Spy1"
          ],
          [
           "I-Spy1"
          ],
          [
           "I-Spy1"
          ],
          [
           "I-Spy1"
          ],
          [
           "I-Spy1"
          ],
          [
           "I-Spy1"
          ],
          [
           "I-Spy1"
          ],
          [
           "I-Spy1"
          ],
          [
           "I-Spy1"
          ],
          [
           "I-Spy1"
          ],
          [
           "I-Spy1"
          ],
          [
           "I-Spy1"
          ],
          [
           "I-Spy1"
          ],
          [
           "I-Spy1"
          ],
          [
           "I-Spy1"
          ],
          [
           "I-Spy1"
          ],
          [
           "I-Spy1"
          ],
          [
           "I-Spy1"
          ],
          [
           "I-Spy1"
          ],
          [
           "I-Spy1"
          ],
          [
           "I-Spy1"
          ],
          [
           "I-Spy1"
          ],
          [
           "I-Spy1"
          ],
          [
           "I-Spy1"
          ],
          [
           "I-Spy1"
          ],
          [
           "I-Spy1"
          ],
          [
           "I-Spy1"
          ],
          [
           "I-Spy1"
          ],
          [
           "I-Spy1"
          ],
          [
           "I-Spy1"
          ],
          [
           "I-Spy1"
          ],
          [
           "I-Spy1"
          ],
          [
           "I-Spy1"
          ],
          [
           "I-Spy1"
          ],
          [
           "I-Spy1"
          ],
          [
           "I-Spy1"
          ],
          [
           "I-Spy1"
          ],
          [
           "I-Spy1"
          ],
          [
           "I-Spy1"
          ],
          [
           "I-Spy1"
          ],
          [
           "I-Spy1"
          ],
          [
           "I-Spy1"
          ],
          [
           "I-Spy1"
          ],
          [
           "I-Spy1"
          ],
          [
           "I-Spy1"
          ],
          [
           "I-Spy1"
          ],
          [
           "I-Spy1"
          ],
          [
           "I-Spy1"
          ],
          [
           "I-Spy1"
          ],
          [
           "I-Spy1"
          ],
          [
           "I-Spy1"
          ],
          [
           "I-Spy1"
          ],
          [
           "I-Spy1"
          ],
          [
           "I-Spy1"
          ],
          [
           "I-Spy1"
          ],
          [
           "I-Spy1"
          ],
          [
           "I-Spy1"
          ],
          [
           "I-Spy1"
          ],
          [
           "I-Spy1"
          ],
          [
           "I-Spy1"
          ],
          [
           "I-Spy1"
          ],
          [
           "I-Spy1"
          ],
          [
           "I-Spy1"
          ],
          [
           "I-Spy1"
          ],
          [
           "I-Spy1"
          ],
          [
           "I-Spy1"
          ],
          [
           "I-Spy1"
          ],
          [
           "I-Spy1"
          ],
          [
           "I-Spy1"
          ],
          [
           "I-Spy1"
          ],
          [
           "I-Spy1"
          ],
          [
           "I-Spy1"
          ],
          [
           "I-Spy1"
          ],
          [
           "I-Spy1"
          ],
          [
           "I-Spy1"
          ],
          [
           "I-Spy1"
          ],
          [
           "I-Spy1"
          ],
          [
           "I-Spy1"
          ],
          [
           "I-Spy1"
          ],
          [
           "I-Spy1"
          ],
          [
           "I-Spy1"
          ],
          [
           "I-Spy1"
          ],
          [
           "I-Spy1"
          ],
          [
           "I-Spy1"
          ],
          [
           "I-Spy1"
          ],
          [
           "I-Spy1"
          ],
          [
           "I-Spy1"
          ],
          [
           "I-Spy1"
          ],
          [
           "I-Spy1"
          ],
          [
           "I-Spy1"
          ],
          [
           "I-Spy1"
          ],
          [
           "I-Spy1"
          ],
          [
           "I-Spy1"
          ],
          [
           "I-Spy1"
          ],
          [
           "I-Spy1"
          ],
          [
           "I-Spy1"
          ],
          [
           "I-Spy1"
          ],
          [
           "I-Spy1"
          ],
          [
           "I-Spy1"
          ],
          [
           "I-Spy1"
          ],
          [
           "I-Spy1"
          ],
          [
           "I-Spy1"
          ],
          [
           "I-Spy1"
          ],
          [
           "I-Spy1"
          ],
          [
           "I-Spy1"
          ],
          [
           "I-Spy1"
          ],
          [
           "I-Spy1"
          ],
          [
           "I-Spy1"
          ],
          [
           "I-Spy1"
          ],
          [
           "I-Spy1"
          ],
          [
           "I-Spy1"
          ],
          [
           "I-Spy1"
          ],
          [
           "I-Spy1"
          ],
          [
           "I-Spy1"
          ],
          [
           "I-Spy1"
          ],
          [
           "I-Spy1"
          ]
         ],
         "hovertemplate": "0=%{x}<br>1=%{y}<br>Feature=%{customdata[0]}<br>Label=%{marker.color}<extra></extra>",
         "legendgroup": "",
         "marker": {
          "color": [
           null,
           0,
           0,
           0,
           0,
           0,
           0,
           1,
           0,
           0,
           0,
           0,
           0,
           0,
           0,
           0,
           0,
           0,
           0,
           0,
           0,
           0,
           0,
           0,
           0,
           0,
           0,
           0,
           0,
           0,
           0,
           0,
           0,
           0,
           0,
           0,
           0,
           0,
           0,
           0,
           0,
           0,
           0,
           0,
           0,
           0,
           0,
           0,
           0,
           0,
           0,
           0,
           0,
           0,
           0,
           0,
           0,
           0,
           0,
           0,
           0,
           0,
           0,
           0,
           0,
           0,
           0,
           0,
           0,
           0,
           0,
           0,
           0,
           0,
           0,
           0,
           0,
           0,
           0,
           0,
           0,
           0,
           0,
           0,
           0,
           0,
           0,
           0,
           0,
           0,
           0,
           0,
           0,
           0,
           0,
           0,
           0,
           0,
           0,
           0,
           0,
           0,
           0,
           0,
           0,
           0,
           0,
           0,
           0,
           0,
           0,
           0,
           0,
           0,
           0,
           0,
           0,
           0,
           0,
           0,
           0,
           0,
           0,
           0,
           0,
           0,
           0,
           0,
           0,
           0,
           0,
           0,
           0,
           0,
           0,
           0,
           0,
           0,
           0,
           0,
           0,
           0,
           0,
           0,
           0,
           0,
           0,
           0,
           0,
           0,
           0,
           0,
           0,
           0,
           0,
           0,
           0,
           0,
           0,
           0,
           0,
           0,
           0,
           0,
           0,
           0,
           0,
           0,
           0,
           0,
           0,
           0,
           0,
           0,
           0,
           0,
           0,
           0,
           0,
           0,
           0,
           0,
           0,
           0,
           0,
           0,
           0,
           0,
           0,
           0,
           0,
           0,
           0,
           0,
           0,
           0,
           0,
           0,
           0,
           0,
           0,
           0,
           0,
           0,
           0,
           0,
           0,
           0,
           0,
           0,
           0,
           0,
           0,
           0,
           0,
           0,
           0,
           0,
           0,
           0,
           0,
           0,
           0,
           0,
           0,
           0,
           0,
           0,
           0,
           0,
           0,
           0,
           0,
           0,
           0,
           0,
           0,
           0,
           0,
           0,
           0,
           0,
           0,
           0,
           0,
           0,
           0,
           0,
           0,
           0,
           0,
           0,
           0,
           0,
           0,
           0,
           0,
           0,
           0,
           0,
           0,
           0,
           0,
           0,
           0,
           0,
           0,
           0,
           0,
           0,
           0,
           0,
           0,
           0,
           0,
           0,
           0,
           0,
           0,
           0,
           0,
           0,
           0,
           0,
           0
          ],
          "coloraxis": "coloraxis",
          "opacity": 0.7,
          "symbol": "circle"
         },
         "mode": "markers",
         "name": "",
         "orientation": "v",
         "showlegend": false,
         "type": "scatter",
         "x": [
          -14.482522964477539,
          18.380203247070312,
          -13.4898681640625,
          18.881858825683594,
          -12.827696800231934,
          -15.456335067749023,
          -15.650814056396484,
          18.544185638427734,
          -13.677618026733398,
          19.78493309020996,
          18.341896057128906,
          -14.915502548217773,
          -15.778051376342773,
          18.996257781982422,
          -12.918551445007324,
          -13.907462120056152,
          -14.590224266052246,
          -13.07956314086914,
          -14.339763641357422,
          19.365978240966797,
          -13.298871040344238,
          -15.002169609069824,
          -14.877148628234863,
          19.47252655029297,
          19.787612915039062,
          20.031591415405273,
          19.0263729095459,
          -13.188492774963379,
          18.48369598388672,
          -15.317327499389648,
          -12.992121696472168,
          -13.700786590576172,
          -15.074743270874023,
          -12.854777336120605,
          18.54754638671875,
          18.5455379486084,
          -15.325653076171875,
          -14.984113693237305,
          19.840274810791016,
          -13.13400650024414,
          19.102706909179688,
          -15.371078491210938,
          19.168914794921875,
          -14.989315032958984,
          19.59053611755371,
          -14.545526504516602,
          18.515926361083984,
          -12.994128227233887,
          18.654756546020508,
          -13.54244613647461,
          -15.546011924743652,
          -13.21671199798584,
          -15.362740516662598,
          19.630605697631836,
          -13.72530460357666,
          -12.644722938537598,
          18.684276580810547,
          -15.12387466430664,
          -15.362571716308594,
          19.559368133544922,
          -14.549527168273926,
          -13.02730941772461,
          19.035192489624023,
          19.05160140991211,
          19.67817497253418,
          18.58125114440918,
          -14.697620391845703,
          -12.892656326293945,
          -14.243012428283691,
          19.630041122436523,
          -14.880514144897461,
          -14.292238235473633,
          -15.114816665649414,
          -13.23320484161377,
          19.131568908691406,
          -13.440573692321777,
          -13.023419380187988,
          19.52848243713379,
          19.924131393432617,
          -14.217239379882812,
          -15.095320701599121,
          19.37154197692871,
          -15.247039794921875,
          18.9783992767334,
          19.875926971435547,
          -15.613912582397461,
          19.51338768005371,
          19.121009826660156,
          -13.583498001098633,
          -14.766273498535156,
          19.657119750976562,
          -15.06712532043457,
          -14.28319263458252,
          18.85456085205078,
          19.569454193115234,
          18.948728561401367,
          -14.909345626831055,
          -14.566040992736816,
          -15.202766418457031,
          19.75491714477539,
          18.945236206054688,
          -14.812193870544434,
          18.82361602783203,
          19.113513946533203,
          18.747173309326172,
          -13.305004119873047,
          -15.281315803527832,
          -12.878069877624512,
          18.714479446411133,
          19.012968063354492,
          -14.391864776611328,
          -13.089295387268066,
          18.7022647857666,
          -15.051433563232422,
          18.67845344543457,
          19.115367889404297,
          -14.135085105895996,
          -13.71107006072998,
          -15.13874340057373,
          19.140073776245117,
          19.758255004882812,
          -13.480552673339844,
          18.7935791015625,
          -13.479488372802734,
          -13.087422370910645,
          19.410003662109375,
          -14.345646858215332,
          -13.109624862670898,
          -13.54697036743164,
          -13.988011360168457,
          -14.934779167175293,
          -14.47685718536377,
          -14.109442710876465,
          -13.750004768371582,
          -14.064422607421875,
          -13.754833221435547,
          -14.336579322814941,
          -14.898290634155273,
          -13.26991081237793,
          -13.383309364318848,
          -14.09476089477539,
          -14.558183670043945,
          -14.23127269744873,
          -14.800090789794922,
          -14.875992774963379,
          18.838088989257812,
          19.036306381225586,
          -15.163945198059082,
          -14.71179485321045,
          -14.533391952514648,
          -13.16141128540039,
          19.08986473083496,
          -13.073812484741211,
          19.399280548095703,
          -14.360567092895508,
          -13.833921432495117,
          19.47269058227539,
          19.11043357849121,
          -13.891753196716309,
          -14.763805389404297,
          18.728487014770508,
          -14.365086555480957,
          -14.513808250427246,
          -13.866120338439941,
          -15.298494338989258,
          -14.837759017944336,
          -14.584413528442383,
          -13.318192481994629,
          -13.869836807250977,
          -13.482161521911621,
          -14.849098205566406,
          -14.316076278686523,
          -13.946316719055176,
          -13.898510932922363,
          -14.991969108581543,
          -13.812880516052246,
          19.37155532836914,
          -14.444957733154297,
          -15.049620628356934,
          -13.397603034973145,
          -13.772163391113281,
          19.69957733154297,
          -15.372042655944824,
          -15.17956256866455,
          -15.201925277709961,
          -13.423019409179688,
          19.745197296142578,
          18.95978355407715,
          -14.931679725646973,
          -14.618185043334961,
          19.004047393798828,
          -13.498392105102539,
          19.436737060546875,
          18.72338104248047,
          -13.73917293548584,
          -13.192582130432129,
          -14.426839828491211,
          19.523738861083984,
          -13.703152656555176,
          19.001361846923828,
          -13.582293510437012,
          -13.686260223388672,
          19.45418357849121,
          -14.871479988098145,
          -14.536981582641602,
          19.268611907958984,
          -13.648224830627441,
          -13.396180152893066,
          19.23548126220703,
          -13.614176750183105,
          -13.508764266967773,
          -13.84433364868164,
          -13.575675010681152,
          -13.321934700012207,
          -14.78584098815918,
          -14.715228080749512,
          19.239524841308594,
          19.131244659423828,
          18.710588455200195,
          -14.139151573181152,
          -14.016507148742676,
          -14.104742050170898,
          -14.025282859802246,
          19.175884246826172,
          -13.748167991638184,
          -13.981429100036621,
          -13.935065269470215,
          -14.664700508117676,
          19.271347045898438,
          -13.83874797821045,
          -14.535453796386719,
          -14.064668655395508,
          -13.895017623901367,
          -14.157410621643066,
          -14.305970191955566,
          -14.66051197052002,
          -13.948343276977539,
          -14.609214782714844,
          -14.4952974319458,
          -13.960622787475586,
          19.27529525756836,
          -13.48414134979248,
          -13.420686721801758,
          -14.30920124053955,
          19.50335693359375,
          19.512834548950195,
          -14.1377534866333,
          -13.675015449523926,
          19.356487274169922,
          -13.859085083007812,
          -14.434046745300293,
          19.40395164489746,
          -14.024877548217773,
          -14.3410062789917,
          -14.276371955871582,
          -13.709742546081543,
          -14.543384552001953,
          -13.373056411743164,
          -14.757208824157715,
          -13.739713668823242,
          19.16702651977539,
          19.156187057495117,
          -13.563947677612305,
          -14.012590408325195,
          -14.566044807434082,
          -14.193373680114746,
          18.968549728393555,
          -14.0676851272583,
          -14.688338279724121,
          -13.999167442321777,
          -14.2185697555542,
          -14.85193157196045,
          -14.337579727172852,
          -14.037510871887207,
          -14.440099716186523,
          19.500152587890625,
          -14.518691062927246,
          -14.20239543914795,
          -13.90464973449707,
          -13.814090728759766,
          -13.954265594482422,
          19.257442474365234,
          -14.249887466430664,
          -13.992650032043457,
          -14.42354965209961
         ],
         "xaxis": "x",
         "y": [
          -17.996936798095703,
          -2.8702194690704346,
          -18.1469669342041,
          -3.8296682834625244,
          -20.104568481445312,
          -19.978116989135742,
          -19.826448440551758,
          -3.798612594604492,
          -18.201316833496094,
          -3.0194432735443115,
          -3.3594839572906494,
          -18.39521598815918,
          -19.634353637695312,
          -2.360013484954834,
          -20.29344940185547,
          -18.118473052978516,
          -18.539270401000977,
          -20.746644973754883,
          -17.85103988647461,
          -3.82454776763916,
          -18.380727767944336,
          -20.7983455657959,
          -20.901350021362305,
          -2.506148338317871,
          -3.601890802383423,
          -3.402730941772461,
          -2.730222463607788,
          -20.73673439025879,
          -2.9192168712615967,
          -19.33039093017578,
          -18.90265655517578,
          -21.105026245117188,
          -18.41297721862793,
          -19.36785125732422,
          -3.3154335021972656,
          -3.330193281173706,
          -20.2372989654541,
          -18.627649307250977,
          -2.763712167739868,
          -20.38697052001953,
          -3.676149845123291,
          -18.882699966430664,
          -2.505539894104004,
          -18.985576629638672,
          -3.7626051902770996,
          -18.859241485595703,
          -2.769986152648926,
          -18.76944351196289,
          -2.4404406547546387,
          -18.585304260253906,
          -19.589160919189453,
          -18.719783782958984,
          -18.80760383605957,
          -2.451300859451294,
          -20.843595504760742,
          -19.79244613647461,
          -3.321120500564575,
          -20.155649185180664,
          -20.262123107910156,
          -3.3661468029022217,
          -18.324304580688477,
          -19.1911563873291,
          -2.993267059326172,
          -3.033268451690674,
          -2.838120698928833,
          -3.604719400405884,
          -18.36896514892578,
          -19.511362075805664,
          -18.474838256835938,
          -3.189072847366333,
          -19.651966094970703,
          -21.207731246948242,
          -19.67227554321289,
          -20.58464813232422,
          -3.728041648864746,
          -18.465906143188477,
          -19.902971267700195,
          -3.2986679077148438,
          -3.0313940048217773,
          -18.657014846801758,
          -20.20447540283203,
          -3.6871931552886963,
          -20.487834930419922,
          -3.751152515411377,
          -3.1570799350738525,
          -19.19055938720703,
          -2.576218843460083,
          -3.5881309509277344,
          -20.87935447692871,
          -20.772695541381836,
          -3.482600212097168,
          -19.424474716186523,
          -20.902137756347656,
          -3.474400520324707,
          -3.5292725563049316,
          -3.779409408569336,
          -19.097248077392578,
          -20.629972457885742,
          -19.176782608032227,
          -3.135566473007202,
          -3.420940637588501,
          -18.617290496826172,
          -3.7474365234375,
          -3.5613112449645996,
          -3.760326623916626,
          -19.070518493652344,
          -19.346582412719727,
          -20.004493713378906,
          -3.4069223403930664,
          -2.8468117713928223,
          -18.98847007751465,
          -20.070701599121094,
          -3.1269171237945557,
          -19.260046005249023,
          -2.8904082775115967,
          -3.0642600059509277,
          -18.5705509185791,
          -20.812030792236328,
          -18.689470291137695,
          -3.2015624046325684,
          -2.9815893173217773,
          -20.63347053527832,
          -2.953521966934204,
          -18.893234252929688,
          -19.64151954650879,
          -3.018054962158203,
          -18.5986328125,
          -19.596830368041992,
          -19.01218605041504,
          -18.776124954223633,
          -20.41319465637207,
          -20.622913360595703,
          -18.763259887695312,
          -18.58160400390625,
          -20.87617301940918,
          -20.180402755737305,
          -18.978214263916016,
          -18.970212936401367,
          -20.296045303344727,
          -19.161094665527344,
          -20.776241302490234,
          -19.219388961791992,
          -20.770309448242188,
          -20.724811553955078,
          -19.72056007385254,
          -3.222581624984741,
          -2.7177581787109375,
          -20.013019561767578,
          -19.292463302612305,
          -19.054452896118164,
          -19.295156478881836,
          -2.4831273555755615,
          -19.319427490234375,
          -2.8895881175994873,
          -19.592849731445312,
          -18.68121910095215,
          -3.3324193954467773,
          -3.135937452316284,
          -18.673141479492188,
          -19.32117462158203,
          -2.8346245288848877,
          -19.02467918395996,
          -20.823423385620117,
          -20.662574768066406,
          -19.3582763671875,
          -20.072160720825195,
          -18.692625045776367,
          -19.496604919433594,
          -19.60378646850586,
          -19.14067840576172,
          -19.09937286376953,
          -20.010255813598633,
          -19.089792251586914,
          -21.045515060424805,
          -20.55801010131836,
          -20.365713119506836,
          -3.4165618419647217,
          -19.16630744934082,
          -19.873722076416016,
          -20.09126853942871,
          -19.9604549407959,
          -2.928023099899292,
          -19.778772354125977,
          -19.58416748046875,
          -19.930971145629883,
          -19.54561996459961,
          -2.606109619140625,
          -3.2826032638549805,
          -19.973323822021484,
          -20.315948486328125,
          -2.620969772338867,
          -20.537443161010742,
          -2.6975109577178955,
          -2.7729005813598633,
          -19.115848541259766,
          -19.77056884765625,
          -20.511823654174805,
          -2.95609712600708,
          -20.360090255737305,
          -2.92618465423584,
          -19.540990829467773,
          -19.455209732055664,
          -3.135080337524414,
          -20.394428253173828,
          -20.530960083007812,
          -2.7977592945098877,
          -19.855615615844727,
          -19.536989212036133,
          -2.9789044857025146,
          -20.172767639160156,
          -19.323640823364258,
          -19.647459030151367,
          -19.820985794067383,
          -19.9454288482666,
          -19.588163375854492,
          -20.363788604736328,
          -3.372870683670044,
          -3.110687255859375,
          -3.11690092086792,
          -19.491065979003906,
          -19.244609832763672,
          -20.370264053344727,
          -19.386396408081055,
          -2.540761709213257,
          -19.57564926147461,
          -19.212501525878906,
          -19.96546173095703,
          -20.041500091552734,
          -2.7925407886505127,
          -19.123626708984375,
          -19.276906967163086,
          -18.96219825744629,
          -19.19470977783203,
          -19.37466049194336,
          -20.458005905151367,
          -19.782915115356445,
          -19.50745391845703,
          -20.0390625,
          -19.645994186401367,
          -20.492280960083008,
          -3.369436025619507,
          -19.919801712036133,
          -19.901269912719727,
          -19.58458137512207,
          -2.8419227600097656,
          -3.2306783199310303,
          -20.167173385620117,
          -19.322084426879883,
          -2.849459171295166,
          -20.336042404174805,
          -19.263120651245117,
          -3.488844156265259,
          -20.275955200195312,
          -19.819297790527344,
          -19.30344581604004,
          -19.02068328857422,
          -19.998411178588867,
          -19.593408584594727,
          -19.545522689819336,
          -19.882749557495117,
          -3.0677614212036133,
          -3.2489943504333496,
          -20.187877655029297,
          -19.650299072265625,
          -19.876750946044922,
          -19.95424461364746,
          -3.307810068130493,
          -20.1186580657959,
          -19.80653953552246,
          -19.98248863220215,
          -19.358837127685547,
          -19.027435302734375,
          -19.924562454223633,
          -19.716705322265625,
          -20.138797760009766,
          -3.2819623947143555,
          -19.674175262451172,
          -19.87175750732422,
          -19.87689971923828,
          -20.051950454711914,
          -19.914936065673828,
          -3.4040658473968506,
          -20.260339736938477,
          -19.81519317626953,
          -20.055763244628906
         ],
         "yaxis": "y"
        }
       ],
       "layout": {
        "coloraxis": {
         "colorbar": {
          "title": {
           "text": "Label"
          }
         },
         "colorscale": [
          [
           0,
           "#0d0887"
          ],
          [
           0.1111111111111111,
           "#46039f"
          ],
          [
           0.2222222222222222,
           "#7201a8"
          ],
          [
           0.3333333333333333,
           "#9c179e"
          ],
          [
           0.4444444444444444,
           "#bd3786"
          ],
          [
           0.5555555555555556,
           "#d8576b"
          ],
          [
           0.6666666666666666,
           "#ed7953"
          ],
          [
           0.7777777777777778,
           "#fb9f3a"
          ],
          [
           0.8888888888888888,
           "#fdca26"
          ],
          [
           1,
           "#f0f921"
          ]
         ]
        },
        "height": 800,
        "legend": {
         "tracegroupgap": 0
        },
        "template": {
         "data": {
          "bar": [
           {
            "error_x": {
             "color": "#2a3f5f"
            },
            "error_y": {
             "color": "#2a3f5f"
            },
            "marker": {
             "line": {
              "color": "#E5ECF6",
              "width": 0.5
             }
            },
            "type": "bar"
           }
          ],
          "barpolar": [
           {
            "marker": {
             "line": {
              "color": "#E5ECF6",
              "width": 0.5
             }
            },
            "type": "barpolar"
           }
          ],
          "carpet": [
           {
            "aaxis": {
             "endlinecolor": "#2a3f5f",
             "gridcolor": "white",
             "linecolor": "white",
             "minorgridcolor": "white",
             "startlinecolor": "#2a3f5f"
            },
            "baxis": {
             "endlinecolor": "#2a3f5f",
             "gridcolor": "white",
             "linecolor": "white",
             "minorgridcolor": "white",
             "startlinecolor": "#2a3f5f"
            },
            "type": "carpet"
           }
          ],
          "choropleth": [
           {
            "colorbar": {
             "outlinewidth": 0,
             "ticks": ""
            },
            "type": "choropleth"
           }
          ],
          "contour": [
           {
            "colorbar": {
             "outlinewidth": 0,
             "ticks": ""
            },
            "colorscale": [
             [
              0,
              "#0d0887"
             ],
             [
              0.1111111111111111,
              "#46039f"
             ],
             [
              0.2222222222222222,
              "#7201a8"
             ],
             [
              0.3333333333333333,
              "#9c179e"
             ],
             [
              0.4444444444444444,
              "#bd3786"
             ],
             [
              0.5555555555555556,
              "#d8576b"
             ],
             [
              0.6666666666666666,
              "#ed7953"
             ],
             [
              0.7777777777777778,
              "#fb9f3a"
             ],
             [
              0.8888888888888888,
              "#fdca26"
             ],
             [
              1,
              "#f0f921"
             ]
            ],
            "type": "contour"
           }
          ],
          "contourcarpet": [
           {
            "colorbar": {
             "outlinewidth": 0,
             "ticks": ""
            },
            "type": "contourcarpet"
           }
          ],
          "heatmap": [
           {
            "colorbar": {
             "outlinewidth": 0,
             "ticks": ""
            },
            "colorscale": [
             [
              0,
              "#0d0887"
             ],
             [
              0.1111111111111111,
              "#46039f"
             ],
             [
              0.2222222222222222,
              "#7201a8"
             ],
             [
              0.3333333333333333,
              "#9c179e"
             ],
             [
              0.4444444444444444,
              "#bd3786"
             ],
             [
              0.5555555555555556,
              "#d8576b"
             ],
             [
              0.6666666666666666,
              "#ed7953"
             ],
             [
              0.7777777777777778,
              "#fb9f3a"
             ],
             [
              0.8888888888888888,
              "#fdca26"
             ],
             [
              1,
              "#f0f921"
             ]
            ],
            "type": "heatmap"
           }
          ],
          "heatmapgl": [
           {
            "colorbar": {
             "outlinewidth": 0,
             "ticks": ""
            },
            "colorscale": [
             [
              0,
              "#0d0887"
             ],
             [
              0.1111111111111111,
              "#46039f"
             ],
             [
              0.2222222222222222,
              "#7201a8"
             ],
             [
              0.3333333333333333,
              "#9c179e"
             ],
             [
              0.4444444444444444,
              "#bd3786"
             ],
             [
              0.5555555555555556,
              "#d8576b"
             ],
             [
              0.6666666666666666,
              "#ed7953"
             ],
             [
              0.7777777777777778,
              "#fb9f3a"
             ],
             [
              0.8888888888888888,
              "#fdca26"
             ],
             [
              1,
              "#f0f921"
             ]
            ],
            "type": "heatmapgl"
           }
          ],
          "histogram": [
           {
            "marker": {
             "colorbar": {
              "outlinewidth": 0,
              "ticks": ""
             }
            },
            "type": "histogram"
           }
          ],
          "histogram2d": [
           {
            "colorbar": {
             "outlinewidth": 0,
             "ticks": ""
            },
            "colorscale": [
             [
              0,
              "#0d0887"
             ],
             [
              0.1111111111111111,
              "#46039f"
             ],
             [
              0.2222222222222222,
              "#7201a8"
             ],
             [
              0.3333333333333333,
              "#9c179e"
             ],
             [
              0.4444444444444444,
              "#bd3786"
             ],
             [
              0.5555555555555556,
              "#d8576b"
             ],
             [
              0.6666666666666666,
              "#ed7953"
             ],
             [
              0.7777777777777778,
              "#fb9f3a"
             ],
             [
              0.8888888888888888,
              "#fdca26"
             ],
             [
              1,
              "#f0f921"
             ]
            ],
            "type": "histogram2d"
           }
          ],
          "histogram2dcontour": [
           {
            "colorbar": {
             "outlinewidth": 0,
             "ticks": ""
            },
            "colorscale": [
             [
              0,
              "#0d0887"
             ],
             [
              0.1111111111111111,
              "#46039f"
             ],
             [
              0.2222222222222222,
              "#7201a8"
             ],
             [
              0.3333333333333333,
              "#9c179e"
             ],
             [
              0.4444444444444444,
              "#bd3786"
             ],
             [
              0.5555555555555556,
              "#d8576b"
             ],
             [
              0.6666666666666666,
              "#ed7953"
             ],
             [
              0.7777777777777778,
              "#fb9f3a"
             ],
             [
              0.8888888888888888,
              "#fdca26"
             ],
             [
              1,
              "#f0f921"
             ]
            ],
            "type": "histogram2dcontour"
           }
          ],
          "mesh3d": [
           {
            "colorbar": {
             "outlinewidth": 0,
             "ticks": ""
            },
            "type": "mesh3d"
           }
          ],
          "parcoords": [
           {
            "line": {
             "colorbar": {
              "outlinewidth": 0,
              "ticks": ""
             }
            },
            "type": "parcoords"
           }
          ],
          "pie": [
           {
            "automargin": true,
            "type": "pie"
           }
          ],
          "scatter": [
           {
            "marker": {
             "colorbar": {
              "outlinewidth": 0,
              "ticks": ""
             }
            },
            "type": "scatter"
           }
          ],
          "scatter3d": [
           {
            "line": {
             "colorbar": {
              "outlinewidth": 0,
              "ticks": ""
             }
            },
            "marker": {
             "colorbar": {
              "outlinewidth": 0,
              "ticks": ""
             }
            },
            "type": "scatter3d"
           }
          ],
          "scattercarpet": [
           {
            "marker": {
             "colorbar": {
              "outlinewidth": 0,
              "ticks": ""
             }
            },
            "type": "scattercarpet"
           }
          ],
          "scattergeo": [
           {
            "marker": {
             "colorbar": {
              "outlinewidth": 0,
              "ticks": ""
             }
            },
            "type": "scattergeo"
           }
          ],
          "scattergl": [
           {
            "marker": {
             "colorbar": {
              "outlinewidth": 0,
              "ticks": ""
             }
            },
            "type": "scattergl"
           }
          ],
          "scattermapbox": [
           {
            "marker": {
             "colorbar": {
              "outlinewidth": 0,
              "ticks": ""
             }
            },
            "type": "scattermapbox"
           }
          ],
          "scatterpolar": [
           {
            "marker": {
             "colorbar": {
              "outlinewidth": 0,
              "ticks": ""
             }
            },
            "type": "scatterpolar"
           }
          ],
          "scatterpolargl": [
           {
            "marker": {
             "colorbar": {
              "outlinewidth": 0,
              "ticks": ""
             }
            },
            "type": "scatterpolargl"
           }
          ],
          "scatterternary": [
           {
            "marker": {
             "colorbar": {
              "outlinewidth": 0,
              "ticks": ""
             }
            },
            "type": "scatterternary"
           }
          ],
          "surface": [
           {
            "colorbar": {
             "outlinewidth": 0,
             "ticks": ""
            },
            "colorscale": [
             [
              0,
              "#0d0887"
             ],
             [
              0.1111111111111111,
              "#46039f"
             ],
             [
              0.2222222222222222,
              "#7201a8"
             ],
             [
              0.3333333333333333,
              "#9c179e"
             ],
             [
              0.4444444444444444,
              "#bd3786"
             ],
             [
              0.5555555555555556,
              "#d8576b"
             ],
             [
              0.6666666666666666,
              "#ed7953"
             ],
             [
              0.7777777777777778,
              "#fb9f3a"
             ],
             [
              0.8888888888888888,
              "#fdca26"
             ],
             [
              1,
              "#f0f921"
             ]
            ],
            "type": "surface"
           }
          ],
          "table": [
           {
            "cells": {
             "fill": {
              "color": "#EBF0F8"
             },
             "line": {
              "color": "white"
             }
            },
            "header": {
             "fill": {
              "color": "#C8D4E3"
             },
             "line": {
              "color": "white"
             }
            },
            "type": "table"
           }
          ]
         },
         "layout": {
          "annotationdefaults": {
           "arrowcolor": "#2a3f5f",
           "arrowhead": 0,
           "arrowwidth": 1
          },
          "coloraxis": {
           "colorbar": {
            "outlinewidth": 0,
            "ticks": ""
           }
          },
          "colorscale": {
           "diverging": [
            [
             0,
             "#8e0152"
            ],
            [
             0.1,
             "#c51b7d"
            ],
            [
             0.2,
             "#de77ae"
            ],
            [
             0.3,
             "#f1b6da"
            ],
            [
             0.4,
             "#fde0ef"
            ],
            [
             0.5,
             "#f7f7f7"
            ],
            [
             0.6,
             "#e6f5d0"
            ],
            [
             0.7,
             "#b8e186"
            ],
            [
             0.8,
             "#7fbc41"
            ],
            [
             0.9,
             "#4d9221"
            ],
            [
             1,
             "#276419"
            ]
           ],
           "sequential": [
            [
             0,
             "#0d0887"
            ],
            [
             0.1111111111111111,
             "#46039f"
            ],
            [
             0.2222222222222222,
             "#7201a8"
            ],
            [
             0.3333333333333333,
             "#9c179e"
            ],
            [
             0.4444444444444444,
             "#bd3786"
            ],
            [
             0.5555555555555556,
             "#d8576b"
            ],
            [
             0.6666666666666666,
             "#ed7953"
            ],
            [
             0.7777777777777778,
             "#fb9f3a"
            ],
            [
             0.8888888888888888,
             "#fdca26"
            ],
            [
             1,
             "#f0f921"
            ]
           ],
           "sequentialminus": [
            [
             0,
             "#0d0887"
            ],
            [
             0.1111111111111111,
             "#46039f"
            ],
            [
             0.2222222222222222,
             "#7201a8"
            ],
            [
             0.3333333333333333,
             "#9c179e"
            ],
            [
             0.4444444444444444,
             "#bd3786"
            ],
            [
             0.5555555555555556,
             "#d8576b"
            ],
            [
             0.6666666666666666,
             "#ed7953"
            ],
            [
             0.7777777777777778,
             "#fb9f3a"
            ],
            [
             0.8888888888888888,
             "#fdca26"
            ],
            [
             1,
             "#f0f921"
            ]
           ]
          },
          "colorway": [
           "#636efa",
           "#EF553B",
           "#00cc96",
           "#ab63fa",
           "#FFA15A",
           "#19d3f3",
           "#FF6692",
           "#B6E880",
           "#FF97FF",
           "#FECB52"
          ],
          "font": {
           "color": "#2a3f5f"
          },
          "geo": {
           "bgcolor": "white",
           "lakecolor": "white",
           "landcolor": "#E5ECF6",
           "showlakes": true,
           "showland": true,
           "subunitcolor": "white"
          },
          "hoverlabel": {
           "align": "left"
          },
          "hovermode": "closest",
          "mapbox": {
           "style": "light"
          },
          "paper_bgcolor": "white",
          "plot_bgcolor": "#E5ECF6",
          "polar": {
           "angularaxis": {
            "gridcolor": "white",
            "linecolor": "white",
            "ticks": ""
           },
           "bgcolor": "#E5ECF6",
           "radialaxis": {
            "gridcolor": "white",
            "linecolor": "white",
            "ticks": ""
           }
          },
          "scene": {
           "xaxis": {
            "backgroundcolor": "#E5ECF6",
            "gridcolor": "white",
            "gridwidth": 2,
            "linecolor": "white",
            "showbackground": true,
            "ticks": "",
            "zerolinecolor": "white"
           },
           "yaxis": {
            "backgroundcolor": "#E5ECF6",
            "gridcolor": "white",
            "gridwidth": 2,
            "linecolor": "white",
            "showbackground": true,
            "ticks": "",
            "zerolinecolor": "white"
           },
           "zaxis": {
            "backgroundcolor": "#E5ECF6",
            "gridcolor": "white",
            "gridwidth": 2,
            "linecolor": "white",
            "showbackground": true,
            "ticks": "",
            "zerolinecolor": "white"
           }
          },
          "shapedefaults": {
           "line": {
            "color": "#2a3f5f"
           }
          },
          "ternary": {
           "aaxis": {
            "gridcolor": "white",
            "linecolor": "white",
            "ticks": ""
           },
           "baxis": {
            "gridcolor": "white",
            "linecolor": "white",
            "ticks": ""
           },
           "bgcolor": "#E5ECF6",
           "caxis": {
            "gridcolor": "white",
            "linecolor": "white",
            "ticks": ""
           }
          },
          "title": {
           "x": 0.05
          },
          "xaxis": {
           "automargin": true,
           "gridcolor": "white",
           "linecolor": "white",
           "ticks": "",
           "title": {
            "standoff": 15
           },
           "zerolinecolor": "white",
           "zerolinewidth": 2
          },
          "yaxis": {
           "automargin": true,
           "gridcolor": "white",
           "linecolor": "white",
           "ticks": "",
           "title": {
            "standoff": 15
           },
           "zerolinecolor": "white",
           "zerolinewidth": 2
          }
         }
        },
        "title": {
         "text": "uMAP Plot for Outliers"
        },
        "width": 900,
        "xaxis": {
         "anchor": "y",
         "domain": [
          0,
          1
         ],
         "title": {
          "text": "0"
         }
        },
        "yaxis": {
         "anchor": "x",
         "domain": [
          0,
          1
         ],
         "title": {
          "text": "1"
         }
        }
       }
      },
      "text/html": [
       "<div>\n",
       "        \n",
       "        \n",
       "            <div id=\"645ff7bd-4150-44d4-a0c7-169eb151c1d2\" class=\"plotly-graph-div\" style=\"height:800px; width:900px;\"></div>\n",
       "            <script type=\"text/javascript\">\n",
       "                require([\"plotly\"], function(Plotly) {\n",
       "                    window.PLOTLYENV=window.PLOTLYENV || {};\n",
       "                    \n",
       "                if (document.getElementById(\"645ff7bd-4150-44d4-a0c7-169eb151c1d2\")) {\n",
       "                    Plotly.newPlot(\n",
       "                        '645ff7bd-4150-44d4-a0c7-169eb151c1d2',\n",
       "                        [{\"customdata\": [[null], [\"Breast-MRI-NACT-Pilot\"], [\"Breast-MRI-NACT-Pilot\"], [\"Breast-MRI-NACT-Pilot\"], [\"Breast-MRI-NACT-Pilot\"], [\"Breast-MRI-NACT-Pilot\"], [\"Breast-MRI-NACT-Pilot\"], [\"Breast-MRI-NACT-Pilot\"], [\"Breast-MRI-NACT-Pilot\"], [\"Breast-MRI-NACT-Pilot\"], [\"Breast-MRI-NACT-Pilot\"], [\"Breast-MRI-NACT-Pilot\"], [\"Breast-MRI-NACT-Pilot\"], [\"Breast-MRI-NACT-Pilot\"], [\"Breast-MRI-NACT-Pilot\"], [\"Breast-MRI-NACT-Pilot\"], [\"Breast-MRI-NACT-Pilot\"], [\"Breast-MRI-NACT-Pilot\"], [\"Breast-MRI-NACT-Pilot\"], [\"Breast-MRI-NACT-Pilot\"], [\"Breast-MRI-NACT-Pilot\"], [\"Breast-MRI-NACT-Pilot\"], [\"Breast-MRI-NACT-Pilot\"], [\"Breast-MRI-NACT-Pilot\"], [\"Breast-MRI-NACT-Pilot\"], [\"Breast-MRI-NACT-Pilot\"], [\"Breast-MRI-NACT-Pilot\"], [\"Breast-MRI-NACT-Pilot\"], [\"Breast-MRI-NACT-Pilot\"], [\"Breast-MRI-NACT-Pilot\"], [\"Breast-MRI-NACT-Pilot\"], [\"Breast-MRI-NACT-Pilot\"], [\"Breast-MRI-NACT-Pilot\"], [\"Breast-MRI-NACT-Pilot\"], [\"Breast-MRI-NACT-Pilot\"], [\"Breast-MRI-NACT-Pilot\"], [\"Breast-MRI-NACT-Pilot\"], [\"Breast-MRI-NACT-Pilot\"], [\"Breast-MRI-NACT-Pilot\"], [\"Breast-MRI-NACT-Pilot\"], [\"Breast-MRI-NACT-Pilot\"], [\"Breast-MRI-NACT-Pilot\"], [\"Breast-MRI-NACT-Pilot\"], [\"Breast-MRI-NACT-Pilot\"], [\"Breast-MRI-NACT-Pilot\"], [\"Breast-MRI-NACT-Pilot\"], [\"Breast-MRI-NACT-Pilot\"], [\"Breast-MRI-NACT-Pilot\"], [\"Breast-MRI-NACT-Pilot\"], [\"Breast-MRI-NACT-Pilot\"], [\"Breast-MRI-NACT-Pilot\"], [\"Breast-MRI-NACT-Pilot\"], [\"Breast-MRI-NACT-Pilot\"], [\"Breast-MRI-NACT-Pilot\"], [\"Breast-MRI-NACT-Pilot\"], [\"Breast-MRI-NACT-Pilot\"], [\"Breast-MRI-NACT-Pilot\"], [\"Breast-MRI-NACT-Pilot\"], [\"Breast-MRI-NACT-Pilot\"], [\"Breast-MRI-NACT-Pilot\"], [\"Breast-MRI-NACT-Pilot\"], [\"Breast-MRI-NACT-Pilot\"], [\"Breast-MRI-NACT-Pilot\"], [\"Breast-MRI-NACT-Pilot\"], [\"Breast-MRI-NACT-Pilot\"], [\"I-Spy1\"], [\"I-Spy1\"], [\"I-Spy1\"], [\"I-Spy1\"], [\"I-Spy1\"], [\"I-Spy1\"], [\"I-Spy1\"], [\"I-Spy1\"], [\"I-Spy1\"], [\"I-Spy1\"], [\"I-Spy1\"], [\"I-Spy1\"], [\"I-Spy1\"], [\"I-Spy1\"], [\"I-Spy1\"], [\"I-Spy1\"], [\"I-Spy1\"], [\"I-Spy1\"], [\"I-Spy1\"], [\"I-Spy1\"], [\"I-Spy1\"], [\"I-Spy1\"], [\"I-Spy1\"], [\"I-Spy1\"], [\"I-Spy1\"], [\"I-Spy1\"], [\"I-Spy1\"], [\"I-Spy1\"], [\"I-Spy1\"], [\"I-Spy1\"], [\"I-Spy1\"], [\"I-Spy1\"], [\"I-Spy1\"], [\"I-Spy1\"], [\"I-Spy1\"], [\"I-Spy1\"], [\"I-Spy1\"], [\"I-Spy1\"], [\"I-Spy1\"], [\"I-Spy1\"], [\"I-Spy1\"], [\"I-Spy1\"], [\"I-Spy1\"], [\"I-Spy1\"], [\"I-Spy1\"], [\"I-Spy1\"], [\"I-Spy1\"], [\"I-Spy1\"], [\"I-Spy1\"], [\"I-Spy1\"], [\"I-Spy1\"], [\"I-Spy1\"], [\"I-Spy1\"], [\"I-Spy1\"], [\"I-Spy1\"], [\"I-Spy1\"], [\"I-Spy1\"], [\"I-Spy1\"], [\"I-Spy1\"], [\"I-Spy1\"], [\"I-Spy1\"], [\"I-Spy1\"], [\"I-Spy1\"], [\"I-Spy1\"], [\"I-Spy1\"], [\"I-Spy1\"], [\"I-Spy1\"], [\"I-Spy1\"], [\"I-Spy1\"], [\"I-Spy1\"], [\"I-Spy1\"], [\"I-Spy1\"], [\"I-Spy1\"], [\"I-Spy1\"], [\"I-Spy1\"], [\"I-Spy1\"], [\"I-Spy1\"], [\"I-Spy1\"], [\"I-Spy1\"], [\"I-Spy1\"], [\"I-Spy1\"], [\"I-Spy1\"], [\"I-Spy1\"], [\"I-Spy1\"], [\"I-Spy1\"], [\"I-Spy1\"], [\"I-Spy1\"], [\"I-Spy1\"], [\"I-Spy1\"], [\"I-Spy1\"], [\"I-Spy1\"], [\"I-Spy1\"], [\"I-Spy1\"], [\"I-Spy1\"], [\"I-Spy1\"], [\"I-Spy1\"], [\"I-Spy1\"], [\"I-Spy1\"], [\"I-Spy1\"], [\"I-Spy1\"], [\"I-Spy1\"], [\"I-Spy1\"], [\"I-Spy1\"], [\"I-Spy1\"], [\"I-Spy1\"], [\"I-Spy1\"], [\"I-Spy1\"], [\"I-Spy1\"], [\"I-Spy1\"], [\"I-Spy1\"], [\"I-Spy1\"], [\"I-Spy1\"], [\"I-Spy1\"], [\"I-Spy1\"], [\"I-Spy1\"], [\"I-Spy1\"], [\"I-Spy1\"], [\"I-Spy1\"], [\"I-Spy1\"], [\"I-Spy1\"], [\"I-Spy1\"], [\"I-Spy1\"], [\"I-Spy1\"], [\"I-Spy1\"], [\"I-Spy1\"], [\"I-Spy1\"], [\"I-Spy1\"], [\"I-Spy1\"], [\"I-Spy1\"], [\"I-Spy1\"], [\"I-Spy1\"], [\"I-Spy1\"], [\"I-Spy1\"], [\"I-Spy1\"], [\"I-Spy1\"], [\"I-Spy1\"], [\"I-Spy1\"], [\"I-Spy1\"], [\"I-Spy1\"], [\"I-Spy1\"], [\"I-Spy1\"], [\"I-Spy1\"], [\"I-Spy1\"], [\"I-Spy1\"], [\"I-Spy1\"], [\"I-Spy1\"], [\"I-Spy1\"], [\"I-Spy1\"], [\"I-Spy1\"], [\"I-Spy1\"], [\"I-Spy1\"], [\"I-Spy1\"], [\"I-Spy1\"], [\"I-Spy1\"], [\"I-Spy1\"], [\"I-Spy1\"], [\"I-Spy1\"], [\"I-Spy1\"], [\"I-Spy1\"], [\"I-Spy1\"], [\"I-Spy1\"], [\"I-Spy1\"], [\"I-Spy1\"], [\"I-Spy1\"], [\"I-Spy1\"], [\"I-Spy1\"], [\"I-Spy1\"], [\"I-Spy1\"], [\"I-Spy1\"], [\"I-Spy1\"], [\"I-Spy1\"], [\"I-Spy1\"], [\"I-Spy1\"], [\"I-Spy1\"], [\"I-Spy1\"], [\"I-Spy1\"], [\"I-Spy1\"], [\"I-Spy1\"], [\"I-Spy1\"], [\"I-Spy1\"], [\"I-Spy1\"], [\"I-Spy1\"], [\"I-Spy1\"], [\"I-Spy1\"], [\"I-Spy1\"], [\"I-Spy1\"], [\"I-Spy1\"], [\"I-Spy1\"], [\"I-Spy1\"], [\"I-Spy1\"], [\"I-Spy1\"], [\"I-Spy1\"], [\"I-Spy1\"], [\"I-Spy1\"], [\"I-Spy1\"], [\"I-Spy1\"], [\"I-Spy1\"], [\"I-Spy1\"], [\"I-Spy1\"], [\"I-Spy1\"], [\"I-Spy1\"], [\"I-Spy1\"], [\"I-Spy1\"], [\"I-Spy1\"], [\"I-Spy1\"], [\"I-Spy1\"], [\"I-Spy1\"], [\"I-Spy1\"], [\"I-Spy1\"], [\"I-Spy1\"], [\"I-Spy1\"], [\"I-Spy1\"], [\"I-Spy1\"], [\"I-Spy1\"], [\"I-Spy1\"], [\"I-Spy1\"], [\"I-Spy1\"], [\"I-Spy1\"], [\"I-Spy1\"], [\"I-Spy1\"]], \"hovertemplate\": \"0=%{x}<br>1=%{y}<br>Feature=%{customdata[0]}<br>Label=%{marker.color}<extra></extra>\", \"legendgroup\": \"\", \"marker\": {\"color\": [null, 0.0, 0.0, 0.0, 0.0, 0.0, 0.0, 1.0, 0.0, 0.0, 0.0, 0.0, 0.0, 0.0, 0.0, 0.0, 0.0, 0.0, 0.0, 0.0, 0.0, 0.0, 0.0, 0.0, 0.0, 0.0, 0.0, 0.0, 0.0, 0.0, 0.0, 0.0, 0.0, 0.0, 0.0, 0.0, 0.0, 0.0, 0.0, 0.0, 0.0, 0.0, 0.0, 0.0, 0.0, 0.0, 0.0, 0.0, 0.0, 0.0, 0.0, 0.0, 0.0, 0.0, 0.0, 0.0, 0.0, 0.0, 0.0, 0.0, 0.0, 0.0, 0.0, 0.0, 0.0, 0.0, 0.0, 0.0, 0.0, 0.0, 0.0, 0.0, 0.0, 0.0, 0.0, 0.0, 0.0, 0.0, 0.0, 0.0, 0.0, 0.0, 0.0, 0.0, 0.0, 0.0, 0.0, 0.0, 0.0, 0.0, 0.0, 0.0, 0.0, 0.0, 0.0, 0.0, 0.0, 0.0, 0.0, 0.0, 0.0, 0.0, 0.0, 0.0, 0.0, 0.0, 0.0, 0.0, 0.0, 0.0, 0.0, 0.0, 0.0, 0.0, 0.0, 0.0, 0.0, 0.0, 0.0, 0.0, 0.0, 0.0, 0.0, 0.0, 0.0, 0.0, 0.0, 0.0, 0.0, 0.0, 0.0, 0.0, 0.0, 0.0, 0.0, 0.0, 0.0, 0.0, 0.0, 0.0, 0.0, 0.0, 0.0, 0.0, 0.0, 0.0, 0.0, 0.0, 0.0, 0.0, 0.0, 0.0, 0.0, 0.0, 0.0, 0.0, 0.0, 0.0, 0.0, 0.0, 0.0, 0.0, 0.0, 0.0, 0.0, 0.0, 0.0, 0.0, 0.0, 0.0, 0.0, 0.0, 0.0, 0.0, 0.0, 0.0, 0.0, 0.0, 0.0, 0.0, 0.0, 0.0, 0.0, 0.0, 0.0, 0.0, 0.0, 0.0, 0.0, 0.0, 0.0, 0.0, 0.0, 0.0, 0.0, 0.0, 0.0, 0.0, 0.0, 0.0, 0.0, 0.0, 0.0, 0.0, 0.0, 0.0, 0.0, 0.0, 0.0, 0.0, 0.0, 0.0, 0.0, 0.0, 0.0, 0.0, 0.0, 0.0, 0.0, 0.0, 0.0, 0.0, 0.0, 0.0, 0.0, 0.0, 0.0, 0.0, 0.0, 0.0, 0.0, 0.0, 0.0, 0.0, 0.0, 0.0, 0.0, 0.0, 0.0, 0.0, 0.0, 0.0, 0.0, 0.0, 0.0, 0.0, 0.0, 0.0, 0.0, 0.0, 0.0, 0.0, 0.0, 0.0, 0.0, 0.0, 0.0, 0.0, 0.0, 0.0, 0.0, 0.0, 0.0, 0.0, 0.0, 0.0, 0.0, 0.0, 0.0, 0.0, 0.0, 0.0, 0.0, 0.0, 0.0, 0.0, 0.0, 0.0, 0.0, 0.0, 0.0, 0.0, 0.0, 0.0, 0.0], \"coloraxis\": \"coloraxis\", \"opacity\": 0.7, \"symbol\": \"circle\"}, \"mode\": \"markers\", \"name\": \"\", \"orientation\": \"v\", \"showlegend\": false, \"type\": \"scatter\", \"x\": [-14.482522964477539, 18.380203247070312, -13.4898681640625, 18.881858825683594, -12.827696800231934, -15.456335067749023, -15.650814056396484, 18.544185638427734, -13.677618026733398, 19.78493309020996, 18.341896057128906, -14.915502548217773, -15.778051376342773, 18.996257781982422, -12.918551445007324, -13.907462120056152, -14.590224266052246, -13.07956314086914, -14.339763641357422, 19.365978240966797, -13.298871040344238, -15.002169609069824, -14.877148628234863, 19.47252655029297, 19.787612915039062, 20.031591415405273, 19.0263729095459, -13.188492774963379, 18.48369598388672, -15.317327499389648, -12.992121696472168, -13.700786590576172, -15.074743270874023, -12.854777336120605, 18.54754638671875, 18.5455379486084, -15.325653076171875, -14.984113693237305, 19.840274810791016, -13.13400650024414, 19.102706909179688, -15.371078491210938, 19.168914794921875, -14.989315032958984, 19.59053611755371, -14.545526504516602, 18.515926361083984, -12.994128227233887, 18.654756546020508, -13.54244613647461, -15.546011924743652, -13.21671199798584, -15.362740516662598, 19.630605697631836, -13.72530460357666, -12.644722938537598, 18.684276580810547, -15.12387466430664, -15.362571716308594, 19.559368133544922, -14.549527168273926, -13.02730941772461, 19.035192489624023, 19.05160140991211, 19.67817497253418, 18.58125114440918, -14.697620391845703, -12.892656326293945, -14.243012428283691, 19.630041122436523, -14.880514144897461, -14.292238235473633, -15.114816665649414, -13.23320484161377, 19.131568908691406, -13.440573692321777, -13.023419380187988, 19.52848243713379, 19.924131393432617, -14.217239379882812, -15.095320701599121, 19.37154197692871, -15.247039794921875, 18.9783992767334, 19.875926971435547, -15.613912582397461, 19.51338768005371, 19.121009826660156, -13.583498001098633, -14.766273498535156, 19.657119750976562, -15.06712532043457, -14.28319263458252, 18.85456085205078, 19.569454193115234, 18.948728561401367, -14.909345626831055, -14.566040992736816, -15.202766418457031, 19.75491714477539, 18.945236206054688, -14.812193870544434, 18.82361602783203, 19.113513946533203, 18.747173309326172, -13.305004119873047, -15.281315803527832, -12.878069877624512, 18.714479446411133, 19.012968063354492, -14.391864776611328, -13.089295387268066, 18.7022647857666, -15.051433563232422, 18.67845344543457, 19.115367889404297, -14.135085105895996, -13.71107006072998, -15.13874340057373, 19.140073776245117, 19.758255004882812, -13.480552673339844, 18.7935791015625, -13.479488372802734, -13.087422370910645, 19.410003662109375, -14.345646858215332, -13.109624862670898, -13.54697036743164, -13.988011360168457, -14.934779167175293, -14.47685718536377, -14.109442710876465, -13.750004768371582, -14.064422607421875, -13.754833221435547, -14.336579322814941, -14.898290634155273, -13.26991081237793, -13.383309364318848, -14.09476089477539, -14.558183670043945, -14.23127269744873, -14.800090789794922, -14.875992774963379, 18.838088989257812, 19.036306381225586, -15.163945198059082, -14.71179485321045, -14.533391952514648, -13.16141128540039, 19.08986473083496, -13.073812484741211, 19.399280548095703, -14.360567092895508, -13.833921432495117, 19.47269058227539, 19.11043357849121, -13.891753196716309, -14.763805389404297, 18.728487014770508, -14.365086555480957, -14.513808250427246, -13.866120338439941, -15.298494338989258, -14.837759017944336, -14.584413528442383, -13.318192481994629, -13.869836807250977, -13.482161521911621, -14.849098205566406, -14.316076278686523, -13.946316719055176, -13.898510932922363, -14.991969108581543, -13.812880516052246, 19.37155532836914, -14.444957733154297, -15.049620628356934, -13.397603034973145, -13.772163391113281, 19.69957733154297, -15.372042655944824, -15.17956256866455, -15.201925277709961, -13.423019409179688, 19.745197296142578, 18.95978355407715, -14.931679725646973, -14.618185043334961, 19.004047393798828, -13.498392105102539, 19.436737060546875, 18.72338104248047, -13.73917293548584, -13.192582130432129, -14.426839828491211, 19.523738861083984, -13.703152656555176, 19.001361846923828, -13.582293510437012, -13.686260223388672, 19.45418357849121, -14.871479988098145, -14.536981582641602, 19.268611907958984, -13.648224830627441, -13.396180152893066, 19.23548126220703, -13.614176750183105, -13.508764266967773, -13.84433364868164, -13.575675010681152, -13.321934700012207, -14.78584098815918, -14.715228080749512, 19.239524841308594, 19.131244659423828, 18.710588455200195, -14.139151573181152, -14.016507148742676, -14.104742050170898, -14.025282859802246, 19.175884246826172, -13.748167991638184, -13.981429100036621, -13.935065269470215, -14.664700508117676, 19.271347045898438, -13.83874797821045, -14.535453796386719, -14.064668655395508, -13.895017623901367, -14.157410621643066, -14.305970191955566, -14.66051197052002, -13.948343276977539, -14.609214782714844, -14.4952974319458, -13.960622787475586, 19.27529525756836, -13.48414134979248, -13.420686721801758, -14.30920124053955, 19.50335693359375, 19.512834548950195, -14.1377534866333, -13.675015449523926, 19.356487274169922, -13.859085083007812, -14.434046745300293, 19.40395164489746, -14.024877548217773, -14.3410062789917, -14.276371955871582, -13.709742546081543, -14.543384552001953, -13.373056411743164, -14.757208824157715, -13.739713668823242, 19.16702651977539, 19.156187057495117, -13.563947677612305, -14.012590408325195, -14.566044807434082, -14.193373680114746, 18.968549728393555, -14.0676851272583, -14.688338279724121, -13.999167442321777, -14.2185697555542, -14.85193157196045, -14.337579727172852, -14.037510871887207, -14.440099716186523, 19.500152587890625, -14.518691062927246, -14.20239543914795, -13.90464973449707, -13.814090728759766, -13.954265594482422, 19.257442474365234, -14.249887466430664, -13.992650032043457, -14.42354965209961], \"xaxis\": \"x\", \"y\": [-17.996936798095703, -2.8702194690704346, -18.1469669342041, -3.8296682834625244, -20.104568481445312, -19.978116989135742, -19.826448440551758, -3.798612594604492, -18.201316833496094, -3.0194432735443115, -3.3594839572906494, -18.39521598815918, -19.634353637695312, -2.360013484954834, -20.29344940185547, -18.118473052978516, -18.539270401000977, -20.746644973754883, -17.85103988647461, -3.82454776763916, -18.380727767944336, -20.7983455657959, -20.901350021362305, -2.506148338317871, -3.601890802383423, -3.402730941772461, -2.730222463607788, -20.73673439025879, -2.9192168712615967, -19.33039093017578, -18.90265655517578, -21.105026245117188, -18.41297721862793, -19.36785125732422, -3.3154335021972656, -3.330193281173706, -20.2372989654541, -18.627649307250977, -2.763712167739868, -20.38697052001953, -3.676149845123291, -18.882699966430664, -2.505539894104004, -18.985576629638672, -3.7626051902770996, -18.859241485595703, -2.769986152648926, -18.76944351196289, -2.4404406547546387, -18.585304260253906, -19.589160919189453, -18.719783782958984, -18.80760383605957, -2.451300859451294, -20.843595504760742, -19.79244613647461, -3.321120500564575, -20.155649185180664, -20.262123107910156, -3.3661468029022217, -18.324304580688477, -19.1911563873291, -2.993267059326172, -3.033268451690674, -2.838120698928833, -3.604719400405884, -18.36896514892578, -19.511362075805664, -18.474838256835938, -3.189072847366333, -19.651966094970703, -21.207731246948242, -19.67227554321289, -20.58464813232422, -3.728041648864746, -18.465906143188477, -19.902971267700195, -3.2986679077148438, -3.0313940048217773, -18.657014846801758, -20.20447540283203, -3.6871931552886963, -20.487834930419922, -3.751152515411377, -3.1570799350738525, -19.19055938720703, -2.576218843460083, -3.5881309509277344, -20.87935447692871, -20.772695541381836, -3.482600212097168, -19.424474716186523, -20.902137756347656, -3.474400520324707, -3.5292725563049316, -3.779409408569336, -19.097248077392578, -20.629972457885742, -19.176782608032227, -3.135566473007202, -3.420940637588501, -18.617290496826172, -3.7474365234375, -3.5613112449645996, -3.760326623916626, -19.070518493652344, -19.346582412719727, -20.004493713378906, -3.4069223403930664, -2.8468117713928223, -18.98847007751465, -20.070701599121094, -3.1269171237945557, -19.260046005249023, -2.8904082775115967, -3.0642600059509277, -18.5705509185791, -20.812030792236328, -18.689470291137695, -3.2015624046325684, -2.9815893173217773, -20.63347053527832, -2.953521966934204, -18.893234252929688, -19.64151954650879, -3.018054962158203, -18.5986328125, -19.596830368041992, -19.01218605041504, -18.776124954223633, -20.41319465637207, -20.622913360595703, -18.763259887695312, -18.58160400390625, -20.87617301940918, -20.180402755737305, -18.978214263916016, -18.970212936401367, -20.296045303344727, -19.161094665527344, -20.776241302490234, -19.219388961791992, -20.770309448242188, -20.724811553955078, -19.72056007385254, -3.222581624984741, -2.7177581787109375, -20.013019561767578, -19.292463302612305, -19.054452896118164, -19.295156478881836, -2.4831273555755615, -19.319427490234375, -2.8895881175994873, -19.592849731445312, -18.68121910095215, -3.3324193954467773, -3.135937452316284, -18.673141479492188, -19.32117462158203, -2.8346245288848877, -19.02467918395996, -20.823423385620117, -20.662574768066406, -19.3582763671875, -20.072160720825195, -18.692625045776367, -19.496604919433594, -19.60378646850586, -19.14067840576172, -19.09937286376953, -20.010255813598633, -19.089792251586914, -21.045515060424805, -20.55801010131836, -20.365713119506836, -3.4165618419647217, -19.16630744934082, -19.873722076416016, -20.09126853942871, -19.9604549407959, -2.928023099899292, -19.778772354125977, -19.58416748046875, -19.930971145629883, -19.54561996459961, -2.606109619140625, -3.2826032638549805, -19.973323822021484, -20.315948486328125, -2.620969772338867, -20.537443161010742, -2.6975109577178955, -2.7729005813598633, -19.115848541259766, -19.77056884765625, -20.511823654174805, -2.95609712600708, -20.360090255737305, -2.92618465423584, -19.540990829467773, -19.455209732055664, -3.135080337524414, -20.394428253173828, -20.530960083007812, -2.7977592945098877, -19.855615615844727, -19.536989212036133, -2.9789044857025146, -20.172767639160156, -19.323640823364258, -19.647459030151367, -19.820985794067383, -19.9454288482666, -19.588163375854492, -20.363788604736328, -3.372870683670044, -3.110687255859375, -3.11690092086792, -19.491065979003906, -19.244609832763672, -20.370264053344727, -19.386396408081055, -2.540761709213257, -19.57564926147461, -19.212501525878906, -19.96546173095703, -20.041500091552734, -2.7925407886505127, -19.123626708984375, -19.276906967163086, -18.96219825744629, -19.19470977783203, -19.37466049194336, -20.458005905151367, -19.782915115356445, -19.50745391845703, -20.0390625, -19.645994186401367, -20.492280960083008, -3.369436025619507, -19.919801712036133, -19.901269912719727, -19.58458137512207, -2.8419227600097656, -3.2306783199310303, -20.167173385620117, -19.322084426879883, -2.849459171295166, -20.336042404174805, -19.263120651245117, -3.488844156265259, -20.275955200195312, -19.819297790527344, -19.30344581604004, -19.02068328857422, -19.998411178588867, -19.593408584594727, -19.545522689819336, -19.882749557495117, -3.0677614212036133, -3.2489943504333496, -20.187877655029297, -19.650299072265625, -19.876750946044922, -19.95424461364746, -3.307810068130493, -20.1186580657959, -19.80653953552246, -19.98248863220215, -19.358837127685547, -19.027435302734375, -19.924562454223633, -19.716705322265625, -20.138797760009766, -3.2819623947143555, -19.674175262451172, -19.87175750732422, -19.87689971923828, -20.051950454711914, -19.914936065673828, -3.4040658473968506, -20.260339736938477, -19.81519317626953, -20.055763244628906], \"yaxis\": \"y\"}],\n",
       "                        {\"coloraxis\": {\"colorbar\": {\"title\": {\"text\": \"Label\"}}, \"colorscale\": [[0.0, \"#0d0887\"], [0.1111111111111111, \"#46039f\"], [0.2222222222222222, \"#7201a8\"], [0.3333333333333333, \"#9c179e\"], [0.4444444444444444, \"#bd3786\"], [0.5555555555555556, \"#d8576b\"], [0.6666666666666666, \"#ed7953\"], [0.7777777777777778, \"#fb9f3a\"], [0.8888888888888888, \"#fdca26\"], [1.0, \"#f0f921\"]]}, \"height\": 800, \"legend\": {\"tracegroupgap\": 0}, \"template\": {\"data\": {\"bar\": [{\"error_x\": {\"color\": \"#2a3f5f\"}, \"error_y\": {\"color\": \"#2a3f5f\"}, \"marker\": {\"line\": {\"color\": \"#E5ECF6\", \"width\": 0.5}}, \"type\": \"bar\"}], \"barpolar\": [{\"marker\": {\"line\": {\"color\": \"#E5ECF6\", \"width\": 0.5}}, \"type\": \"barpolar\"}], \"carpet\": [{\"aaxis\": {\"endlinecolor\": \"#2a3f5f\", \"gridcolor\": \"white\", \"linecolor\": \"white\", \"minorgridcolor\": \"white\", \"startlinecolor\": \"#2a3f5f\"}, \"baxis\": {\"endlinecolor\": \"#2a3f5f\", \"gridcolor\": \"white\", \"linecolor\": \"white\", \"minorgridcolor\": \"white\", \"startlinecolor\": \"#2a3f5f\"}, \"type\": \"carpet\"}], \"choropleth\": [{\"colorbar\": {\"outlinewidth\": 0, \"ticks\": \"\"}, \"type\": \"choropleth\"}], \"contour\": [{\"colorbar\": {\"outlinewidth\": 0, \"ticks\": \"\"}, \"colorscale\": [[0.0, \"#0d0887\"], [0.1111111111111111, \"#46039f\"], [0.2222222222222222, \"#7201a8\"], [0.3333333333333333, \"#9c179e\"], [0.4444444444444444, \"#bd3786\"], [0.5555555555555556, \"#d8576b\"], [0.6666666666666666, \"#ed7953\"], [0.7777777777777778, \"#fb9f3a\"], [0.8888888888888888, \"#fdca26\"], [1.0, \"#f0f921\"]], \"type\": \"contour\"}], \"contourcarpet\": [{\"colorbar\": {\"outlinewidth\": 0, \"ticks\": \"\"}, \"type\": \"contourcarpet\"}], \"heatmap\": [{\"colorbar\": {\"outlinewidth\": 0, \"ticks\": \"\"}, \"colorscale\": [[0.0, \"#0d0887\"], [0.1111111111111111, \"#46039f\"], [0.2222222222222222, \"#7201a8\"], [0.3333333333333333, \"#9c179e\"], [0.4444444444444444, \"#bd3786\"], [0.5555555555555556, \"#d8576b\"], [0.6666666666666666, \"#ed7953\"], [0.7777777777777778, \"#fb9f3a\"], [0.8888888888888888, \"#fdca26\"], [1.0, \"#f0f921\"]], \"type\": \"heatmap\"}], \"heatmapgl\": [{\"colorbar\": {\"outlinewidth\": 0, \"ticks\": \"\"}, \"colorscale\": [[0.0, \"#0d0887\"], [0.1111111111111111, \"#46039f\"], [0.2222222222222222, \"#7201a8\"], [0.3333333333333333, \"#9c179e\"], [0.4444444444444444, \"#bd3786\"], [0.5555555555555556, \"#d8576b\"], [0.6666666666666666, \"#ed7953\"], [0.7777777777777778, \"#fb9f3a\"], [0.8888888888888888, \"#fdca26\"], [1.0, \"#f0f921\"]], \"type\": \"heatmapgl\"}], \"histogram\": [{\"marker\": {\"colorbar\": {\"outlinewidth\": 0, \"ticks\": \"\"}}, \"type\": \"histogram\"}], \"histogram2d\": [{\"colorbar\": {\"outlinewidth\": 0, \"ticks\": \"\"}, \"colorscale\": [[0.0, \"#0d0887\"], [0.1111111111111111, \"#46039f\"], [0.2222222222222222, \"#7201a8\"], [0.3333333333333333, \"#9c179e\"], [0.4444444444444444, \"#bd3786\"], [0.5555555555555556, \"#d8576b\"], [0.6666666666666666, \"#ed7953\"], [0.7777777777777778, \"#fb9f3a\"], [0.8888888888888888, \"#fdca26\"], [1.0, \"#f0f921\"]], \"type\": \"histogram2d\"}], \"histogram2dcontour\": [{\"colorbar\": {\"outlinewidth\": 0, \"ticks\": \"\"}, \"colorscale\": [[0.0, \"#0d0887\"], [0.1111111111111111, \"#46039f\"], [0.2222222222222222, \"#7201a8\"], [0.3333333333333333, \"#9c179e\"], [0.4444444444444444, \"#bd3786\"], [0.5555555555555556, \"#d8576b\"], [0.6666666666666666, \"#ed7953\"], [0.7777777777777778, \"#fb9f3a\"], [0.8888888888888888, \"#fdca26\"], [1.0, \"#f0f921\"]], \"type\": \"histogram2dcontour\"}], \"mesh3d\": [{\"colorbar\": {\"outlinewidth\": 0, \"ticks\": \"\"}, \"type\": \"mesh3d\"}], \"parcoords\": [{\"line\": {\"colorbar\": {\"outlinewidth\": 0, \"ticks\": \"\"}}, \"type\": \"parcoords\"}], \"pie\": [{\"automargin\": true, \"type\": \"pie\"}], \"scatter\": [{\"marker\": {\"colorbar\": {\"outlinewidth\": 0, \"ticks\": \"\"}}, \"type\": \"scatter\"}], \"scatter3d\": [{\"line\": {\"colorbar\": {\"outlinewidth\": 0, \"ticks\": \"\"}}, \"marker\": {\"colorbar\": {\"outlinewidth\": 0, \"ticks\": \"\"}}, \"type\": \"scatter3d\"}], \"scattercarpet\": [{\"marker\": {\"colorbar\": {\"outlinewidth\": 0, \"ticks\": \"\"}}, \"type\": \"scattercarpet\"}], \"scattergeo\": [{\"marker\": {\"colorbar\": {\"outlinewidth\": 0, \"ticks\": \"\"}}, \"type\": \"scattergeo\"}], \"scattergl\": [{\"marker\": {\"colorbar\": {\"outlinewidth\": 0, \"ticks\": \"\"}}, \"type\": \"scattergl\"}], \"scattermapbox\": [{\"marker\": {\"colorbar\": {\"outlinewidth\": 0, \"ticks\": \"\"}}, \"type\": \"scattermapbox\"}], \"scatterpolar\": [{\"marker\": {\"colorbar\": {\"outlinewidth\": 0, \"ticks\": \"\"}}, \"type\": \"scatterpolar\"}], \"scatterpolargl\": [{\"marker\": {\"colorbar\": {\"outlinewidth\": 0, \"ticks\": \"\"}}, \"type\": \"scatterpolargl\"}], \"scatterternary\": [{\"marker\": {\"colorbar\": {\"outlinewidth\": 0, \"ticks\": \"\"}}, \"type\": \"scatterternary\"}], \"surface\": [{\"colorbar\": {\"outlinewidth\": 0, \"ticks\": \"\"}, \"colorscale\": [[0.0, \"#0d0887\"], [0.1111111111111111, \"#46039f\"], [0.2222222222222222, \"#7201a8\"], [0.3333333333333333, \"#9c179e\"], [0.4444444444444444, \"#bd3786\"], [0.5555555555555556, \"#d8576b\"], [0.6666666666666666, \"#ed7953\"], [0.7777777777777778, \"#fb9f3a\"], [0.8888888888888888, \"#fdca26\"], [1.0, \"#f0f921\"]], \"type\": \"surface\"}], \"table\": [{\"cells\": {\"fill\": {\"color\": \"#EBF0F8\"}, \"line\": {\"color\": \"white\"}}, \"header\": {\"fill\": {\"color\": \"#C8D4E3\"}, \"line\": {\"color\": \"white\"}}, \"type\": \"table\"}]}, \"layout\": {\"annotationdefaults\": {\"arrowcolor\": \"#2a3f5f\", \"arrowhead\": 0, \"arrowwidth\": 1}, \"coloraxis\": {\"colorbar\": {\"outlinewidth\": 0, \"ticks\": \"\"}}, \"colorscale\": {\"diverging\": [[0, \"#8e0152\"], [0.1, \"#c51b7d\"], [0.2, \"#de77ae\"], [0.3, \"#f1b6da\"], [0.4, \"#fde0ef\"], [0.5, \"#f7f7f7\"], [0.6, \"#e6f5d0\"], [0.7, \"#b8e186\"], [0.8, \"#7fbc41\"], [0.9, \"#4d9221\"], [1, \"#276419\"]], \"sequential\": [[0.0, \"#0d0887\"], [0.1111111111111111, \"#46039f\"], [0.2222222222222222, \"#7201a8\"], [0.3333333333333333, \"#9c179e\"], [0.4444444444444444, \"#bd3786\"], [0.5555555555555556, \"#d8576b\"], [0.6666666666666666, \"#ed7953\"], [0.7777777777777778, \"#fb9f3a\"], [0.8888888888888888, \"#fdca26\"], [1.0, \"#f0f921\"]], \"sequentialminus\": [[0.0, \"#0d0887\"], [0.1111111111111111, \"#46039f\"], [0.2222222222222222, \"#7201a8\"], [0.3333333333333333, \"#9c179e\"], [0.4444444444444444, \"#bd3786\"], [0.5555555555555556, \"#d8576b\"], [0.6666666666666666, \"#ed7953\"], [0.7777777777777778, \"#fb9f3a\"], [0.8888888888888888, \"#fdca26\"], [1.0, \"#f0f921\"]]}, \"colorway\": [\"#636efa\", \"#EF553B\", \"#00cc96\", \"#ab63fa\", \"#FFA15A\", \"#19d3f3\", \"#FF6692\", \"#B6E880\", \"#FF97FF\", \"#FECB52\"], \"font\": {\"color\": \"#2a3f5f\"}, \"geo\": {\"bgcolor\": \"white\", \"lakecolor\": \"white\", \"landcolor\": \"#E5ECF6\", \"showlakes\": true, \"showland\": true, \"subunitcolor\": \"white\"}, \"hoverlabel\": {\"align\": \"left\"}, \"hovermode\": \"closest\", \"mapbox\": {\"style\": \"light\"}, \"paper_bgcolor\": \"white\", \"plot_bgcolor\": \"#E5ECF6\", \"polar\": {\"angularaxis\": {\"gridcolor\": \"white\", \"linecolor\": \"white\", \"ticks\": \"\"}, \"bgcolor\": \"#E5ECF6\", \"radialaxis\": {\"gridcolor\": \"white\", \"linecolor\": \"white\", \"ticks\": \"\"}}, \"scene\": {\"xaxis\": {\"backgroundcolor\": \"#E5ECF6\", \"gridcolor\": \"white\", \"gridwidth\": 2, \"linecolor\": \"white\", \"showbackground\": true, \"ticks\": \"\", \"zerolinecolor\": \"white\"}, \"yaxis\": {\"backgroundcolor\": \"#E5ECF6\", \"gridcolor\": \"white\", \"gridwidth\": 2, \"linecolor\": \"white\", \"showbackground\": true, \"ticks\": \"\", \"zerolinecolor\": \"white\"}, \"zaxis\": {\"backgroundcolor\": \"#E5ECF6\", \"gridcolor\": \"white\", \"gridwidth\": 2, \"linecolor\": \"white\", \"showbackground\": true, \"ticks\": \"\", \"zerolinecolor\": \"white\"}}, \"shapedefaults\": {\"line\": {\"color\": \"#2a3f5f\"}}, \"ternary\": {\"aaxis\": {\"gridcolor\": \"white\", \"linecolor\": \"white\", \"ticks\": \"\"}, \"baxis\": {\"gridcolor\": \"white\", \"linecolor\": \"white\", \"ticks\": \"\"}, \"bgcolor\": \"#E5ECF6\", \"caxis\": {\"gridcolor\": \"white\", \"linecolor\": \"white\", \"ticks\": \"\"}}, \"title\": {\"x\": 0.05}, \"xaxis\": {\"automargin\": true, \"gridcolor\": \"white\", \"linecolor\": \"white\", \"ticks\": \"\", \"title\": {\"standoff\": 15}, \"zerolinecolor\": \"white\", \"zerolinewidth\": 2}, \"yaxis\": {\"automargin\": true, \"gridcolor\": \"white\", \"linecolor\": \"white\", \"ticks\": \"\", \"title\": {\"standoff\": 15}, \"zerolinecolor\": \"white\", \"zerolinewidth\": 2}}}, \"title\": {\"text\": \"uMAP Plot for Outliers\"}, \"width\": 900, \"xaxis\": {\"anchor\": \"y\", \"domain\": [0.0, 1.0], \"title\": {\"text\": \"0\"}}, \"yaxis\": {\"anchor\": \"x\", \"domain\": [0.0, 1.0], \"title\": {\"text\": \"1\"}}},\n",
       "                        {\"responsive\": true}\n",
       "                    ).then(function(){\n",
       "                            \n",
       "var gd = document.getElementById('645ff7bd-4150-44d4-a0c7-169eb151c1d2');\n",
       "var x = new MutationObserver(function (mutations, observer) {{\n",
       "        var display = window.getComputedStyle(gd).display;\n",
       "        if (!display || display === 'none') {{\n",
       "            console.log([gd, 'removed!']);\n",
       "            Plotly.purge(gd);\n",
       "            observer.disconnect();\n",
       "        }}\n",
       "}});\n",
       "\n",
       "// Listen for the removal of the full notebook cells\n",
       "var notebookContainer = gd.closest('#notebook-container');\n",
       "if (notebookContainer) {{\n",
       "    x.observe(notebookContainer, {childList: true});\n",
       "}}\n",
       "\n",
       "// Listen for the clearing of the current output cell\n",
       "var outputEl = gd.closest('.output');\n",
       "if (outputEl) {{\n",
       "    x.observe(outputEl, {childList: true});\n",
       "}}\n",
       "\n",
       "                        })\n",
       "                };\n",
       "                });\n",
       "            </script>\n",
       "        </div>"
      ]
     },
     "metadata": {},
     "output_type": "display_data"
    }
   ],
   "source": [
    "plot_model(svm,plot = 'umap')"
   ]
  },
  {
   "cell_type": "code",
   "execution_count": 15,
   "metadata": {},
   "outputs": [
    {
     "data": {
      "text/html": [
       "<div>\n",
       "<style scoped>\n",
       "    .dataframe tbody tr th:only-of-type {\n",
       "        vertical-align: middle;\n",
       "    }\n",
       "\n",
       "    .dataframe tbody tr th {\n",
       "        vertical-align: top;\n",
       "    }\n",
       "\n",
       "    .dataframe thead th {\n",
       "        text-align: right;\n",
       "    }\n",
       "</style>\n",
       "<table border=\"1\" class=\"dataframe\">\n",
       "  <thead>\n",
       "    <tr style=\"text-align: right;\">\n",
       "      <th></th>\n",
       "      <th>STUDYID</th>\n",
       "      <th>DOMAIN</th>\n",
       "      <th>USUBJID</th>\n",
       "      <th>SSSEQ</th>\n",
       "      <th>SSTESTCD</th>\n",
       "      <th>SSTEST</th>\n",
       "      <th>SSORRES</th>\n",
       "      <th>Label</th>\n",
       "      <th>Score</th>\n",
       "    </tr>\n",
       "  </thead>\n",
       "  <tbody>\n",
       "    <tr>\n",
       "      <th>0</th>\n",
       "      <td>Breast-MRI-NACT-Pilot</td>\n",
       "      <td>SS</td>\n",
       "      <td>UCSF-BR-07</td>\n",
       "      <td>1</td>\n",
       "      <td>RFSIND</td>\n",
       "      <td>Recurrence-free survival indicator</td>\n",
       "      <td>No Evidence of Disease</td>\n",
       "      <td>0</td>\n",
       "      <td>5.744602e-07</td>\n",
       "    </tr>\n",
       "    <tr>\n",
       "      <th>1</th>\n",
       "      <td>Breast-MRI-NACT-Pilot</td>\n",
       "      <td>SS</td>\n",
       "      <td>UCSF-BR-24</td>\n",
       "      <td>1</td>\n",
       "      <td>RFSIND</td>\n",
       "      <td>Recurrence-free survival indicator</td>\n",
       "      <td>No Evidence of Disease</td>\n",
       "      <td>0</td>\n",
       "      <td>5.744602e-07</td>\n",
       "    </tr>\n",
       "    <tr>\n",
       "      <th>2</th>\n",
       "      <td>Breast-MRI-NACT-Pilot</td>\n",
       "      <td>SS</td>\n",
       "      <td>UCSF-BR-57</td>\n",
       "      <td>1</td>\n",
       "      <td>RFSIND</td>\n",
       "      <td>Recurrence-free survival indicator</td>\n",
       "      <td>No Evidence of Disease</td>\n",
       "      <td>0</td>\n",
       "      <td>5.744602e-07</td>\n",
       "    </tr>\n",
       "    <tr>\n",
       "      <th>3</th>\n",
       "      <td>I-Spy1</td>\n",
       "      <td>SS</td>\n",
       "      <td>ISPY1_1028</td>\n",
       "      <td>1</td>\n",
       "      <td>RFSIND</td>\n",
       "      <td>Recurrence-free survival indicator</td>\n",
       "      <td>Recurrent Disease</td>\n",
       "      <td>0</td>\n",
       "      <td>5.744602e-07</td>\n",
       "    </tr>\n",
       "    <tr>\n",
       "      <th>4</th>\n",
       "      <td>I-Spy1</td>\n",
       "      <td>SS</td>\n",
       "      <td>ISPY1_1044</td>\n",
       "      <td>1</td>\n",
       "      <td>RFSIND</td>\n",
       "      <td>Recurrence-free survival indicator</td>\n",
       "      <td>Recurrent Disease</td>\n",
       "      <td>0</td>\n",
       "      <td>5.744602e-07</td>\n",
       "    </tr>\n",
       "  </tbody>\n",
       "</table>\n",
       "</div>"
      ],
      "text/plain": [
       "                 STUDYID DOMAIN     USUBJID  SSSEQ SSTESTCD  \\\n",
       "0  Breast-MRI-NACT-Pilot     SS  UCSF-BR-07      1   RFSIND   \n",
       "1  Breast-MRI-NACT-Pilot     SS  UCSF-BR-24      1   RFSIND   \n",
       "2  Breast-MRI-NACT-Pilot     SS  UCSF-BR-57      1   RFSIND   \n",
       "3                 I-Spy1     SS  ISPY1_1028      1   RFSIND   \n",
       "4                 I-Spy1     SS  ISPY1_1044      1   RFSIND   \n",
       "\n",
       "                               SSTEST                 SSORRES  Label  \\\n",
       "0  Recurrence-free survival indicator  No Evidence of Disease      0   \n",
       "1  Recurrence-free survival indicator  No Evidence of Disease      0   \n",
       "2  Recurrence-free survival indicator  No Evidence of Disease      0   \n",
       "3  Recurrence-free survival indicator       Recurrent Disease      0   \n",
       "4  Recurrence-free survival indicator       Recurrent Disease      0   \n",
       "\n",
       "          Score  \n",
       "0  5.744602e-07  \n",
       "1  5.744602e-07  \n",
       "2  5.744602e-07  \n",
       "3  5.744602e-07  \n",
       "4  5.744602e-07  "
      ]
     },
     "execution_count": 15,
     "metadata": {},
     "output_type": "execute_result"
    }
   ],
   "source": [
    "unseen_predictions = predict_model(svm, data=data_unseen)\n",
    "unseen_predictions.head()"
   ]
  },
  {
   "cell_type": "code",
   "execution_count": 16,
   "metadata": {},
   "outputs": [
    {
     "data": {
      "text/html": [
       "<div>\n",
       "<style scoped>\n",
       "    .dataframe tbody tr th:only-of-type {\n",
       "        vertical-align: middle;\n",
       "    }\n",
       "\n",
       "    .dataframe tbody tr th {\n",
       "        vertical-align: top;\n",
       "    }\n",
       "\n",
       "    .dataframe thead th {\n",
       "        text-align: right;\n",
       "    }\n",
       "</style>\n",
       "<table border=\"1\" class=\"dataframe\">\n",
       "  <thead>\n",
       "    <tr style=\"text-align: right;\">\n",
       "      <th></th>\n",
       "      <th>STUDYID</th>\n",
       "      <th>DOMAIN</th>\n",
       "      <th>USUBJID</th>\n",
       "      <th>SSSEQ</th>\n",
       "      <th>SSTESTCD</th>\n",
       "      <th>SSTEST</th>\n",
       "      <th>SSORRES</th>\n",
       "      <th>Label</th>\n",
       "      <th>Score</th>\n",
       "    </tr>\n",
       "  </thead>\n",
       "  <tbody>\n",
       "    <tr>\n",
       "      <th>0</th>\n",
       "      <td>I-Spy1</td>\n",
       "      <td>SS</td>\n",
       "      <td>ISPY1_1158</td>\n",
       "      <td>1</td>\n",
       "      <td>RFSIND</td>\n",
       "      <td>Recurrence-free survival indicator</td>\n",
       "      <td>No Evidence of Disease</td>\n",
       "      <td>0</td>\n",
       "      <td>5.744602e-07</td>\n",
       "    </tr>\n",
       "    <tr>\n",
       "      <th>1</th>\n",
       "      <td>I-Spy1</td>\n",
       "      <td>SS</td>\n",
       "      <td>ISPY1_1191</td>\n",
       "      <td>1</td>\n",
       "      <td>RFSIND</td>\n",
       "      <td>Recurrence-free survival indicator</td>\n",
       "      <td>No Evidence of Disease</td>\n",
       "      <td>0</td>\n",
       "      <td>5.744602e-07</td>\n",
       "    </tr>\n",
       "    <tr>\n",
       "      <th>2</th>\n",
       "      <td>I-Spy1</td>\n",
       "      <td>SS</td>\n",
       "      <td>ISPY1_1213</td>\n",
       "      <td>1</td>\n",
       "      <td>RFSIND</td>\n",
       "      <td>Recurrence-free survival indicator</td>\n",
       "      <td>No Evidence of Disease</td>\n",
       "      <td>0</td>\n",
       "      <td>5.744602e-07</td>\n",
       "    </tr>\n",
       "    <tr>\n",
       "      <th>3</th>\n",
       "      <td>Breast-MRI-NACT-Pilot</td>\n",
       "      <td>SS</td>\n",
       "      <td>UCSF-BR-01</td>\n",
       "      <td>1</td>\n",
       "      <td>RFSIND</td>\n",
       "      <td>Recurrence-free survival indicator</td>\n",
       "      <td>No Evidence of Disease</td>\n",
       "      <td>0</td>\n",
       "      <td>5.744602e-07</td>\n",
       "    </tr>\n",
       "    <tr>\n",
       "      <th>4</th>\n",
       "      <td>Breast-MRI-NACT-Pilot</td>\n",
       "      <td>SS</td>\n",
       "      <td>UCSF-BR-60</td>\n",
       "      <td>1</td>\n",
       "      <td>RFSIND</td>\n",
       "      <td>Recurrence-free survival indicator</td>\n",
       "      <td>No Evidence of Disease</td>\n",
       "      <td>0</td>\n",
       "      <td>5.744602e-07</td>\n",
       "    </tr>\n",
       "  </tbody>\n",
       "</table>\n",
       "</div>"
      ],
      "text/plain": [
       "                 STUDYID DOMAIN     USUBJID  SSSEQ SSTESTCD  \\\n",
       "0                 I-Spy1     SS  ISPY1_1158      1   RFSIND   \n",
       "1                 I-Spy1     SS  ISPY1_1191      1   RFSIND   \n",
       "2                 I-Spy1     SS  ISPY1_1213      1   RFSIND   \n",
       "3  Breast-MRI-NACT-Pilot     SS  UCSF-BR-01      1   RFSIND   \n",
       "4  Breast-MRI-NACT-Pilot     SS  UCSF-BR-60      1   RFSIND   \n",
       "\n",
       "                               SSTEST                 SSORRES  Label  \\\n",
       "0  Recurrence-free survival indicator  No Evidence of Disease      0   \n",
       "1  Recurrence-free survival indicator  No Evidence of Disease      0   \n",
       "2  Recurrence-free survival indicator  No Evidence of Disease      0   \n",
       "3  Recurrence-free survival indicator  No Evidence of Disease      0   \n",
       "4  Recurrence-free survival indicator  No Evidence of Disease      0   \n",
       "\n",
       "          Score  \n",
       "0  5.744602e-07  \n",
       "1  5.744602e-07  \n",
       "2  5.744602e-07  \n",
       "3  5.744602e-07  \n",
       "4  5.744602e-07  "
      ]
     },
     "execution_count": 16,
     "metadata": {},
     "output_type": "execute_result"
    }
   ],
   "source": [
    "data_predictions = predict_model(svm, data = data)\n",
    "data_predictions.head()"
   ]
  },
  {
   "cell_type": "code",
   "execution_count": 17,
   "metadata": {},
   "outputs": [
    {
     "name": "stdout",
     "output_type": "stream",
     "text": [
      "Transformation Pipeline and Model Succesfully Saved\n"
     ]
    }
   ],
   "source": [
    "save_model(svm,'SS_SVM_Breast_Cancer')"
   ]
  }
 ],
 "metadata": {
  "kernelspec": {
   "display_name": "Python 3",
   "language": "python",
   "name": "python3"
  },
  "language_info": {
   "codemirror_mode": {
    "name": "ipython",
    "version": 3
   },
   "file_extension": ".py",
   "mimetype": "text/x-python",
   "name": "python",
   "nbconvert_exporter": "python",
   "pygments_lexer": "ipython3",
   "version": "3.7.7"
  }
 },
 "nbformat": 4,
 "nbformat_minor": 4
}
